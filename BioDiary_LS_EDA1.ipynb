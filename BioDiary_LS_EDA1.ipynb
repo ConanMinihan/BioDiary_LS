{
 "cells": [
  {
   "cell_type": "code",
   "execution_count": 43,
   "id": "e70416c5",
   "metadata": {},
   "outputs": [],
   "source": [
    "import matplotlib.pyplot as plt\n",
    "import numpy as np\n",
    "import pandas as pd\n",
    "import plotly.express as px\n",
    "import plotly.graph_objects as go\n",
    "import re\n",
    "import seaborn as sns\n",
    "import statsmodels.api as sm\n",
    "import warnings\n",
    "\n",
    "from scipy.stats import pearsonr, spearmanr\n",
    "warnings.simplefilter(action='ignore', category=FutureWarning)\n"
   ]
  },
  {
   "cell_type": "markdown",
   "id": "3630509b",
   "metadata": {},
   "source": [
    "# Filepaths"
   ]
  },
  {
   "cell_type": "code",
   "execution_count": 50,
   "id": "27ebdae2",
   "metadata": {},
   "outputs": [
    {
     "data": {
      "text/html": [
       "<div>\n",
       "<style scoped>\n",
       "    .dataframe tbody tr th:only-of-type {\n",
       "        vertical-align: middle;\n",
       "    }\n",
       "\n",
       "    .dataframe tbody tr th {\n",
       "        vertical-align: top;\n",
       "    }\n",
       "\n",
       "    .dataframe thead th {\n",
       "        text-align: right;\n",
       "    }\n",
       "</style>\n",
       "<table border=\"1\" class=\"dataframe\">\n",
       "  <thead>\n",
       "    <tr style=\"text-align: right;\">\n",
       "      <th></th>\n",
       "      <th>Date</th>\n",
       "      <th>% SCFA Acetate</th>\n",
       "      <th>% SCFA Butyrate</th>\n",
       "      <th>% SCFA Propionate</th>\n",
       "      <th>% SCFA Valerate</th>\n",
       "      <th>237_mg/dL</th>\n",
       "      <th>A/G ratio_None</th>\n",
       "      <th>ALT_U/L</th>\n",
       "      <th>APO A1_mg/dL</th>\n",
       "      <th>APOLIPOPROTEIN-(B100)_mg/dL</th>\n",
       "      <th>...</th>\n",
       "      <th>Uric Acid_None</th>\n",
       "      <th>VLDL Cholesterol_mg/dL</th>\n",
       "      <th>Vitamin B12_pg/mL</th>\n",
       "      <th>Vitamin D, 25-Hydroxy_ng/mL</th>\n",
       "      <th>Vitamin E Alpha-Tocopherol_mg/L</th>\n",
       "      <th>Vitamin E Gamma-Tocopherol_mg/L</th>\n",
       "      <th>WBC-_10**3/mL</th>\n",
       "      <th>Weight_lbs</th>\n",
       "      <th>Zinc_µg/dL</th>\n",
       "      <th>pH_None</th>\n",
       "    </tr>\n",
       "  </thead>\n",
       "  <tbody>\n",
       "    <tr>\n",
       "      <th>0</th>\n",
       "      <td>1993-05-01</td>\n",
       "      <td>NaN</td>\n",
       "      <td>NaN</td>\n",
       "      <td>NaN</td>\n",
       "      <td>NaN</td>\n",
       "      <td>NaN</td>\n",
       "      <td>NaN</td>\n",
       "      <td>NaN</td>\n",
       "      <td>NaN</td>\n",
       "      <td>NaN</td>\n",
       "      <td>...</td>\n",
       "      <td>NaN</td>\n",
       "      <td>NaN</td>\n",
       "      <td>NaN</td>\n",
       "      <td>NaN</td>\n",
       "      <td>NaN</td>\n",
       "      <td>NaN</td>\n",
       "      <td>NaN</td>\n",
       "      <td>NaN</td>\n",
       "      <td>NaN</td>\n",
       "      <td>NaN</td>\n",
       "    </tr>\n",
       "    <tr>\n",
       "      <th>1</th>\n",
       "      <td>1996-11-27</td>\n",
       "      <td>NaN</td>\n",
       "      <td>NaN</td>\n",
       "      <td>NaN</td>\n",
       "      <td>NaN</td>\n",
       "      <td>NaN</td>\n",
       "      <td>1.3</td>\n",
       "      <td>NaN</td>\n",
       "      <td>NaN</td>\n",
       "      <td>NaN</td>\n",
       "      <td>...</td>\n",
       "      <td>6.0</td>\n",
       "      <td>NaN</td>\n",
       "      <td>NaN</td>\n",
       "      <td>NaN</td>\n",
       "      <td>NaN</td>\n",
       "      <td>NaN</td>\n",
       "      <td>8.7</td>\n",
       "      <td>NaN</td>\n",
       "      <td>NaN</td>\n",
       "      <td>NaN</td>\n",
       "    </tr>\n",
       "    <tr>\n",
       "      <th>2</th>\n",
       "      <td>1997-05-08</td>\n",
       "      <td>NaN</td>\n",
       "      <td>NaN</td>\n",
       "      <td>NaN</td>\n",
       "      <td>NaN</td>\n",
       "      <td>NaN</td>\n",
       "      <td>NaN</td>\n",
       "      <td>NaN</td>\n",
       "      <td>NaN</td>\n",
       "      <td>NaN</td>\n",
       "      <td>...</td>\n",
       "      <td>6.3</td>\n",
       "      <td>NaN</td>\n",
       "      <td>NaN</td>\n",
       "      <td>NaN</td>\n",
       "      <td>NaN</td>\n",
       "      <td>NaN</td>\n",
       "      <td>6.3</td>\n",
       "      <td>NaN</td>\n",
       "      <td>NaN</td>\n",
       "      <td>NaN</td>\n",
       "    </tr>\n",
       "    <tr>\n",
       "      <th>3</th>\n",
       "      <td>1998-04-15</td>\n",
       "      <td>NaN</td>\n",
       "      <td>NaN</td>\n",
       "      <td>NaN</td>\n",
       "      <td>NaN</td>\n",
       "      <td>NaN</td>\n",
       "      <td>1.4</td>\n",
       "      <td>NaN</td>\n",
       "      <td>NaN</td>\n",
       "      <td>NaN</td>\n",
       "      <td>...</td>\n",
       "      <td>NaN</td>\n",
       "      <td>NaN</td>\n",
       "      <td>NaN</td>\n",
       "      <td>NaN</td>\n",
       "      <td>NaN</td>\n",
       "      <td>NaN</td>\n",
       "      <td>6.4</td>\n",
       "      <td>NaN</td>\n",
       "      <td>NaN</td>\n",
       "      <td>NaN</td>\n",
       "    </tr>\n",
       "    <tr>\n",
       "      <th>4</th>\n",
       "      <td>1999-04-01</td>\n",
       "      <td>NaN</td>\n",
       "      <td>NaN</td>\n",
       "      <td>NaN</td>\n",
       "      <td>NaN</td>\n",
       "      <td>NaN</td>\n",
       "      <td>NaN</td>\n",
       "      <td>NaN</td>\n",
       "      <td>NaN</td>\n",
       "      <td>NaN</td>\n",
       "      <td>...</td>\n",
       "      <td>NaN</td>\n",
       "      <td>NaN</td>\n",
       "      <td>NaN</td>\n",
       "      <td>NaN</td>\n",
       "      <td>NaN</td>\n",
       "      <td>NaN</td>\n",
       "      <td>8.7</td>\n",
       "      <td>NaN</td>\n",
       "      <td>NaN</td>\n",
       "      <td>NaN</td>\n",
       "    </tr>\n",
       "    <tr>\n",
       "      <th>...</th>\n",
       "      <td>...</td>\n",
       "      <td>...</td>\n",
       "      <td>...</td>\n",
       "      <td>...</td>\n",
       "      <td>...</td>\n",
       "      <td>...</td>\n",
       "      <td>...</td>\n",
       "      <td>...</td>\n",
       "      <td>...</td>\n",
       "      <td>...</td>\n",
       "      <td>...</td>\n",
       "      <td>...</td>\n",
       "      <td>...</td>\n",
       "      <td>...</td>\n",
       "      <td>...</td>\n",
       "      <td>...</td>\n",
       "      <td>...</td>\n",
       "      <td>...</td>\n",
       "      <td>...</td>\n",
       "      <td>...</td>\n",
       "      <td>...</td>\n",
       "    </tr>\n",
       "    <tr>\n",
       "      <th>327</th>\n",
       "      <td>2025-02-05</td>\n",
       "      <td>47.0</td>\n",
       "      <td>24.0</td>\n",
       "      <td>22.0</td>\n",
       "      <td>7.2</td>\n",
       "      <td>NaN</td>\n",
       "      <td>NaN</td>\n",
       "      <td>22.0</td>\n",
       "      <td>NaN</td>\n",
       "      <td>NaN</td>\n",
       "      <td>...</td>\n",
       "      <td>NaN</td>\n",
       "      <td>NaN</td>\n",
       "      <td>NaN</td>\n",
       "      <td>NaN</td>\n",
       "      <td>NaN</td>\n",
       "      <td>NaN</td>\n",
       "      <td>6.7</td>\n",
       "      <td>178.0</td>\n",
       "      <td>NaN</td>\n",
       "      <td>6.5</td>\n",
       "    </tr>\n",
       "    <tr>\n",
       "      <th>328</th>\n",
       "      <td>2025-02-12</td>\n",
       "      <td>NaN</td>\n",
       "      <td>NaN</td>\n",
       "      <td>NaN</td>\n",
       "      <td>NaN</td>\n",
       "      <td>NaN</td>\n",
       "      <td>NaN</td>\n",
       "      <td>14.0</td>\n",
       "      <td>NaN</td>\n",
       "      <td>NaN</td>\n",
       "      <td>...</td>\n",
       "      <td>NaN</td>\n",
       "      <td>NaN</td>\n",
       "      <td>NaN</td>\n",
       "      <td>49.0</td>\n",
       "      <td>NaN</td>\n",
       "      <td>NaN</td>\n",
       "      <td>4.0</td>\n",
       "      <td>179.0</td>\n",
       "      <td>NaN</td>\n",
       "      <td>NaN</td>\n",
       "    </tr>\n",
       "    <tr>\n",
       "      <th>329</th>\n",
       "      <td>2025-02-28</td>\n",
       "      <td>NaN</td>\n",
       "      <td>NaN</td>\n",
       "      <td>NaN</td>\n",
       "      <td>NaN</td>\n",
       "      <td>NaN</td>\n",
       "      <td>NaN</td>\n",
       "      <td>NaN</td>\n",
       "      <td>NaN</td>\n",
       "      <td>NaN</td>\n",
       "      <td>...</td>\n",
       "      <td>NaN</td>\n",
       "      <td>NaN</td>\n",
       "      <td>NaN</td>\n",
       "      <td>NaN</td>\n",
       "      <td>NaN</td>\n",
       "      <td>NaN</td>\n",
       "      <td>5.5</td>\n",
       "      <td>179.6</td>\n",
       "      <td>NaN</td>\n",
       "      <td>NaN</td>\n",
       "    </tr>\n",
       "    <tr>\n",
       "      <th>330</th>\n",
       "      <td>2025-05-20</td>\n",
       "      <td>NaN</td>\n",
       "      <td>NaN</td>\n",
       "      <td>NaN</td>\n",
       "      <td>NaN</td>\n",
       "      <td>NaN</td>\n",
       "      <td>NaN</td>\n",
       "      <td>17.0</td>\n",
       "      <td>NaN</td>\n",
       "      <td>NaN</td>\n",
       "      <td>...</td>\n",
       "      <td>NaN</td>\n",
       "      <td>NaN</td>\n",
       "      <td>NaN</td>\n",
       "      <td>64.0</td>\n",
       "      <td>NaN</td>\n",
       "      <td>NaN</td>\n",
       "      <td>4.0</td>\n",
       "      <td>182.5</td>\n",
       "      <td>NaN</td>\n",
       "      <td>NaN</td>\n",
       "    </tr>\n",
       "    <tr>\n",
       "      <th>331</th>\n",
       "      <td>2025-06-13</td>\n",
       "      <td>NaN</td>\n",
       "      <td>NaN</td>\n",
       "      <td>NaN</td>\n",
       "      <td>NaN</td>\n",
       "      <td>57.0</td>\n",
       "      <td>NaN</td>\n",
       "      <td>15.0</td>\n",
       "      <td>NaN</td>\n",
       "      <td>NaN</td>\n",
       "      <td>...</td>\n",
       "      <td>NaN</td>\n",
       "      <td>NaN</td>\n",
       "      <td>1743.0</td>\n",
       "      <td>69.0</td>\n",
       "      <td>7.9</td>\n",
       "      <td>0.6</td>\n",
       "      <td>4.4</td>\n",
       "      <td>180.8</td>\n",
       "      <td>NaN</td>\n",
       "      <td>NaN</td>\n",
       "    </tr>\n",
       "  </tbody>\n",
       "</table>\n",
       "<p>332 rows × 184 columns</p>\n",
       "</div>"
      ],
      "text/plain": [
       "           Date  % SCFA Acetate  % SCFA Butyrate  % SCFA Propionate  \\\n",
       "0    1993-05-01             NaN              NaN                NaN   \n",
       "1    1996-11-27             NaN              NaN                NaN   \n",
       "2    1997-05-08             NaN              NaN                NaN   \n",
       "3    1998-04-15             NaN              NaN                NaN   \n",
       "4    1999-04-01             NaN              NaN                NaN   \n",
       "..          ...             ...              ...                ...   \n",
       "327  2025-02-05            47.0             24.0               22.0   \n",
       "328  2025-02-12             NaN              NaN                NaN   \n",
       "329  2025-02-28             NaN              NaN                NaN   \n",
       "330  2025-05-20             NaN              NaN                NaN   \n",
       "331  2025-06-13             NaN              NaN                NaN   \n",
       "\n",
       "     % SCFA Valerate  237_mg/dL  A/G ratio_None  ALT_U/L  APO A1_mg/dL  \\\n",
       "0                NaN        NaN             NaN      NaN           NaN   \n",
       "1                NaN        NaN             1.3      NaN           NaN   \n",
       "2                NaN        NaN             NaN      NaN           NaN   \n",
       "3                NaN        NaN             1.4      NaN           NaN   \n",
       "4                NaN        NaN             NaN      NaN           NaN   \n",
       "..               ...        ...             ...      ...           ...   \n",
       "327              7.2        NaN             NaN     22.0           NaN   \n",
       "328              NaN        NaN             NaN     14.0           NaN   \n",
       "329              NaN        NaN             NaN      NaN           NaN   \n",
       "330              NaN        NaN             NaN     17.0           NaN   \n",
       "331              NaN       57.0             NaN     15.0           NaN   \n",
       "\n",
       "     APOLIPOPROTEIN-(B100)_mg/dL  ...  Uric Acid_None  VLDL Cholesterol_mg/dL  \\\n",
       "0                            NaN  ...             NaN                     NaN   \n",
       "1                            NaN  ...             6.0                     NaN   \n",
       "2                            NaN  ...             6.3                     NaN   \n",
       "3                            NaN  ...             NaN                     NaN   \n",
       "4                            NaN  ...             NaN                     NaN   \n",
       "..                           ...  ...             ...                     ...   \n",
       "327                          NaN  ...             NaN                     NaN   \n",
       "328                          NaN  ...             NaN                     NaN   \n",
       "329                          NaN  ...             NaN                     NaN   \n",
       "330                          NaN  ...             NaN                     NaN   \n",
       "331                          NaN  ...             NaN                     NaN   \n",
       "\n",
       "     Vitamin B12_pg/mL  Vitamin D, 25-Hydroxy_ng/mL  \\\n",
       "0                  NaN                          NaN   \n",
       "1                  NaN                          NaN   \n",
       "2                  NaN                          NaN   \n",
       "3                  NaN                          NaN   \n",
       "4                  NaN                          NaN   \n",
       "..                 ...                          ...   \n",
       "327                NaN                          NaN   \n",
       "328                NaN                         49.0   \n",
       "329                NaN                          NaN   \n",
       "330                NaN                         64.0   \n",
       "331             1743.0                         69.0   \n",
       "\n",
       "     Vitamin E Alpha-Tocopherol_mg/L  Vitamin E Gamma-Tocopherol_mg/L  \\\n",
       "0                                NaN                              NaN   \n",
       "1                                NaN                              NaN   \n",
       "2                                NaN                              NaN   \n",
       "3                                NaN                              NaN   \n",
       "4                                NaN                              NaN   \n",
       "..                               ...                              ...   \n",
       "327                              NaN                              NaN   \n",
       "328                              NaN                              NaN   \n",
       "329                              NaN                              NaN   \n",
       "330                              NaN                              NaN   \n",
       "331                              7.9                              0.6   \n",
       "\n",
       "     WBC-_10**3/mL  Weight_lbs  Zinc_µg/dL  pH_None  \n",
       "0              NaN         NaN         NaN      NaN  \n",
       "1              8.7         NaN         NaN      NaN  \n",
       "2              6.3         NaN         NaN      NaN  \n",
       "3              6.4         NaN         NaN      NaN  \n",
       "4              8.7         NaN         NaN      NaN  \n",
       "..             ...         ...         ...      ...  \n",
       "327            6.7       178.0         NaN      6.5  \n",
       "328            4.0       179.0         NaN      NaN  \n",
       "329            5.5       179.6         NaN      NaN  \n",
       "330            4.0       182.5         NaN      NaN  \n",
       "331            4.4       180.8         NaN      NaN  \n",
       "\n",
       "[332 rows x 184 columns]"
      ]
     },
     "execution_count": 50,
     "metadata": {},
     "output_type": "execute_result"
    }
   ],
   "source": [
    "fp_biomarkersWide = \"../Data./LS_Biomarkers_Wide.csv\"\n",
    "fp_biomarkersLong = \"../Data./LS_Biomarkers_Long.csv\"\n",
    "fp_microbiome = \"../Data./LS_Gut_Microbiome.csv\"\n",
    "fp_microbiomeSummary = \"../Data./LS_Gut_Microbiome_Summary.csv\n"
   ]
  },
  {
   "cell_type": "code",
   "execution_count": null,
   "id": "c26cb234",
   "metadata": {},
   "outputs": [],
   "source": [
    "df_wideBioDairyLS = pd.read_csv(fp_wide)\n",
    "df_wideBioDairyLSb"
   ]
  },
  {
   "cell_type": "code",
   "execution_count": 51,
   "id": "dd710cb7",
   "metadata": {},
   "outputs": [
    {
     "data": {
      "text/html": [
       "<div>\n",
       "<style scoped>\n",
       "    .dataframe tbody tr th:only-of-type {\n",
       "        vertical-align: middle;\n",
       "    }\n",
       "\n",
       "    .dataframe tbody tr th {\n",
       "        vertical-align: top;\n",
       "    }\n",
       "\n",
       "    .dataframe thead th {\n",
       "        text-align: right;\n",
       "    }\n",
       "</style>\n",
       "<table border=\"1\" class=\"dataframe\">\n",
       "  <thead>\n",
       "    <tr style=\"text-align: right;\">\n",
       "      <th></th>\n",
       "      <th>Column</th>\n",
       "      <th># Values</th>\n",
       "      <th>Completion</th>\n",
       "      <th>Data Type</th>\n",
       "    </tr>\n",
       "  </thead>\n",
       "  <tbody>\n",
       "    <tr>\n",
       "      <th>0</th>\n",
       "      <td>Date</td>\n",
       "      <td>332</td>\n",
       "      <td>1.00</td>\n",
       "      <td>object</td>\n",
       "    </tr>\n",
       "    <tr>\n",
       "      <th>181</th>\n",
       "      <td>Weight_lbs</td>\n",
       "      <td>322</td>\n",
       "      <td>0.97</td>\n",
       "      <td>float64</td>\n",
       "    </tr>\n",
       "    <tr>\n",
       "      <th>90</th>\n",
       "      <td>Kocuria spp, salsicia, rhizophila, kristinae_None</td>\n",
       "      <td>182</td>\n",
       "      <td>0.55</td>\n",
       "      <td>float64</td>\n",
       "    </tr>\n",
       "    <tr>\n",
       "      <th>118</th>\n",
       "      <td>Pseudomonas aeruginosa_None</td>\n",
       "      <td>182</td>\n",
       "      <td>0.55</td>\n",
       "      <td>float64</td>\n",
       "    </tr>\n",
       "    <tr>\n",
       "      <th>117</th>\n",
       "      <td>Providencia stuartii_None</td>\n",
       "      <td>183</td>\n",
       "      <td>0.55</td>\n",
       "      <td>object</td>\n",
       "    </tr>\n",
       "    <tr>\n",
       "      <th>116</th>\n",
       "      <td>Providencia rettgeri_None</td>\n",
       "      <td>182</td>\n",
       "      <td>0.55</td>\n",
       "      <td>float64</td>\n",
       "    </tr>\n",
       "    <tr>\n",
       "      <th>113</th>\n",
       "      <td>Pantoea spp_None</td>\n",
       "      <td>182</td>\n",
       "      <td>0.55</td>\n",
       "      <td>float64</td>\n",
       "    </tr>\n",
       "    <tr>\n",
       "      <th>107</th>\n",
       "      <td>Mucoid Escherichia coli_None</td>\n",
       "      <td>182</td>\n",
       "      <td>0.55</td>\n",
       "      <td>float64</td>\n",
       "    </tr>\n",
       "    <tr>\n",
       "      <th>106</th>\n",
       "      <td>Morganellla morganii_None</td>\n",
       "      <td>182</td>\n",
       "      <td>0.55</td>\n",
       "      <td>float64</td>\n",
       "    </tr>\n",
       "    <tr>\n",
       "      <th>98</th>\n",
       "      <td>Lysinibacillus spp_None</td>\n",
       "      <td>182</td>\n",
       "      <td>0.55</td>\n",
       "      <td>float64</td>\n",
       "    </tr>\n",
       "    <tr>\n",
       "      <th>94</th>\n",
       "      <td>Lactococcus lactis_None</td>\n",
       "      <td>182</td>\n",
       "      <td>0.55</td>\n",
       "      <td>float64</td>\n",
       "    </tr>\n",
       "    <tr>\n",
       "      <th>93</th>\n",
       "      <td>Lactobacillus spp_None</td>\n",
       "      <td>182</td>\n",
       "      <td>0.55</td>\n",
       "      <td>float64</td>\n",
       "    </tr>\n",
       "    <tr>\n",
       "      <th>1</th>\n",
       "      <td>% SCFA Acetate</td>\n",
       "      <td>184</td>\n",
       "      <td>0.55</td>\n",
       "      <td>float64</td>\n",
       "    </tr>\n",
       "    <tr>\n",
       "      <th>89</th>\n",
       "      <td>Klebsiella pneumonia_None</td>\n",
       "      <td>182</td>\n",
       "      <td>0.55</td>\n",
       "      <td>float64</td>\n",
       "    </tr>\n",
       "    <tr>\n",
       "      <th>120</th>\n",
       "      <td>Pseudomonas citronellolis_None</td>\n",
       "      <td>182</td>\n",
       "      <td>0.55</td>\n",
       "      <td>float64</td>\n",
       "    </tr>\n",
       "    <tr>\n",
       "      <th>88</th>\n",
       "      <td>Klebsiella oxytoca_None</td>\n",
       "      <td>182</td>\n",
       "      <td>0.55</td>\n",
       "      <td>float64</td>\n",
       "    </tr>\n",
       "    <tr>\n",
       "      <th>78</th>\n",
       "      <td>Hemolytic Escherichia coli_None</td>\n",
       "      <td>182</td>\n",
       "      <td>0.55</td>\n",
       "      <td>float64</td>\n",
       "    </tr>\n",
       "    <tr>\n",
       "      <th>76</th>\n",
       "      <td>Hafnia alvei_None</td>\n",
       "      <td>182</td>\n",
       "      <td>0.55</td>\n",
       "      <td>float64</td>\n",
       "    </tr>\n",
       "    <tr>\n",
       "      <th>70</th>\n",
       "      <td>Geotrichum spp._None</td>\n",
       "      <td>182</td>\n",
       "      <td>0.55</td>\n",
       "      <td>float64</td>\n",
       "    </tr>\n",
       "    <tr>\n",
       "      <th>69</th>\n",
       "      <td>Gamma Hemolytic Streptococcus_None</td>\n",
       "      <td>182</td>\n",
       "      <td>0.55</td>\n",
       "      <td>float64</td>\n",
       "    </tr>\n",
       "    <tr>\n",
       "      <th>63</th>\n",
       "      <td>Exophiala dermatitidis_None</td>\n",
       "      <td>182</td>\n",
       "      <td>0.55</td>\n",
       "      <td>float64</td>\n",
       "    </tr>\n",
       "    <tr>\n",
       "      <th>60</th>\n",
       "      <td>Enterococcus spp._None</td>\n",
       "      <td>182</td>\n",
       "      <td>0.55</td>\n",
       "      <td>float64</td>\n",
       "    </tr>\n",
       "    <tr>\n",
       "      <th>59</th>\n",
       "      <td>Enterobacter cloacae_None</td>\n",
       "      <td>182</td>\n",
       "      <td>0.55</td>\n",
       "      <td>float64</td>\n",
       "    </tr>\n",
       "    <tr>\n",
       "      <th>58</th>\n",
       "      <td>Enterobacter asburiae_None</td>\n",
       "      <td>182</td>\n",
       "      <td>0.55</td>\n",
       "      <td>float64</td>\n",
       "    </tr>\n",
       "    <tr>\n",
       "      <th>56</th>\n",
       "      <td>E. coli spp._None</td>\n",
       "      <td>182</td>\n",
       "      <td>0.55</td>\n",
       "      <td>float64</td>\n",
       "    </tr>\n",
       "    <tr>\n",
       "      <th>119</th>\n",
       "      <td>Pseudomonas chlororaphis group_None</td>\n",
       "      <td>182</td>\n",
       "      <td>0.55</td>\n",
       "      <td>float64</td>\n",
       "    </tr>\n",
       "    <tr>\n",
       "      <th>121</th>\n",
       "      <td>Pseudomonas stutzeri_None</td>\n",
       "      <td>182</td>\n",
       "      <td>0.55</td>\n",
       "      <td>float64</td>\n",
       "    </tr>\n",
       "    <tr>\n",
       "      <th>52</th>\n",
       "      <td>Cryptococcus diffuens_None</td>\n",
       "      <td>182</td>\n",
       "      <td>0.55</td>\n",
       "      <td>float64</td>\n",
       "    </tr>\n",
       "    <tr>\n",
       "      <th>126</th>\n",
       "      <td>Rhodotorula glutinis/mucilaginosa_None</td>\n",
       "      <td>182</td>\n",
       "      <td>0.55</td>\n",
       "      <td>float64</td>\n",
       "    </tr>\n",
       "    <tr>\n",
       "      <th>163</th>\n",
       "      <td>Trichosporon ovoides_None</td>\n",
       "      <td>182</td>\n",
       "      <td>0.55</td>\n",
       "      <td>float64</td>\n",
       "    </tr>\n",
       "    <tr>\n",
       "      <th>162</th>\n",
       "      <td>Trichosporon montevideense_None</td>\n",
       "      <td>182</td>\n",
       "      <td>0.55</td>\n",
       "      <td>float64</td>\n",
       "    </tr>\n",
       "    <tr>\n",
       "      <th>161</th>\n",
       "      <td>Trichosporon asahii_None</td>\n",
       "      <td>182</td>\n",
       "      <td>0.55</td>\n",
       "      <td>float64</td>\n",
       "    </tr>\n",
       "    <tr>\n",
       "      <th>158</th>\n",
       "      <td>Total SCFA_mg/mL</td>\n",
       "      <td>184</td>\n",
       "      <td>0.55</td>\n",
       "      <td>float64</td>\n",
       "    </tr>\n",
       "    <tr>\n",
       "      <th>148</th>\n",
       "      <td>Streptomyces_None</td>\n",
       "      <td>181</td>\n",
       "      <td>0.55</td>\n",
       "      <td>float64</td>\n",
       "    </tr>\n",
       "    <tr>\n",
       "      <th>147</th>\n",
       "      <td>Streptococcus salivarius_None</td>\n",
       "      <td>182</td>\n",
       "      <td>0.55</td>\n",
       "      <td>float64</td>\n",
       "    </tr>\n",
       "    <tr>\n",
       "      <th>146</th>\n",
       "      <td>Streptococcus parasanguinis_None</td>\n",
       "      <td>182</td>\n",
       "      <td>0.55</td>\n",
       "      <td>float64</td>\n",
       "    </tr>\n",
       "    <tr>\n",
       "      <th>145</th>\n",
       "      <td>Streptococcus mutans_None</td>\n",
       "      <td>181</td>\n",
       "      <td>0.55</td>\n",
       "      <td>float64</td>\n",
       "    </tr>\n",
       "    <tr>\n",
       "      <th>144</th>\n",
       "      <td>Streptococcus mitis/oralis/cristatus_None</td>\n",
       "      <td>182</td>\n",
       "      <td>0.55</td>\n",
       "      <td>float64</td>\n",
       "    </tr>\n",
       "    <tr>\n",
       "      <th>143</th>\n",
       "      <td>Streptococcus australis_None</td>\n",
       "      <td>181</td>\n",
       "      <td>0.55</td>\n",
       "      <td>float64</td>\n",
       "    </tr>\n",
       "    <tr>\n",
       "      <th>142</th>\n",
       "      <td>Streptococcus anginosus_None</td>\n",
       "      <td>181</td>\n",
       "      <td>0.55</td>\n",
       "      <td>float64</td>\n",
       "    </tr>\n",
       "    <tr>\n",
       "      <th>141</th>\n",
       "      <td>Stool SIgA_None</td>\n",
       "      <td>184</td>\n",
       "      <td>0.55</td>\n",
       "      <td>float64</td>\n",
       "    </tr>\n",
       "    <tr>\n",
       "      <th>140</th>\n",
       "      <td>Stool Lysozyme_None</td>\n",
       "      <td>184</td>\n",
       "      <td>0.55</td>\n",
       "      <td>float64</td>\n",
       "    </tr>\n",
       "    <tr>\n",
       "      <th>139</th>\n",
       "      <td>Stool Lactoferrin_None</td>\n",
       "      <td>184</td>\n",
       "      <td>0.55</td>\n",
       "      <td>float64</td>\n",
       "    </tr>\n",
       "    <tr>\n",
       "      <th>136</th>\n",
       "      <td>Staphylococcus lugdunensis_None</td>\n",
       "      <td>182</td>\n",
       "      <td>0.55</td>\n",
       "      <td>float64</td>\n",
       "    </tr>\n",
       "    <tr>\n",
       "      <th>135</th>\n",
       "      <td>Staphylococcus haemolyticus_None</td>\n",
       "      <td>181</td>\n",
       "      <td>0.55</td>\n",
       "      <td>float64</td>\n",
       "    </tr>\n",
       "    <tr>\n",
       "      <th>134</th>\n",
       "      <td>Staphylococcus epidermidis_None</td>\n",
       "      <td>182</td>\n",
       "      <td>0.55</td>\n",
       "      <td>float64</td>\n",
       "    </tr>\n",
       "    <tr>\n",
       "      <th>133</th>\n",
       "      <td>Staphylococcus aureus_None</td>\n",
       "      <td>182</td>\n",
       "      <td>0.55</td>\n",
       "      <td>float64</td>\n",
       "    </tr>\n",
       "    <tr>\n",
       "      <th>130</th>\n",
       "      <td>Serratia marcescens_None</td>\n",
       "      <td>181</td>\n",
       "      <td>0.55</td>\n",
       "      <td>float64</td>\n",
       "    </tr>\n",
       "    <tr>\n",
       "      <th>128</th>\n",
       "      <td>Saccharomyces cerevisiae/boulardi_None</td>\n",
       "      <td>182</td>\n",
       "      <td>0.55</td>\n",
       "      <td>float64</td>\n",
       "    </tr>\n",
       "    <tr>\n",
       "      <th>127</th>\n",
       "      <td>Rothia dentocariosa/mucliaginosa_None</td>\n",
       "      <td>181</td>\n",
       "      <td>0.55</td>\n",
       "      <td>float64</td>\n",
       "    </tr>\n",
       "    <tr>\n",
       "      <th>53</th>\n",
       "      <td>Cryptococcus spp, not neoformans_None</td>\n",
       "      <td>182</td>\n",
       "      <td>0.55</td>\n",
       "      <td>float64</td>\n",
       "    </tr>\n",
       "    <tr>\n",
       "      <th>183</th>\n",
       "      <td>pH_None</td>\n",
       "      <td>183</td>\n",
       "      <td>0.55</td>\n",
       "      <td>float64</td>\n",
       "    </tr>\n",
       "    <tr>\n",
       "      <th>28</th>\n",
       "      <td>Beta strep, group B, strep. Agalactiae_None</td>\n",
       "      <td>182</td>\n",
       "      <td>0.55</td>\n",
       "      <td>float64</td>\n",
       "    </tr>\n",
       "    <tr>\n",
       "      <th>41</th>\n",
       "      <td>Candida zeylanoides_None</td>\n",
       "      <td>182</td>\n",
       "      <td>0.55</td>\n",
       "      <td>float64</td>\n",
       "    </tr>\n",
       "    <tr>\n",
       "      <th>42</th>\n",
       "      <td>Cellulosimicrobium cellulans/funkeil/marinum_None</td>\n",
       "      <td>182</td>\n",
       "      <td>0.55</td>\n",
       "      <td>float64</td>\n",
       "    </tr>\n",
       "    <tr>\n",
       "      <th>39</th>\n",
       "      <td>Candida parapsilosis_None</td>\n",
       "      <td>181</td>\n",
       "      <td>0.55</td>\n",
       "      <td>float64</td>\n",
       "    </tr>\n",
       "    <tr>\n",
       "      <th>38</th>\n",
       "      <td>Candida orthopsilosis_None</td>\n",
       "      <td>182</td>\n",
       "      <td>0.55</td>\n",
       "      <td>float64</td>\n",
       "    </tr>\n",
       "    <tr>\n",
       "      <th>37</th>\n",
       "      <td>Candida lusitaniae_None</td>\n",
       "      <td>182</td>\n",
       "      <td>0.55</td>\n",
       "      <td>float64</td>\n",
       "    </tr>\n",
       "    <tr>\n",
       "      <th>36</th>\n",
       "      <td>Candida krusei/inconspicua/lambica_None</td>\n",
       "      <td>182</td>\n",
       "      <td>0.55</td>\n",
       "      <td>float64</td>\n",
       "    </tr>\n",
       "    <tr>\n",
       "      <th>32</th>\n",
       "      <td>Butyrate_mg/mL</td>\n",
       "      <td>184</td>\n",
       "      <td>0.55</td>\n",
       "      <td>float64</td>\n",
       "    </tr>\n",
       "    <tr>\n",
       "      <th>30</th>\n",
       "      <td>Bifidobacerium family_None</td>\n",
       "      <td>182</td>\n",
       "      <td>0.55</td>\n",
       "      <td>float64</td>\n",
       "    </tr>\n",
       "    <tr>\n",
       "      <th>50</th>\n",
       "      <td>Corynebacterium falsenii_None</td>\n",
       "      <td>181</td>\n",
       "      <td>0.55</td>\n",
       "      <td>float64</td>\n",
       "    </tr>\n",
       "    <tr>\n",
       "      <th>26</th>\n",
       "      <td>Bacteroides fraglis group_None</td>\n",
       "      <td>182</td>\n",
       "      <td>0.55</td>\n",
       "      <td>object</td>\n",
       "    </tr>\n",
       "    <tr>\n",
       "      <th>24</th>\n",
       "      <td>Bacillus spp, pumilus_None</td>\n",
       "      <td>182</td>\n",
       "      <td>0.55</td>\n",
       "      <td>float64</td>\n",
       "    </tr>\n",
       "    <tr>\n",
       "      <th>23</th>\n",
       "      <td>Bacillus licheniformis_None</td>\n",
       "      <td>181</td>\n",
       "      <td>0.55</td>\n",
       "      <td>float64</td>\n",
       "    </tr>\n",
       "    <tr>\n",
       "      <th>22</th>\n",
       "      <td>Bacillus cereus_None</td>\n",
       "      <td>182</td>\n",
       "      <td>0.55</td>\n",
       "      <td>float64</td>\n",
       "    </tr>\n",
       "    <tr>\n",
       "      <th>45</th>\n",
       "      <td>Citrobacter freundii complex_None</td>\n",
       "      <td>182</td>\n",
       "      <td>0.55</td>\n",
       "      <td>float64</td>\n",
       "    </tr>\n",
       "    <tr>\n",
       "      <th>19</th>\n",
       "      <td>Arcobacter butzieri_None</td>\n",
       "      <td>181</td>\n",
       "      <td>0.55</td>\n",
       "      <td>float64</td>\n",
       "    </tr>\n",
       "    <tr>\n",
       "      <th>17</th>\n",
       "      <td>Alpha hemolytic strep_None</td>\n",
       "      <td>182</td>\n",
       "      <td>0.55</td>\n",
       "      <td>float64</td>\n",
       "    </tr>\n",
       "    <tr>\n",
       "      <th>46</th>\n",
       "      <td>Clostridium spp_None</td>\n",
       "      <td>182</td>\n",
       "      <td>0.55</td>\n",
       "      <td>object</td>\n",
       "    </tr>\n",
       "    <tr>\n",
       "      <th>13</th>\n",
       "      <td>Actinomyces turicensis_None</td>\n",
       "      <td>182</td>\n",
       "      <td>0.55</td>\n",
       "      <td>float64</td>\n",
       "    </tr>\n",
       "    <tr>\n",
       "      <th>48</th>\n",
       "      <td>Comamonas testosteroni_None</td>\n",
       "      <td>182</td>\n",
       "      <td>0.55</td>\n",
       "      <td>float64</td>\n",
       "    </tr>\n",
       "    <tr>\n",
       "      <th>12</th>\n",
       "      <td>Actinomyces neuii_None</td>\n",
       "      <td>182</td>\n",
       "      <td>0.55</td>\n",
       "      <td>float64</td>\n",
       "    </tr>\n",
       "    <tr>\n",
       "      <th>4</th>\n",
       "      <td>% SCFA Valerate</td>\n",
       "      <td>184</td>\n",
       "      <td>0.55</td>\n",
       "      <td>float64</td>\n",
       "    </tr>\n",
       "    <tr>\n",
       "      <th>3</th>\n",
       "      <td>% SCFA Propionate</td>\n",
       "      <td>184</td>\n",
       "      <td>0.55</td>\n",
       "      <td>float64</td>\n",
       "    </tr>\n",
       "    <tr>\n",
       "      <th>2</th>\n",
       "      <td>% SCFA Butyrate</td>\n",
       "      <td>184</td>\n",
       "      <td>0.55</td>\n",
       "      <td>float64</td>\n",
       "    </tr>\n",
       "    <tr>\n",
       "      <th>40</th>\n",
       "      <td>Candida pararugosa_None</td>\n",
       "      <td>182</td>\n",
       "      <td>0.55</td>\n",
       "      <td>float64</td>\n",
       "    </tr>\n",
       "    <tr>\n",
       "      <th>31</th>\n",
       "      <td>Blood Urea Nitrogen (BUN)_mg/dL</td>\n",
       "      <td>172</td>\n",
       "      <td>0.52</td>\n",
       "      <td>float64</td>\n",
       "    </tr>\n",
       "    <tr>\n",
       "      <th>51</th>\n",
       "      <td>Creatinine_mg/dL</td>\n",
       "      <td>174</td>\n",
       "      <td>0.52</td>\n",
       "      <td>float64</td>\n",
       "    </tr>\n",
       "    <tr>\n",
       "      <th>132</th>\n",
       "      <td>Sodium_mmol/L</td>\n",
       "      <td>168</td>\n",
       "      <td>0.51</td>\n",
       "      <td>float64</td>\n",
       "    </tr>\n",
       "    <tr>\n",
       "      <th>35</th>\n",
       "      <td>Calcium_mg/dL</td>\n",
       "      <td>168</td>\n",
       "      <td>0.51</td>\n",
       "      <td>float64</td>\n",
       "    </tr>\n",
       "    <tr>\n",
       "      <th>11</th>\n",
       "      <td>AST_U/L</td>\n",
       "      <td>165</td>\n",
       "      <td>0.50</td>\n",
       "      <td>float64</td>\n",
       "    </tr>\n",
       "    <tr>\n",
       "      <th>115</th>\n",
       "      <td>Potassium_mmol/L</td>\n",
       "      <td>167</td>\n",
       "      <td>0.50</td>\n",
       "      <td>float64</td>\n",
       "    </tr>\n",
       "    <tr>\n",
       "      <th>64</th>\n",
       "      <td>Fasting Glucose_mg/dL</td>\n",
       "      <td>165</td>\n",
       "      <td>0.50</td>\n",
       "      <td>float64</td>\n",
       "    </tr>\n",
       "    <tr>\n",
       "      <th>21</th>\n",
       "      <td>BUN/Creatinine Ratio_None</td>\n",
       "      <td>166</td>\n",
       "      <td>0.50</td>\n",
       "      <td>float64</td>\n",
       "    </tr>\n",
       "    <tr>\n",
       "      <th>79</th>\n",
       "      <td>High Sensitivity CRP (mg/L)_mg/L</td>\n",
       "      <td>167</td>\n",
       "      <td>0.50</td>\n",
       "      <td>float64</td>\n",
       "    </tr>\n",
       "    <tr>\n",
       "      <th>14</th>\n",
       "      <td>Albumin_g/dL</td>\n",
       "      <td>162</td>\n",
       "      <td>0.49</td>\n",
       "      <td>float64</td>\n",
       "    </tr>\n",
       "    <tr>\n",
       "      <th>15</th>\n",
       "      <td>Alkaline phosphatase_U/L</td>\n",
       "      <td>164</td>\n",
       "      <td>0.49</td>\n",
       "      <td>float64</td>\n",
       "    </tr>\n",
       "    <tr>\n",
       "      <th>43</th>\n",
       "      <td>Chloride_mmol/L</td>\n",
       "      <td>164</td>\n",
       "      <td>0.49</td>\n",
       "      <td>float64</td>\n",
       "    </tr>\n",
       "    <tr>\n",
       "      <th>157</th>\n",
       "      <td>Total Protein_g/dL</td>\n",
       "      <td>162</td>\n",
       "      <td>0.49</td>\n",
       "      <td>float64</td>\n",
       "    </tr>\n",
       "    <tr>\n",
       "      <th>10</th>\n",
       "      <td>AST/ALT ratio_None</td>\n",
       "      <td>159</td>\n",
       "      <td>0.48</td>\n",
       "      <td>float64</td>\n",
       "    </tr>\n",
       "    <tr>\n",
       "      <th>7</th>\n",
       "      <td>ALT_U/L</td>\n",
       "      <td>161</td>\n",
       "      <td>0.48</td>\n",
       "      <td>float64</td>\n",
       "    </tr>\n",
       "    <tr>\n",
       "      <th>156</th>\n",
       "      <td>Total Bilirubin_mg/dL</td>\n",
       "      <td>161</td>\n",
       "      <td>0.48</td>\n",
       "      <td>float64</td>\n",
       "    </tr>\n",
       "    <tr>\n",
       "      <th>72</th>\n",
       "      <td>HCT_%</td>\n",
       "      <td>151</td>\n",
       "      <td>0.45</td>\n",
       "      <td>float64</td>\n",
       "    </tr>\n",
       "    <tr>\n",
       "      <th>123</th>\n",
       "      <td>RDW_%</td>\n",
       "      <td>148</td>\n",
       "      <td>0.45</td>\n",
       "      <td>float64</td>\n",
       "    </tr>\n",
       "    <tr>\n",
       "      <th>122</th>\n",
       "      <td>RBC-_10**6/mL</td>\n",
       "      <td>149</td>\n",
       "      <td>0.45</td>\n",
       "      <td>float64</td>\n",
       "    </tr>\n",
       "    <tr>\n",
       "      <th>99</th>\n",
       "      <td>MCHC-_g/dL</td>\n",
       "      <td>148</td>\n",
       "      <td>0.45</td>\n",
       "      <td>float64</td>\n",
       "    </tr>\n",
       "    <tr>\n",
       "      <th>100</th>\n",
       "      <td>MCH_pg/cell</td>\n",
       "      <td>148</td>\n",
       "      <td>0.45</td>\n",
       "      <td>float64</td>\n",
       "    </tr>\n",
       "    <tr>\n",
       "      <th>101</th>\n",
       "      <td>MCV-_fL</td>\n",
       "      <td>148</td>\n",
       "      <td>0.45</td>\n",
       "      <td>float64</td>\n",
       "    </tr>\n",
       "    <tr>\n",
       "      <th>180</th>\n",
       "      <td>WBC-_10**3/mL</td>\n",
       "      <td>150</td>\n",
       "      <td>0.45</td>\n",
       "      <td>float64</td>\n",
       "    </tr>\n",
       "    <tr>\n",
       "      <th>74</th>\n",
       "      <td>HGB-_g/dL</td>\n",
       "      <td>149</td>\n",
       "      <td>0.45</td>\n",
       "      <td>float64</td>\n",
       "    </tr>\n",
       "    <tr>\n",
       "      <th>111</th>\n",
       "      <td>PLT-_10**3/mL</td>\n",
       "      <td>146</td>\n",
       "      <td>0.44</td>\n",
       "      <td>float64</td>\n",
       "    </tr>\n",
       "    <tr>\n",
       "      <th>138</th>\n",
       "      <td>Stool Calprotectin YFH_None</td>\n",
       "      <td>144</td>\n",
       "      <td>0.43</td>\n",
       "      <td>float64</td>\n",
       "    </tr>\n",
       "    <tr>\n",
       "      <th>108</th>\n",
       "      <td>NEU %</td>\n",
       "      <td>140</td>\n",
       "      <td>0.42</td>\n",
       "      <td>float64</td>\n",
       "    </tr>\n",
       "    <tr>\n",
       "      <th>57</th>\n",
       "      <td>EOS %</td>\n",
       "      <td>141</td>\n",
       "      <td>0.42</td>\n",
       "      <td>float64</td>\n",
       "    </tr>\n",
       "    <tr>\n",
       "      <th>92</th>\n",
       "      <td>LYM %</td>\n",
       "      <td>140</td>\n",
       "      <td>0.42</td>\n",
       "      <td>float64</td>\n",
       "    </tr>\n",
       "    <tr>\n",
       "      <th>102</th>\n",
       "      <td>MONO %</td>\n",
       "      <td>140</td>\n",
       "      <td>0.42</td>\n",
       "      <td>float64</td>\n",
       "    </tr>\n",
       "    <tr>\n",
       "      <th>6</th>\n",
       "      <td>A/G ratio_None</td>\n",
       "      <td>135</td>\n",
       "      <td>0.41</td>\n",
       "      <td>float64</td>\n",
       "    </tr>\n",
       "    <tr>\n",
       "      <th>71</th>\n",
       "      <td>Globulin_None</td>\n",
       "      <td>136</td>\n",
       "      <td>0.41</td>\n",
       "      <td>float64</td>\n",
       "    </tr>\n",
       "    <tr>\n",
       "      <th>29</th>\n",
       "      <td>Bicarbonate_mmol/L</td>\n",
       "      <td>133</td>\n",
       "      <td>0.40</td>\n",
       "      <td>float64</td>\n",
       "    </tr>\n",
       "    <tr>\n",
       "      <th>61</th>\n",
       "      <td>Esoinophil Count_10**3/mL</td>\n",
       "      <td>130</td>\n",
       "      <td>0.39</td>\n",
       "      <td>float64</td>\n",
       "    </tr>\n",
       "    <tr>\n",
       "      <th>105</th>\n",
       "      <td>Monocyte Count_10**3/mL</td>\n",
       "      <td>130</td>\n",
       "      <td>0.39</td>\n",
       "      <td>float64</td>\n",
       "    </tr>\n",
       "    <tr>\n",
       "      <th>109</th>\n",
       "      <td>Neutrophil Count_10**3/mL</td>\n",
       "      <td>131</td>\n",
       "      <td>0.39</td>\n",
       "      <td>float64</td>\n",
       "    </tr>\n",
       "    <tr>\n",
       "      <th>103</th>\n",
       "      <td>MPV_fL</td>\n",
       "      <td>131</td>\n",
       "      <td>0.39</td>\n",
       "      <td>float64</td>\n",
       "    </tr>\n",
       "    <tr>\n",
       "      <th>97</th>\n",
       "      <td>Lymphocyte Count_10**3/mL</td>\n",
       "      <td>131</td>\n",
       "      <td>0.39</td>\n",
       "      <td>float64</td>\n",
       "    </tr>\n",
       "    <tr>\n",
       "      <th>20</th>\n",
       "      <td>BASO %</td>\n",
       "      <td>126</td>\n",
       "      <td>0.38</td>\n",
       "      <td>float64</td>\n",
       "    </tr>\n",
       "    <tr>\n",
       "      <th>164</th>\n",
       "      <td>Triglycerides_mg/dL</td>\n",
       "      <td>118</td>\n",
       "      <td>0.36</td>\n",
       "      <td>float64</td>\n",
       "    </tr>\n",
       "    <tr>\n",
       "      <th>149</th>\n",
       "      <td>Sum Total Cholesterol_mg/dL</td>\n",
       "      <td>121</td>\n",
       "      <td>0.36</td>\n",
       "      <td>float64</td>\n",
       "    </tr>\n",
       "    <tr>\n",
       "      <th>73</th>\n",
       "      <td>HDL (High Density Lipoprotein) \"good\"_mg/dL</td>\n",
       "      <td>111</td>\n",
       "      <td>0.33</td>\n",
       "      <td>float64</td>\n",
       "    </tr>\n",
       "    <tr>\n",
       "      <th>5</th>\n",
       "      <td>237_mg/dL</td>\n",
       "      <td>111</td>\n",
       "      <td>0.33</td>\n",
       "      <td>float64</td>\n",
       "    </tr>\n",
       "    <tr>\n",
       "      <th>44</th>\n",
       "      <td>Chol/HDL_None</td>\n",
       "      <td>108</td>\n",
       "      <td>0.33</td>\n",
       "      <td>float64</td>\n",
       "    </tr>\n",
       "    <tr>\n",
       "      <th>150</th>\n",
       "      <td>TG/HDL_None</td>\n",
       "      <td>108</td>\n",
       "      <td>0.33</td>\n",
       "      <td>float64</td>\n",
       "    </tr>\n",
       "    <tr>\n",
       "      <th>177</th>\n",
       "      <td>Vitamin D, 25-Hydroxy_ng/mL</td>\n",
       "      <td>109</td>\n",
       "      <td>0.33</td>\n",
       "      <td>float64</td>\n",
       "    </tr>\n",
       "    <tr>\n",
       "      <th>18</th>\n",
       "      <td>Anion Gap_mmol/L</td>\n",
       "      <td>102</td>\n",
       "      <td>0.31</td>\n",
       "      <td>float64</td>\n",
       "    </tr>\n",
       "    <tr>\n",
       "      <th>176</th>\n",
       "      <td>Vitamin B12_pg/mL</td>\n",
       "      <td>84</td>\n",
       "      <td>0.25</td>\n",
       "      <td>float64</td>\n",
       "    </tr>\n",
       "    <tr>\n",
       "      <th>137</th>\n",
       "      <td>Stool Calprotectin UCSD_µg/g</td>\n",
       "      <td>79</td>\n",
       "      <td>0.24</td>\n",
       "      <td>float64</td>\n",
       "    </tr>\n",
       "    <tr>\n",
       "      <th>77</th>\n",
       "      <td>Hemoglobin A1C_%</td>\n",
       "      <td>72</td>\n",
       "      <td>0.22</td>\n",
       "      <td>float64</td>\n",
       "    </tr>\n",
       "    <tr>\n",
       "      <th>85</th>\n",
       "      <td>Insulin_µIU/mL</td>\n",
       "      <td>72</td>\n",
       "      <td>0.22</td>\n",
       "      <td>float64</td>\n",
       "    </tr>\n",
       "    <tr>\n",
       "      <th>34</th>\n",
       "      <td>CEA_ng/mL</td>\n",
       "      <td>73</td>\n",
       "      <td>0.22</td>\n",
       "      <td>float64</td>\n",
       "    </tr>\n",
       "    <tr>\n",
       "      <th>87</th>\n",
       "      <td>Iron_µg/dL</td>\n",
       "      <td>67</td>\n",
       "      <td>0.20</td>\n",
       "      <td>float64</td>\n",
       "    </tr>\n",
       "    <tr>\n",
       "      <th>27</th>\n",
       "      <td>Basophil Count_10**3/mL</td>\n",
       "      <td>63</td>\n",
       "      <td>0.19</td>\n",
       "      <td>float64</td>\n",
       "    </tr>\n",
       "    <tr>\n",
       "      <th>80</th>\n",
       "      <td>Homocysteine_µmol/L</td>\n",
       "      <td>60</td>\n",
       "      <td>0.18</td>\n",
       "      <td>float64</td>\n",
       "    </tr>\n",
       "    <tr>\n",
       "      <th>165</th>\n",
       "      <td>UCSD HDL Particle #_μmol/L</td>\n",
       "      <td>59</td>\n",
       "      <td>0.18</td>\n",
       "      <td>float64</td>\n",
       "    </tr>\n",
       "    <tr>\n",
       "      <th>167</th>\n",
       "      <td>UCSD LDL Particle # by NMR_nmol/L</td>\n",
       "      <td>59</td>\n",
       "      <td>0.18</td>\n",
       "      <td>float64</td>\n",
       "    </tr>\n",
       "    <tr>\n",
       "      <th>75</th>\n",
       "      <td>HOMA-IR (insulin resistance)_None</td>\n",
       "      <td>59</td>\n",
       "      <td>0.18</td>\n",
       "      <td>float64</td>\n",
       "    </tr>\n",
       "    <tr>\n",
       "      <th>172</th>\n",
       "      <td>UCSD VLDL Particle Size_nm</td>\n",
       "      <td>57</td>\n",
       "      <td>0.17</td>\n",
       "      <td>float64</td>\n",
       "    </tr>\n",
       "    <tr>\n",
       "      <th>169</th>\n",
       "      <td>UCSD Large HDL Particle #_μmol/L</td>\n",
       "      <td>58</td>\n",
       "      <td>0.17</td>\n",
       "      <td>float64</td>\n",
       "    </tr>\n",
       "    <tr>\n",
       "      <th>168</th>\n",
       "      <td>UCSD LDL Particle Size_nm</td>\n",
       "      <td>58</td>\n",
       "      <td>0.17</td>\n",
       "      <td>float64</td>\n",
       "    </tr>\n",
       "    <tr>\n",
       "      <th>166</th>\n",
       "      <td>UCSD HDL Particle Size_nm</td>\n",
       "      <td>58</td>\n",
       "      <td>0.17</td>\n",
       "      <td>float64</td>\n",
       "    </tr>\n",
       "    <tr>\n",
       "      <th>171</th>\n",
       "      <td>UCSD Small LDL Particle #_nmol/L</td>\n",
       "      <td>58</td>\n",
       "      <td>0.17</td>\n",
       "      <td>float64</td>\n",
       "    </tr>\n",
       "    <tr>\n",
       "      <th>170</th>\n",
       "      <td>UCSD Large VLDL Particle #_nmol/L</td>\n",
       "      <td>54</td>\n",
       "      <td>0.16</td>\n",
       "      <td>object</td>\n",
       "    </tr>\n",
       "    <tr>\n",
       "      <th>65</th>\n",
       "      <td>Ferritin_ng/mL</td>\n",
       "      <td>50</td>\n",
       "      <td>0.15</td>\n",
       "      <td>float64</td>\n",
       "    </tr>\n",
       "    <tr>\n",
       "      <th>9</th>\n",
       "      <td>APOLIPOPROTEIN-(B100)_mg/dL</td>\n",
       "      <td>47</td>\n",
       "      <td>0.14</td>\n",
       "      <td>float64</td>\n",
       "    </tr>\n",
       "    <tr>\n",
       "      <th>95</th>\n",
       "      <td>Lp(a) Chloresterol_None</td>\n",
       "      <td>45</td>\n",
       "      <td>0.14</td>\n",
       "      <td>float64</td>\n",
       "    </tr>\n",
       "    <tr>\n",
       "      <th>175</th>\n",
       "      <td>VLDL Cholesterol_mg/dL</td>\n",
       "      <td>42</td>\n",
       "      <td>0.13</td>\n",
       "      <td>float64</td>\n",
       "    </tr>\n",
       "    <tr>\n",
       "      <th>178</th>\n",
       "      <td>Vitamin E Alpha-Tocopherol_mg/L</td>\n",
       "      <td>39</td>\n",
       "      <td>0.12</td>\n",
       "      <td>float64</td>\n",
       "    </tr>\n",
       "    <tr>\n",
       "      <th>125</th>\n",
       "      <td>Real-LDL Size Pattern_None</td>\n",
       "      <td>39</td>\n",
       "      <td>0.12</td>\n",
       "      <td>object</td>\n",
       "    </tr>\n",
       "    <tr>\n",
       "      <th>179</th>\n",
       "      <td>Vitamin E Gamma-Tocopherol_mg/L</td>\n",
       "      <td>40</td>\n",
       "      <td>0.12</td>\n",
       "      <td>object</td>\n",
       "    </tr>\n",
       "    <tr>\n",
       "      <th>112</th>\n",
       "      <td>PSA Screen_None</td>\n",
       "      <td>41</td>\n",
       "      <td>0.12</td>\n",
       "      <td>float64</td>\n",
       "    </tr>\n",
       "    <tr>\n",
       "      <th>151</th>\n",
       "      <td>TIBC_µg/dL</td>\n",
       "      <td>36</td>\n",
       "      <td>0.11</td>\n",
       "      <td>float64</td>\n",
       "    </tr>\n",
       "    <tr>\n",
       "      <th>81</th>\n",
       "      <td>IDL Chloresterol_None</td>\n",
       "      <td>36</td>\n",
       "      <td>0.11</td>\n",
       "      <td>float64</td>\n",
       "    </tr>\n",
       "    <tr>\n",
       "      <th>86</th>\n",
       "      <td>Iron saturation_%</td>\n",
       "      <td>36</td>\n",
       "      <td>0.11</td>\n",
       "      <td>float64</td>\n",
       "    </tr>\n",
       "    <tr>\n",
       "      <th>68</th>\n",
       "      <td>GGTP_U/L</td>\n",
       "      <td>38</td>\n",
       "      <td>0.11</td>\n",
       "      <td>float64</td>\n",
       "    </tr>\n",
       "    <tr>\n",
       "      <th>173</th>\n",
       "      <td>UIBC_µg/dL</td>\n",
       "      <td>37</td>\n",
       "      <td>0.11</td>\n",
       "      <td>float64</td>\n",
       "    </tr>\n",
       "    <tr>\n",
       "      <th>152</th>\n",
       "      <td>TSH_µIU/mL</td>\n",
       "      <td>34</td>\n",
       "      <td>0.10</td>\n",
       "      <td>float64</td>\n",
       "    </tr>\n",
       "    <tr>\n",
       "      <th>8</th>\n",
       "      <td>APO A1_mg/dL</td>\n",
       "      <td>32</td>\n",
       "      <td>0.10</td>\n",
       "      <td>float64</td>\n",
       "    </tr>\n",
       "    <tr>\n",
       "      <th>104</th>\n",
       "      <td>Magnesium_mg/dL</td>\n",
       "      <td>33</td>\n",
       "      <td>0.10</td>\n",
       "      <td>float64</td>\n",
       "    </tr>\n",
       "    <tr>\n",
       "      <th>124</th>\n",
       "      <td>Ratio APO B100/AI_None</td>\n",
       "      <td>32</td>\n",
       "      <td>0.10</td>\n",
       "      <td>float64</td>\n",
       "    </tr>\n",
       "    <tr>\n",
       "      <th>67</th>\n",
       "      <td>Free Testosterone_pg/mL</td>\n",
       "      <td>29</td>\n",
       "      <td>0.09</td>\n",
       "      <td>float64</td>\n",
       "    </tr>\n",
       "    <tr>\n",
       "      <th>174</th>\n",
       "      <td>Uric Acid_None</td>\n",
       "      <td>29</td>\n",
       "      <td>0.09</td>\n",
       "      <td>float64</td>\n",
       "    </tr>\n",
       "    <tr>\n",
       "      <th>160</th>\n",
       "      <td>Total Testosterone_ng/mL</td>\n",
       "      <td>30</td>\n",
       "      <td>0.09</td>\n",
       "      <td>float64</td>\n",
       "    </tr>\n",
       "    <tr>\n",
       "      <th>131</th>\n",
       "      <td>Sex Hormone Binding Globulin (SHBG)_nmol/L</td>\n",
       "      <td>26</td>\n",
       "      <td>0.08</td>\n",
       "      <td>float64</td>\n",
       "    </tr>\n",
       "    <tr>\n",
       "      <th>153</th>\n",
       "      <td>Testosterone % Free</td>\n",
       "      <td>26</td>\n",
       "      <td>0.08</td>\n",
       "      <td>float64</td>\n",
       "    </tr>\n",
       "    <tr>\n",
       "      <th>91</th>\n",
       "      <td>LDH_U/L</td>\n",
       "      <td>19</td>\n",
       "      <td>0.06</td>\n",
       "      <td>float64</td>\n",
       "    </tr>\n",
       "    <tr>\n",
       "      <th>114</th>\n",
       "      <td>Phosporus_mg/dL</td>\n",
       "      <td>19</td>\n",
       "      <td>0.06</td>\n",
       "      <td>float64</td>\n",
       "    </tr>\n",
       "    <tr>\n",
       "      <th>182</th>\n",
       "      <td>Zinc_µg/dL</td>\n",
       "      <td>17</td>\n",
       "      <td>0.05</td>\n",
       "      <td>float64</td>\n",
       "    </tr>\n",
       "    <tr>\n",
       "      <th>155</th>\n",
       "      <td>Tot CO2_None</td>\n",
       "      <td>15</td>\n",
       "      <td>0.05</td>\n",
       "      <td>float64</td>\n",
       "    </tr>\n",
       "    <tr>\n",
       "      <th>154</th>\n",
       "      <td>Thyroxine (T4)_µg/dL</td>\n",
       "      <td>16</td>\n",
       "      <td>0.05</td>\n",
       "      <td>float64</td>\n",
       "    </tr>\n",
       "    <tr>\n",
       "      <th>25</th>\n",
       "      <td>Bacteroides family_None</td>\n",
       "      <td>18</td>\n",
       "      <td>0.05</td>\n",
       "      <td>float64</td>\n",
       "    </tr>\n",
       "    <tr>\n",
       "      <th>55</th>\n",
       "      <td>Direct Bilirubin_None</td>\n",
       "      <td>18</td>\n",
       "      <td>0.05</td>\n",
       "      <td>float64</td>\n",
       "    </tr>\n",
       "    <tr>\n",
       "      <th>96</th>\n",
       "      <td>Lp-PLA2_None</td>\n",
       "      <td>13</td>\n",
       "      <td>0.04</td>\n",
       "      <td>float64</td>\n",
       "    </tr>\n",
       "    <tr>\n",
       "      <th>159</th>\n",
       "      <td>Total T3_ng/mL</td>\n",
       "      <td>12</td>\n",
       "      <td>0.04</td>\n",
       "      <td>float64</td>\n",
       "    </tr>\n",
       "    <tr>\n",
       "      <th>54</th>\n",
       "      <td>DHEA-blood_µg/dL</td>\n",
       "      <td>14</td>\n",
       "      <td>0.04</td>\n",
       "      <td>float64</td>\n",
       "    </tr>\n",
       "    <tr>\n",
       "      <th>110</th>\n",
       "      <td>Niacin (Vit B3)_None</td>\n",
       "      <td>9</td>\n",
       "      <td>0.03</td>\n",
       "      <td>float64</td>\n",
       "    </tr>\n",
       "    <tr>\n",
       "      <th>49</th>\n",
       "      <td>Cortisol Random_None</td>\n",
       "      <td>10</td>\n",
       "      <td>0.03</td>\n",
       "      <td>float64</td>\n",
       "    </tr>\n",
       "    <tr>\n",
       "      <th>62</th>\n",
       "      <td>Estradiol_pg/mL</td>\n",
       "      <td>11</td>\n",
       "      <td>0.03</td>\n",
       "      <td>object</td>\n",
       "    </tr>\n",
       "    <tr>\n",
       "      <th>47</th>\n",
       "      <td>CoQ10_None</td>\n",
       "      <td>10</td>\n",
       "      <td>0.03</td>\n",
       "      <td>float64</td>\n",
       "    </tr>\n",
       "    <tr>\n",
       "      <th>82</th>\n",
       "      <td>IgA_None</td>\n",
       "      <td>9</td>\n",
       "      <td>0.03</td>\n",
       "      <td>float64</td>\n",
       "    </tr>\n",
       "    <tr>\n",
       "      <th>129</th>\n",
       "      <td>Selenium_None</td>\n",
       "      <td>6</td>\n",
       "      <td>0.02</td>\n",
       "      <td>float64</td>\n",
       "    </tr>\n",
       "    <tr>\n",
       "      <th>84</th>\n",
       "      <td>IgM_None</td>\n",
       "      <td>6</td>\n",
       "      <td>0.02</td>\n",
       "      <td>float64</td>\n",
       "    </tr>\n",
       "    <tr>\n",
       "      <th>83</th>\n",
       "      <td>IgG_None</td>\n",
       "      <td>6</td>\n",
       "      <td>0.02</td>\n",
       "      <td>float64</td>\n",
       "    </tr>\n",
       "    <tr>\n",
       "      <th>33</th>\n",
       "      <td>CA-19-9 (Pancreatic Cancer)_U/mL</td>\n",
       "      <td>5</td>\n",
       "      <td>0.02</td>\n",
       "      <td>object</td>\n",
       "    </tr>\n",
       "    <tr>\n",
       "      <th>16</th>\n",
       "      <td>Alpha Lipoic Acid_None</td>\n",
       "      <td>2</td>\n",
       "      <td>0.01</td>\n",
       "      <td>float64</td>\n",
       "    </tr>\n",
       "    <tr>\n",
       "      <th>66</th>\n",
       "      <td>Fibrinogen_None</td>\n",
       "      <td>1</td>\n",
       "      <td>0.00</td>\n",
       "      <td>float64</td>\n",
       "    </tr>\n",
       "  </tbody>\n",
       "</table>\n",
       "</div>"
      ],
      "text/plain": [
       "                                                Column  # Values  Completion  \\\n",
       "0                                                 Date       332        1.00   \n",
       "181                                         Weight_lbs       322        0.97   \n",
       "90   Kocuria spp, salsicia, rhizophila, kristinae_None       182        0.55   \n",
       "118                        Pseudomonas aeruginosa_None       182        0.55   \n",
       "117                          Providencia stuartii_None       183        0.55   \n",
       "116                          Providencia rettgeri_None       182        0.55   \n",
       "113                                   Pantoea spp_None       182        0.55   \n",
       "107                       Mucoid Escherichia coli_None       182        0.55   \n",
       "106                          Morganellla morganii_None       182        0.55   \n",
       "98                             Lysinibacillus spp_None       182        0.55   \n",
       "94                             Lactococcus lactis_None       182        0.55   \n",
       "93                              Lactobacillus spp_None       182        0.55   \n",
       "1                                       % SCFA Acetate       184        0.55   \n",
       "89                           Klebsiella pneumonia_None       182        0.55   \n",
       "120                     Pseudomonas citronellolis_None       182        0.55   \n",
       "88                             Klebsiella oxytoca_None       182        0.55   \n",
       "78                     Hemolytic Escherichia coli_None       182        0.55   \n",
       "76                                   Hafnia alvei_None       182        0.55   \n",
       "70                                Geotrichum spp._None       182        0.55   \n",
       "69                  Gamma Hemolytic Streptococcus_None       182        0.55   \n",
       "63                         Exophiala dermatitidis_None       182        0.55   \n",
       "60                              Enterococcus spp._None       182        0.55   \n",
       "59                           Enterobacter cloacae_None       182        0.55   \n",
       "58                          Enterobacter asburiae_None       182        0.55   \n",
       "56                                   E. coli spp._None       182        0.55   \n",
       "119                Pseudomonas chlororaphis group_None       182        0.55   \n",
       "121                          Pseudomonas stutzeri_None       182        0.55   \n",
       "52                          Cryptococcus diffuens_None       182        0.55   \n",
       "126             Rhodotorula glutinis/mucilaginosa_None       182        0.55   \n",
       "163                          Trichosporon ovoides_None       182        0.55   \n",
       "162                    Trichosporon montevideense_None       182        0.55   \n",
       "161                           Trichosporon asahii_None       182        0.55   \n",
       "158                                   Total SCFA_mg/mL       184        0.55   \n",
       "148                                  Streptomyces_None       181        0.55   \n",
       "147                      Streptococcus salivarius_None       182        0.55   \n",
       "146                   Streptococcus parasanguinis_None       182        0.55   \n",
       "145                          Streptococcus mutans_None       181        0.55   \n",
       "144          Streptococcus mitis/oralis/cristatus_None       182        0.55   \n",
       "143                       Streptococcus australis_None       181        0.55   \n",
       "142                       Streptococcus anginosus_None       181        0.55   \n",
       "141                                    Stool SIgA_None       184        0.55   \n",
       "140                                Stool Lysozyme_None       184        0.55   \n",
       "139                             Stool Lactoferrin_None       184        0.55   \n",
       "136                    Staphylococcus lugdunensis_None       182        0.55   \n",
       "135                   Staphylococcus haemolyticus_None       181        0.55   \n",
       "134                    Staphylococcus epidermidis_None       182        0.55   \n",
       "133                         Staphylococcus aureus_None       182        0.55   \n",
       "130                           Serratia marcescens_None       181        0.55   \n",
       "128             Saccharomyces cerevisiae/boulardi_None       182        0.55   \n",
       "127              Rothia dentocariosa/mucliaginosa_None       181        0.55   \n",
       "53               Cryptococcus spp, not neoformans_None       182        0.55   \n",
       "183                                            pH_None       183        0.55   \n",
       "28         Beta strep, group B, strep. Agalactiae_None       182        0.55   \n",
       "41                            Candida zeylanoides_None       182        0.55   \n",
       "42   Cellulosimicrobium cellulans/funkeil/marinum_None       182        0.55   \n",
       "39                           Candida parapsilosis_None       181        0.55   \n",
       "38                          Candida orthopsilosis_None       182        0.55   \n",
       "37                             Candida lusitaniae_None       182        0.55   \n",
       "36             Candida krusei/inconspicua/lambica_None       182        0.55   \n",
       "32                                      Butyrate_mg/mL       184        0.55   \n",
       "30                          Bifidobacerium family_None       182        0.55   \n",
       "50                       Corynebacterium falsenii_None       181        0.55   \n",
       "26                      Bacteroides fraglis group_None       182        0.55   \n",
       "24                          Bacillus spp, pumilus_None       182        0.55   \n",
       "23                         Bacillus licheniformis_None       181        0.55   \n",
       "22                                Bacillus cereus_None       182        0.55   \n",
       "45                   Citrobacter freundii complex_None       182        0.55   \n",
       "19                            Arcobacter butzieri_None       181        0.55   \n",
       "17                          Alpha hemolytic strep_None       182        0.55   \n",
       "46                                Clostridium spp_None       182        0.55   \n",
       "13                         Actinomyces turicensis_None       182        0.55   \n",
       "48                         Comamonas testosteroni_None       182        0.55   \n",
       "12                              Actinomyces neuii_None       182        0.55   \n",
       "4                                      % SCFA Valerate       184        0.55   \n",
       "3                                    % SCFA Propionate       184        0.55   \n",
       "2                                      % SCFA Butyrate       184        0.55   \n",
       "40                             Candida pararugosa_None       182        0.55   \n",
       "31                     Blood Urea Nitrogen (BUN)_mg/dL       172        0.52   \n",
       "51                                    Creatinine_mg/dL       174        0.52   \n",
       "132                                      Sodium_mmol/L       168        0.51   \n",
       "35                                       Calcium_mg/dL       168        0.51   \n",
       "11                                             AST_U/L       165        0.50   \n",
       "115                                   Potassium_mmol/L       167        0.50   \n",
       "64                               Fasting Glucose_mg/dL       165        0.50   \n",
       "21                           BUN/Creatinine Ratio_None       166        0.50   \n",
       "79                    High Sensitivity CRP (mg/L)_mg/L       167        0.50   \n",
       "14                                        Albumin_g/dL       162        0.49   \n",
       "15                            Alkaline phosphatase_U/L       164        0.49   \n",
       "43                                     Chloride_mmol/L       164        0.49   \n",
       "157                                 Total Protein_g/dL       162        0.49   \n",
       "10                                  AST/ALT ratio_None       159        0.48   \n",
       "7                                              ALT_U/L       161        0.48   \n",
       "156                              Total Bilirubin_mg/dL       161        0.48   \n",
       "72                                               HCT_%       151        0.45   \n",
       "123                                              RDW_%       148        0.45   \n",
       "122                                      RBC-_10**6/mL       149        0.45   \n",
       "99                                          MCHC-_g/dL       148        0.45   \n",
       "100                                        MCH_pg/cell       148        0.45   \n",
       "101                                            MCV-_fL       148        0.45   \n",
       "180                                      WBC-_10**3/mL       150        0.45   \n",
       "74                                           HGB-_g/dL       149        0.45   \n",
       "111                                      PLT-_10**3/mL       146        0.44   \n",
       "138                        Stool Calprotectin YFH_None       144        0.43   \n",
       "108                                              NEU %       140        0.42   \n",
       "57                                               EOS %       141        0.42   \n",
       "92                                               LYM %       140        0.42   \n",
       "102                                             MONO %       140        0.42   \n",
       "6                                       A/G ratio_None       135        0.41   \n",
       "71                                       Globulin_None       136        0.41   \n",
       "29                                  Bicarbonate_mmol/L       133        0.40   \n",
       "61                           Esoinophil Count_10**3/mL       130        0.39   \n",
       "105                            Monocyte Count_10**3/mL       130        0.39   \n",
       "109                          Neutrophil Count_10**3/mL       131        0.39   \n",
       "103                                             MPV_fL       131        0.39   \n",
       "97                           Lymphocyte Count_10**3/mL       131        0.39   \n",
       "20                                              BASO %       126        0.38   \n",
       "164                                Triglycerides_mg/dL       118        0.36   \n",
       "149                        Sum Total Cholesterol_mg/dL       121        0.36   \n",
       "73         HDL (High Density Lipoprotein) \"good\"_mg/dL       111        0.33   \n",
       "5                                            237_mg/dL       111        0.33   \n",
       "44                                       Chol/HDL_None       108        0.33   \n",
       "150                                        TG/HDL_None       108        0.33   \n",
       "177                        Vitamin D, 25-Hydroxy_ng/mL       109        0.33   \n",
       "18                                    Anion Gap_mmol/L       102        0.31   \n",
       "176                                  Vitamin B12_pg/mL        84        0.25   \n",
       "137                       Stool Calprotectin UCSD_µg/g        79        0.24   \n",
       "77                                    Hemoglobin A1C_%        72        0.22   \n",
       "85                                      Insulin_µIU/mL        72        0.22   \n",
       "34                                           CEA_ng/mL        73        0.22   \n",
       "87                                          Iron_µg/dL        67        0.20   \n",
       "27                             Basophil Count_10**3/mL        63        0.19   \n",
       "80                                 Homocysteine_µmol/L        60        0.18   \n",
       "165                         UCSD HDL Particle #_μmol/L        59        0.18   \n",
       "167                  UCSD LDL Particle # by NMR_nmol/L        59        0.18   \n",
       "75                   HOMA-IR (insulin resistance)_None        59        0.18   \n",
       "172                         UCSD VLDL Particle Size_nm        57        0.17   \n",
       "169                   UCSD Large HDL Particle #_μmol/L        58        0.17   \n",
       "168                          UCSD LDL Particle Size_nm        58        0.17   \n",
       "166                          UCSD HDL Particle Size_nm        58        0.17   \n",
       "171                   UCSD Small LDL Particle #_nmol/L        58        0.17   \n",
       "170                  UCSD Large VLDL Particle #_nmol/L        54        0.16   \n",
       "65                                      Ferritin_ng/mL        50        0.15   \n",
       "9                          APOLIPOPROTEIN-(B100)_mg/dL        47        0.14   \n",
       "95                             Lp(a) Chloresterol_None        45        0.14   \n",
       "175                             VLDL Cholesterol_mg/dL        42        0.13   \n",
       "178                    Vitamin E Alpha-Tocopherol_mg/L        39        0.12   \n",
       "125                         Real-LDL Size Pattern_None        39        0.12   \n",
       "179                    Vitamin E Gamma-Tocopherol_mg/L        40        0.12   \n",
       "112                                    PSA Screen_None        41        0.12   \n",
       "151                                         TIBC_µg/dL        36        0.11   \n",
       "81                               IDL Chloresterol_None        36        0.11   \n",
       "86                                   Iron saturation_%        36        0.11   \n",
       "68                                            GGTP_U/L        38        0.11   \n",
       "173                                         UIBC_µg/dL        37        0.11   \n",
       "152                                         TSH_µIU/mL        34        0.10   \n",
       "8                                         APO A1_mg/dL        32        0.10   \n",
       "104                                    Magnesium_mg/dL        33        0.10   \n",
       "124                             Ratio APO B100/AI_None        32        0.10   \n",
       "67                             Free Testosterone_pg/mL        29        0.09   \n",
       "174                                     Uric Acid_None        29        0.09   \n",
       "160                           Total Testosterone_ng/mL        30        0.09   \n",
       "131         Sex Hormone Binding Globulin (SHBG)_nmol/L        26        0.08   \n",
       "153                                Testosterone % Free        26        0.08   \n",
       "91                                             LDH_U/L        19        0.06   \n",
       "114                                    Phosporus_mg/dL        19        0.06   \n",
       "182                                         Zinc_µg/dL        17        0.05   \n",
       "155                                       Tot CO2_None        15        0.05   \n",
       "154                               Thyroxine (T4)_µg/dL        16        0.05   \n",
       "25                             Bacteroides family_None        18        0.05   \n",
       "55                               Direct Bilirubin_None        18        0.05   \n",
       "96                                        Lp-PLA2_None        13        0.04   \n",
       "159                                     Total T3_ng/mL        12        0.04   \n",
       "54                                    DHEA-blood_µg/dL        14        0.04   \n",
       "110                               Niacin (Vit B3)_None         9        0.03   \n",
       "49                                Cortisol Random_None        10        0.03   \n",
       "62                                     Estradiol_pg/mL        11        0.03   \n",
       "47                                          CoQ10_None        10        0.03   \n",
       "82                                            IgA_None         9        0.03   \n",
       "129                                      Selenium_None         6        0.02   \n",
       "84                                            IgM_None         6        0.02   \n",
       "83                                            IgG_None         6        0.02   \n",
       "33                    CA-19-9 (Pancreatic Cancer)_U/mL         5        0.02   \n",
       "16                              Alpha Lipoic Acid_None         2        0.01   \n",
       "66                                     Fibrinogen_None         1        0.00   \n",
       "\n",
       "    Data Type  \n",
       "0      object  \n",
       "181   float64  \n",
       "90    float64  \n",
       "118   float64  \n",
       "117    object  \n",
       "116   float64  \n",
       "113   float64  \n",
       "107   float64  \n",
       "106   float64  \n",
       "98    float64  \n",
       "94    float64  \n",
       "93    float64  \n",
       "1     float64  \n",
       "89    float64  \n",
       "120   float64  \n",
       "88    float64  \n",
       "78    float64  \n",
       "76    float64  \n",
       "70    float64  \n",
       "69    float64  \n",
       "63    float64  \n",
       "60    float64  \n",
       "59    float64  \n",
       "58    float64  \n",
       "56    float64  \n",
       "119   float64  \n",
       "121   float64  \n",
       "52    float64  \n",
       "126   float64  \n",
       "163   float64  \n",
       "162   float64  \n",
       "161   float64  \n",
       "158   float64  \n",
       "148   float64  \n",
       "147   float64  \n",
       "146   float64  \n",
       "145   float64  \n",
       "144   float64  \n",
       "143   float64  \n",
       "142   float64  \n",
       "141   float64  \n",
       "140   float64  \n",
       "139   float64  \n",
       "136   float64  \n",
       "135   float64  \n",
       "134   float64  \n",
       "133   float64  \n",
       "130   float64  \n",
       "128   float64  \n",
       "127   float64  \n",
       "53    float64  \n",
       "183   float64  \n",
       "28    float64  \n",
       "41    float64  \n",
       "42    float64  \n",
       "39    float64  \n",
       "38    float64  \n",
       "37    float64  \n",
       "36    float64  \n",
       "32    float64  \n",
       "30    float64  \n",
       "50    float64  \n",
       "26     object  \n",
       "24    float64  \n",
       "23    float64  \n",
       "22    float64  \n",
       "45    float64  \n",
       "19    float64  \n",
       "17    float64  \n",
       "46     object  \n",
       "13    float64  \n",
       "48    float64  \n",
       "12    float64  \n",
       "4     float64  \n",
       "3     float64  \n",
       "2     float64  \n",
       "40    float64  \n",
       "31    float64  \n",
       "51    float64  \n",
       "132   float64  \n",
       "35    float64  \n",
       "11    float64  \n",
       "115   float64  \n",
       "64    float64  \n",
       "21    float64  \n",
       "79    float64  \n",
       "14    float64  \n",
       "15    float64  \n",
       "43    float64  \n",
       "157   float64  \n",
       "10    float64  \n",
       "7     float64  \n",
       "156   float64  \n",
       "72    float64  \n",
       "123   float64  \n",
       "122   float64  \n",
       "99    float64  \n",
       "100   float64  \n",
       "101   float64  \n",
       "180   float64  \n",
       "74    float64  \n",
       "111   float64  \n",
       "138   float64  \n",
       "108   float64  \n",
       "57    float64  \n",
       "92    float64  \n",
       "102   float64  \n",
       "6     float64  \n",
       "71    float64  \n",
       "29    float64  \n",
       "61    float64  \n",
       "105   float64  \n",
       "109   float64  \n",
       "103   float64  \n",
       "97    float64  \n",
       "20    float64  \n",
       "164   float64  \n",
       "149   float64  \n",
       "73    float64  \n",
       "5     float64  \n",
       "44    float64  \n",
       "150   float64  \n",
       "177   float64  \n",
       "18    float64  \n",
       "176   float64  \n",
       "137   float64  \n",
       "77    float64  \n",
       "85    float64  \n",
       "34    float64  \n",
       "87    float64  \n",
       "27    float64  \n",
       "80    float64  \n",
       "165   float64  \n",
       "167   float64  \n",
       "75    float64  \n",
       "172   float64  \n",
       "169   float64  \n",
       "168   float64  \n",
       "166   float64  \n",
       "171   float64  \n",
       "170    object  \n",
       "65    float64  \n",
       "9     float64  \n",
       "95    float64  \n",
       "175   float64  \n",
       "178   float64  \n",
       "125    object  \n",
       "179    object  \n",
       "112   float64  \n",
       "151   float64  \n",
       "81    float64  \n",
       "86    float64  \n",
       "68    float64  \n",
       "173   float64  \n",
       "152   float64  \n",
       "8     float64  \n",
       "104   float64  \n",
       "124   float64  \n",
       "67    float64  \n",
       "174   float64  \n",
       "160   float64  \n",
       "131   float64  \n",
       "153   float64  \n",
       "91    float64  \n",
       "114   float64  \n",
       "182   float64  \n",
       "155   float64  \n",
       "154   float64  \n",
       "25    float64  \n",
       "55    float64  \n",
       "96    float64  \n",
       "159   float64  \n",
       "54    float64  \n",
       "110   float64  \n",
       "49    float64  \n",
       "62     object  \n",
       "47    float64  \n",
       "82    float64  \n",
       "129   float64  \n",
       "84    float64  \n",
       "83    float64  \n",
       "33     object  \n",
       "16    float64  \n",
       "66    float64  "
      ]
     },
     "metadata": {},
     "output_type": "display_data"
    }
   ],
   "source": [
    "# Summary of columns in the with number of values, completion, and data type\n",
    "df_colSummary = pd.DataFrame({\n",
    "                                \"Column\": df_wideBioDairyLS.columns,\n",
    "                                \"# Values\": df_wideBioDairyLS.notna().sum().values,\n",
    "                                \"Completion\": (df_wideBioDairyLS.notna().sum().values / len(df_wideBioDairyLS)).round(2),\n",
    "                                \"Data Type\": df_wideBioDairyLS.dtypes.values\n",
    "})\n",
    "\n",
    "# Display all rows only within this cell\n",
    "with pd.option_context(\"display.max_rows\", None):\n",
    "    display(df_colSummary.sort_values(by=\"Completion\", ascending=False))"
   ]
  },
  {
   "cell_type": "code",
   "execution_count": null,
   "id": "950d0f85",
   "metadata": {},
   "outputs": [],
   "source": [
    "# Put all 5"
   ]
  },
  {
   "cell_type": "code",
   "execution_count": 47,
   "id": "a63a0ec2",
   "metadata": {},
   "outputs": [
    {
     "data": {
      "application/vnd.plotly.v1+json": {
       "config": {
        "plotlyServerURL": "https://plot.ly"
       },
       "data": [
        {
         "line": {
          "color": "black",
          "width": 3
         },
         "mode": "lines+markers",
         "name": "Weight (yearly interval mean)",
         "type": "scatter",
         "x": [
          "2008-09-30T00:00:00",
          "2009-09-30T00:00:00",
          "2010-09-30T00:00:00",
          "2011-09-30T00:00:00",
          "2012-09-30T00:00:00",
          "2013-09-30T00:00:00",
          "2014-09-30T00:00:00",
          "2015-09-30T00:00:00",
          "2016-09-30T00:00:00",
          "2017-09-30T00:00:00",
          "2018-09-30T00:00:00",
          "2019-09-30T00:00:00",
          "2020-09-30T00:00:00",
          "2021-09-30T00:00:00",
          "2022-09-30T00:00:00",
          "2023-09-30T00:00:00",
          "2024-09-30T00:00:00",
          "2025-09-30T00:00:00"
         ],
         "y": [
          183,
          183.63333333333333,
          180.5,
          182.5,
          185.77777777777777,
          183.70000000000002,
          188.32222222222222,
          191.7888888888889,
          192.55454545454543,
          194.24642857142857,
          189.89473684210526,
          184.3181818181818,
          185.04999999999998,
          172.99,
          170.9125,
          176.0666666666667,
          176.16,
          178.075
         ]
        },
        {
         "line": {
          "color": "blue",
          "width": 2
         },
         "mode": "lines+markers",
         "name": "Total SCFA (yearly interval mean)",
         "type": "scatter",
         "x": [
          "2008-09-30T00:00:00",
          "2009-09-30T00:00:00",
          "2010-09-30T00:00:00",
          "2011-09-30T00:00:00",
          "2012-09-30T00:00:00",
          "2013-09-30T00:00:00",
          "2014-09-30T00:00:00",
          "2015-09-30T00:00:00",
          "2016-09-30T00:00:00",
          "2017-09-30T00:00:00",
          "2018-09-30T00:00:00",
          "2019-09-30T00:00:00",
          "2020-09-30T00:00:00",
          "2021-09-30T00:00:00",
          "2022-09-30T00:00:00",
          "2023-09-30T00:00:00",
          "2024-09-30T00:00:00",
          "2025-09-30T00:00:00"
         ],
         "y": [
          3.5,
          7.266666666666667,
          13,
          9.35,
          7.1,
          7.071428571428571,
          9.822222222222223,
          9.266666666666667,
          8.6,
          7.4071428571428575,
          7.921052631578948,
          8.018181818181818,
          6.091666666666666,
          5.720000000000001,
          5.6875,
          4.7,
          4.7700000000000005,
          6.85
         ]
        }
       ],
       "layout": {
        "legend": {
         "bordercolor": "lightgray",
         "borderwidth": 1,
         "x": 0.01,
         "y": 0.99
        },
        "template": {
         "data": {
          "bar": [
           {
            "error_x": {
             "color": "#2a3f5f"
            },
            "error_y": {
             "color": "#2a3f5f"
            },
            "marker": {
             "line": {
              "color": "white",
              "width": 0.5
             },
             "pattern": {
              "fillmode": "overlay",
              "size": 10,
              "solidity": 0.2
             }
            },
            "type": "bar"
           }
          ],
          "barpolar": [
           {
            "marker": {
             "line": {
              "color": "white",
              "width": 0.5
             },
             "pattern": {
              "fillmode": "overlay",
              "size": 10,
              "solidity": 0.2
             }
            },
            "type": "barpolar"
           }
          ],
          "carpet": [
           {
            "aaxis": {
             "endlinecolor": "#2a3f5f",
             "gridcolor": "#C8D4E3",
             "linecolor": "#C8D4E3",
             "minorgridcolor": "#C8D4E3",
             "startlinecolor": "#2a3f5f"
            },
            "baxis": {
             "endlinecolor": "#2a3f5f",
             "gridcolor": "#C8D4E3",
             "linecolor": "#C8D4E3",
             "minorgridcolor": "#C8D4E3",
             "startlinecolor": "#2a3f5f"
            },
            "type": "carpet"
           }
          ],
          "choropleth": [
           {
            "colorbar": {
             "outlinewidth": 0,
             "ticks": ""
            },
            "type": "choropleth"
           }
          ],
          "contour": [
           {
            "colorbar": {
             "outlinewidth": 0,
             "ticks": ""
            },
            "colorscale": [
             [
              0,
              "#0d0887"
             ],
             [
              0.1111111111111111,
              "#46039f"
             ],
             [
              0.2222222222222222,
              "#7201a8"
             ],
             [
              0.3333333333333333,
              "#9c179e"
             ],
             [
              0.4444444444444444,
              "#bd3786"
             ],
             [
              0.5555555555555556,
              "#d8576b"
             ],
             [
              0.6666666666666666,
              "#ed7953"
             ],
             [
              0.7777777777777778,
              "#fb9f3a"
             ],
             [
              0.8888888888888888,
              "#fdca26"
             ],
             [
              1,
              "#f0f921"
             ]
            ],
            "type": "contour"
           }
          ],
          "contourcarpet": [
           {
            "colorbar": {
             "outlinewidth": 0,
             "ticks": ""
            },
            "type": "contourcarpet"
           }
          ],
          "heatmap": [
           {
            "colorbar": {
             "outlinewidth": 0,
             "ticks": ""
            },
            "colorscale": [
             [
              0,
              "#0d0887"
             ],
             [
              0.1111111111111111,
              "#46039f"
             ],
             [
              0.2222222222222222,
              "#7201a8"
             ],
             [
              0.3333333333333333,
              "#9c179e"
             ],
             [
              0.4444444444444444,
              "#bd3786"
             ],
             [
              0.5555555555555556,
              "#d8576b"
             ],
             [
              0.6666666666666666,
              "#ed7953"
             ],
             [
              0.7777777777777778,
              "#fb9f3a"
             ],
             [
              0.8888888888888888,
              "#fdca26"
             ],
             [
              1,
              "#f0f921"
             ]
            ],
            "type": "heatmap"
           }
          ],
          "heatmapgl": [
           {
            "colorbar": {
             "outlinewidth": 0,
             "ticks": ""
            },
            "colorscale": [
             [
              0,
              "#0d0887"
             ],
             [
              0.1111111111111111,
              "#46039f"
             ],
             [
              0.2222222222222222,
              "#7201a8"
             ],
             [
              0.3333333333333333,
              "#9c179e"
             ],
             [
              0.4444444444444444,
              "#bd3786"
             ],
             [
              0.5555555555555556,
              "#d8576b"
             ],
             [
              0.6666666666666666,
              "#ed7953"
             ],
             [
              0.7777777777777778,
              "#fb9f3a"
             ],
             [
              0.8888888888888888,
              "#fdca26"
             ],
             [
              1,
              "#f0f921"
             ]
            ],
            "type": "heatmapgl"
           }
          ],
          "histogram": [
           {
            "marker": {
             "pattern": {
              "fillmode": "overlay",
              "size": 10,
              "solidity": 0.2
             }
            },
            "type": "histogram"
           }
          ],
          "histogram2d": [
           {
            "colorbar": {
             "outlinewidth": 0,
             "ticks": ""
            },
            "colorscale": [
             [
              0,
              "#0d0887"
             ],
             [
              0.1111111111111111,
              "#46039f"
             ],
             [
              0.2222222222222222,
              "#7201a8"
             ],
             [
              0.3333333333333333,
              "#9c179e"
             ],
             [
              0.4444444444444444,
              "#bd3786"
             ],
             [
              0.5555555555555556,
              "#d8576b"
             ],
             [
              0.6666666666666666,
              "#ed7953"
             ],
             [
              0.7777777777777778,
              "#fb9f3a"
             ],
             [
              0.8888888888888888,
              "#fdca26"
             ],
             [
              1,
              "#f0f921"
             ]
            ],
            "type": "histogram2d"
           }
          ],
          "histogram2dcontour": [
           {
            "colorbar": {
             "outlinewidth": 0,
             "ticks": ""
            },
            "colorscale": [
             [
              0,
              "#0d0887"
             ],
             [
              0.1111111111111111,
              "#46039f"
             ],
             [
              0.2222222222222222,
              "#7201a8"
             ],
             [
              0.3333333333333333,
              "#9c179e"
             ],
             [
              0.4444444444444444,
              "#bd3786"
             ],
             [
              0.5555555555555556,
              "#d8576b"
             ],
             [
              0.6666666666666666,
              "#ed7953"
             ],
             [
              0.7777777777777778,
              "#fb9f3a"
             ],
             [
              0.8888888888888888,
              "#fdca26"
             ],
             [
              1,
              "#f0f921"
             ]
            ],
            "type": "histogram2dcontour"
           }
          ],
          "mesh3d": [
           {
            "colorbar": {
             "outlinewidth": 0,
             "ticks": ""
            },
            "type": "mesh3d"
           }
          ],
          "parcoords": [
           {
            "line": {
             "colorbar": {
              "outlinewidth": 0,
              "ticks": ""
             }
            },
            "type": "parcoords"
           }
          ],
          "pie": [
           {
            "automargin": true,
            "type": "pie"
           }
          ],
          "scatter": [
           {
            "fillpattern": {
             "fillmode": "overlay",
             "size": 10,
             "solidity": 0.2
            },
            "type": "scatter"
           }
          ],
          "scatter3d": [
           {
            "line": {
             "colorbar": {
              "outlinewidth": 0,
              "ticks": ""
             }
            },
            "marker": {
             "colorbar": {
              "outlinewidth": 0,
              "ticks": ""
             }
            },
            "type": "scatter3d"
           }
          ],
          "scattercarpet": [
           {
            "marker": {
             "colorbar": {
              "outlinewidth": 0,
              "ticks": ""
             }
            },
            "type": "scattercarpet"
           }
          ],
          "scattergeo": [
           {
            "marker": {
             "colorbar": {
              "outlinewidth": 0,
              "ticks": ""
             }
            },
            "type": "scattergeo"
           }
          ],
          "scattergl": [
           {
            "marker": {
             "colorbar": {
              "outlinewidth": 0,
              "ticks": ""
             }
            },
            "type": "scattergl"
           }
          ],
          "scattermapbox": [
           {
            "marker": {
             "colorbar": {
              "outlinewidth": 0,
              "ticks": ""
             }
            },
            "type": "scattermapbox"
           }
          ],
          "scatterpolar": [
           {
            "marker": {
             "colorbar": {
              "outlinewidth": 0,
              "ticks": ""
             }
            },
            "type": "scatterpolar"
           }
          ],
          "scatterpolargl": [
           {
            "marker": {
             "colorbar": {
              "outlinewidth": 0,
              "ticks": ""
             }
            },
            "type": "scatterpolargl"
           }
          ],
          "scatterternary": [
           {
            "marker": {
             "colorbar": {
              "outlinewidth": 0,
              "ticks": ""
             }
            },
            "type": "scatterternary"
           }
          ],
          "surface": [
           {
            "colorbar": {
             "outlinewidth": 0,
             "ticks": ""
            },
            "colorscale": [
             [
              0,
              "#0d0887"
             ],
             [
              0.1111111111111111,
              "#46039f"
             ],
             [
              0.2222222222222222,
              "#7201a8"
             ],
             [
              0.3333333333333333,
              "#9c179e"
             ],
             [
              0.4444444444444444,
              "#bd3786"
             ],
             [
              0.5555555555555556,
              "#d8576b"
             ],
             [
              0.6666666666666666,
              "#ed7953"
             ],
             [
              0.7777777777777778,
              "#fb9f3a"
             ],
             [
              0.8888888888888888,
              "#fdca26"
             ],
             [
              1,
              "#f0f921"
             ]
            ],
            "type": "surface"
           }
          ],
          "table": [
           {
            "cells": {
             "fill": {
              "color": "#EBF0F8"
             },
             "line": {
              "color": "white"
             }
            },
            "header": {
             "fill": {
              "color": "#C8D4E3"
             },
             "line": {
              "color": "white"
             }
            },
            "type": "table"
           }
          ]
         },
         "layout": {
          "annotationdefaults": {
           "arrowcolor": "#2a3f5f",
           "arrowhead": 0,
           "arrowwidth": 1
          },
          "autotypenumbers": "strict",
          "coloraxis": {
           "colorbar": {
            "outlinewidth": 0,
            "ticks": ""
           }
          },
          "colorscale": {
           "diverging": [
            [
             0,
             "#8e0152"
            ],
            [
             0.1,
             "#c51b7d"
            ],
            [
             0.2,
             "#de77ae"
            ],
            [
             0.3,
             "#f1b6da"
            ],
            [
             0.4,
             "#fde0ef"
            ],
            [
             0.5,
             "#f7f7f7"
            ],
            [
             0.6,
             "#e6f5d0"
            ],
            [
             0.7,
             "#b8e186"
            ],
            [
             0.8,
             "#7fbc41"
            ],
            [
             0.9,
             "#4d9221"
            ],
            [
             1,
             "#276419"
            ]
           ],
           "sequential": [
            [
             0,
             "#0d0887"
            ],
            [
             0.1111111111111111,
             "#46039f"
            ],
            [
             0.2222222222222222,
             "#7201a8"
            ],
            [
             0.3333333333333333,
             "#9c179e"
            ],
            [
             0.4444444444444444,
             "#bd3786"
            ],
            [
             0.5555555555555556,
             "#d8576b"
            ],
            [
             0.6666666666666666,
             "#ed7953"
            ],
            [
             0.7777777777777778,
             "#fb9f3a"
            ],
            [
             0.8888888888888888,
             "#fdca26"
            ],
            [
             1,
             "#f0f921"
            ]
           ],
           "sequentialminus": [
            [
             0,
             "#0d0887"
            ],
            [
             0.1111111111111111,
             "#46039f"
            ],
            [
             0.2222222222222222,
             "#7201a8"
            ],
            [
             0.3333333333333333,
             "#9c179e"
            ],
            [
             0.4444444444444444,
             "#bd3786"
            ],
            [
             0.5555555555555556,
             "#d8576b"
            ],
            [
             0.6666666666666666,
             "#ed7953"
            ],
            [
             0.7777777777777778,
             "#fb9f3a"
            ],
            [
             0.8888888888888888,
             "#fdca26"
            ],
            [
             1,
             "#f0f921"
            ]
           ]
          },
          "colorway": [
           "#636efa",
           "#EF553B",
           "#00cc96",
           "#ab63fa",
           "#FFA15A",
           "#19d3f3",
           "#FF6692",
           "#B6E880",
           "#FF97FF",
           "#FECB52"
          ],
          "font": {
           "color": "#2a3f5f"
          },
          "geo": {
           "bgcolor": "white",
           "lakecolor": "white",
           "landcolor": "white",
           "showlakes": true,
           "showland": true,
           "subunitcolor": "#C8D4E3"
          },
          "hoverlabel": {
           "align": "left"
          },
          "hovermode": "closest",
          "mapbox": {
           "style": "light"
          },
          "paper_bgcolor": "white",
          "plot_bgcolor": "white",
          "polar": {
           "angularaxis": {
            "gridcolor": "#EBF0F8",
            "linecolor": "#EBF0F8",
            "ticks": ""
           },
           "bgcolor": "white",
           "radialaxis": {
            "gridcolor": "#EBF0F8",
            "linecolor": "#EBF0F8",
            "ticks": ""
           }
          },
          "scene": {
           "xaxis": {
            "backgroundcolor": "white",
            "gridcolor": "#DFE8F3",
            "gridwidth": 2,
            "linecolor": "#EBF0F8",
            "showbackground": true,
            "ticks": "",
            "zerolinecolor": "#EBF0F8"
           },
           "yaxis": {
            "backgroundcolor": "white",
            "gridcolor": "#DFE8F3",
            "gridwidth": 2,
            "linecolor": "#EBF0F8",
            "showbackground": true,
            "ticks": "",
            "zerolinecolor": "#EBF0F8"
           },
           "zaxis": {
            "backgroundcolor": "white",
            "gridcolor": "#DFE8F3",
            "gridwidth": 2,
            "linecolor": "#EBF0F8",
            "showbackground": true,
            "ticks": "",
            "zerolinecolor": "#EBF0F8"
           }
          },
          "shapedefaults": {
           "line": {
            "color": "#2a3f5f"
           }
          },
          "ternary": {
           "aaxis": {
            "gridcolor": "#DFE8F3",
            "linecolor": "#A2B1C6",
            "ticks": ""
           },
           "baxis": {
            "gridcolor": "#DFE8F3",
            "linecolor": "#A2B1C6",
            "ticks": ""
           },
           "bgcolor": "white",
           "caxis": {
            "gridcolor": "#DFE8F3",
            "linecolor": "#A2B1C6",
            "ticks": ""
           }
          },
          "title": {
           "x": 0.05
          },
          "xaxis": {
           "automargin": true,
           "gridcolor": "#EBF0F8",
           "linecolor": "#EBF0F8",
           "ticks": "",
           "title": {
            "standoff": 15
           },
           "zerolinecolor": "#EBF0F8",
           "zerolinewidth": 2
          },
          "yaxis": {
           "automargin": true,
           "gridcolor": "#EBF0F8",
           "linecolor": "#EBF0F8",
           "ticks": "",
           "title": {
            "standoff": 15
           },
           "zerolinecolor": "#EBF0F8",
           "zerolinewidth": 2
          }
         }
        },
        "title": {
         "text": "Weight vs Total SCFA (Yearly Interval Means)"
        },
        "xaxis": {
         "title": {
          "text": "Date"
         }
        },
        "yaxis": {
         "side": "left",
         "title": {
          "text": "Weight (lbs)"
         }
        },
        "yaxis2": {
         "overlaying": "y",
         "side": "right",
         "title": {
          "text": "Total SCFA (mg/mL)"
         }
        }
       }
      }
     },
     "metadata": {},
     "output_type": "display_data"
    }
   ],
   "source": [
    "# Prepare data\n",
    "df_plot = df_wideBioDairyLS.dropna(subset=[\"Total SCFA_mg/mL\"]).copy()\n",
    "df_plot[\"Date\"] = pd.to_datetime(df_plot[\"Date\"])\n",
    "df_plot = df_plot.set_index(\"Date\").sort_index()\n",
    "\n",
    "# --- YEARLY INTERVAL WINDOWS ---\n",
    "# resample into 12-month bins, take mean within each bin\n",
    "df_1y = df_plot[[\"Weight_lbs\", \"Total SCFA_mg/mL\"]].resample(\"12M\").mean().reset_index()\n",
    "\n",
    "# --- variables ---\n",
    "x_time_1y   = df_1y[\"Date\"]\n",
    "y_weight_1y = df_1y[\"Weight_lbs\"]\n",
    "y_scfa_1y   = df_1y[\"Total SCFA_mg/mL\"]\n",
    "\n",
    "# --- plot ---\n",
    "fig = go.Figure()\n",
    "\n",
    "# Weight (yearly interval mean)\n",
    "fig.add_trace(go.Scatter(\n",
    "    x=x_time_1y,\n",
    "    y=y_weight_1y,\n",
    "    mode=\"lines+markers\",\n",
    "    name=\"Weight (yearly interval mean)\",\n",
    "    line=dict(width=3, color=\"black\"),\n",
    "))\n",
    "\n",
    "# Total SCFA (yearly interval mean)\n",
    "fig.add_trace(go.Scatter(\n",
    "    x=x_time_1y,\n",
    "    y=y_scfa_1y,\n",
    "    mode=\"lines+markers\",\n",
    "    name=\"Total SCFA (yearly interval mean)\",\n",
    "    line=dict(width=2, color=\"blue\"),\n",
    "))\n",
    "\n",
    "# layout\n",
    "fig.update_layout(\n",
    "    title=\"Weight vs Total SCFA (Yearly Interval Means)\",\n",
    "    xaxis_title=\"Date\",\n",
    "    yaxis=dict(title=\"Weight (lbs)\", side=\"left\"),\n",
    "    yaxis2=dict(title=\"Total SCFA (mg/mL)\", overlaying=\"y\", side=\"right\"),\n",
    "    legend=dict(x=0.01, y=0.99, bordercolor=\"lightgray\", borderwidth=1),\n",
    "    template=\"plotly_white\"\n",
    ")\n",
    "\n",
    "fig.show()"
   ]
  },
  {
   "cell_type": "code",
   "execution_count": 48,
   "id": "d473b849",
   "metadata": {},
   "outputs": [
    {
     "name": "stdout",
     "output_type": "stream",
     "text": [
      "3M  |  Pearson r=0.464 (p=0.000165)  |  Spearman r=0.501 (p=3.91e-05)\n"
     ]
    },
    {
     "data": {
      "application/vnd.plotly.v1+json": {
       "config": {
        "plotlyServerURL": "https://plot.ly"
       },
       "data": [
        {
         "line": {
          "color": "black",
          "width": 3
         },
         "mode": "lines+markers",
         "name": "Weight (lbs)",
         "type": "scatter",
         "x": [
          "2008-09-30T00:00:00",
          "2009-03-31T00:00:00",
          "2009-06-30T00:00:00",
          "2009-09-30T00:00:00",
          "2010-09-30T00:00:00",
          "2010-12-31T00:00:00",
          "2011-03-31T00:00:00",
          "2011-06-30T00:00:00",
          "2011-09-30T00:00:00",
          "2011-12-31T00:00:00",
          "2012-03-31T00:00:00",
          "2012-06-30T00:00:00",
          "2012-09-30T00:00:00",
          "2012-12-31T00:00:00",
          "2013-03-31T00:00:00",
          "2013-06-30T00:00:00",
          "2013-09-30T00:00:00",
          "2013-12-31T00:00:00",
          "2014-03-31T00:00:00",
          "2014-06-30T00:00:00",
          "2014-09-30T00:00:00",
          "2014-12-31T00:00:00",
          "2015-03-31T00:00:00",
          "2015-06-30T00:00:00",
          "2015-09-30T00:00:00",
          "2015-12-31T00:00:00",
          "2016-03-31T00:00:00",
          "2016-06-30T00:00:00",
          "2016-09-30T00:00:00",
          "2016-12-31T00:00:00",
          "2017-03-31T00:00:00",
          "2017-06-30T00:00:00",
          "2017-09-30T00:00:00",
          "2017-12-31T00:00:00",
          "2018-03-31T00:00:00",
          "2018-06-30T00:00:00",
          "2018-09-30T00:00:00",
          "2018-12-31T00:00:00",
          "2019-03-31T00:00:00",
          "2019-06-30T00:00:00",
          "2019-09-30T00:00:00",
          "2019-12-31T00:00:00",
          "2020-03-31T00:00:00",
          "2020-06-30T00:00:00",
          "2020-09-30T00:00:00",
          "2020-12-31T00:00:00",
          "2021-03-31T00:00:00",
          "2021-06-30T00:00:00",
          "2021-09-30T00:00:00",
          "2021-12-31T00:00:00",
          "2022-03-31T00:00:00",
          "2022-06-30T00:00:00",
          "2022-09-30T00:00:00",
          "2022-12-31T00:00:00",
          "2023-03-31T00:00:00",
          "2023-09-30T00:00:00",
          "2023-12-31T00:00:00",
          "2024-03-31T00:00:00",
          "2024-06-30T00:00:00",
          "2024-12-31T00:00:00",
          "2025-03-31T00:00:00"
         ],
         "y": [
          183,
          183.5,
          185,
          182.4,
          180.5,
          181,
          183.2,
          182.3,
          183.1,
          187.5,
          182,
          186.1,
          187.35,
          184.45,
          182.1,
          183.60000000000002,
          183.85,
          184.4,
          186.10000000000002,
          189.8,
          191.4333333333333,
          193.95,
          192.3166666666667,
          190.28333333333333,
          192.175,
          190.8,
          192.63333333333333,
          192.68,
          193.83333333333334,
          193.225,
          195.0142857142857,
          193.61666666666667,
          197.79999999999998,
          191.76,
          189.33333333333334,
          190.325,
          187.975,
          184.96666666666667,
          185.85,
          182.9,
          184.0666666666667,
          186.3,
          188.29999999999998,
          184.79999999999998,
          182.175,
          176,
          169.46666666666667,
          173.66666666666666,
          172.5,
          169.26666666666668,
          172.14999999999998,
          174.6,
          170.3,
          175,
          176,
          177.2,
          174.8166666666667,
          177.4,
          178.4333333333333,
          180,
          177.4333333333333
         ]
        },
        {
         "line": {
          "color": "blue",
          "width": 2
         },
         "mode": "lines+markers",
         "name": "Total SCFA (mg/mL)",
         "type": "scatter",
         "x": [
          "2008-09-30T00:00:00",
          "2009-03-31T00:00:00",
          "2009-06-30T00:00:00",
          "2009-09-30T00:00:00",
          "2010-09-30T00:00:00",
          "2010-12-31T00:00:00",
          "2011-03-31T00:00:00",
          "2011-06-30T00:00:00",
          "2011-09-30T00:00:00",
          "2011-12-31T00:00:00",
          "2012-03-31T00:00:00",
          "2012-06-30T00:00:00",
          "2012-09-30T00:00:00",
          "2012-12-31T00:00:00",
          "2013-03-31T00:00:00",
          "2013-06-30T00:00:00",
          "2013-09-30T00:00:00",
          "2013-12-31T00:00:00",
          "2014-03-31T00:00:00",
          "2014-06-30T00:00:00",
          "2014-09-30T00:00:00",
          "2014-12-31T00:00:00",
          "2015-03-31T00:00:00",
          "2015-06-30T00:00:00",
          "2015-09-30T00:00:00",
          "2015-12-31T00:00:00",
          "2016-03-31T00:00:00",
          "2016-06-30T00:00:00",
          "2016-09-30T00:00:00",
          "2016-12-31T00:00:00",
          "2017-03-31T00:00:00",
          "2017-06-30T00:00:00",
          "2017-09-30T00:00:00",
          "2017-12-31T00:00:00",
          "2018-03-31T00:00:00",
          "2018-06-30T00:00:00",
          "2018-09-30T00:00:00",
          "2018-12-31T00:00:00",
          "2019-03-31T00:00:00",
          "2019-06-30T00:00:00",
          "2019-09-30T00:00:00",
          "2019-12-31T00:00:00",
          "2020-03-31T00:00:00",
          "2020-06-30T00:00:00",
          "2020-09-30T00:00:00",
          "2020-12-31T00:00:00",
          "2021-03-31T00:00:00",
          "2021-06-30T00:00:00",
          "2021-09-30T00:00:00",
          "2021-12-31T00:00:00",
          "2022-03-31T00:00:00",
          "2022-06-30T00:00:00",
          "2022-09-30T00:00:00",
          "2022-12-31T00:00:00",
          "2023-03-31T00:00:00",
          "2023-09-30T00:00:00",
          "2023-12-31T00:00:00",
          "2024-03-31T00:00:00",
          "2024-06-30T00:00:00",
          "2024-12-31T00:00:00",
          "2025-03-31T00:00:00"
         ],
         "y": [
          3.5,
          4.2,
          6.6,
          11,
          13,
          6.6,
          5.9,
          9.8,
          12,
          6.6,
          5.75,
          7.8999999999999995,
          7.75,
          5.55,
          5,
          9.8,
          6.9,
          8.75,
          5.5,
          13.5,
          10.966666666666667,
          14.5,
          7.55,
          8.016666666666667,
          11.1,
          8.18,
          8.033333333333333,
          9.059999999999999,
          9.133333333333333,
          6.808333333333334,
          6.028571428571429,
          8.433333333333334,
          10.966666666666667,
          7.720000000000001,
          6.633333333333333,
          8.025,
          10,
          9.366666666666667,
          5.7,
          9.166666666666666,
          7.066666666666666,
          8.95,
          5.866666666666667,
          4.7,
          5.875,
          4.366666666666666,
          5.633333333333333,
          6.033333333333334,
          9.1,
          6.366666666666667,
          4.5,
          4.5,
          6.449999999999999,
          4.9,
          4.05,
          5.15,
          4.7,
          6.6,
          4.3,
          6,
          7.133333333333333
         ],
         "yaxis": "y2"
        }
       ],
       "layout": {
        "legend": {
         "bordercolor": "lightgray",
         "borderwidth": 1,
         "x": 0.01,
         "y": 0.99
        },
        "template": {
         "data": {
          "bar": [
           {
            "error_x": {
             "color": "#2a3f5f"
            },
            "error_y": {
             "color": "#2a3f5f"
            },
            "marker": {
             "line": {
              "color": "white",
              "width": 0.5
             },
             "pattern": {
              "fillmode": "overlay",
              "size": 10,
              "solidity": 0.2
             }
            },
            "type": "bar"
           }
          ],
          "barpolar": [
           {
            "marker": {
             "line": {
              "color": "white",
              "width": 0.5
             },
             "pattern": {
              "fillmode": "overlay",
              "size": 10,
              "solidity": 0.2
             }
            },
            "type": "barpolar"
           }
          ],
          "carpet": [
           {
            "aaxis": {
             "endlinecolor": "#2a3f5f",
             "gridcolor": "#C8D4E3",
             "linecolor": "#C8D4E3",
             "minorgridcolor": "#C8D4E3",
             "startlinecolor": "#2a3f5f"
            },
            "baxis": {
             "endlinecolor": "#2a3f5f",
             "gridcolor": "#C8D4E3",
             "linecolor": "#C8D4E3",
             "minorgridcolor": "#C8D4E3",
             "startlinecolor": "#2a3f5f"
            },
            "type": "carpet"
           }
          ],
          "choropleth": [
           {
            "colorbar": {
             "outlinewidth": 0,
             "ticks": ""
            },
            "type": "choropleth"
           }
          ],
          "contour": [
           {
            "colorbar": {
             "outlinewidth": 0,
             "ticks": ""
            },
            "colorscale": [
             [
              0,
              "#0d0887"
             ],
             [
              0.1111111111111111,
              "#46039f"
             ],
             [
              0.2222222222222222,
              "#7201a8"
             ],
             [
              0.3333333333333333,
              "#9c179e"
             ],
             [
              0.4444444444444444,
              "#bd3786"
             ],
             [
              0.5555555555555556,
              "#d8576b"
             ],
             [
              0.6666666666666666,
              "#ed7953"
             ],
             [
              0.7777777777777778,
              "#fb9f3a"
             ],
             [
              0.8888888888888888,
              "#fdca26"
             ],
             [
              1,
              "#f0f921"
             ]
            ],
            "type": "contour"
           }
          ],
          "contourcarpet": [
           {
            "colorbar": {
             "outlinewidth": 0,
             "ticks": ""
            },
            "type": "contourcarpet"
           }
          ],
          "heatmap": [
           {
            "colorbar": {
             "outlinewidth": 0,
             "ticks": ""
            },
            "colorscale": [
             [
              0,
              "#0d0887"
             ],
             [
              0.1111111111111111,
              "#46039f"
             ],
             [
              0.2222222222222222,
              "#7201a8"
             ],
             [
              0.3333333333333333,
              "#9c179e"
             ],
             [
              0.4444444444444444,
              "#bd3786"
             ],
             [
              0.5555555555555556,
              "#d8576b"
             ],
             [
              0.6666666666666666,
              "#ed7953"
             ],
             [
              0.7777777777777778,
              "#fb9f3a"
             ],
             [
              0.8888888888888888,
              "#fdca26"
             ],
             [
              1,
              "#f0f921"
             ]
            ],
            "type": "heatmap"
           }
          ],
          "heatmapgl": [
           {
            "colorbar": {
             "outlinewidth": 0,
             "ticks": ""
            },
            "colorscale": [
             [
              0,
              "#0d0887"
             ],
             [
              0.1111111111111111,
              "#46039f"
             ],
             [
              0.2222222222222222,
              "#7201a8"
             ],
             [
              0.3333333333333333,
              "#9c179e"
             ],
             [
              0.4444444444444444,
              "#bd3786"
             ],
             [
              0.5555555555555556,
              "#d8576b"
             ],
             [
              0.6666666666666666,
              "#ed7953"
             ],
             [
              0.7777777777777778,
              "#fb9f3a"
             ],
             [
              0.8888888888888888,
              "#fdca26"
             ],
             [
              1,
              "#f0f921"
             ]
            ],
            "type": "heatmapgl"
           }
          ],
          "histogram": [
           {
            "marker": {
             "pattern": {
              "fillmode": "overlay",
              "size": 10,
              "solidity": 0.2
             }
            },
            "type": "histogram"
           }
          ],
          "histogram2d": [
           {
            "colorbar": {
             "outlinewidth": 0,
             "ticks": ""
            },
            "colorscale": [
             [
              0,
              "#0d0887"
             ],
             [
              0.1111111111111111,
              "#46039f"
             ],
             [
              0.2222222222222222,
              "#7201a8"
             ],
             [
              0.3333333333333333,
              "#9c179e"
             ],
             [
              0.4444444444444444,
              "#bd3786"
             ],
             [
              0.5555555555555556,
              "#d8576b"
             ],
             [
              0.6666666666666666,
              "#ed7953"
             ],
             [
              0.7777777777777778,
              "#fb9f3a"
             ],
             [
              0.8888888888888888,
              "#fdca26"
             ],
             [
              1,
              "#f0f921"
             ]
            ],
            "type": "histogram2d"
           }
          ],
          "histogram2dcontour": [
           {
            "colorbar": {
             "outlinewidth": 0,
             "ticks": ""
            },
            "colorscale": [
             [
              0,
              "#0d0887"
             ],
             [
              0.1111111111111111,
              "#46039f"
             ],
             [
              0.2222222222222222,
              "#7201a8"
             ],
             [
              0.3333333333333333,
              "#9c179e"
             ],
             [
              0.4444444444444444,
              "#bd3786"
             ],
             [
              0.5555555555555556,
              "#d8576b"
             ],
             [
              0.6666666666666666,
              "#ed7953"
             ],
             [
              0.7777777777777778,
              "#fb9f3a"
             ],
             [
              0.8888888888888888,
              "#fdca26"
             ],
             [
              1,
              "#f0f921"
             ]
            ],
            "type": "histogram2dcontour"
           }
          ],
          "mesh3d": [
           {
            "colorbar": {
             "outlinewidth": 0,
             "ticks": ""
            },
            "type": "mesh3d"
           }
          ],
          "parcoords": [
           {
            "line": {
             "colorbar": {
              "outlinewidth": 0,
              "ticks": ""
             }
            },
            "type": "parcoords"
           }
          ],
          "pie": [
           {
            "automargin": true,
            "type": "pie"
           }
          ],
          "scatter": [
           {
            "fillpattern": {
             "fillmode": "overlay",
             "size": 10,
             "solidity": 0.2
            },
            "type": "scatter"
           }
          ],
          "scatter3d": [
           {
            "line": {
             "colorbar": {
              "outlinewidth": 0,
              "ticks": ""
             }
            },
            "marker": {
             "colorbar": {
              "outlinewidth": 0,
              "ticks": ""
             }
            },
            "type": "scatter3d"
           }
          ],
          "scattercarpet": [
           {
            "marker": {
             "colorbar": {
              "outlinewidth": 0,
              "ticks": ""
             }
            },
            "type": "scattercarpet"
           }
          ],
          "scattergeo": [
           {
            "marker": {
             "colorbar": {
              "outlinewidth": 0,
              "ticks": ""
             }
            },
            "type": "scattergeo"
           }
          ],
          "scattergl": [
           {
            "marker": {
             "colorbar": {
              "outlinewidth": 0,
              "ticks": ""
             }
            },
            "type": "scattergl"
           }
          ],
          "scattermapbox": [
           {
            "marker": {
             "colorbar": {
              "outlinewidth": 0,
              "ticks": ""
             }
            },
            "type": "scattermapbox"
           }
          ],
          "scatterpolar": [
           {
            "marker": {
             "colorbar": {
              "outlinewidth": 0,
              "ticks": ""
             }
            },
            "type": "scatterpolar"
           }
          ],
          "scatterpolargl": [
           {
            "marker": {
             "colorbar": {
              "outlinewidth": 0,
              "ticks": ""
             }
            },
            "type": "scatterpolargl"
           }
          ],
          "scatterternary": [
           {
            "marker": {
             "colorbar": {
              "outlinewidth": 0,
              "ticks": ""
             }
            },
            "type": "scatterternary"
           }
          ],
          "surface": [
           {
            "colorbar": {
             "outlinewidth": 0,
             "ticks": ""
            },
            "colorscale": [
             [
              0,
              "#0d0887"
             ],
             [
              0.1111111111111111,
              "#46039f"
             ],
             [
              0.2222222222222222,
              "#7201a8"
             ],
             [
              0.3333333333333333,
              "#9c179e"
             ],
             [
              0.4444444444444444,
              "#bd3786"
             ],
             [
              0.5555555555555556,
              "#d8576b"
             ],
             [
              0.6666666666666666,
              "#ed7953"
             ],
             [
              0.7777777777777778,
              "#fb9f3a"
             ],
             [
              0.8888888888888888,
              "#fdca26"
             ],
             [
              1,
              "#f0f921"
             ]
            ],
            "type": "surface"
           }
          ],
          "table": [
           {
            "cells": {
             "fill": {
              "color": "#EBF0F8"
             },
             "line": {
              "color": "white"
             }
            },
            "header": {
             "fill": {
              "color": "#C8D4E3"
             },
             "line": {
              "color": "white"
             }
            },
            "type": "table"
           }
          ]
         },
         "layout": {
          "annotationdefaults": {
           "arrowcolor": "#2a3f5f",
           "arrowhead": 0,
           "arrowwidth": 1
          },
          "autotypenumbers": "strict",
          "coloraxis": {
           "colorbar": {
            "outlinewidth": 0,
            "ticks": ""
           }
          },
          "colorscale": {
           "diverging": [
            [
             0,
             "#8e0152"
            ],
            [
             0.1,
             "#c51b7d"
            ],
            [
             0.2,
             "#de77ae"
            ],
            [
             0.3,
             "#f1b6da"
            ],
            [
             0.4,
             "#fde0ef"
            ],
            [
             0.5,
             "#f7f7f7"
            ],
            [
             0.6,
             "#e6f5d0"
            ],
            [
             0.7,
             "#b8e186"
            ],
            [
             0.8,
             "#7fbc41"
            ],
            [
             0.9,
             "#4d9221"
            ],
            [
             1,
             "#276419"
            ]
           ],
           "sequential": [
            [
             0,
             "#0d0887"
            ],
            [
             0.1111111111111111,
             "#46039f"
            ],
            [
             0.2222222222222222,
             "#7201a8"
            ],
            [
             0.3333333333333333,
             "#9c179e"
            ],
            [
             0.4444444444444444,
             "#bd3786"
            ],
            [
             0.5555555555555556,
             "#d8576b"
            ],
            [
             0.6666666666666666,
             "#ed7953"
            ],
            [
             0.7777777777777778,
             "#fb9f3a"
            ],
            [
             0.8888888888888888,
             "#fdca26"
            ],
            [
             1,
             "#f0f921"
            ]
           ],
           "sequentialminus": [
            [
             0,
             "#0d0887"
            ],
            [
             0.1111111111111111,
             "#46039f"
            ],
            [
             0.2222222222222222,
             "#7201a8"
            ],
            [
             0.3333333333333333,
             "#9c179e"
            ],
            [
             0.4444444444444444,
             "#bd3786"
            ],
            [
             0.5555555555555556,
             "#d8576b"
            ],
            [
             0.6666666666666666,
             "#ed7953"
            ],
            [
             0.7777777777777778,
             "#fb9f3a"
            ],
            [
             0.8888888888888888,
             "#fdca26"
            ],
            [
             1,
             "#f0f921"
            ]
           ]
          },
          "colorway": [
           "#636efa",
           "#EF553B",
           "#00cc96",
           "#ab63fa",
           "#FFA15A",
           "#19d3f3",
           "#FF6692",
           "#B6E880",
           "#FF97FF",
           "#FECB52"
          ],
          "font": {
           "color": "#2a3f5f"
          },
          "geo": {
           "bgcolor": "white",
           "lakecolor": "white",
           "landcolor": "white",
           "showlakes": true,
           "showland": true,
           "subunitcolor": "#C8D4E3"
          },
          "hoverlabel": {
           "align": "left"
          },
          "hovermode": "closest",
          "mapbox": {
           "style": "light"
          },
          "paper_bgcolor": "white",
          "plot_bgcolor": "white",
          "polar": {
           "angularaxis": {
            "gridcolor": "#EBF0F8",
            "linecolor": "#EBF0F8",
            "ticks": ""
           },
           "bgcolor": "white",
           "radialaxis": {
            "gridcolor": "#EBF0F8",
            "linecolor": "#EBF0F8",
            "ticks": ""
           }
          },
          "scene": {
           "xaxis": {
            "backgroundcolor": "white",
            "gridcolor": "#DFE8F3",
            "gridwidth": 2,
            "linecolor": "#EBF0F8",
            "showbackground": true,
            "ticks": "",
            "zerolinecolor": "#EBF0F8"
           },
           "yaxis": {
            "backgroundcolor": "white",
            "gridcolor": "#DFE8F3",
            "gridwidth": 2,
            "linecolor": "#EBF0F8",
            "showbackground": true,
            "ticks": "",
            "zerolinecolor": "#EBF0F8"
           },
           "zaxis": {
            "backgroundcolor": "white",
            "gridcolor": "#DFE8F3",
            "gridwidth": 2,
            "linecolor": "#EBF0F8",
            "showbackground": true,
            "ticks": "",
            "zerolinecolor": "#EBF0F8"
           }
          },
          "shapedefaults": {
           "line": {
            "color": "#2a3f5f"
           }
          },
          "ternary": {
           "aaxis": {
            "gridcolor": "#DFE8F3",
            "linecolor": "#A2B1C6",
            "ticks": ""
           },
           "baxis": {
            "gridcolor": "#DFE8F3",
            "linecolor": "#A2B1C6",
            "ticks": ""
           },
           "bgcolor": "white",
           "caxis": {
            "gridcolor": "#DFE8F3",
            "linecolor": "#A2B1C6",
            "ticks": ""
           }
          },
          "title": {
           "x": 0.05
          },
          "xaxis": {
           "automargin": true,
           "gridcolor": "#EBF0F8",
           "linecolor": "#EBF0F8",
           "ticks": "",
           "title": {
            "standoff": 15
           },
           "zerolinecolor": "#EBF0F8",
           "zerolinewidth": 2
          },
          "yaxis": {
           "automargin": true,
           "gridcolor": "#EBF0F8",
           "linecolor": "#EBF0F8",
           "ticks": "",
           "title": {
            "standoff": 15
           },
           "zerolinecolor": "#EBF0F8",
           "zerolinewidth": 2
          }
         }
        },
        "title": {
         "text": "Weight vs Total SCFA Over Time (3M)"
        },
        "xaxis": {
         "dtick": "M3",
         "tickformat": "%b %Y",
         "title": {
          "text": "Date"
         }
        },
        "yaxis": {
         "side": "left",
         "title": {
          "text": "Weight (lbs)"
         }
        },
        "yaxis2": {
         "overlaying": "y",
         "side": "right",
         "title": {
          "text": "Total SCFA (mg/mL)"
         }
        }
       }
      }
     },
     "metadata": {},
     "output_type": "display_data"
    }
   ],
   "source": [
    "# --- prep ---\n",
    "df_plot = df_wideBioDairyLS.dropna(subset=[\"Total SCFA_mg/mL\"]).copy()\n",
    "df_plot[\"Date\"] = pd.to_datetime(df_plot[\"Date\"], errors=\"coerce\")\n",
    "df_plot = df_plot.sort_values(\"Date\").set_index(\"Date\")\n",
    "\n",
    "# choose interval: None (raw), \"1M\", \"3M\", \"6M\", \"12M\"\n",
    "rule = \"3M\"  # <- change to None / \"1M\" / \"3M\" / \"6M\" / \"12M\"\n",
    "\n",
    "if rule is None:\n",
    "    df_bin = df_plot[[\"Weight_lbs\", \"Total SCFA_mg/mL\"]].dropna().reset_index()\n",
    "else:\n",
    "    df_bin = df_plot[[\"Weight_lbs\", \"Total SCFA_mg/mL\"]].resample(rule).mean().dropna().reset_index()\n",
    "\n",
    "x_time   = df_bin[\"Date\"]\n",
    "y_weight = df_bin[\"Weight_lbs\"]\n",
    "y_scfa   = df_bin[\"Total SCFA_mg/mL\"]\n",
    "\n",
    "# --- quick stats (optional) ---\n",
    "if len(df_bin) >= 3:\n",
    "    pr, pp = pearsonr(y_weight, y_scfa)\n",
    "    sr, sp = spearmanr(y_weight, y_scfa)\n",
    "    print(f\"{rule or 'RAW'}  |  Pearson r={pr:.3f} (p={pp:.3g})  |  Spearman r={sr:.3f} (p={sp:.3g})\")\n",
    "\n",
    "# --- plot ---\n",
    "fig = go.Figure()\n",
    "\n",
    "# Weight (left axis)\n",
    "fig.add_trace(go.Scatter(\n",
    "    x=x_time, y=y_weight,\n",
    "    mode=\"lines+markers\",\n",
    "    name=\"Weight (lbs)\",\n",
    "    line=dict(width=3, color=\"black\"),\n",
    "))\n",
    "\n",
    "# SCFA (right axis)  -> attach to y2\n",
    "fig.add_trace(go.Scatter(\n",
    "    x=x_time, y=y_scfa,\n",
    "    mode=\"lines+markers\",\n",
    "    name=\"Total SCFA (mg/mL)\",\n",
    "    line=dict(width=2, color=\"blue\"),\n",
    "    yaxis=\"y2\"\n",
    "))\n",
    "\n",
    "fig.update_layout(\n",
    "    title=f\"Weight vs Total SCFA Over Time ({rule or 'Raw'})\",\n",
    "    xaxis=dict(title=\"Date\", dtick=\"M3\", tickformat=\"%b %Y\"),\n",
    "    yaxis=dict(title=\"Weight (lbs)\", side=\"left\"),\n",
    "    yaxis2=dict(title=\"Total SCFA (mg/mL)\", overlaying=\"y\", side=\"right\"),\n",
    "    legend=dict(x=0.01, y=0.99, bordercolor=\"lightgray\", borderwidth=1),\n",
    "    template=\"plotly_white\"\n",
    ")\n",
    "\n",
    "fig.show()"
   ]
  },
  {
   "cell_type": "code",
   "execution_count": 49,
   "id": "b023997a",
   "metadata": {},
   "outputs": [
    {
     "data": {
      "application/vnd.plotly.v1+json": {
       "config": {
        "plotlyServerURL": "https://plot.ly"
       },
       "data": [
        {
         "line": {
          "color": "black",
          "width": 3
         },
         "mode": "lines+markers",
         "name": "Weight (lbs)",
         "type": "scatter",
         "x": [
          "2008-09-30T00:00:00",
          "2009-01-31T00:00:00",
          "2009-05-31T00:00:00",
          "2009-08-31T00:00:00",
          "2010-08-31T00:00:00",
          "2010-12-31T00:00:00",
          "2011-03-31T00:00:00",
          "2011-05-31T00:00:00",
          "2011-06-30T00:00:00",
          "2011-07-31T00:00:00",
          "2011-09-30T00:00:00",
          "2011-11-30T00:00:00",
          "2011-12-31T00:00:00",
          "2012-01-31T00:00:00",
          "2012-02-29T00:00:00",
          "2012-04-30T00:00:00",
          "2012-05-31T00:00:00",
          "2012-06-30T00:00:00",
          "2012-08-31T00:00:00",
          "2012-09-30T00:00:00",
          "2012-11-30T00:00:00",
          "2012-12-31T00:00:00",
          "2013-02-28T00:00:00",
          "2013-05-31T00:00:00",
          "2013-06-30T00:00:00",
          "2013-07-31T00:00:00",
          "2013-09-30T00:00:00",
          "2013-11-30T00:00:00",
          "2013-12-31T00:00:00",
          "2014-02-28T00:00:00",
          "2014-03-31T00:00:00",
          "2014-05-31T00:00:00",
          "2014-06-30T00:00:00",
          "2014-07-31T00:00:00",
          "2014-08-31T00:00:00",
          "2014-09-30T00:00:00",
          "2014-11-30T00:00:00",
          "2014-12-31T00:00:00",
          "2015-01-31T00:00:00",
          "2015-02-28T00:00:00",
          "2015-03-31T00:00:00",
          "2015-04-30T00:00:00",
          "2015-05-31T00:00:00",
          "2015-06-30T00:00:00",
          "2015-07-31T00:00:00",
          "2015-08-31T00:00:00",
          "2015-09-30T00:00:00",
          "2015-10-31T00:00:00",
          "2015-11-30T00:00:00",
          "2015-12-31T00:00:00",
          "2016-01-31T00:00:00",
          "2016-02-29T00:00:00",
          "2016-03-31T00:00:00",
          "2016-04-30T00:00:00",
          "2016-05-31T00:00:00",
          "2016-06-30T00:00:00",
          "2016-07-31T00:00:00",
          "2016-08-31T00:00:00",
          "2016-09-30T00:00:00",
          "2016-10-31T00:00:00",
          "2016-11-30T00:00:00",
          "2016-12-31T00:00:00",
          "2017-01-31T00:00:00",
          "2017-02-28T00:00:00",
          "2017-03-31T00:00:00",
          "2017-04-30T00:00:00",
          "2017-05-31T00:00:00",
          "2017-06-30T00:00:00",
          "2017-07-31T00:00:00",
          "2017-08-31T00:00:00",
          "2017-09-30T00:00:00",
          "2017-10-31T00:00:00",
          "2017-11-30T00:00:00",
          "2017-12-31T00:00:00",
          "2018-01-31T00:00:00",
          "2018-02-28T00:00:00",
          "2018-03-31T00:00:00",
          "2018-04-30T00:00:00",
          "2018-05-31T00:00:00",
          "2018-06-30T00:00:00",
          "2018-07-31T00:00:00",
          "2018-08-31T00:00:00",
          "2018-09-30T00:00:00",
          "2018-10-31T00:00:00",
          "2018-12-31T00:00:00",
          "2019-02-28T00:00:00",
          "2019-03-31T00:00:00",
          "2019-04-30T00:00:00",
          "2019-05-31T00:00:00",
          "2019-06-30T00:00:00",
          "2019-07-31T00:00:00",
          "2019-08-31T00:00:00",
          "2019-09-30T00:00:00",
          "2019-10-31T00:00:00",
          "2019-12-31T00:00:00",
          "2020-01-31T00:00:00",
          "2020-02-29T00:00:00",
          "2020-03-31T00:00:00",
          "2020-04-30T00:00:00",
          "2020-05-31T00:00:00",
          "2020-06-30T00:00:00",
          "2020-07-31T00:00:00",
          "2020-08-31T00:00:00",
          "2020-10-31T00:00:00",
          "2020-11-30T00:00:00",
          "2020-12-31T00:00:00",
          "2021-01-31T00:00:00",
          "2021-02-28T00:00:00",
          "2021-03-31T00:00:00",
          "2021-04-30T00:00:00",
          "2021-05-31T00:00:00",
          "2021-06-30T00:00:00",
          "2021-07-31T00:00:00",
          "2021-10-31T00:00:00",
          "2021-11-30T00:00:00",
          "2022-01-31T00:00:00",
          "2022-03-31T00:00:00",
          "2022-05-31T00:00:00",
          "2022-09-30T00:00:00",
          "2022-10-31T00:00:00",
          "2022-12-31T00:00:00",
          "2023-02-28T00:00:00",
          "2023-03-31T00:00:00",
          "2023-07-31T00:00:00",
          "2023-09-30T00:00:00",
          "2023-10-31T00:00:00",
          "2023-11-30T00:00:00",
          "2024-02-29T00:00:00",
          "2024-05-31T00:00:00",
          "2024-06-30T00:00:00",
          "2024-12-31T00:00:00",
          "2025-01-31T00:00:00",
          "2025-02-28T00:00:00"
         ],
         "y": [
          183,
          183.5,
          185,
          182.4,
          180.5,
          181,
          183.2,
          181.8,
          182.8,
          182.2,
          184,
          187,
          188,
          185,
          179,
          183,
          188.1,
          187.2,
          187.2,
          187.5,
          184.3,
          184.6,
          182.1,
          183.8,
          183.4,
          184.2,
          183.5,
          183.5,
          185.3,
          184.8,
          187.4,
          188,
          191.6,
          191.8,
          190.4,
          192.1,
          194.7,
          193.2,
          191.55,
          192.5,
          192.9,
          189.95,
          190.75,
          190.15,
          190.95,
          194,
          192.8,
          189.8,
          190.9,
          191.2,
          191.35,
          193.6,
          192.95,
          190.7,
          191.2,
          195.15,
          194.76666666666665,
          191.7,
          193.5,
          195.6,
          194.6,
          190.7,
          193.46666666666667,
          195.65,
          196.7,
          194.6,
          192.6,
          194.65,
          197.8,
          197.1,
          198.5,
          195.5,
          188.7,
          189.55,
          188.3,
          188.64999999999998,
          191.05,
          189.6,
          190.85,
          190,
          190.15,
          187.1,
          184.5,
          185,
          184.9,
          184.6,
          187.1,
          185.1,
          183,
          180.6,
          182.5,
          184.5,
          185.2,
          186,
          186.6,
          187.1,
          190.7,
          187.1,
          186.3,
          184.9,
          183.2,
          183.35000000000002,
          181,
          179.7,
          177.6,
          170.7,
          169.3,
          170,
          169.1,
          173.6,
          175,
          172.4,
          172.5,
          170.85000000000002,
          166.1,
          170.1,
          174.2,
          174.6,
          170.3,
          173.5,
          176.5,
          175.4,
          176.6,
          179.2,
          175.2,
          173.325,
          177.8,
          177.4,
          178.9,
          177.5,
          180,
          178.5,
          176.9
         ]
        },
        {
         "line": {
          "color": "blue",
          "width": 2
         },
         "mode": "lines+markers",
         "name": "Total SCFA (mg/mL)",
         "type": "scatter",
         "x": [
          "2008-09-30T00:00:00",
          "2009-01-31T00:00:00",
          "2009-05-31T00:00:00",
          "2009-08-31T00:00:00",
          "2010-08-31T00:00:00",
          "2010-12-31T00:00:00",
          "2011-03-31T00:00:00",
          "2011-05-31T00:00:00",
          "2011-06-30T00:00:00",
          "2011-07-31T00:00:00",
          "2011-09-30T00:00:00",
          "2011-11-30T00:00:00",
          "2011-12-31T00:00:00",
          "2012-01-31T00:00:00",
          "2012-02-29T00:00:00",
          "2012-04-30T00:00:00",
          "2012-05-31T00:00:00",
          "2012-06-30T00:00:00",
          "2012-08-31T00:00:00",
          "2012-09-30T00:00:00",
          "2012-11-30T00:00:00",
          "2012-12-31T00:00:00",
          "2013-02-28T00:00:00",
          "2013-05-31T00:00:00",
          "2013-06-30T00:00:00",
          "2013-07-31T00:00:00",
          "2013-09-30T00:00:00",
          "2013-11-30T00:00:00",
          "2013-12-31T00:00:00",
          "2014-02-28T00:00:00",
          "2014-03-31T00:00:00",
          "2014-05-31T00:00:00",
          "2014-06-30T00:00:00",
          "2014-07-31T00:00:00",
          "2014-08-31T00:00:00",
          "2014-09-30T00:00:00",
          "2014-11-30T00:00:00",
          "2014-12-31T00:00:00",
          "2015-01-31T00:00:00",
          "2015-02-28T00:00:00",
          "2015-03-31T00:00:00",
          "2015-04-30T00:00:00",
          "2015-05-31T00:00:00",
          "2015-06-30T00:00:00",
          "2015-07-31T00:00:00",
          "2015-08-31T00:00:00",
          "2015-09-30T00:00:00",
          "2015-10-31T00:00:00",
          "2015-11-30T00:00:00",
          "2015-12-31T00:00:00",
          "2016-01-31T00:00:00",
          "2016-02-29T00:00:00",
          "2016-03-31T00:00:00",
          "2016-04-30T00:00:00",
          "2016-05-31T00:00:00",
          "2016-06-30T00:00:00",
          "2016-07-31T00:00:00",
          "2016-08-31T00:00:00",
          "2016-09-30T00:00:00",
          "2016-10-31T00:00:00",
          "2016-11-30T00:00:00",
          "2016-12-31T00:00:00",
          "2017-01-31T00:00:00",
          "2017-02-28T00:00:00",
          "2017-03-31T00:00:00",
          "2017-04-30T00:00:00",
          "2017-05-31T00:00:00",
          "2017-06-30T00:00:00",
          "2017-07-31T00:00:00",
          "2017-08-31T00:00:00",
          "2017-09-30T00:00:00",
          "2017-10-31T00:00:00",
          "2017-11-30T00:00:00",
          "2017-12-31T00:00:00",
          "2018-01-31T00:00:00",
          "2018-02-28T00:00:00",
          "2018-03-31T00:00:00",
          "2018-04-30T00:00:00",
          "2018-05-31T00:00:00",
          "2018-06-30T00:00:00",
          "2018-07-31T00:00:00",
          "2018-08-31T00:00:00",
          "2018-09-30T00:00:00",
          "2018-10-31T00:00:00",
          "2018-12-31T00:00:00",
          "2019-02-28T00:00:00",
          "2019-03-31T00:00:00",
          "2019-04-30T00:00:00",
          "2019-05-31T00:00:00",
          "2019-06-30T00:00:00",
          "2019-07-31T00:00:00",
          "2019-08-31T00:00:00",
          "2019-09-30T00:00:00",
          "2019-10-31T00:00:00",
          "2019-12-31T00:00:00",
          "2020-01-31T00:00:00",
          "2020-02-29T00:00:00",
          "2020-03-31T00:00:00",
          "2020-04-30T00:00:00",
          "2020-05-31T00:00:00",
          "2020-06-30T00:00:00",
          "2020-07-31T00:00:00",
          "2020-08-31T00:00:00",
          "2020-10-31T00:00:00",
          "2020-11-30T00:00:00",
          "2020-12-31T00:00:00",
          "2021-01-31T00:00:00",
          "2021-02-28T00:00:00",
          "2021-03-31T00:00:00",
          "2021-04-30T00:00:00",
          "2021-05-31T00:00:00",
          "2021-06-30T00:00:00",
          "2021-07-31T00:00:00",
          "2021-10-31T00:00:00",
          "2021-11-30T00:00:00",
          "2022-01-31T00:00:00",
          "2022-03-31T00:00:00",
          "2022-05-31T00:00:00",
          "2022-09-30T00:00:00",
          "2022-10-31T00:00:00",
          "2022-12-31T00:00:00",
          "2023-02-28T00:00:00",
          "2023-03-31T00:00:00",
          "2023-07-31T00:00:00",
          "2023-09-30T00:00:00",
          "2023-10-31T00:00:00",
          "2023-11-30T00:00:00",
          "2024-02-29T00:00:00",
          "2024-05-31T00:00:00",
          "2024-06-30T00:00:00",
          "2024-12-31T00:00:00",
          "2025-01-31T00:00:00",
          "2025-02-28T00:00:00"
         ],
         "y": [
          3.5,
          4.2,
          6.6,
          11,
          13,
          6.6,
          5.9,
          12,
          7.6,
          13,
          11,
          6.9,
          6.3,
          7.8,
          3.7,
          8.2,
          7.6,
          7.9,
          6.9,
          8.6,
          7.1,
          4,
          5,
          9.8,
          9.8,
          9.6,
          4.2,
          6.5,
          11,
          4.6,
          6.4,
          14,
          13,
          9.3,
          9.6,
          14,
          16,
          13,
          10,
          6.75,
          5.9,
          7.7,
          6.65,
          9.7,
          9.6,
          8.2,
          17,
          13,
          8.65,
          5.3,
          7.35,
          8.25,
          8.5,
          9.1,
          7.65,
          10.45,
          11.666666666666666,
          5.7,
          7.05,
          10.233333333333333,
          6.625,
          4.9,
          5.233333333333333,
          6.699999999999999,
          6.55,
          8.8,
          9.700000000000001,
          6.35,
          15,
          6.9,
          11,
          8.3,
          8.2,
          6.9,
          7.35,
          6.75,
          5.800000000000001,
          8.5,
          6.9,
          9.8,
          8.850000000000001,
          7.3,
          15,
          11.6,
          4.9,
          4.9,
          6.5,
          6.2,
          9.3,
          12,
          8.4,
          5.7,
          7.1,
          7.9,
          10,
          6.3,
          6,
          5.3,
          3.2,
          4.8,
          6.1,
          5.9,
          5.85,
          3.9,
          3.7,
          5.5,
          5.9,
          5.8,
          5.2,
          7.6,
          6.1,
          4.4,
          9.1,
          6,
          7.1,
          3.2,
          5.8,
          4.5,
          6.449999999999999,
          3.7,
          6.1,
          4.5,
          3.6,
          3.8,
          6.5,
          4.699999999999999,
          4.7,
          6.6,
          4.2,
          4.5,
          6,
          4,
          8.7
         ],
         "yaxis": "y2"
        }
       ],
       "layout": {
        "legend": {
         "bordercolor": "lightgray",
         "borderwidth": 1,
         "x": 0.01,
         "y": 0.99
        },
        "template": {
         "data": {
          "bar": [
           {
            "error_x": {
             "color": "#2a3f5f"
            },
            "error_y": {
             "color": "#2a3f5f"
            },
            "marker": {
             "line": {
              "color": "white",
              "width": 0.5
             },
             "pattern": {
              "fillmode": "overlay",
              "size": 10,
              "solidity": 0.2
             }
            },
            "type": "bar"
           }
          ],
          "barpolar": [
           {
            "marker": {
             "line": {
              "color": "white",
              "width": 0.5
             },
             "pattern": {
              "fillmode": "overlay",
              "size": 10,
              "solidity": 0.2
             }
            },
            "type": "barpolar"
           }
          ],
          "carpet": [
           {
            "aaxis": {
             "endlinecolor": "#2a3f5f",
             "gridcolor": "#C8D4E3",
             "linecolor": "#C8D4E3",
             "minorgridcolor": "#C8D4E3",
             "startlinecolor": "#2a3f5f"
            },
            "baxis": {
             "endlinecolor": "#2a3f5f",
             "gridcolor": "#C8D4E3",
             "linecolor": "#C8D4E3",
             "minorgridcolor": "#C8D4E3",
             "startlinecolor": "#2a3f5f"
            },
            "type": "carpet"
           }
          ],
          "choropleth": [
           {
            "colorbar": {
             "outlinewidth": 0,
             "ticks": ""
            },
            "type": "choropleth"
           }
          ],
          "contour": [
           {
            "colorbar": {
             "outlinewidth": 0,
             "ticks": ""
            },
            "colorscale": [
             [
              0,
              "#0d0887"
             ],
             [
              0.1111111111111111,
              "#46039f"
             ],
             [
              0.2222222222222222,
              "#7201a8"
             ],
             [
              0.3333333333333333,
              "#9c179e"
             ],
             [
              0.4444444444444444,
              "#bd3786"
             ],
             [
              0.5555555555555556,
              "#d8576b"
             ],
             [
              0.6666666666666666,
              "#ed7953"
             ],
             [
              0.7777777777777778,
              "#fb9f3a"
             ],
             [
              0.8888888888888888,
              "#fdca26"
             ],
             [
              1,
              "#f0f921"
             ]
            ],
            "type": "contour"
           }
          ],
          "contourcarpet": [
           {
            "colorbar": {
             "outlinewidth": 0,
             "ticks": ""
            },
            "type": "contourcarpet"
           }
          ],
          "heatmap": [
           {
            "colorbar": {
             "outlinewidth": 0,
             "ticks": ""
            },
            "colorscale": [
             [
              0,
              "#0d0887"
             ],
             [
              0.1111111111111111,
              "#46039f"
             ],
             [
              0.2222222222222222,
              "#7201a8"
             ],
             [
              0.3333333333333333,
              "#9c179e"
             ],
             [
              0.4444444444444444,
              "#bd3786"
             ],
             [
              0.5555555555555556,
              "#d8576b"
             ],
             [
              0.6666666666666666,
              "#ed7953"
             ],
             [
              0.7777777777777778,
              "#fb9f3a"
             ],
             [
              0.8888888888888888,
              "#fdca26"
             ],
             [
              1,
              "#f0f921"
             ]
            ],
            "type": "heatmap"
           }
          ],
          "heatmapgl": [
           {
            "colorbar": {
             "outlinewidth": 0,
             "ticks": ""
            },
            "colorscale": [
             [
              0,
              "#0d0887"
             ],
             [
              0.1111111111111111,
              "#46039f"
             ],
             [
              0.2222222222222222,
              "#7201a8"
             ],
             [
              0.3333333333333333,
              "#9c179e"
             ],
             [
              0.4444444444444444,
              "#bd3786"
             ],
             [
              0.5555555555555556,
              "#d8576b"
             ],
             [
              0.6666666666666666,
              "#ed7953"
             ],
             [
              0.7777777777777778,
              "#fb9f3a"
             ],
             [
              0.8888888888888888,
              "#fdca26"
             ],
             [
              1,
              "#f0f921"
             ]
            ],
            "type": "heatmapgl"
           }
          ],
          "histogram": [
           {
            "marker": {
             "pattern": {
              "fillmode": "overlay",
              "size": 10,
              "solidity": 0.2
             }
            },
            "type": "histogram"
           }
          ],
          "histogram2d": [
           {
            "colorbar": {
             "outlinewidth": 0,
             "ticks": ""
            },
            "colorscale": [
             [
              0,
              "#0d0887"
             ],
             [
              0.1111111111111111,
              "#46039f"
             ],
             [
              0.2222222222222222,
              "#7201a8"
             ],
             [
              0.3333333333333333,
              "#9c179e"
             ],
             [
              0.4444444444444444,
              "#bd3786"
             ],
             [
              0.5555555555555556,
              "#d8576b"
             ],
             [
              0.6666666666666666,
              "#ed7953"
             ],
             [
              0.7777777777777778,
              "#fb9f3a"
             ],
             [
              0.8888888888888888,
              "#fdca26"
             ],
             [
              1,
              "#f0f921"
             ]
            ],
            "type": "histogram2d"
           }
          ],
          "histogram2dcontour": [
           {
            "colorbar": {
             "outlinewidth": 0,
             "ticks": ""
            },
            "colorscale": [
             [
              0,
              "#0d0887"
             ],
             [
              0.1111111111111111,
              "#46039f"
             ],
             [
              0.2222222222222222,
              "#7201a8"
             ],
             [
              0.3333333333333333,
              "#9c179e"
             ],
             [
              0.4444444444444444,
              "#bd3786"
             ],
             [
              0.5555555555555556,
              "#d8576b"
             ],
             [
              0.6666666666666666,
              "#ed7953"
             ],
             [
              0.7777777777777778,
              "#fb9f3a"
             ],
             [
              0.8888888888888888,
              "#fdca26"
             ],
             [
              1,
              "#f0f921"
             ]
            ],
            "type": "histogram2dcontour"
           }
          ],
          "mesh3d": [
           {
            "colorbar": {
             "outlinewidth": 0,
             "ticks": ""
            },
            "type": "mesh3d"
           }
          ],
          "parcoords": [
           {
            "line": {
             "colorbar": {
              "outlinewidth": 0,
              "ticks": ""
             }
            },
            "type": "parcoords"
           }
          ],
          "pie": [
           {
            "automargin": true,
            "type": "pie"
           }
          ],
          "scatter": [
           {
            "fillpattern": {
             "fillmode": "overlay",
             "size": 10,
             "solidity": 0.2
            },
            "type": "scatter"
           }
          ],
          "scatter3d": [
           {
            "line": {
             "colorbar": {
              "outlinewidth": 0,
              "ticks": ""
             }
            },
            "marker": {
             "colorbar": {
              "outlinewidth": 0,
              "ticks": ""
             }
            },
            "type": "scatter3d"
           }
          ],
          "scattercarpet": [
           {
            "marker": {
             "colorbar": {
              "outlinewidth": 0,
              "ticks": ""
             }
            },
            "type": "scattercarpet"
           }
          ],
          "scattergeo": [
           {
            "marker": {
             "colorbar": {
              "outlinewidth": 0,
              "ticks": ""
             }
            },
            "type": "scattergeo"
           }
          ],
          "scattergl": [
           {
            "marker": {
             "colorbar": {
              "outlinewidth": 0,
              "ticks": ""
             }
            },
            "type": "scattergl"
           }
          ],
          "scattermapbox": [
           {
            "marker": {
             "colorbar": {
              "outlinewidth": 0,
              "ticks": ""
             }
            },
            "type": "scattermapbox"
           }
          ],
          "scatterpolar": [
           {
            "marker": {
             "colorbar": {
              "outlinewidth": 0,
              "ticks": ""
             }
            },
            "type": "scatterpolar"
           }
          ],
          "scatterpolargl": [
           {
            "marker": {
             "colorbar": {
              "outlinewidth": 0,
              "ticks": ""
             }
            },
            "type": "scatterpolargl"
           }
          ],
          "scatterternary": [
           {
            "marker": {
             "colorbar": {
              "outlinewidth": 0,
              "ticks": ""
             }
            },
            "type": "scatterternary"
           }
          ],
          "surface": [
           {
            "colorbar": {
             "outlinewidth": 0,
             "ticks": ""
            },
            "colorscale": [
             [
              0,
              "#0d0887"
             ],
             [
              0.1111111111111111,
              "#46039f"
             ],
             [
              0.2222222222222222,
              "#7201a8"
             ],
             [
              0.3333333333333333,
              "#9c179e"
             ],
             [
              0.4444444444444444,
              "#bd3786"
             ],
             [
              0.5555555555555556,
              "#d8576b"
             ],
             [
              0.6666666666666666,
              "#ed7953"
             ],
             [
              0.7777777777777778,
              "#fb9f3a"
             ],
             [
              0.8888888888888888,
              "#fdca26"
             ],
             [
              1,
              "#f0f921"
             ]
            ],
            "type": "surface"
           }
          ],
          "table": [
           {
            "cells": {
             "fill": {
              "color": "#EBF0F8"
             },
             "line": {
              "color": "white"
             }
            },
            "header": {
             "fill": {
              "color": "#C8D4E3"
             },
             "line": {
              "color": "white"
             }
            },
            "type": "table"
           }
          ]
         },
         "layout": {
          "annotationdefaults": {
           "arrowcolor": "#2a3f5f",
           "arrowhead": 0,
           "arrowwidth": 1
          },
          "autotypenumbers": "strict",
          "coloraxis": {
           "colorbar": {
            "outlinewidth": 0,
            "ticks": ""
           }
          },
          "colorscale": {
           "diverging": [
            [
             0,
             "#8e0152"
            ],
            [
             0.1,
             "#c51b7d"
            ],
            [
             0.2,
             "#de77ae"
            ],
            [
             0.3,
             "#f1b6da"
            ],
            [
             0.4,
             "#fde0ef"
            ],
            [
             0.5,
             "#f7f7f7"
            ],
            [
             0.6,
             "#e6f5d0"
            ],
            [
             0.7,
             "#b8e186"
            ],
            [
             0.8,
             "#7fbc41"
            ],
            [
             0.9,
             "#4d9221"
            ],
            [
             1,
             "#276419"
            ]
           ],
           "sequential": [
            [
             0,
             "#0d0887"
            ],
            [
             0.1111111111111111,
             "#46039f"
            ],
            [
             0.2222222222222222,
             "#7201a8"
            ],
            [
             0.3333333333333333,
             "#9c179e"
            ],
            [
             0.4444444444444444,
             "#bd3786"
            ],
            [
             0.5555555555555556,
             "#d8576b"
            ],
            [
             0.6666666666666666,
             "#ed7953"
            ],
            [
             0.7777777777777778,
             "#fb9f3a"
            ],
            [
             0.8888888888888888,
             "#fdca26"
            ],
            [
             1,
             "#f0f921"
            ]
           ],
           "sequentialminus": [
            [
             0,
             "#0d0887"
            ],
            [
             0.1111111111111111,
             "#46039f"
            ],
            [
             0.2222222222222222,
             "#7201a8"
            ],
            [
             0.3333333333333333,
             "#9c179e"
            ],
            [
             0.4444444444444444,
             "#bd3786"
            ],
            [
             0.5555555555555556,
             "#d8576b"
            ],
            [
             0.6666666666666666,
             "#ed7953"
            ],
            [
             0.7777777777777778,
             "#fb9f3a"
            ],
            [
             0.8888888888888888,
             "#fdca26"
            ],
            [
             1,
             "#f0f921"
            ]
           ]
          },
          "colorway": [
           "#636efa",
           "#EF553B",
           "#00cc96",
           "#ab63fa",
           "#FFA15A",
           "#19d3f3",
           "#FF6692",
           "#B6E880",
           "#FF97FF",
           "#FECB52"
          ],
          "font": {
           "color": "#2a3f5f"
          },
          "geo": {
           "bgcolor": "white",
           "lakecolor": "white",
           "landcolor": "white",
           "showlakes": true,
           "showland": true,
           "subunitcolor": "#C8D4E3"
          },
          "hoverlabel": {
           "align": "left"
          },
          "hovermode": "closest",
          "mapbox": {
           "style": "light"
          },
          "paper_bgcolor": "white",
          "plot_bgcolor": "white",
          "polar": {
           "angularaxis": {
            "gridcolor": "#EBF0F8",
            "linecolor": "#EBF0F8",
            "ticks": ""
           },
           "bgcolor": "white",
           "radialaxis": {
            "gridcolor": "#EBF0F8",
            "linecolor": "#EBF0F8",
            "ticks": ""
           }
          },
          "scene": {
           "xaxis": {
            "backgroundcolor": "white",
            "gridcolor": "#DFE8F3",
            "gridwidth": 2,
            "linecolor": "#EBF0F8",
            "showbackground": true,
            "ticks": "",
            "zerolinecolor": "#EBF0F8"
           },
           "yaxis": {
            "backgroundcolor": "white",
            "gridcolor": "#DFE8F3",
            "gridwidth": 2,
            "linecolor": "#EBF0F8",
            "showbackground": true,
            "ticks": "",
            "zerolinecolor": "#EBF0F8"
           },
           "zaxis": {
            "backgroundcolor": "white",
            "gridcolor": "#DFE8F3",
            "gridwidth": 2,
            "linecolor": "#EBF0F8",
            "showbackground": true,
            "ticks": "",
            "zerolinecolor": "#EBF0F8"
           }
          },
          "shapedefaults": {
           "line": {
            "color": "#2a3f5f"
           }
          },
          "ternary": {
           "aaxis": {
            "gridcolor": "#DFE8F3",
            "linecolor": "#A2B1C6",
            "ticks": ""
           },
           "baxis": {
            "gridcolor": "#DFE8F3",
            "linecolor": "#A2B1C6",
            "ticks": ""
           },
           "bgcolor": "white",
           "caxis": {
            "gridcolor": "#DFE8F3",
            "linecolor": "#A2B1C6",
            "ticks": ""
           }
          },
          "title": {
           "x": 0.05
          },
          "xaxis": {
           "automargin": true,
           "gridcolor": "#EBF0F8",
           "linecolor": "#EBF0F8",
           "ticks": "",
           "title": {
            "standoff": 15
           },
           "zerolinecolor": "#EBF0F8",
           "zerolinewidth": 2
          },
          "yaxis": {
           "automargin": true,
           "gridcolor": "#EBF0F8",
           "linecolor": "#EBF0F8",
           "ticks": "",
           "title": {
            "standoff": 15
           },
           "zerolinecolor": "#EBF0F8",
           "zerolinewidth": 2
          }
         }
        },
        "title": {
         "text": "Weight vs Total SCFA Over Time (1-Month Interval Means)"
        },
        "xaxis": {
         "dtick": "M3",
         "tickformat": "%b %Y",
         "title": {
          "text": "Date"
         }
        },
        "yaxis": {
         "side": "left",
         "title": {
          "text": "Weight (lbs)"
         }
        },
        "yaxis2": {
         "overlaying": "y",
         "side": "right",
         "title": {
          "text": "Total SCFA (mg/mL)"
         }
        }
       }
      }
     },
     "metadata": {},
     "output_type": "display_data"
    },
    {
     "data": {
      "application/vnd.plotly.v1+json": {
       "config": {
        "plotlyServerURL": "https://plot.ly"
       },
       "data": [
        {
         "line": {
          "color": "black",
          "width": 3
         },
         "mode": "lines+markers",
         "name": "Weight (lbs)",
         "type": "scatter",
         "x": [
          "2008-09-30T00:00:00",
          "2009-03-31T00:00:00",
          "2009-06-30T00:00:00",
          "2009-09-30T00:00:00",
          "2010-09-30T00:00:00",
          "2010-12-31T00:00:00",
          "2011-03-31T00:00:00",
          "2011-06-30T00:00:00",
          "2011-09-30T00:00:00",
          "2011-12-31T00:00:00",
          "2012-03-31T00:00:00",
          "2012-06-30T00:00:00",
          "2012-09-30T00:00:00",
          "2012-12-31T00:00:00",
          "2013-03-31T00:00:00",
          "2013-06-30T00:00:00",
          "2013-09-30T00:00:00",
          "2013-12-31T00:00:00",
          "2014-03-31T00:00:00",
          "2014-06-30T00:00:00",
          "2014-09-30T00:00:00",
          "2014-12-31T00:00:00",
          "2015-03-31T00:00:00",
          "2015-06-30T00:00:00",
          "2015-09-30T00:00:00",
          "2015-12-31T00:00:00",
          "2016-03-31T00:00:00",
          "2016-06-30T00:00:00",
          "2016-09-30T00:00:00",
          "2016-12-31T00:00:00",
          "2017-03-31T00:00:00",
          "2017-06-30T00:00:00",
          "2017-09-30T00:00:00",
          "2017-12-31T00:00:00",
          "2018-03-31T00:00:00",
          "2018-06-30T00:00:00",
          "2018-09-30T00:00:00",
          "2018-12-31T00:00:00",
          "2019-03-31T00:00:00",
          "2019-06-30T00:00:00",
          "2019-09-30T00:00:00",
          "2019-12-31T00:00:00",
          "2020-03-31T00:00:00",
          "2020-06-30T00:00:00",
          "2020-09-30T00:00:00",
          "2020-12-31T00:00:00",
          "2021-03-31T00:00:00",
          "2021-06-30T00:00:00",
          "2021-09-30T00:00:00",
          "2021-12-31T00:00:00",
          "2022-03-31T00:00:00",
          "2022-06-30T00:00:00",
          "2022-09-30T00:00:00",
          "2022-12-31T00:00:00",
          "2023-03-31T00:00:00",
          "2023-09-30T00:00:00",
          "2023-12-31T00:00:00",
          "2024-03-31T00:00:00",
          "2024-06-30T00:00:00",
          "2024-12-31T00:00:00",
          "2025-03-31T00:00:00"
         ],
         "y": [
          183,
          183.5,
          185,
          182.4,
          180.5,
          181,
          183.2,
          182.3,
          183.1,
          187.5,
          182,
          186.1,
          187.35,
          184.45,
          182.1,
          183.60000000000002,
          183.85,
          184.4,
          186.10000000000002,
          189.8,
          191.4333333333333,
          193.95,
          192.3166666666667,
          190.28333333333333,
          192.175,
          190.8,
          192.63333333333333,
          192.68,
          193.83333333333334,
          193.225,
          195.0142857142857,
          193.61666666666667,
          197.79999999999998,
          191.76,
          189.33333333333334,
          190.325,
          187.975,
          184.96666666666667,
          185.85,
          182.9,
          184.0666666666667,
          186.3,
          188.29999999999998,
          184.79999999999998,
          182.175,
          176,
          169.46666666666667,
          173.66666666666666,
          172.5,
          169.26666666666668,
          172.14999999999998,
          174.6,
          170.3,
          175,
          176,
          177.2,
          174.8166666666667,
          177.4,
          178.4333333333333,
          180,
          177.4333333333333
         ]
        },
        {
         "line": {
          "color": "blue",
          "width": 2
         },
         "mode": "lines+markers",
         "name": "Total SCFA (mg/mL)",
         "type": "scatter",
         "x": [
          "2008-09-30T00:00:00",
          "2009-03-31T00:00:00",
          "2009-06-30T00:00:00",
          "2009-09-30T00:00:00",
          "2010-09-30T00:00:00",
          "2010-12-31T00:00:00",
          "2011-03-31T00:00:00",
          "2011-06-30T00:00:00",
          "2011-09-30T00:00:00",
          "2011-12-31T00:00:00",
          "2012-03-31T00:00:00",
          "2012-06-30T00:00:00",
          "2012-09-30T00:00:00",
          "2012-12-31T00:00:00",
          "2013-03-31T00:00:00",
          "2013-06-30T00:00:00",
          "2013-09-30T00:00:00",
          "2013-12-31T00:00:00",
          "2014-03-31T00:00:00",
          "2014-06-30T00:00:00",
          "2014-09-30T00:00:00",
          "2014-12-31T00:00:00",
          "2015-03-31T00:00:00",
          "2015-06-30T00:00:00",
          "2015-09-30T00:00:00",
          "2015-12-31T00:00:00",
          "2016-03-31T00:00:00",
          "2016-06-30T00:00:00",
          "2016-09-30T00:00:00",
          "2016-12-31T00:00:00",
          "2017-03-31T00:00:00",
          "2017-06-30T00:00:00",
          "2017-09-30T00:00:00",
          "2017-12-31T00:00:00",
          "2018-03-31T00:00:00",
          "2018-06-30T00:00:00",
          "2018-09-30T00:00:00",
          "2018-12-31T00:00:00",
          "2019-03-31T00:00:00",
          "2019-06-30T00:00:00",
          "2019-09-30T00:00:00",
          "2019-12-31T00:00:00",
          "2020-03-31T00:00:00",
          "2020-06-30T00:00:00",
          "2020-09-30T00:00:00",
          "2020-12-31T00:00:00",
          "2021-03-31T00:00:00",
          "2021-06-30T00:00:00",
          "2021-09-30T00:00:00",
          "2021-12-31T00:00:00",
          "2022-03-31T00:00:00",
          "2022-06-30T00:00:00",
          "2022-09-30T00:00:00",
          "2022-12-31T00:00:00",
          "2023-03-31T00:00:00",
          "2023-09-30T00:00:00",
          "2023-12-31T00:00:00",
          "2024-03-31T00:00:00",
          "2024-06-30T00:00:00",
          "2024-12-31T00:00:00",
          "2025-03-31T00:00:00"
         ],
         "y": [
          3.5,
          4.2,
          6.6,
          11,
          13,
          6.6,
          5.9,
          9.8,
          12,
          6.6,
          5.75,
          7.8999999999999995,
          7.75,
          5.55,
          5,
          9.8,
          6.9,
          8.75,
          5.5,
          13.5,
          10.966666666666667,
          14.5,
          7.55,
          8.016666666666667,
          11.1,
          8.18,
          8.033333333333333,
          9.059999999999999,
          9.133333333333333,
          6.808333333333334,
          6.028571428571429,
          8.433333333333334,
          10.966666666666667,
          7.720000000000001,
          6.633333333333333,
          8.025,
          10,
          9.366666666666667,
          5.7,
          9.166666666666666,
          7.066666666666666,
          8.95,
          5.866666666666667,
          4.7,
          5.875,
          4.366666666666666,
          5.633333333333333,
          6.033333333333334,
          9.1,
          6.366666666666667,
          4.5,
          4.5,
          6.449999999999999,
          4.9,
          4.05,
          5.15,
          4.7,
          6.6,
          4.3,
          6,
          7.133333333333333
         ],
         "yaxis": "y2"
        }
       ],
       "layout": {
        "legend": {
         "bordercolor": "lightgray",
         "borderwidth": 1,
         "x": 0.01,
         "y": 0.99
        },
        "template": {
         "data": {
          "bar": [
           {
            "error_x": {
             "color": "#2a3f5f"
            },
            "error_y": {
             "color": "#2a3f5f"
            },
            "marker": {
             "line": {
              "color": "white",
              "width": 0.5
             },
             "pattern": {
              "fillmode": "overlay",
              "size": 10,
              "solidity": 0.2
             }
            },
            "type": "bar"
           }
          ],
          "barpolar": [
           {
            "marker": {
             "line": {
              "color": "white",
              "width": 0.5
             },
             "pattern": {
              "fillmode": "overlay",
              "size": 10,
              "solidity": 0.2
             }
            },
            "type": "barpolar"
           }
          ],
          "carpet": [
           {
            "aaxis": {
             "endlinecolor": "#2a3f5f",
             "gridcolor": "#C8D4E3",
             "linecolor": "#C8D4E3",
             "minorgridcolor": "#C8D4E3",
             "startlinecolor": "#2a3f5f"
            },
            "baxis": {
             "endlinecolor": "#2a3f5f",
             "gridcolor": "#C8D4E3",
             "linecolor": "#C8D4E3",
             "minorgridcolor": "#C8D4E3",
             "startlinecolor": "#2a3f5f"
            },
            "type": "carpet"
           }
          ],
          "choropleth": [
           {
            "colorbar": {
             "outlinewidth": 0,
             "ticks": ""
            },
            "type": "choropleth"
           }
          ],
          "contour": [
           {
            "colorbar": {
             "outlinewidth": 0,
             "ticks": ""
            },
            "colorscale": [
             [
              0,
              "#0d0887"
             ],
             [
              0.1111111111111111,
              "#46039f"
             ],
             [
              0.2222222222222222,
              "#7201a8"
             ],
             [
              0.3333333333333333,
              "#9c179e"
             ],
             [
              0.4444444444444444,
              "#bd3786"
             ],
             [
              0.5555555555555556,
              "#d8576b"
             ],
             [
              0.6666666666666666,
              "#ed7953"
             ],
             [
              0.7777777777777778,
              "#fb9f3a"
             ],
             [
              0.8888888888888888,
              "#fdca26"
             ],
             [
              1,
              "#f0f921"
             ]
            ],
            "type": "contour"
           }
          ],
          "contourcarpet": [
           {
            "colorbar": {
             "outlinewidth": 0,
             "ticks": ""
            },
            "type": "contourcarpet"
           }
          ],
          "heatmap": [
           {
            "colorbar": {
             "outlinewidth": 0,
             "ticks": ""
            },
            "colorscale": [
             [
              0,
              "#0d0887"
             ],
             [
              0.1111111111111111,
              "#46039f"
             ],
             [
              0.2222222222222222,
              "#7201a8"
             ],
             [
              0.3333333333333333,
              "#9c179e"
             ],
             [
              0.4444444444444444,
              "#bd3786"
             ],
             [
              0.5555555555555556,
              "#d8576b"
             ],
             [
              0.6666666666666666,
              "#ed7953"
             ],
             [
              0.7777777777777778,
              "#fb9f3a"
             ],
             [
              0.8888888888888888,
              "#fdca26"
             ],
             [
              1,
              "#f0f921"
             ]
            ],
            "type": "heatmap"
           }
          ],
          "heatmapgl": [
           {
            "colorbar": {
             "outlinewidth": 0,
             "ticks": ""
            },
            "colorscale": [
             [
              0,
              "#0d0887"
             ],
             [
              0.1111111111111111,
              "#46039f"
             ],
             [
              0.2222222222222222,
              "#7201a8"
             ],
             [
              0.3333333333333333,
              "#9c179e"
             ],
             [
              0.4444444444444444,
              "#bd3786"
             ],
             [
              0.5555555555555556,
              "#d8576b"
             ],
             [
              0.6666666666666666,
              "#ed7953"
             ],
             [
              0.7777777777777778,
              "#fb9f3a"
             ],
             [
              0.8888888888888888,
              "#fdca26"
             ],
             [
              1,
              "#f0f921"
             ]
            ],
            "type": "heatmapgl"
           }
          ],
          "histogram": [
           {
            "marker": {
             "pattern": {
              "fillmode": "overlay",
              "size": 10,
              "solidity": 0.2
             }
            },
            "type": "histogram"
           }
          ],
          "histogram2d": [
           {
            "colorbar": {
             "outlinewidth": 0,
             "ticks": ""
            },
            "colorscale": [
             [
              0,
              "#0d0887"
             ],
             [
              0.1111111111111111,
              "#46039f"
             ],
             [
              0.2222222222222222,
              "#7201a8"
             ],
             [
              0.3333333333333333,
              "#9c179e"
             ],
             [
              0.4444444444444444,
              "#bd3786"
             ],
             [
              0.5555555555555556,
              "#d8576b"
             ],
             [
              0.6666666666666666,
              "#ed7953"
             ],
             [
              0.7777777777777778,
              "#fb9f3a"
             ],
             [
              0.8888888888888888,
              "#fdca26"
             ],
             [
              1,
              "#f0f921"
             ]
            ],
            "type": "histogram2d"
           }
          ],
          "histogram2dcontour": [
           {
            "colorbar": {
             "outlinewidth": 0,
             "ticks": ""
            },
            "colorscale": [
             [
              0,
              "#0d0887"
             ],
             [
              0.1111111111111111,
              "#46039f"
             ],
             [
              0.2222222222222222,
              "#7201a8"
             ],
             [
              0.3333333333333333,
              "#9c179e"
             ],
             [
              0.4444444444444444,
              "#bd3786"
             ],
             [
              0.5555555555555556,
              "#d8576b"
             ],
             [
              0.6666666666666666,
              "#ed7953"
             ],
             [
              0.7777777777777778,
              "#fb9f3a"
             ],
             [
              0.8888888888888888,
              "#fdca26"
             ],
             [
              1,
              "#f0f921"
             ]
            ],
            "type": "histogram2dcontour"
           }
          ],
          "mesh3d": [
           {
            "colorbar": {
             "outlinewidth": 0,
             "ticks": ""
            },
            "type": "mesh3d"
           }
          ],
          "parcoords": [
           {
            "line": {
             "colorbar": {
              "outlinewidth": 0,
              "ticks": ""
             }
            },
            "type": "parcoords"
           }
          ],
          "pie": [
           {
            "automargin": true,
            "type": "pie"
           }
          ],
          "scatter": [
           {
            "fillpattern": {
             "fillmode": "overlay",
             "size": 10,
             "solidity": 0.2
            },
            "type": "scatter"
           }
          ],
          "scatter3d": [
           {
            "line": {
             "colorbar": {
              "outlinewidth": 0,
              "ticks": ""
             }
            },
            "marker": {
             "colorbar": {
              "outlinewidth": 0,
              "ticks": ""
             }
            },
            "type": "scatter3d"
           }
          ],
          "scattercarpet": [
           {
            "marker": {
             "colorbar": {
              "outlinewidth": 0,
              "ticks": ""
             }
            },
            "type": "scattercarpet"
           }
          ],
          "scattergeo": [
           {
            "marker": {
             "colorbar": {
              "outlinewidth": 0,
              "ticks": ""
             }
            },
            "type": "scattergeo"
           }
          ],
          "scattergl": [
           {
            "marker": {
             "colorbar": {
              "outlinewidth": 0,
              "ticks": ""
             }
            },
            "type": "scattergl"
           }
          ],
          "scattermapbox": [
           {
            "marker": {
             "colorbar": {
              "outlinewidth": 0,
              "ticks": ""
             }
            },
            "type": "scattermapbox"
           }
          ],
          "scatterpolar": [
           {
            "marker": {
             "colorbar": {
              "outlinewidth": 0,
              "ticks": ""
             }
            },
            "type": "scatterpolar"
           }
          ],
          "scatterpolargl": [
           {
            "marker": {
             "colorbar": {
              "outlinewidth": 0,
              "ticks": ""
             }
            },
            "type": "scatterpolargl"
           }
          ],
          "scatterternary": [
           {
            "marker": {
             "colorbar": {
              "outlinewidth": 0,
              "ticks": ""
             }
            },
            "type": "scatterternary"
           }
          ],
          "surface": [
           {
            "colorbar": {
             "outlinewidth": 0,
             "ticks": ""
            },
            "colorscale": [
             [
              0,
              "#0d0887"
             ],
             [
              0.1111111111111111,
              "#46039f"
             ],
             [
              0.2222222222222222,
              "#7201a8"
             ],
             [
              0.3333333333333333,
              "#9c179e"
             ],
             [
              0.4444444444444444,
              "#bd3786"
             ],
             [
              0.5555555555555556,
              "#d8576b"
             ],
             [
              0.6666666666666666,
              "#ed7953"
             ],
             [
              0.7777777777777778,
              "#fb9f3a"
             ],
             [
              0.8888888888888888,
              "#fdca26"
             ],
             [
              1,
              "#f0f921"
             ]
            ],
            "type": "surface"
           }
          ],
          "table": [
           {
            "cells": {
             "fill": {
              "color": "#EBF0F8"
             },
             "line": {
              "color": "white"
             }
            },
            "header": {
             "fill": {
              "color": "#C8D4E3"
             },
             "line": {
              "color": "white"
             }
            },
            "type": "table"
           }
          ]
         },
         "layout": {
          "annotationdefaults": {
           "arrowcolor": "#2a3f5f",
           "arrowhead": 0,
           "arrowwidth": 1
          },
          "autotypenumbers": "strict",
          "coloraxis": {
           "colorbar": {
            "outlinewidth": 0,
            "ticks": ""
           }
          },
          "colorscale": {
           "diverging": [
            [
             0,
             "#8e0152"
            ],
            [
             0.1,
             "#c51b7d"
            ],
            [
             0.2,
             "#de77ae"
            ],
            [
             0.3,
             "#f1b6da"
            ],
            [
             0.4,
             "#fde0ef"
            ],
            [
             0.5,
             "#f7f7f7"
            ],
            [
             0.6,
             "#e6f5d0"
            ],
            [
             0.7,
             "#b8e186"
            ],
            [
             0.8,
             "#7fbc41"
            ],
            [
             0.9,
             "#4d9221"
            ],
            [
             1,
             "#276419"
            ]
           ],
           "sequential": [
            [
             0,
             "#0d0887"
            ],
            [
             0.1111111111111111,
             "#46039f"
            ],
            [
             0.2222222222222222,
             "#7201a8"
            ],
            [
             0.3333333333333333,
             "#9c179e"
            ],
            [
             0.4444444444444444,
             "#bd3786"
            ],
            [
             0.5555555555555556,
             "#d8576b"
            ],
            [
             0.6666666666666666,
             "#ed7953"
            ],
            [
             0.7777777777777778,
             "#fb9f3a"
            ],
            [
             0.8888888888888888,
             "#fdca26"
            ],
            [
             1,
             "#f0f921"
            ]
           ],
           "sequentialminus": [
            [
             0,
             "#0d0887"
            ],
            [
             0.1111111111111111,
             "#46039f"
            ],
            [
             0.2222222222222222,
             "#7201a8"
            ],
            [
             0.3333333333333333,
             "#9c179e"
            ],
            [
             0.4444444444444444,
             "#bd3786"
            ],
            [
             0.5555555555555556,
             "#d8576b"
            ],
            [
             0.6666666666666666,
             "#ed7953"
            ],
            [
             0.7777777777777778,
             "#fb9f3a"
            ],
            [
             0.8888888888888888,
             "#fdca26"
            ],
            [
             1,
             "#f0f921"
            ]
           ]
          },
          "colorway": [
           "#636efa",
           "#EF553B",
           "#00cc96",
           "#ab63fa",
           "#FFA15A",
           "#19d3f3",
           "#FF6692",
           "#B6E880",
           "#FF97FF",
           "#FECB52"
          ],
          "font": {
           "color": "#2a3f5f"
          },
          "geo": {
           "bgcolor": "white",
           "lakecolor": "white",
           "landcolor": "white",
           "showlakes": true,
           "showland": true,
           "subunitcolor": "#C8D4E3"
          },
          "hoverlabel": {
           "align": "left"
          },
          "hovermode": "closest",
          "mapbox": {
           "style": "light"
          },
          "paper_bgcolor": "white",
          "plot_bgcolor": "white",
          "polar": {
           "angularaxis": {
            "gridcolor": "#EBF0F8",
            "linecolor": "#EBF0F8",
            "ticks": ""
           },
           "bgcolor": "white",
           "radialaxis": {
            "gridcolor": "#EBF0F8",
            "linecolor": "#EBF0F8",
            "ticks": ""
           }
          },
          "scene": {
           "xaxis": {
            "backgroundcolor": "white",
            "gridcolor": "#DFE8F3",
            "gridwidth": 2,
            "linecolor": "#EBF0F8",
            "showbackground": true,
            "ticks": "",
            "zerolinecolor": "#EBF0F8"
           },
           "yaxis": {
            "backgroundcolor": "white",
            "gridcolor": "#DFE8F3",
            "gridwidth": 2,
            "linecolor": "#EBF0F8",
            "showbackground": true,
            "ticks": "",
            "zerolinecolor": "#EBF0F8"
           },
           "zaxis": {
            "backgroundcolor": "white",
            "gridcolor": "#DFE8F3",
            "gridwidth": 2,
            "linecolor": "#EBF0F8",
            "showbackground": true,
            "ticks": "",
            "zerolinecolor": "#EBF0F8"
           }
          },
          "shapedefaults": {
           "line": {
            "color": "#2a3f5f"
           }
          },
          "ternary": {
           "aaxis": {
            "gridcolor": "#DFE8F3",
            "linecolor": "#A2B1C6",
            "ticks": ""
           },
           "baxis": {
            "gridcolor": "#DFE8F3",
            "linecolor": "#A2B1C6",
            "ticks": ""
           },
           "bgcolor": "white",
           "caxis": {
            "gridcolor": "#DFE8F3",
            "linecolor": "#A2B1C6",
            "ticks": ""
           }
          },
          "title": {
           "x": 0.05
          },
          "xaxis": {
           "automargin": true,
           "gridcolor": "#EBF0F8",
           "linecolor": "#EBF0F8",
           "ticks": "",
           "title": {
            "standoff": 15
           },
           "zerolinecolor": "#EBF0F8",
           "zerolinewidth": 2
          },
          "yaxis": {
           "automargin": true,
           "gridcolor": "#EBF0F8",
           "linecolor": "#EBF0F8",
           "ticks": "",
           "title": {
            "standoff": 15
           },
           "zerolinecolor": "#EBF0F8",
           "zerolinewidth": 2
          }
         }
        },
        "title": {
         "text": "Weight vs Total SCFA Over Time (3-Month Interval Means)"
        },
        "xaxis": {
         "dtick": "M3",
         "tickformat": "%b %Y",
         "title": {
          "text": "Date"
         }
        },
        "yaxis": {
         "side": "left",
         "title": {
          "text": "Weight (lbs)"
         }
        },
        "yaxis2": {
         "overlaying": "y",
         "side": "right",
         "title": {
          "text": "Total SCFA (mg/mL)"
         }
        }
       }
      }
     },
     "metadata": {},
     "output_type": "display_data"
    },
    {
     "data": {
      "application/vnd.plotly.v1+json": {
       "config": {
        "plotlyServerURL": "https://plot.ly"
       },
       "data": [
        {
         "line": {
          "color": "black",
          "width": 3
         },
         "mode": "lines+markers",
         "name": "Weight (lbs)",
         "type": "scatter",
         "x": [
          "2008-09-30T00:00:00",
          "2009-03-31T00:00:00",
          "2009-09-30T00:00:00",
          "2010-09-30T00:00:00",
          "2011-03-31T00:00:00",
          "2011-09-30T00:00:00",
          "2012-03-31T00:00:00",
          "2012-09-30T00:00:00",
          "2013-03-31T00:00:00",
          "2013-09-30T00:00:00",
          "2014-03-31T00:00:00",
          "2014-09-30T00:00:00",
          "2015-03-31T00:00:00",
          "2015-09-30T00:00:00",
          "2016-03-31T00:00:00",
          "2016-09-30T00:00:00",
          "2017-03-31T00:00:00",
          "2017-09-30T00:00:00",
          "2018-03-31T00:00:00",
          "2018-09-30T00:00:00",
          "2019-03-31T00:00:00",
          "2019-09-30T00:00:00",
          "2020-03-31T00:00:00",
          "2020-09-30T00:00:00",
          "2021-03-31T00:00:00",
          "2021-09-30T00:00:00",
          "2022-03-31T00:00:00",
          "2022-09-30T00:00:00",
          "2023-03-31T00:00:00",
          "2023-09-30T00:00:00",
          "2024-03-31T00:00:00",
          "2024-09-30T00:00:00",
          "2025-03-31T00:00:00"
         ],
         "y": [
          183,
          183.5,
          183.7,
          180.5,
          182.1,
          182.7,
          184.75,
          186.6,
          183.66666666666666,
          183.725,
          185.25,
          190.78,
          192.725,
          191.04000000000002,
          191.8,
          193.3090909090909,
          193.8842105263158,
          195.0111111111111,
          190.43636363636367,
          189.15,
          185.32,
          183.48333333333335,
          187.5,
          183.29999999999998,
          172.73333333333335,
          173.375,
          170.42000000000002,
          171.73333333333335,
          175.5,
          177.2,
          175.18571428571428,
          178.4333333333333,
          178.075
         ]
        },
        {
         "line": {
          "color": "blue",
          "width": 2
         },
         "mode": "lines+markers",
         "name": "Total SCFA (mg/mL)",
         "type": "scatter",
         "x": [
          "2008-09-30T00:00:00",
          "2009-03-31T00:00:00",
          "2009-09-30T00:00:00",
          "2010-09-30T00:00:00",
          "2011-03-31T00:00:00",
          "2011-09-30T00:00:00",
          "2012-03-31T00:00:00",
          "2012-09-30T00:00:00",
          "2013-03-31T00:00:00",
          "2013-09-30T00:00:00",
          "2014-03-31T00:00:00",
          "2014-09-30T00:00:00",
          "2015-03-31T00:00:00",
          "2015-09-30T00:00:00",
          "2016-03-31T00:00:00",
          "2016-09-30T00:00:00",
          "2017-03-31T00:00:00",
          "2017-09-30T00:00:00",
          "2018-03-31T00:00:00",
          "2018-09-30T00:00:00",
          "2019-03-31T00:00:00",
          "2019-09-30T00:00:00",
          "2020-03-31T00:00:00",
          "2020-09-30T00:00:00",
          "2021-03-31T00:00:00",
          "2021-09-30T00:00:00",
          "2022-03-31T00:00:00",
          "2022-09-30T00:00:00",
          "2023-03-31T00:00:00",
          "2023-09-30T00:00:00",
          "2024-03-31T00:00:00",
          "2024-09-30T00:00:00",
          "2025-03-31T00:00:00"
         ],
         "y": [
          3.5,
          4.2,
          8.8,
          13,
          6.25,
          10.9,
          6.175,
          7.840000000000001,
          5.366666666666667,
          8.35,
          7.125,
          11.98,
          9.2875,
          9.25,
          8.100000000000001,
          9.1,
          6.521052631578947,
          9.277777777777779,
          7.127272727272726,
          9.0125,
          7.9,
          8.116666666666667,
          7.1,
          5.371428571428572,
          5,
          6.8,
          5.62,
          5.8,
          4.475,
          5.15,
          4.971428571428571,
          4.3,
          6.85
         ],
         "yaxis": "y2"
        }
       ],
       "layout": {
        "legend": {
         "bordercolor": "lightgray",
         "borderwidth": 1,
         "x": 0.01,
         "y": 0.99
        },
        "template": {
         "data": {
          "bar": [
           {
            "error_x": {
             "color": "#2a3f5f"
            },
            "error_y": {
             "color": "#2a3f5f"
            },
            "marker": {
             "line": {
              "color": "white",
              "width": 0.5
             },
             "pattern": {
              "fillmode": "overlay",
              "size": 10,
              "solidity": 0.2
             }
            },
            "type": "bar"
           }
          ],
          "barpolar": [
           {
            "marker": {
             "line": {
              "color": "white",
              "width": 0.5
             },
             "pattern": {
              "fillmode": "overlay",
              "size": 10,
              "solidity": 0.2
             }
            },
            "type": "barpolar"
           }
          ],
          "carpet": [
           {
            "aaxis": {
             "endlinecolor": "#2a3f5f",
             "gridcolor": "#C8D4E3",
             "linecolor": "#C8D4E3",
             "minorgridcolor": "#C8D4E3",
             "startlinecolor": "#2a3f5f"
            },
            "baxis": {
             "endlinecolor": "#2a3f5f",
             "gridcolor": "#C8D4E3",
             "linecolor": "#C8D4E3",
             "minorgridcolor": "#C8D4E3",
             "startlinecolor": "#2a3f5f"
            },
            "type": "carpet"
           }
          ],
          "choropleth": [
           {
            "colorbar": {
             "outlinewidth": 0,
             "ticks": ""
            },
            "type": "choropleth"
           }
          ],
          "contour": [
           {
            "colorbar": {
             "outlinewidth": 0,
             "ticks": ""
            },
            "colorscale": [
             [
              0,
              "#0d0887"
             ],
             [
              0.1111111111111111,
              "#46039f"
             ],
             [
              0.2222222222222222,
              "#7201a8"
             ],
             [
              0.3333333333333333,
              "#9c179e"
             ],
             [
              0.4444444444444444,
              "#bd3786"
             ],
             [
              0.5555555555555556,
              "#d8576b"
             ],
             [
              0.6666666666666666,
              "#ed7953"
             ],
             [
              0.7777777777777778,
              "#fb9f3a"
             ],
             [
              0.8888888888888888,
              "#fdca26"
             ],
             [
              1,
              "#f0f921"
             ]
            ],
            "type": "contour"
           }
          ],
          "contourcarpet": [
           {
            "colorbar": {
             "outlinewidth": 0,
             "ticks": ""
            },
            "type": "contourcarpet"
           }
          ],
          "heatmap": [
           {
            "colorbar": {
             "outlinewidth": 0,
             "ticks": ""
            },
            "colorscale": [
             [
              0,
              "#0d0887"
             ],
             [
              0.1111111111111111,
              "#46039f"
             ],
             [
              0.2222222222222222,
              "#7201a8"
             ],
             [
              0.3333333333333333,
              "#9c179e"
             ],
             [
              0.4444444444444444,
              "#bd3786"
             ],
             [
              0.5555555555555556,
              "#d8576b"
             ],
             [
              0.6666666666666666,
              "#ed7953"
             ],
             [
              0.7777777777777778,
              "#fb9f3a"
             ],
             [
              0.8888888888888888,
              "#fdca26"
             ],
             [
              1,
              "#f0f921"
             ]
            ],
            "type": "heatmap"
           }
          ],
          "heatmapgl": [
           {
            "colorbar": {
             "outlinewidth": 0,
             "ticks": ""
            },
            "colorscale": [
             [
              0,
              "#0d0887"
             ],
             [
              0.1111111111111111,
              "#46039f"
             ],
             [
              0.2222222222222222,
              "#7201a8"
             ],
             [
              0.3333333333333333,
              "#9c179e"
             ],
             [
              0.4444444444444444,
              "#bd3786"
             ],
             [
              0.5555555555555556,
              "#d8576b"
             ],
             [
              0.6666666666666666,
              "#ed7953"
             ],
             [
              0.7777777777777778,
              "#fb9f3a"
             ],
             [
              0.8888888888888888,
              "#fdca26"
             ],
             [
              1,
              "#f0f921"
             ]
            ],
            "type": "heatmapgl"
           }
          ],
          "histogram": [
           {
            "marker": {
             "pattern": {
              "fillmode": "overlay",
              "size": 10,
              "solidity": 0.2
             }
            },
            "type": "histogram"
           }
          ],
          "histogram2d": [
           {
            "colorbar": {
             "outlinewidth": 0,
             "ticks": ""
            },
            "colorscale": [
             [
              0,
              "#0d0887"
             ],
             [
              0.1111111111111111,
              "#46039f"
             ],
             [
              0.2222222222222222,
              "#7201a8"
             ],
             [
              0.3333333333333333,
              "#9c179e"
             ],
             [
              0.4444444444444444,
              "#bd3786"
             ],
             [
              0.5555555555555556,
              "#d8576b"
             ],
             [
              0.6666666666666666,
              "#ed7953"
             ],
             [
              0.7777777777777778,
              "#fb9f3a"
             ],
             [
              0.8888888888888888,
              "#fdca26"
             ],
             [
              1,
              "#f0f921"
             ]
            ],
            "type": "histogram2d"
           }
          ],
          "histogram2dcontour": [
           {
            "colorbar": {
             "outlinewidth": 0,
             "ticks": ""
            },
            "colorscale": [
             [
              0,
              "#0d0887"
             ],
             [
              0.1111111111111111,
              "#46039f"
             ],
             [
              0.2222222222222222,
              "#7201a8"
             ],
             [
              0.3333333333333333,
              "#9c179e"
             ],
             [
              0.4444444444444444,
              "#bd3786"
             ],
             [
              0.5555555555555556,
              "#d8576b"
             ],
             [
              0.6666666666666666,
              "#ed7953"
             ],
             [
              0.7777777777777778,
              "#fb9f3a"
             ],
             [
              0.8888888888888888,
              "#fdca26"
             ],
             [
              1,
              "#f0f921"
             ]
            ],
            "type": "histogram2dcontour"
           }
          ],
          "mesh3d": [
           {
            "colorbar": {
             "outlinewidth": 0,
             "ticks": ""
            },
            "type": "mesh3d"
           }
          ],
          "parcoords": [
           {
            "line": {
             "colorbar": {
              "outlinewidth": 0,
              "ticks": ""
             }
            },
            "type": "parcoords"
           }
          ],
          "pie": [
           {
            "automargin": true,
            "type": "pie"
           }
          ],
          "scatter": [
           {
            "fillpattern": {
             "fillmode": "overlay",
             "size": 10,
             "solidity": 0.2
            },
            "type": "scatter"
           }
          ],
          "scatter3d": [
           {
            "line": {
             "colorbar": {
              "outlinewidth": 0,
              "ticks": ""
             }
            },
            "marker": {
             "colorbar": {
              "outlinewidth": 0,
              "ticks": ""
             }
            },
            "type": "scatter3d"
           }
          ],
          "scattercarpet": [
           {
            "marker": {
             "colorbar": {
              "outlinewidth": 0,
              "ticks": ""
             }
            },
            "type": "scattercarpet"
           }
          ],
          "scattergeo": [
           {
            "marker": {
             "colorbar": {
              "outlinewidth": 0,
              "ticks": ""
             }
            },
            "type": "scattergeo"
           }
          ],
          "scattergl": [
           {
            "marker": {
             "colorbar": {
              "outlinewidth": 0,
              "ticks": ""
             }
            },
            "type": "scattergl"
           }
          ],
          "scattermapbox": [
           {
            "marker": {
             "colorbar": {
              "outlinewidth": 0,
              "ticks": ""
             }
            },
            "type": "scattermapbox"
           }
          ],
          "scatterpolar": [
           {
            "marker": {
             "colorbar": {
              "outlinewidth": 0,
              "ticks": ""
             }
            },
            "type": "scatterpolar"
           }
          ],
          "scatterpolargl": [
           {
            "marker": {
             "colorbar": {
              "outlinewidth": 0,
              "ticks": ""
             }
            },
            "type": "scatterpolargl"
           }
          ],
          "scatterternary": [
           {
            "marker": {
             "colorbar": {
              "outlinewidth": 0,
              "ticks": ""
             }
            },
            "type": "scatterternary"
           }
          ],
          "surface": [
           {
            "colorbar": {
             "outlinewidth": 0,
             "ticks": ""
            },
            "colorscale": [
             [
              0,
              "#0d0887"
             ],
             [
              0.1111111111111111,
              "#46039f"
             ],
             [
              0.2222222222222222,
              "#7201a8"
             ],
             [
              0.3333333333333333,
              "#9c179e"
             ],
             [
              0.4444444444444444,
              "#bd3786"
             ],
             [
              0.5555555555555556,
              "#d8576b"
             ],
             [
              0.6666666666666666,
              "#ed7953"
             ],
             [
              0.7777777777777778,
              "#fb9f3a"
             ],
             [
              0.8888888888888888,
              "#fdca26"
             ],
             [
              1,
              "#f0f921"
             ]
            ],
            "type": "surface"
           }
          ],
          "table": [
           {
            "cells": {
             "fill": {
              "color": "#EBF0F8"
             },
             "line": {
              "color": "white"
             }
            },
            "header": {
             "fill": {
              "color": "#C8D4E3"
             },
             "line": {
              "color": "white"
             }
            },
            "type": "table"
           }
          ]
         },
         "layout": {
          "annotationdefaults": {
           "arrowcolor": "#2a3f5f",
           "arrowhead": 0,
           "arrowwidth": 1
          },
          "autotypenumbers": "strict",
          "coloraxis": {
           "colorbar": {
            "outlinewidth": 0,
            "ticks": ""
           }
          },
          "colorscale": {
           "diverging": [
            [
             0,
             "#8e0152"
            ],
            [
             0.1,
             "#c51b7d"
            ],
            [
             0.2,
             "#de77ae"
            ],
            [
             0.3,
             "#f1b6da"
            ],
            [
             0.4,
             "#fde0ef"
            ],
            [
             0.5,
             "#f7f7f7"
            ],
            [
             0.6,
             "#e6f5d0"
            ],
            [
             0.7,
             "#b8e186"
            ],
            [
             0.8,
             "#7fbc41"
            ],
            [
             0.9,
             "#4d9221"
            ],
            [
             1,
             "#276419"
            ]
           ],
           "sequential": [
            [
             0,
             "#0d0887"
            ],
            [
             0.1111111111111111,
             "#46039f"
            ],
            [
             0.2222222222222222,
             "#7201a8"
            ],
            [
             0.3333333333333333,
             "#9c179e"
            ],
            [
             0.4444444444444444,
             "#bd3786"
            ],
            [
             0.5555555555555556,
             "#d8576b"
            ],
            [
             0.6666666666666666,
             "#ed7953"
            ],
            [
             0.7777777777777778,
             "#fb9f3a"
            ],
            [
             0.8888888888888888,
             "#fdca26"
            ],
            [
             1,
             "#f0f921"
            ]
           ],
           "sequentialminus": [
            [
             0,
             "#0d0887"
            ],
            [
             0.1111111111111111,
             "#46039f"
            ],
            [
             0.2222222222222222,
             "#7201a8"
            ],
            [
             0.3333333333333333,
             "#9c179e"
            ],
            [
             0.4444444444444444,
             "#bd3786"
            ],
            [
             0.5555555555555556,
             "#d8576b"
            ],
            [
             0.6666666666666666,
             "#ed7953"
            ],
            [
             0.7777777777777778,
             "#fb9f3a"
            ],
            [
             0.8888888888888888,
             "#fdca26"
            ],
            [
             1,
             "#f0f921"
            ]
           ]
          },
          "colorway": [
           "#636efa",
           "#EF553B",
           "#00cc96",
           "#ab63fa",
           "#FFA15A",
           "#19d3f3",
           "#FF6692",
           "#B6E880",
           "#FF97FF",
           "#FECB52"
          ],
          "font": {
           "color": "#2a3f5f"
          },
          "geo": {
           "bgcolor": "white",
           "lakecolor": "white",
           "landcolor": "white",
           "showlakes": true,
           "showland": true,
           "subunitcolor": "#C8D4E3"
          },
          "hoverlabel": {
           "align": "left"
          },
          "hovermode": "closest",
          "mapbox": {
           "style": "light"
          },
          "paper_bgcolor": "white",
          "plot_bgcolor": "white",
          "polar": {
           "angularaxis": {
            "gridcolor": "#EBF0F8",
            "linecolor": "#EBF0F8",
            "ticks": ""
           },
           "bgcolor": "white",
           "radialaxis": {
            "gridcolor": "#EBF0F8",
            "linecolor": "#EBF0F8",
            "ticks": ""
           }
          },
          "scene": {
           "xaxis": {
            "backgroundcolor": "white",
            "gridcolor": "#DFE8F3",
            "gridwidth": 2,
            "linecolor": "#EBF0F8",
            "showbackground": true,
            "ticks": "",
            "zerolinecolor": "#EBF0F8"
           },
           "yaxis": {
            "backgroundcolor": "white",
            "gridcolor": "#DFE8F3",
            "gridwidth": 2,
            "linecolor": "#EBF0F8",
            "showbackground": true,
            "ticks": "",
            "zerolinecolor": "#EBF0F8"
           },
           "zaxis": {
            "backgroundcolor": "white",
            "gridcolor": "#DFE8F3",
            "gridwidth": 2,
            "linecolor": "#EBF0F8",
            "showbackground": true,
            "ticks": "",
            "zerolinecolor": "#EBF0F8"
           }
          },
          "shapedefaults": {
           "line": {
            "color": "#2a3f5f"
           }
          },
          "ternary": {
           "aaxis": {
            "gridcolor": "#DFE8F3",
            "linecolor": "#A2B1C6",
            "ticks": ""
           },
           "baxis": {
            "gridcolor": "#DFE8F3",
            "linecolor": "#A2B1C6",
            "ticks": ""
           },
           "bgcolor": "white",
           "caxis": {
            "gridcolor": "#DFE8F3",
            "linecolor": "#A2B1C6",
            "ticks": ""
           }
          },
          "title": {
           "x": 0.05
          },
          "xaxis": {
           "automargin": true,
           "gridcolor": "#EBF0F8",
           "linecolor": "#EBF0F8",
           "ticks": "",
           "title": {
            "standoff": 15
           },
           "zerolinecolor": "#EBF0F8",
           "zerolinewidth": 2
          },
          "yaxis": {
           "automargin": true,
           "gridcolor": "#EBF0F8",
           "linecolor": "#EBF0F8",
           "ticks": "",
           "title": {
            "standoff": 15
           },
           "zerolinecolor": "#EBF0F8",
           "zerolinewidth": 2
          }
         }
        },
        "title": {
         "text": "Weight vs Total SCFA Over Time (6-Month Interval Means)"
        },
        "xaxis": {
         "dtick": "M3",
         "tickformat": "%b %Y",
         "title": {
          "text": "Date"
         }
        },
        "yaxis": {
         "side": "left",
         "title": {
          "text": "Weight (lbs)"
         }
        },
        "yaxis2": {
         "overlaying": "y",
         "side": "right",
         "title": {
          "text": "Total SCFA (mg/mL)"
         }
        }
       }
      }
     },
     "metadata": {},
     "output_type": "display_data"
    },
    {
     "data": {
      "application/vnd.plotly.v1+json": {
       "config": {
        "plotlyServerURL": "https://plot.ly"
       },
       "data": [
        {
         "line": {
          "color": "black",
          "width": 3
         },
         "mode": "lines+markers",
         "name": "Weight (lbs)",
         "type": "scatter",
         "x": [
          "2008-09-30T00:00:00",
          "2009-09-30T00:00:00",
          "2010-09-30T00:00:00",
          "2011-09-30T00:00:00",
          "2012-09-30T00:00:00",
          "2013-09-30T00:00:00",
          "2014-09-30T00:00:00",
          "2015-09-30T00:00:00",
          "2016-09-30T00:00:00",
          "2017-09-30T00:00:00",
          "2018-09-30T00:00:00",
          "2019-09-30T00:00:00",
          "2020-09-30T00:00:00",
          "2021-09-30T00:00:00",
          "2022-09-30T00:00:00",
          "2023-09-30T00:00:00",
          "2024-09-30T00:00:00",
          "2025-09-30T00:00:00"
         ],
         "y": [
          183,
          183.63333333333333,
          180.5,
          182.5,
          185.77777777777777,
          183.70000000000002,
          188.32222222222222,
          191.7888888888889,
          192.55454545454543,
          194.24642857142857,
          189.89473684210526,
          184.3181818181818,
          185.04999999999998,
          172.99,
          170.9125,
          176.0666666666667,
          176.16,
          178.075
         ]
        },
        {
         "line": {
          "color": "blue",
          "width": 2
         },
         "mode": "lines+markers",
         "name": "Total SCFA (mg/mL)",
         "type": "scatter",
         "x": [
          "2008-09-30T00:00:00",
          "2009-09-30T00:00:00",
          "2010-09-30T00:00:00",
          "2011-09-30T00:00:00",
          "2012-09-30T00:00:00",
          "2013-09-30T00:00:00",
          "2014-09-30T00:00:00",
          "2015-09-30T00:00:00",
          "2016-09-30T00:00:00",
          "2017-09-30T00:00:00",
          "2018-09-30T00:00:00",
          "2019-09-30T00:00:00",
          "2020-09-30T00:00:00",
          "2021-09-30T00:00:00",
          "2022-09-30T00:00:00",
          "2023-09-30T00:00:00",
          "2024-09-30T00:00:00",
          "2025-09-30T00:00:00"
         ],
         "y": [
          3.5,
          7.266666666666667,
          13,
          9.35,
          7.1,
          7.071428571428571,
          9.822222222222223,
          9.266666666666667,
          8.6,
          7.4071428571428575,
          7.921052631578948,
          8.018181818181818,
          6.091666666666666,
          5.720000000000001,
          5.6875,
          4.7,
          4.7700000000000005,
          6.85
         ],
         "yaxis": "y2"
        }
       ],
       "layout": {
        "legend": {
         "bordercolor": "lightgray",
         "borderwidth": 1,
         "x": 0.01,
         "y": 0.99
        },
        "template": {
         "data": {
          "bar": [
           {
            "error_x": {
             "color": "#2a3f5f"
            },
            "error_y": {
             "color": "#2a3f5f"
            },
            "marker": {
             "line": {
              "color": "white",
              "width": 0.5
             },
             "pattern": {
              "fillmode": "overlay",
              "size": 10,
              "solidity": 0.2
             }
            },
            "type": "bar"
           }
          ],
          "barpolar": [
           {
            "marker": {
             "line": {
              "color": "white",
              "width": 0.5
             },
             "pattern": {
              "fillmode": "overlay",
              "size": 10,
              "solidity": 0.2
             }
            },
            "type": "barpolar"
           }
          ],
          "carpet": [
           {
            "aaxis": {
             "endlinecolor": "#2a3f5f",
             "gridcolor": "#C8D4E3",
             "linecolor": "#C8D4E3",
             "minorgridcolor": "#C8D4E3",
             "startlinecolor": "#2a3f5f"
            },
            "baxis": {
             "endlinecolor": "#2a3f5f",
             "gridcolor": "#C8D4E3",
             "linecolor": "#C8D4E3",
             "minorgridcolor": "#C8D4E3",
             "startlinecolor": "#2a3f5f"
            },
            "type": "carpet"
           }
          ],
          "choropleth": [
           {
            "colorbar": {
             "outlinewidth": 0,
             "ticks": ""
            },
            "type": "choropleth"
           }
          ],
          "contour": [
           {
            "colorbar": {
             "outlinewidth": 0,
             "ticks": ""
            },
            "colorscale": [
             [
              0,
              "#0d0887"
             ],
             [
              0.1111111111111111,
              "#46039f"
             ],
             [
              0.2222222222222222,
              "#7201a8"
             ],
             [
              0.3333333333333333,
              "#9c179e"
             ],
             [
              0.4444444444444444,
              "#bd3786"
             ],
             [
              0.5555555555555556,
              "#d8576b"
             ],
             [
              0.6666666666666666,
              "#ed7953"
             ],
             [
              0.7777777777777778,
              "#fb9f3a"
             ],
             [
              0.8888888888888888,
              "#fdca26"
             ],
             [
              1,
              "#f0f921"
             ]
            ],
            "type": "contour"
           }
          ],
          "contourcarpet": [
           {
            "colorbar": {
             "outlinewidth": 0,
             "ticks": ""
            },
            "type": "contourcarpet"
           }
          ],
          "heatmap": [
           {
            "colorbar": {
             "outlinewidth": 0,
             "ticks": ""
            },
            "colorscale": [
             [
              0,
              "#0d0887"
             ],
             [
              0.1111111111111111,
              "#46039f"
             ],
             [
              0.2222222222222222,
              "#7201a8"
             ],
             [
              0.3333333333333333,
              "#9c179e"
             ],
             [
              0.4444444444444444,
              "#bd3786"
             ],
             [
              0.5555555555555556,
              "#d8576b"
             ],
             [
              0.6666666666666666,
              "#ed7953"
             ],
             [
              0.7777777777777778,
              "#fb9f3a"
             ],
             [
              0.8888888888888888,
              "#fdca26"
             ],
             [
              1,
              "#f0f921"
             ]
            ],
            "type": "heatmap"
           }
          ],
          "heatmapgl": [
           {
            "colorbar": {
             "outlinewidth": 0,
             "ticks": ""
            },
            "colorscale": [
             [
              0,
              "#0d0887"
             ],
             [
              0.1111111111111111,
              "#46039f"
             ],
             [
              0.2222222222222222,
              "#7201a8"
             ],
             [
              0.3333333333333333,
              "#9c179e"
             ],
             [
              0.4444444444444444,
              "#bd3786"
             ],
             [
              0.5555555555555556,
              "#d8576b"
             ],
             [
              0.6666666666666666,
              "#ed7953"
             ],
             [
              0.7777777777777778,
              "#fb9f3a"
             ],
             [
              0.8888888888888888,
              "#fdca26"
             ],
             [
              1,
              "#f0f921"
             ]
            ],
            "type": "heatmapgl"
           }
          ],
          "histogram": [
           {
            "marker": {
             "pattern": {
              "fillmode": "overlay",
              "size": 10,
              "solidity": 0.2
             }
            },
            "type": "histogram"
           }
          ],
          "histogram2d": [
           {
            "colorbar": {
             "outlinewidth": 0,
             "ticks": ""
            },
            "colorscale": [
             [
              0,
              "#0d0887"
             ],
             [
              0.1111111111111111,
              "#46039f"
             ],
             [
              0.2222222222222222,
              "#7201a8"
             ],
             [
              0.3333333333333333,
              "#9c179e"
             ],
             [
              0.4444444444444444,
              "#bd3786"
             ],
             [
              0.5555555555555556,
              "#d8576b"
             ],
             [
              0.6666666666666666,
              "#ed7953"
             ],
             [
              0.7777777777777778,
              "#fb9f3a"
             ],
             [
              0.8888888888888888,
              "#fdca26"
             ],
             [
              1,
              "#f0f921"
             ]
            ],
            "type": "histogram2d"
           }
          ],
          "histogram2dcontour": [
           {
            "colorbar": {
             "outlinewidth": 0,
             "ticks": ""
            },
            "colorscale": [
             [
              0,
              "#0d0887"
             ],
             [
              0.1111111111111111,
              "#46039f"
             ],
             [
              0.2222222222222222,
              "#7201a8"
             ],
             [
              0.3333333333333333,
              "#9c179e"
             ],
             [
              0.4444444444444444,
              "#bd3786"
             ],
             [
              0.5555555555555556,
              "#d8576b"
             ],
             [
              0.6666666666666666,
              "#ed7953"
             ],
             [
              0.7777777777777778,
              "#fb9f3a"
             ],
             [
              0.8888888888888888,
              "#fdca26"
             ],
             [
              1,
              "#f0f921"
             ]
            ],
            "type": "histogram2dcontour"
           }
          ],
          "mesh3d": [
           {
            "colorbar": {
             "outlinewidth": 0,
             "ticks": ""
            },
            "type": "mesh3d"
           }
          ],
          "parcoords": [
           {
            "line": {
             "colorbar": {
              "outlinewidth": 0,
              "ticks": ""
             }
            },
            "type": "parcoords"
           }
          ],
          "pie": [
           {
            "automargin": true,
            "type": "pie"
           }
          ],
          "scatter": [
           {
            "fillpattern": {
             "fillmode": "overlay",
             "size": 10,
             "solidity": 0.2
            },
            "type": "scatter"
           }
          ],
          "scatter3d": [
           {
            "line": {
             "colorbar": {
              "outlinewidth": 0,
              "ticks": ""
             }
            },
            "marker": {
             "colorbar": {
              "outlinewidth": 0,
              "ticks": ""
             }
            },
            "type": "scatter3d"
           }
          ],
          "scattercarpet": [
           {
            "marker": {
             "colorbar": {
              "outlinewidth": 0,
              "ticks": ""
             }
            },
            "type": "scattercarpet"
           }
          ],
          "scattergeo": [
           {
            "marker": {
             "colorbar": {
              "outlinewidth": 0,
              "ticks": ""
             }
            },
            "type": "scattergeo"
           }
          ],
          "scattergl": [
           {
            "marker": {
             "colorbar": {
              "outlinewidth": 0,
              "ticks": ""
             }
            },
            "type": "scattergl"
           }
          ],
          "scattermapbox": [
           {
            "marker": {
             "colorbar": {
              "outlinewidth": 0,
              "ticks": ""
             }
            },
            "type": "scattermapbox"
           }
          ],
          "scatterpolar": [
           {
            "marker": {
             "colorbar": {
              "outlinewidth": 0,
              "ticks": ""
             }
            },
            "type": "scatterpolar"
           }
          ],
          "scatterpolargl": [
           {
            "marker": {
             "colorbar": {
              "outlinewidth": 0,
              "ticks": ""
             }
            },
            "type": "scatterpolargl"
           }
          ],
          "scatterternary": [
           {
            "marker": {
             "colorbar": {
              "outlinewidth": 0,
              "ticks": ""
             }
            },
            "type": "scatterternary"
           }
          ],
          "surface": [
           {
            "colorbar": {
             "outlinewidth": 0,
             "ticks": ""
            },
            "colorscale": [
             [
              0,
              "#0d0887"
             ],
             [
              0.1111111111111111,
              "#46039f"
             ],
             [
              0.2222222222222222,
              "#7201a8"
             ],
             [
              0.3333333333333333,
              "#9c179e"
             ],
             [
              0.4444444444444444,
              "#bd3786"
             ],
             [
              0.5555555555555556,
              "#d8576b"
             ],
             [
              0.6666666666666666,
              "#ed7953"
             ],
             [
              0.7777777777777778,
              "#fb9f3a"
             ],
             [
              0.8888888888888888,
              "#fdca26"
             ],
             [
              1,
              "#f0f921"
             ]
            ],
            "type": "surface"
           }
          ],
          "table": [
           {
            "cells": {
             "fill": {
              "color": "#EBF0F8"
             },
             "line": {
              "color": "white"
             }
            },
            "header": {
             "fill": {
              "color": "#C8D4E3"
             },
             "line": {
              "color": "white"
             }
            },
            "type": "table"
           }
          ]
         },
         "layout": {
          "annotationdefaults": {
           "arrowcolor": "#2a3f5f",
           "arrowhead": 0,
           "arrowwidth": 1
          },
          "autotypenumbers": "strict",
          "coloraxis": {
           "colorbar": {
            "outlinewidth": 0,
            "ticks": ""
           }
          },
          "colorscale": {
           "diverging": [
            [
             0,
             "#8e0152"
            ],
            [
             0.1,
             "#c51b7d"
            ],
            [
             0.2,
             "#de77ae"
            ],
            [
             0.3,
             "#f1b6da"
            ],
            [
             0.4,
             "#fde0ef"
            ],
            [
             0.5,
             "#f7f7f7"
            ],
            [
             0.6,
             "#e6f5d0"
            ],
            [
             0.7,
             "#b8e186"
            ],
            [
             0.8,
             "#7fbc41"
            ],
            [
             0.9,
             "#4d9221"
            ],
            [
             1,
             "#276419"
            ]
           ],
           "sequential": [
            [
             0,
             "#0d0887"
            ],
            [
             0.1111111111111111,
             "#46039f"
            ],
            [
             0.2222222222222222,
             "#7201a8"
            ],
            [
             0.3333333333333333,
             "#9c179e"
            ],
            [
             0.4444444444444444,
             "#bd3786"
            ],
            [
             0.5555555555555556,
             "#d8576b"
            ],
            [
             0.6666666666666666,
             "#ed7953"
            ],
            [
             0.7777777777777778,
             "#fb9f3a"
            ],
            [
             0.8888888888888888,
             "#fdca26"
            ],
            [
             1,
             "#f0f921"
            ]
           ],
           "sequentialminus": [
            [
             0,
             "#0d0887"
            ],
            [
             0.1111111111111111,
             "#46039f"
            ],
            [
             0.2222222222222222,
             "#7201a8"
            ],
            [
             0.3333333333333333,
             "#9c179e"
            ],
            [
             0.4444444444444444,
             "#bd3786"
            ],
            [
             0.5555555555555556,
             "#d8576b"
            ],
            [
             0.6666666666666666,
             "#ed7953"
            ],
            [
             0.7777777777777778,
             "#fb9f3a"
            ],
            [
             0.8888888888888888,
             "#fdca26"
            ],
            [
             1,
             "#f0f921"
            ]
           ]
          },
          "colorway": [
           "#636efa",
           "#EF553B",
           "#00cc96",
           "#ab63fa",
           "#FFA15A",
           "#19d3f3",
           "#FF6692",
           "#B6E880",
           "#FF97FF",
           "#FECB52"
          ],
          "font": {
           "color": "#2a3f5f"
          },
          "geo": {
           "bgcolor": "white",
           "lakecolor": "white",
           "landcolor": "white",
           "showlakes": true,
           "showland": true,
           "subunitcolor": "#C8D4E3"
          },
          "hoverlabel": {
           "align": "left"
          },
          "hovermode": "closest",
          "mapbox": {
           "style": "light"
          },
          "paper_bgcolor": "white",
          "plot_bgcolor": "white",
          "polar": {
           "angularaxis": {
            "gridcolor": "#EBF0F8",
            "linecolor": "#EBF0F8",
            "ticks": ""
           },
           "bgcolor": "white",
           "radialaxis": {
            "gridcolor": "#EBF0F8",
            "linecolor": "#EBF0F8",
            "ticks": ""
           }
          },
          "scene": {
           "xaxis": {
            "backgroundcolor": "white",
            "gridcolor": "#DFE8F3",
            "gridwidth": 2,
            "linecolor": "#EBF0F8",
            "showbackground": true,
            "ticks": "",
            "zerolinecolor": "#EBF0F8"
           },
           "yaxis": {
            "backgroundcolor": "white",
            "gridcolor": "#DFE8F3",
            "gridwidth": 2,
            "linecolor": "#EBF0F8",
            "showbackground": true,
            "ticks": "",
            "zerolinecolor": "#EBF0F8"
           },
           "zaxis": {
            "backgroundcolor": "white",
            "gridcolor": "#DFE8F3",
            "gridwidth": 2,
            "linecolor": "#EBF0F8",
            "showbackground": true,
            "ticks": "",
            "zerolinecolor": "#EBF0F8"
           }
          },
          "shapedefaults": {
           "line": {
            "color": "#2a3f5f"
           }
          },
          "ternary": {
           "aaxis": {
            "gridcolor": "#DFE8F3",
            "linecolor": "#A2B1C6",
            "ticks": ""
           },
           "baxis": {
            "gridcolor": "#DFE8F3",
            "linecolor": "#A2B1C6",
            "ticks": ""
           },
           "bgcolor": "white",
           "caxis": {
            "gridcolor": "#DFE8F3",
            "linecolor": "#A2B1C6",
            "ticks": ""
           }
          },
          "title": {
           "x": 0.05
          },
          "xaxis": {
           "automargin": true,
           "gridcolor": "#EBF0F8",
           "linecolor": "#EBF0F8",
           "ticks": "",
           "title": {
            "standoff": 15
           },
           "zerolinecolor": "#EBF0F8",
           "zerolinewidth": 2
          },
          "yaxis": {
           "automargin": true,
           "gridcolor": "#EBF0F8",
           "linecolor": "#EBF0F8",
           "ticks": "",
           "title": {
            "standoff": 15
           },
           "zerolinecolor": "#EBF0F8",
           "zerolinewidth": 2
          }
         }
        },
        "title": {
         "text": "Weight vs Total SCFA Over Time (Yearly Interval Means)"
        },
        "xaxis": {
         "dtick": "M3",
         "tickformat": "%b %Y",
         "title": {
          "text": "Date"
         }
        },
        "yaxis": {
         "side": "left",
         "title": {
          "text": "Weight (lbs)"
         }
        },
        "yaxis2": {
         "overlaying": "y",
         "side": "right",
         "title": {
          "text": "Total SCFA (mg/mL)"
         }
        }
       }
      }
     },
     "metadata": {},
     "output_type": "display_data"
    },
    {
     "data": {
      "text/html": [
       "<div>\n",
       "<style scoped>\n",
       "    .dataframe tbody tr th:only-of-type {\n",
       "        vertical-align: middle;\n",
       "    }\n",
       "\n",
       "    .dataframe tbody tr th {\n",
       "        vertical-align: top;\n",
       "    }\n",
       "\n",
       "    .dataframe thead th {\n",
       "        text-align: right;\n",
       "    }\n",
       "</style>\n",
       "<table border=\"1\" class=\"dataframe\">\n",
       "  <thead>\n",
       "    <tr style=\"text-align: right;\">\n",
       "      <th></th>\n",
       "      <th>Interval</th>\n",
       "      <th>N bins</th>\n",
       "      <th>Pearson r</th>\n",
       "      <th>Pearson p</th>\n",
       "      <th>Spearman r</th>\n",
       "      <th>Spearman p</th>\n",
       "    </tr>\n",
       "  </thead>\n",
       "  <tbody>\n",
       "    <tr>\n",
       "      <th>0</th>\n",
       "      <td>1-Month</td>\n",
       "      <td>133</td>\n",
       "      <td>0.412</td>\n",
       "      <td>8.15e-07</td>\n",
       "      <td>0.453</td>\n",
       "      <td>4.45e-08</td>\n",
       "    </tr>\n",
       "    <tr>\n",
       "      <th>1</th>\n",
       "      <td>3-Month</td>\n",
       "      <td>61</td>\n",
       "      <td>0.464</td>\n",
       "      <td>0.000165</td>\n",
       "      <td>0.501</td>\n",
       "      <td>3.91e-05</td>\n",
       "    </tr>\n",
       "    <tr>\n",
       "      <th>2</th>\n",
       "      <td>6-Month</td>\n",
       "      <td>33</td>\n",
       "      <td>0.492</td>\n",
       "      <td>0.00362</td>\n",
       "      <td>0.585</td>\n",
       "      <td>0.000354</td>\n",
       "    </tr>\n",
       "    <tr>\n",
       "      <th>3</th>\n",
       "      <td>Yearly</td>\n",
       "      <td>18</td>\n",
       "      <td>0.412</td>\n",
       "      <td>0.0896</td>\n",
       "      <td>0.550</td>\n",
       "      <td>0.018</td>\n",
       "    </tr>\n",
       "  </tbody>\n",
       "</table>\n",
       "</div>"
      ],
      "text/plain": [
       "  Interval  N bins  Pearson r Pearson p  Spearman r Spearman p\n",
       "0  1-Month     133      0.412  8.15e-07       0.453   4.45e-08\n",
       "1  3-Month      61      0.464  0.000165       0.501   3.91e-05\n",
       "2  6-Month      33      0.492   0.00362       0.585   0.000354\n",
       "3   Yearly      18      0.412    0.0896       0.550      0.018"
      ]
     },
     "execution_count": 49,
     "metadata": {},
     "output_type": "execute_result"
    }
   ],
   "source": [
    "# prep \n",
    "df_plot = df_wideBioDairyLS.dropna(subset=[\"Total SCFA_mg/mL\"]).copy()\n",
    "df_plot[\"Date\"] = pd.to_datetime(df_plot[\"Date\"], errors=\"coerce\")\n",
    "df_plot = df_plot.sort_values(\"Date\").set_index(\"Date\")\n",
    "\n",
    "# interval order: 1M, 3M, 6M, 12M\n",
    "intervals = [\n",
    "                (\"1M\",  \"1-Month\"),\n",
    "                (\"3M\",  \"3-Month\"),\n",
    "                (\"6M\",  \"6-Month\"),\n",
    "                (\"12M\", \"Yearly\"),\n",
    "]\n",
    "\n",
    "results = []\n",
    "\n",
    "for rule, label in intervals:\n",
    "    # resample to interval bins (non-overlapping), take mean within each bin\n",
    "    df_bin = df_plot[[\"Weight_lbs\", \"Total SCFA_mg/mL\"]].resample(rule).mean().dropna().reset_index()\n",
    "\n",
    "    x_time   = df_bin[\"Date\"]\n",
    "    y_weight = df_bin[\"Weight_lbs\"]\n",
    "    y_scfa   = df_bin[\"Total SCFA_mg/mL\"]\n",
    "\n",
    "    # quick stats\n",
    "    if len(df_bin) >= 3:\n",
    "        pr, pp = pearsonr(y_weight, y_scfa)\n",
    "        sr, sp = spearmanr(y_weight, y_scfa)\n",
    "    else:\n",
    "        pr = pp = sr = sp = float(\"nan\")\n",
    "\n",
    "    results.append({\n",
    "                    \"Interval\": label,\n",
    "                    \"N bins\": len(df_bin),\n",
    "                    \"Pearson r\": round(pr, 3) if pd.notna(pr) else pr,\n",
    "                    \"Pearson p\": f\"{pp:.3g}\" if pd.notna(pp) else pp,\n",
    "                    \"Spearman r\": round(sr, 3) if pd.notna(sr) else sr,\n",
    "                    \"Spearman p\": f\"{sp:.3g}\" if pd.notna(sp) else sp,\n",
    "    })\n",
    "\n",
    "    # plot \n",
    "    fig = go.Figure()\n",
    "\n",
    "    # Weight (left axis)\n",
    "    fig.add_trace(go.Scatter(\n",
    "                                x=x_time, \n",
    "                                y=y_weight,\n",
    "                                mode=\"lines+markers\",\n",
    "                                name=\"Weight (lbs)\",\n",
    "                                line=dict(width=3, color=\"black\"),\n",
    "    ))\n",
    "\n",
    "    # SCFA (right axis)\n",
    "    fig.add_trace(go.Scatter(\n",
    "                                x=x_time, \n",
    "                                y=y_scfa,\n",
    "                                mode=\"lines+markers\",\n",
    "                                name=\"Total SCFA (mg/mL)\",\n",
    "                                line=dict(width=2, color=\"blue\"),\n",
    "                                yaxis=\"y2\"\n",
    "    ))\n",
    "\n",
    "    fig.update_layout(\n",
    "                        title=f\"Weight vs Total SCFA Over Time ({label} Interval Means)\",\n",
    "                        xaxis=dict(title=\"Date\", dtick=\"M3\", tickformat=\"%b %Y\"),\n",
    "                        yaxis=dict(title=\"Weight (lbs)\", side=\"left\"),\n",
    "                        yaxis2=dict(title=\"Total SCFA (mg/mL)\", overlaying=\"y\", side=\"right\"),\n",
    "                        legend=dict(x=0.01, y=0.99, bordercolor=\"lightgray\", borderwidth=1),\n",
    "                        template=\"plotly_white\"\n",
    "    )\n",
    "\n",
    "    fig.show()\n",
    "\n",
    "# summary table\n",
    "df_results = pd.DataFrame(results, columns=[\"Interval\",\"N bins\",\"Pearson r\",\"Pearson p\",\"Spearman r\",\"Spearman p\"])\n",
    "df_results"
   ]
  }
 ],
 "metadata": {
  "kernelspec": {
   "display_name": "basic",
   "language": "python",
   "name": "python3"
  },
  "language_info": {
   "codemirror_mode": {
    "name": "ipython",
    "version": 3
   },
   "file_extension": ".py",
   "mimetype": "text/x-python",
   "name": "python",
   "nbconvert_exporter": "python",
   "pygments_lexer": "ipython3",
   "version": "3.11.11"
  }
 },
 "nbformat": 4,
 "nbformat_minor": 5
}
