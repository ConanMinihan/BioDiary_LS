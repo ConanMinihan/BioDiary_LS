{
 "cells": [
  {
   "cell_type": "code",
   "execution_count": 43,
   "id": "e70416c5",
   "metadata": {},
   "outputs": [],
   "source": [
    "import matplotlib.pyplot as plt\n",
    "import numpy as np\n",
    "import pandas as pd\n",
    "import plotly.express as px\n",
    "import plotly.graph_objects as go\n",
    "import re\n",
    "import seaborn as sns\n",
    "import statsmodels.api as sm\n",
    "import warnings\n",
    "\n",
    "from scipy.stats import pearsonr, spearmanr\n",
    "warnings.simplefilter(action='ignore', category=FutureWarning)\n"
   ]
  },
  {
   "cell_type": "markdown",
   "id": "3630509b",
   "metadata": {},
   "source": [
    "# Filepaths"
   ]
  },
  {
   "cell_type": "code",
   "execution_count": 61,
   "id": "27ebdae2",
   "metadata": {},
   "outputs": [],
   "source": [
    "fp_biomarkersWide = \"/Data/LS_Biomarkers_Wide.csv\"\n",
    "fp_biomarkersLong = \"/Data/LS_Biomarkers_Long.csv\"\n",
    "fp_microbiomeWide = \"Data/LS_Biomarkers_Wide.csv\"\n",
    "fp_microbiomeLong = \"Data/LS_Gut_Microbiome_Long.csv\"\n",
    "fp_microbiomeSummary = \"/Data/LS_Gut_Microbiome_Summary.csv\"\n"
   ]
  },
  {
   "cell_type": "code",
   "execution_count": null,
   "id": "c26cb234",
   "metadata": {},
   "outputs": [],
   "source": [
    "df_wideBioDairyLS = pd.read_csv(fp_wide)\n",
    "df_wideBioDairyLSb"
   ]
  },
  {
   "cell_type": "code",
   "execution_count": 52,
   "id": "dd710cb7",
   "metadata": {},
   "outputs": [
    {
     "ename": "TypeError",
     "evalue": "'>=' not supported between instances of 'float' and 'str'",
     "output_type": "error",
     "traceback": [
      "\u001b[0;31m---------------------------------------------------------------------------\u001b[0m",
      "\u001b[0;31mTypeError\u001b[0m                                 Traceback (most recent call last)",
      "Cell \u001b[0;32mIn[52], line 6\u001b[0m\n\u001b[1;32m      1\u001b[0m \u001b[38;5;66;03m# Summary of columns in the with number of values, completion, max, average, min, std,, and data type\u001b[39;00m\n\u001b[1;32m      2\u001b[0m df_colSummary \u001b[38;5;241m=\u001b[39m pd\u001b[38;5;241m.\u001b[39mDataFrame({\n\u001b[1;32m      3\u001b[0m                                 \u001b[38;5;124m\"\u001b[39m\u001b[38;5;124mColumn\u001b[39m\u001b[38;5;124m\"\u001b[39m: df_wideBioDairyLS\u001b[38;5;241m.\u001b[39mcolumns,\n\u001b[1;32m      4\u001b[0m                                 \u001b[38;5;124m\"\u001b[39m\u001b[38;5;124m# Values\u001b[39m\u001b[38;5;124m\"\u001b[39m: df_wideBioDairyLS\u001b[38;5;241m.\u001b[39mnotna()\u001b[38;5;241m.\u001b[39msum()\u001b[38;5;241m.\u001b[39mvalues,\n\u001b[1;32m      5\u001b[0m                                 \u001b[38;5;124m\"\u001b[39m\u001b[38;5;124mCompletion\u001b[39m\u001b[38;5;124m\"\u001b[39m: (df_wideBioDairyLS\u001b[38;5;241m.\u001b[39mnotna()\u001b[38;5;241m.\u001b[39msum()\u001b[38;5;241m.\u001b[39mvalues \u001b[38;5;241m/\u001b[39m \u001b[38;5;28mlen\u001b[39m(df_wideBioDairyLS))\u001b[38;5;241m.\u001b[39mround(\u001b[38;5;241m2\u001b[39m),\n\u001b[0;32m----> 6\u001b[0m                                 \u001b[38;5;124m\"\u001b[39m\u001b[38;5;124mMax\u001b[39m\u001b[38;5;124m\"\u001b[39m: \u001b[43mdf_wideBioDairyLS\u001b[49m\u001b[38;5;241;43m.\u001b[39;49m\u001b[43mmax\u001b[49m\u001b[43m(\u001b[49m\u001b[43m)\u001b[49m\u001b[38;5;241m.\u001b[39mvalues,\n\u001b[1;32m      7\u001b[0m                                 \u001b[38;5;124m\"\u001b[39m\u001b[38;5;124mAverage\u001b[39m\u001b[38;5;124m\"\u001b[39m: df_wideBioDairyLS\u001b[38;5;241m.\u001b[39mmean()\u001b[38;5;241m.\u001b[39mvalues,\n\u001b[1;32m      8\u001b[0m                                 \u001b[38;5;124m\"\u001b[39m\u001b[38;5;124mMin\u001b[39m\u001b[38;5;124m\"\u001b[39m: df_wideBioDairyLS\u001b[38;5;241m.\u001b[39mmin()\u001b[38;5;241m.\u001b[39mvalues,\n\u001b[1;32m      9\u001b[0m                                 \u001b[38;5;124m\"\u001b[39m\u001b[38;5;124mStd\u001b[39m\u001b[38;5;124m\"\u001b[39m: df_wideBioDairyLS\u001b[38;5;241m.\u001b[39mstd()\u001b[38;5;241m.\u001b[39mvalues,\n\u001b[1;32m     10\u001b[0m                                 \u001b[38;5;124m\"\u001b[39m\u001b[38;5;124mData Type\u001b[39m\u001b[38;5;124m\"\u001b[39m: df_wideBioDairyLS\u001b[38;5;241m.\u001b[39mdtypes\u001b[38;5;241m.\u001b[39mvalues\n\u001b[1;32m     11\u001b[0m })\n\u001b[1;32m     13\u001b[0m \u001b[38;5;66;03m# Display all rows only within this cell\u001b[39;00m\n\u001b[1;32m     14\u001b[0m \u001b[38;5;28;01mwith\u001b[39;00m pd\u001b[38;5;241m.\u001b[39moption_context(\u001b[38;5;124m\"\u001b[39m\u001b[38;5;124mdisplay.max_rows\u001b[39m\u001b[38;5;124m\"\u001b[39m, \u001b[38;5;28;01mNone\u001b[39;00m):\n",
      "File \u001b[0;32m~/anaconda3/envs/basic/lib/python3.11/site-packages/pandas/core/frame.py:11656\u001b[0m, in \u001b[0;36mDataFrame.max\u001b[0;34m(self, axis, skipna, numeric_only, **kwargs)\u001b[0m\n\u001b[1;32m  11648\u001b[0m \u001b[38;5;129m@doc\u001b[39m(make_doc(\u001b[38;5;124m\"\u001b[39m\u001b[38;5;124mmax\u001b[39m\u001b[38;5;124m\"\u001b[39m, ndim\u001b[38;5;241m=\u001b[39m\u001b[38;5;241m2\u001b[39m))\n\u001b[1;32m  11649\u001b[0m \u001b[38;5;28;01mdef\u001b[39;00m\u001b[38;5;250m \u001b[39m\u001b[38;5;21mmax\u001b[39m(\n\u001b[1;32m  11650\u001b[0m     \u001b[38;5;28mself\u001b[39m,\n\u001b[0;32m   (...)\u001b[0m\n\u001b[1;32m  11654\u001b[0m     \u001b[38;5;241m*\u001b[39m\u001b[38;5;241m*\u001b[39mkwargs,\n\u001b[1;32m  11655\u001b[0m ):\n\u001b[0;32m> 11656\u001b[0m     result \u001b[38;5;241m=\u001b[39m \u001b[38;5;28;43msuper\u001b[39;49m\u001b[43m(\u001b[49m\u001b[43m)\u001b[49m\u001b[38;5;241;43m.\u001b[39;49m\u001b[43mmax\u001b[49m\u001b[43m(\u001b[49m\u001b[43maxis\u001b[49m\u001b[43m,\u001b[49m\u001b[43m \u001b[49m\u001b[43mskipna\u001b[49m\u001b[43m,\u001b[49m\u001b[43m \u001b[49m\u001b[43mnumeric_only\u001b[49m\u001b[43m,\u001b[49m\u001b[43m \u001b[49m\u001b[38;5;241;43m*\u001b[39;49m\u001b[38;5;241;43m*\u001b[39;49m\u001b[43mkwargs\u001b[49m\u001b[43m)\u001b[49m\n\u001b[1;32m  11657\u001b[0m     \u001b[38;5;28;01mif\u001b[39;00m \u001b[38;5;28misinstance\u001b[39m(result, Series):\n\u001b[1;32m  11658\u001b[0m         result \u001b[38;5;241m=\u001b[39m result\u001b[38;5;241m.\u001b[39m__finalize__(\u001b[38;5;28mself\u001b[39m, method\u001b[38;5;241m=\u001b[39m\u001b[38;5;124m\"\u001b[39m\u001b[38;5;124mmax\u001b[39m\u001b[38;5;124m\"\u001b[39m)\n",
      "File \u001b[0;32m~/anaconda3/envs/basic/lib/python3.11/site-packages/pandas/core/generic.py:12404\u001b[0m, in \u001b[0;36mNDFrame.max\u001b[0;34m(self, axis, skipna, numeric_only, **kwargs)\u001b[0m\n\u001b[1;32m  12397\u001b[0m \u001b[38;5;28;01mdef\u001b[39;00m\u001b[38;5;250m \u001b[39m\u001b[38;5;21mmax\u001b[39m(\n\u001b[1;32m  12398\u001b[0m     \u001b[38;5;28mself\u001b[39m,\n\u001b[1;32m  12399\u001b[0m     axis: Axis \u001b[38;5;241m|\u001b[39m \u001b[38;5;28;01mNone\u001b[39;00m \u001b[38;5;241m=\u001b[39m \u001b[38;5;241m0\u001b[39m,\n\u001b[0;32m   (...)\u001b[0m\n\u001b[1;32m  12402\u001b[0m     \u001b[38;5;241m*\u001b[39m\u001b[38;5;241m*\u001b[39mkwargs,\n\u001b[1;32m  12403\u001b[0m ):\n\u001b[0;32m> 12404\u001b[0m     \u001b[38;5;28;01mreturn\u001b[39;00m \u001b[38;5;28;43mself\u001b[39;49m\u001b[38;5;241;43m.\u001b[39;49m\u001b[43m_stat_function\u001b[49m\u001b[43m(\u001b[49m\n\u001b[1;32m  12405\u001b[0m \u001b[43m        \u001b[49m\u001b[38;5;124;43m\"\u001b[39;49m\u001b[38;5;124;43mmax\u001b[39;49m\u001b[38;5;124;43m\"\u001b[39;49m\u001b[43m,\u001b[49m\n\u001b[1;32m  12406\u001b[0m \u001b[43m        \u001b[49m\u001b[43mnanops\u001b[49m\u001b[38;5;241;43m.\u001b[39;49m\u001b[43mnanmax\u001b[49m\u001b[43m,\u001b[49m\n\u001b[1;32m  12407\u001b[0m \u001b[43m        \u001b[49m\u001b[43maxis\u001b[49m\u001b[43m,\u001b[49m\n\u001b[1;32m  12408\u001b[0m \u001b[43m        \u001b[49m\u001b[43mskipna\u001b[49m\u001b[43m,\u001b[49m\n\u001b[1;32m  12409\u001b[0m \u001b[43m        \u001b[49m\u001b[43mnumeric_only\u001b[49m\u001b[43m,\u001b[49m\n\u001b[1;32m  12410\u001b[0m \u001b[43m        \u001b[49m\u001b[38;5;241;43m*\u001b[39;49m\u001b[38;5;241;43m*\u001b[39;49m\u001b[43mkwargs\u001b[49m\u001b[43m,\u001b[49m\n\u001b[1;32m  12411\u001b[0m \u001b[43m    \u001b[49m\u001b[43m)\u001b[49m\n",
      "File \u001b[0;32m~/anaconda3/envs/basic/lib/python3.11/site-packages/pandas/core/generic.py:12377\u001b[0m, in \u001b[0;36mNDFrame._stat_function\u001b[0;34m(self, name, func, axis, skipna, numeric_only, **kwargs)\u001b[0m\n\u001b[1;32m  12373\u001b[0m nv\u001b[38;5;241m.\u001b[39mvalidate_func(name, (), kwargs)\n\u001b[1;32m  12375\u001b[0m validate_bool_kwarg(skipna, \u001b[38;5;124m\"\u001b[39m\u001b[38;5;124mskipna\u001b[39m\u001b[38;5;124m\"\u001b[39m, none_allowed\u001b[38;5;241m=\u001b[39m\u001b[38;5;28;01mFalse\u001b[39;00m)\n\u001b[0;32m> 12377\u001b[0m \u001b[38;5;28;01mreturn\u001b[39;00m \u001b[38;5;28;43mself\u001b[39;49m\u001b[38;5;241;43m.\u001b[39;49m\u001b[43m_reduce\u001b[49m\u001b[43m(\u001b[49m\n\u001b[1;32m  12378\u001b[0m \u001b[43m    \u001b[49m\u001b[43mfunc\u001b[49m\u001b[43m,\u001b[49m\u001b[43m \u001b[49m\u001b[43mname\u001b[49m\u001b[38;5;241;43m=\u001b[39;49m\u001b[43mname\u001b[49m\u001b[43m,\u001b[49m\u001b[43m \u001b[49m\u001b[43maxis\u001b[49m\u001b[38;5;241;43m=\u001b[39;49m\u001b[43maxis\u001b[49m\u001b[43m,\u001b[49m\u001b[43m \u001b[49m\u001b[43mskipna\u001b[49m\u001b[38;5;241;43m=\u001b[39;49m\u001b[43mskipna\u001b[49m\u001b[43m,\u001b[49m\u001b[43m \u001b[49m\u001b[43mnumeric_only\u001b[49m\u001b[38;5;241;43m=\u001b[39;49m\u001b[43mnumeric_only\u001b[49m\n\u001b[1;32m  12379\u001b[0m \u001b[43m\u001b[49m\u001b[43m)\u001b[49m\n",
      "File \u001b[0;32m~/anaconda3/envs/basic/lib/python3.11/site-packages/pandas/core/frame.py:11562\u001b[0m, in \u001b[0;36mDataFrame._reduce\u001b[0;34m(self, op, name, axis, skipna, numeric_only, filter_type, **kwds)\u001b[0m\n\u001b[1;32m  11558\u001b[0m     df \u001b[38;5;241m=\u001b[39m df\u001b[38;5;241m.\u001b[39mT\n\u001b[1;32m  11560\u001b[0m \u001b[38;5;66;03m# After possibly _get_data and transposing, we are now in the\u001b[39;00m\n\u001b[1;32m  11561\u001b[0m \u001b[38;5;66;03m#  simple case where we can use BlockManager.reduce\u001b[39;00m\n\u001b[0;32m> 11562\u001b[0m res \u001b[38;5;241m=\u001b[39m \u001b[43mdf\u001b[49m\u001b[38;5;241;43m.\u001b[39;49m\u001b[43m_mgr\u001b[49m\u001b[38;5;241;43m.\u001b[39;49m\u001b[43mreduce\u001b[49m\u001b[43m(\u001b[49m\u001b[43mblk_func\u001b[49m\u001b[43m)\u001b[49m\n\u001b[1;32m  11563\u001b[0m out \u001b[38;5;241m=\u001b[39m df\u001b[38;5;241m.\u001b[39m_constructor_from_mgr(res, axes\u001b[38;5;241m=\u001b[39mres\u001b[38;5;241m.\u001b[39maxes)\u001b[38;5;241m.\u001b[39miloc[\u001b[38;5;241m0\u001b[39m]\n\u001b[1;32m  11564\u001b[0m \u001b[38;5;28;01mif\u001b[39;00m out_dtype \u001b[38;5;129;01mis\u001b[39;00m \u001b[38;5;129;01mnot\u001b[39;00m \u001b[38;5;28;01mNone\u001b[39;00m \u001b[38;5;129;01mand\u001b[39;00m out\u001b[38;5;241m.\u001b[39mdtype \u001b[38;5;241m!=\u001b[39m \u001b[38;5;124m\"\u001b[39m\u001b[38;5;124mboolean\u001b[39m\u001b[38;5;124m\"\u001b[39m:\n",
      "File \u001b[0;32m~/anaconda3/envs/basic/lib/python3.11/site-packages/pandas/core/internals/managers.py:1500\u001b[0m, in \u001b[0;36mBlockManager.reduce\u001b[0;34m(self, func)\u001b[0m\n\u001b[1;32m   1498\u001b[0m res_blocks: \u001b[38;5;28mlist\u001b[39m[Block] \u001b[38;5;241m=\u001b[39m []\n\u001b[1;32m   1499\u001b[0m \u001b[38;5;28;01mfor\u001b[39;00m blk \u001b[38;5;129;01min\u001b[39;00m \u001b[38;5;28mself\u001b[39m\u001b[38;5;241m.\u001b[39mblocks:\n\u001b[0;32m-> 1500\u001b[0m     nbs \u001b[38;5;241m=\u001b[39m \u001b[43mblk\u001b[49m\u001b[38;5;241;43m.\u001b[39;49m\u001b[43mreduce\u001b[49m\u001b[43m(\u001b[49m\u001b[43mfunc\u001b[49m\u001b[43m)\u001b[49m\n\u001b[1;32m   1501\u001b[0m     res_blocks\u001b[38;5;241m.\u001b[39mextend(nbs)\n\u001b[1;32m   1503\u001b[0m index \u001b[38;5;241m=\u001b[39m Index([\u001b[38;5;28;01mNone\u001b[39;00m])  \u001b[38;5;66;03m# placeholder\u001b[39;00m\n",
      "File \u001b[0;32m~/anaconda3/envs/basic/lib/python3.11/site-packages/pandas/core/internals/blocks.py:404\u001b[0m, in \u001b[0;36mBlock.reduce\u001b[0;34m(self, func)\u001b[0m\n\u001b[1;32m    398\u001b[0m \u001b[38;5;129m@final\u001b[39m\n\u001b[1;32m    399\u001b[0m \u001b[38;5;28;01mdef\u001b[39;00m\u001b[38;5;250m \u001b[39m\u001b[38;5;21mreduce\u001b[39m(\u001b[38;5;28mself\u001b[39m, func) \u001b[38;5;241m-\u001b[39m\u001b[38;5;241m>\u001b[39m \u001b[38;5;28mlist\u001b[39m[Block]:\n\u001b[1;32m    400\u001b[0m     \u001b[38;5;66;03m# We will apply the function and reshape the result into a single-row\u001b[39;00m\n\u001b[1;32m    401\u001b[0m     \u001b[38;5;66;03m#  Block with the same mgr_locs; squeezing will be done at a higher level\u001b[39;00m\n\u001b[1;32m    402\u001b[0m     \u001b[38;5;28;01massert\u001b[39;00m \u001b[38;5;28mself\u001b[39m\u001b[38;5;241m.\u001b[39mndim \u001b[38;5;241m==\u001b[39m \u001b[38;5;241m2\u001b[39m\n\u001b[0;32m--> 404\u001b[0m     result \u001b[38;5;241m=\u001b[39m \u001b[43mfunc\u001b[49m\u001b[43m(\u001b[49m\u001b[38;5;28;43mself\u001b[39;49m\u001b[38;5;241;43m.\u001b[39;49m\u001b[43mvalues\u001b[49m\u001b[43m)\u001b[49m\n\u001b[1;32m    406\u001b[0m     \u001b[38;5;28;01mif\u001b[39;00m \u001b[38;5;28mself\u001b[39m\u001b[38;5;241m.\u001b[39mvalues\u001b[38;5;241m.\u001b[39mndim \u001b[38;5;241m==\u001b[39m \u001b[38;5;241m1\u001b[39m:\n\u001b[1;32m    407\u001b[0m         res_values \u001b[38;5;241m=\u001b[39m result\n",
      "File \u001b[0;32m~/anaconda3/envs/basic/lib/python3.11/site-packages/pandas/core/frame.py:11481\u001b[0m, in \u001b[0;36mDataFrame._reduce.<locals>.blk_func\u001b[0;34m(values, axis)\u001b[0m\n\u001b[1;32m  11479\u001b[0m         \u001b[38;5;28;01mreturn\u001b[39;00m np\u001b[38;5;241m.\u001b[39marray([result])\n\u001b[1;32m  11480\u001b[0m \u001b[38;5;28;01melse\u001b[39;00m:\n\u001b[0;32m> 11481\u001b[0m     \u001b[38;5;28;01mreturn\u001b[39;00m \u001b[43mop\u001b[49m\u001b[43m(\u001b[49m\u001b[43mvalues\u001b[49m\u001b[43m,\u001b[49m\u001b[43m \u001b[49m\u001b[43maxis\u001b[49m\u001b[38;5;241;43m=\u001b[39;49m\u001b[43maxis\u001b[49m\u001b[43m,\u001b[49m\u001b[43m \u001b[49m\u001b[43mskipna\u001b[49m\u001b[38;5;241;43m=\u001b[39;49m\u001b[43mskipna\u001b[49m\u001b[43m,\u001b[49m\u001b[43m \u001b[49m\u001b[38;5;241;43m*\u001b[39;49m\u001b[38;5;241;43m*\u001b[39;49m\u001b[43mkwds\u001b[49m\u001b[43m)\u001b[49m\n",
      "File \u001b[0;32m~/anaconda3/envs/basic/lib/python3.11/site-packages/pandas/core/nanops.py:147\u001b[0m, in \u001b[0;36mbottleneck_switch.__call__.<locals>.f\u001b[0;34m(values, axis, skipna, **kwds)\u001b[0m\n\u001b[1;32m    145\u001b[0m         result \u001b[38;5;241m=\u001b[39m alt(values, axis\u001b[38;5;241m=\u001b[39maxis, skipna\u001b[38;5;241m=\u001b[39mskipna, \u001b[38;5;241m*\u001b[39m\u001b[38;5;241m*\u001b[39mkwds)\n\u001b[1;32m    146\u001b[0m \u001b[38;5;28;01melse\u001b[39;00m:\n\u001b[0;32m--> 147\u001b[0m     result \u001b[38;5;241m=\u001b[39m \u001b[43malt\u001b[49m\u001b[43m(\u001b[49m\u001b[43mvalues\u001b[49m\u001b[43m,\u001b[49m\u001b[43m \u001b[49m\u001b[43maxis\u001b[49m\u001b[38;5;241;43m=\u001b[39;49m\u001b[43maxis\u001b[49m\u001b[43m,\u001b[49m\u001b[43m \u001b[49m\u001b[43mskipna\u001b[49m\u001b[38;5;241;43m=\u001b[39;49m\u001b[43mskipna\u001b[49m\u001b[43m,\u001b[49m\u001b[43m \u001b[49m\u001b[38;5;241;43m*\u001b[39;49m\u001b[38;5;241;43m*\u001b[39;49m\u001b[43mkwds\u001b[49m\u001b[43m)\u001b[49m\n\u001b[1;32m    149\u001b[0m \u001b[38;5;28;01mreturn\u001b[39;00m result\n",
      "File \u001b[0;32m~/anaconda3/envs/basic/lib/python3.11/site-packages/pandas/core/nanops.py:404\u001b[0m, in \u001b[0;36m_datetimelike_compat.<locals>.new_func\u001b[0;34m(values, axis, skipna, mask, **kwargs)\u001b[0m\n\u001b[1;32m    401\u001b[0m \u001b[38;5;28;01mif\u001b[39;00m datetimelike \u001b[38;5;129;01mand\u001b[39;00m mask \u001b[38;5;129;01mis\u001b[39;00m \u001b[38;5;28;01mNone\u001b[39;00m:\n\u001b[1;32m    402\u001b[0m     mask \u001b[38;5;241m=\u001b[39m isna(values)\n\u001b[0;32m--> 404\u001b[0m result \u001b[38;5;241m=\u001b[39m \u001b[43mfunc\u001b[49m\u001b[43m(\u001b[49m\u001b[43mvalues\u001b[49m\u001b[43m,\u001b[49m\u001b[43m \u001b[49m\u001b[43maxis\u001b[49m\u001b[38;5;241;43m=\u001b[39;49m\u001b[43maxis\u001b[49m\u001b[43m,\u001b[49m\u001b[43m \u001b[49m\u001b[43mskipna\u001b[49m\u001b[38;5;241;43m=\u001b[39;49m\u001b[43mskipna\u001b[49m\u001b[43m,\u001b[49m\u001b[43m \u001b[49m\u001b[43mmask\u001b[49m\u001b[38;5;241;43m=\u001b[39;49m\u001b[43mmask\u001b[49m\u001b[43m,\u001b[49m\u001b[43m \u001b[49m\u001b[38;5;241;43m*\u001b[39;49m\u001b[38;5;241;43m*\u001b[39;49m\u001b[43mkwargs\u001b[49m\u001b[43m)\u001b[49m\n\u001b[1;32m    406\u001b[0m \u001b[38;5;28;01mif\u001b[39;00m datetimelike:\n\u001b[1;32m    407\u001b[0m     result \u001b[38;5;241m=\u001b[39m _wrap_results(result, orig_values\u001b[38;5;241m.\u001b[39mdtype, fill_value\u001b[38;5;241m=\u001b[39miNaT)\n",
      "File \u001b[0;32m~/anaconda3/envs/basic/lib/python3.11/site-packages/pandas/core/nanops.py:1098\u001b[0m, in \u001b[0;36m_nanminmax.<locals>.reduction\u001b[0;34m(values, axis, skipna, mask)\u001b[0m\n\u001b[1;32m   1093\u001b[0m     \u001b[38;5;28;01mreturn\u001b[39;00m _na_for_min_count(values, axis)\n\u001b[1;32m   1095\u001b[0m values, mask \u001b[38;5;241m=\u001b[39m _get_values(\n\u001b[1;32m   1096\u001b[0m     values, skipna, fill_value_typ\u001b[38;5;241m=\u001b[39mfill_value_typ, mask\u001b[38;5;241m=\u001b[39mmask\n\u001b[1;32m   1097\u001b[0m )\n\u001b[0;32m-> 1098\u001b[0m result \u001b[38;5;241m=\u001b[39m \u001b[38;5;28;43mgetattr\u001b[39;49m\u001b[43m(\u001b[49m\u001b[43mvalues\u001b[49m\u001b[43m,\u001b[49m\u001b[43m \u001b[49m\u001b[43mmeth\u001b[49m\u001b[43m)\u001b[49m\u001b[43m(\u001b[49m\u001b[43maxis\u001b[49m\u001b[43m)\u001b[49m\n\u001b[1;32m   1099\u001b[0m result \u001b[38;5;241m=\u001b[39m _maybe_null_out(result, axis, mask, values\u001b[38;5;241m.\u001b[39mshape)\n\u001b[1;32m   1100\u001b[0m \u001b[38;5;28;01mreturn\u001b[39;00m result\n",
      "File \u001b[0;32m~/anaconda3/envs/basic/lib/python3.11/site-packages/numpy/core/_methods.py:41\u001b[0m, in \u001b[0;36m_amax\u001b[0;34m(a, axis, out, keepdims, initial, where)\u001b[0m\n\u001b[1;32m     39\u001b[0m \u001b[38;5;28;01mdef\u001b[39;00m\u001b[38;5;250m \u001b[39m\u001b[38;5;21m_amax\u001b[39m(a, axis\u001b[38;5;241m=\u001b[39m\u001b[38;5;28;01mNone\u001b[39;00m, out\u001b[38;5;241m=\u001b[39m\u001b[38;5;28;01mNone\u001b[39;00m, keepdims\u001b[38;5;241m=\u001b[39m\u001b[38;5;28;01mFalse\u001b[39;00m,\n\u001b[1;32m     40\u001b[0m           initial\u001b[38;5;241m=\u001b[39m_NoValue, where\u001b[38;5;241m=\u001b[39m\u001b[38;5;28;01mTrue\u001b[39;00m):\n\u001b[0;32m---> 41\u001b[0m     \u001b[38;5;28;01mreturn\u001b[39;00m umr_maximum(a, axis, \u001b[38;5;28;01mNone\u001b[39;00m, out, keepdims, initial, where)\n",
      "\u001b[0;31mTypeError\u001b[0m: '>=' not supported between instances of 'float' and 'str'"
     ]
    }
   ],
   "source": [
    "# Summary of columns in the with number of values, completion, max, average, min, std,, and data type\n",
    "df_colSummary = pd.DataFrame({\n",
    "                                \"Column\": df_wideBioDairyLS.columns,\n",
    "                                \"# Values\": df_wideBioDairyLS.notna().sum().values,\n",
    "                                \"Completion\": (df_wideBioDairyLS.notna().sum().values / len(df_wideBioDairyLS)).round(2),\n",
    "                                \"Max\": df_wideBioDairyLS.max().values,\n",
    "                                \"Average\": df_wideBioDairyLS.mean().values,\n",
    "                                \"Min\": df_wideBioDairyLS.min().values,\n",
    "                                \"Std\": df_wideBioDairyLS.std().values,\n",
    "                                \"Data Type\": df_wideBioDairyLS.dtypes.values\n",
    "})\n",
    "\n",
    "# Display all rows only within this cell\n",
    "with pd.option_context(\"display.max_rows\", None):\n",
    "    display(df_colSummary.sort_values(by=\"Completion\", ascending=False))"
   ]
  },
  {
   "cell_type": "code",
   "execution_count": 53,
   "id": "a6a55806",
   "metadata": {},
   "outputs": [
    {
     "data": {
      "text/html": [
       "<div>\n",
       "<style scoped>\n",
       "    .dataframe tbody tr th:only-of-type {\n",
       "        vertical-align: middle;\n",
       "    }\n",
       "\n",
       "    .dataframe tbody tr th {\n",
       "        vertical-align: top;\n",
       "    }\n",
       "\n",
       "    .dataframe thead th {\n",
       "        text-align: right;\n",
       "    }\n",
       "</style>\n",
       "<table border=\"1\" class=\"dataframe\">\n",
       "  <thead>\n",
       "    <tr style=\"text-align: right;\">\n",
       "      <th></th>\n",
       "      <th>Column</th>\n",
       "      <th># Values</th>\n",
       "      <th>Completion</th>\n",
       "      <th>Max</th>\n",
       "      <th>Average</th>\n",
       "      <th>Min</th>\n",
       "      <th>Std</th>\n",
       "      <th>Data Type</th>\n",
       "    </tr>\n",
       "  </thead>\n",
       "  <tbody>\n",
       "    <tr>\n",
       "      <th>181</th>\n",
       "      <td>Weight_lbs</td>\n",
       "      <td>322</td>\n",
       "      <td>0.97</td>\n",
       "      <td>202.00</td>\n",
       "      <td>185.604348</td>\n",
       "      <td>166.10</td>\n",
       "      <td>7.409410</td>\n",
       "      <td>float64</td>\n",
       "    </tr>\n",
       "    <tr>\n",
       "      <th>183</th>\n",
       "      <td>pH_None</td>\n",
       "      <td>183</td>\n",
       "      <td>0.55</td>\n",
       "      <td>7.60</td>\n",
       "      <td>6.537158</td>\n",
       "      <td>5.10</td>\n",
       "      <td>0.312622</td>\n",
       "      <td>float64</td>\n",
       "    </tr>\n",
       "    <tr>\n",
       "      <th>139</th>\n",
       "      <td>Stool Lactoferrin_None</td>\n",
       "      <td>184</td>\n",
       "      <td>0.55</td>\n",
       "      <td>899.00</td>\n",
       "      <td>43.888043</td>\n",
       "      <td>0.50</td>\n",
       "      <td>101.947156</td>\n",
       "      <td>float64</td>\n",
       "    </tr>\n",
       "    <tr>\n",
       "      <th>133</th>\n",
       "      <td>Staphylococcus aureus_None</td>\n",
       "      <td>182</td>\n",
       "      <td>0.55</td>\n",
       "      <td>3.00</td>\n",
       "      <td>0.098901</td>\n",
       "      <td>0.00</td>\n",
       "      <td>0.394855</td>\n",
       "      <td>float64</td>\n",
       "    </tr>\n",
       "    <tr>\n",
       "      <th>134</th>\n",
       "      <td>Staphylococcus epidermidis_None</td>\n",
       "      <td>182</td>\n",
       "      <td>0.55</td>\n",
       "      <td>1.00</td>\n",
       "      <td>0.032967</td>\n",
       "      <td>0.00</td>\n",
       "      <td>0.179043</td>\n",
       "      <td>float64</td>\n",
       "    </tr>\n",
       "    <tr>\n",
       "      <th>135</th>\n",
       "      <td>Staphylococcus haemolyticus_None</td>\n",
       "      <td>181</td>\n",
       "      <td>0.55</td>\n",
       "      <td>2.00</td>\n",
       "      <td>0.011050</td>\n",
       "      <td>0.00</td>\n",
       "      <td>0.148659</td>\n",
       "      <td>float64</td>\n",
       "    </tr>\n",
       "    <tr>\n",
       "      <th>63</th>\n",
       "      <td>Exophiala dermatitidis_None</td>\n",
       "      <td>182</td>\n",
       "      <td>0.55</td>\n",
       "      <td>2.00</td>\n",
       "      <td>0.021978</td>\n",
       "      <td>0.00</td>\n",
       "      <td>0.180730</td>\n",
       "      <td>float64</td>\n",
       "    </tr>\n",
       "    <tr>\n",
       "      <th>136</th>\n",
       "      <td>Staphylococcus lugdunensis_None</td>\n",
       "      <td>182</td>\n",
       "      <td>0.55</td>\n",
       "      <td>1.00</td>\n",
       "      <td>0.027473</td>\n",
       "      <td>0.00</td>\n",
       "      <td>0.163907</td>\n",
       "      <td>float64</td>\n",
       "    </tr>\n",
       "    <tr>\n",
       "      <th>60</th>\n",
       "      <td>Enterococcus spp._None</td>\n",
       "      <td>182</td>\n",
       "      <td>0.55</td>\n",
       "      <td>4.00</td>\n",
       "      <td>1.747253</td>\n",
       "      <td>0.00</td>\n",
       "      <td>1.326262</td>\n",
       "      <td>float64</td>\n",
       "    </tr>\n",
       "    <tr>\n",
       "      <th>59</th>\n",
       "      <td>Enterobacter cloacae_None</td>\n",
       "      <td>182</td>\n",
       "      <td>0.55</td>\n",
       "      <td>4.00</td>\n",
       "      <td>0.148352</td>\n",
       "      <td>0.00</td>\n",
       "      <td>0.635047</td>\n",
       "      <td>float64</td>\n",
       "    </tr>\n",
       "    <tr>\n",
       "      <th>58</th>\n",
       "      <td>Enterobacter asburiae_None</td>\n",
       "      <td>182</td>\n",
       "      <td>0.55</td>\n",
       "      <td>2.00</td>\n",
       "      <td>0.010989</td>\n",
       "      <td>0.00</td>\n",
       "      <td>0.148250</td>\n",
       "      <td>float64</td>\n",
       "    </tr>\n",
       "    <tr>\n",
       "      <th>56</th>\n",
       "      <td>E. coli spp._None</td>\n",
       "      <td>182</td>\n",
       "      <td>0.55</td>\n",
       "      <td>4.00</td>\n",
       "      <td>3.252747</td>\n",
       "      <td>0.00</td>\n",
       "      <td>1.275294</td>\n",
       "      <td>float64</td>\n",
       "    </tr>\n",
       "    <tr>\n",
       "      <th>70</th>\n",
       "      <td>Geotrichum spp._None</td>\n",
       "      <td>182</td>\n",
       "      <td>0.55</td>\n",
       "      <td>3.00</td>\n",
       "      <td>0.148352</td>\n",
       "      <td>0.00</td>\n",
       "      <td>0.426954</td>\n",
       "      <td>float64</td>\n",
       "    </tr>\n",
       "    <tr>\n",
       "      <th>140</th>\n",
       "      <td>Stool Lysozyme_None</td>\n",
       "      <td>184</td>\n",
       "      <td>0.55</td>\n",
       "      <td>3940.00</td>\n",
       "      <td>442.548913</td>\n",
       "      <td>35.00</td>\n",
       "      <td>487.580979</td>\n",
       "      <td>float64</td>\n",
       "    </tr>\n",
       "    <tr>\n",
       "      <th>141</th>\n",
       "      <td>Stool SIgA_None</td>\n",
       "      <td>184</td>\n",
       "      <td>0.55</td>\n",
       "      <td>1500.00</td>\n",
       "      <td>185.683696</td>\n",
       "      <td>7.40</td>\n",
       "      <td>268.701065</td>\n",
       "      <td>float64</td>\n",
       "    </tr>\n",
       "    <tr>\n",
       "      <th>53</th>\n",
       "      <td>Cryptococcus spp, not neoformans_None</td>\n",
       "      <td>182</td>\n",
       "      <td>0.55</td>\n",
       "      <td>1.00</td>\n",
       "      <td>0.005495</td>\n",
       "      <td>0.00</td>\n",
       "      <td>0.074125</td>\n",
       "      <td>float64</td>\n",
       "    </tr>\n",
       "    <tr>\n",
       "      <th>52</th>\n",
       "      <td>Cryptococcus diffuens_None</td>\n",
       "      <td>182</td>\n",
       "      <td>0.55</td>\n",
       "      <td>1.00</td>\n",
       "      <td>0.005495</td>\n",
       "      <td>0.00</td>\n",
       "      <td>0.074125</td>\n",
       "      <td>float64</td>\n",
       "    </tr>\n",
       "    <tr>\n",
       "      <th>106</th>\n",
       "      <td>Morganellla morganii_None</td>\n",
       "      <td>182</td>\n",
       "      <td>0.55</td>\n",
       "      <td>4.00</td>\n",
       "      <td>1.472527</td>\n",
       "      <td>0.00</td>\n",
       "      <td>1.680835</td>\n",
       "      <td>float64</td>\n",
       "    </tr>\n",
       "    <tr>\n",
       "      <th>50</th>\n",
       "      <td>Corynebacterium falsenii_None</td>\n",
       "      <td>181</td>\n",
       "      <td>0.55</td>\n",
       "      <td>1.00</td>\n",
       "      <td>0.005525</td>\n",
       "      <td>0.00</td>\n",
       "      <td>0.074329</td>\n",
       "      <td>float64</td>\n",
       "    </tr>\n",
       "    <tr>\n",
       "      <th>142</th>\n",
       "      <td>Streptococcus anginosus_None</td>\n",
       "      <td>181</td>\n",
       "      <td>0.55</td>\n",
       "      <td>4.00</td>\n",
       "      <td>0.071823</td>\n",
       "      <td>0.00</td>\n",
       "      <td>0.435037</td>\n",
       "      <td>float64</td>\n",
       "    </tr>\n",
       "    <tr>\n",
       "      <th>48</th>\n",
       "      <td>Comamonas testosteroni_None</td>\n",
       "      <td>182</td>\n",
       "      <td>0.55</td>\n",
       "      <td>4.00</td>\n",
       "      <td>0.082418</td>\n",
       "      <td>0.00</td>\n",
       "      <td>0.513700</td>\n",
       "      <td>float64</td>\n",
       "    </tr>\n",
       "    <tr>\n",
       "      <th>69</th>\n",
       "      <td>Gamma Hemolytic Streptococcus_None</td>\n",
       "      <td>182</td>\n",
       "      <td>0.55</td>\n",
       "      <td>4.00</td>\n",
       "      <td>1.038462</td>\n",
       "      <td>0.00</td>\n",
       "      <td>1.318652</td>\n",
       "      <td>float64</td>\n",
       "    </tr>\n",
       "    <tr>\n",
       "      <th>130</th>\n",
       "      <td>Serratia marcescens_None</td>\n",
       "      <td>181</td>\n",
       "      <td>0.55</td>\n",
       "      <td>2.00</td>\n",
       "      <td>0.016575</td>\n",
       "      <td>0.00</td>\n",
       "      <td>0.165836</td>\n",
       "      <td>float64</td>\n",
       "    </tr>\n",
       "    <tr>\n",
       "      <th>45</th>\n",
       "      <td>Citrobacter freundii complex_None</td>\n",
       "      <td>182</td>\n",
       "      <td>0.55</td>\n",
       "      <td>4.00</td>\n",
       "      <td>0.186813</td>\n",
       "      <td>0.00</td>\n",
       "      <td>0.711579</td>\n",
       "      <td>float64</td>\n",
       "    </tr>\n",
       "    <tr>\n",
       "      <th>116</th>\n",
       "      <td>Providencia rettgeri_None</td>\n",
       "      <td>182</td>\n",
       "      <td>0.55</td>\n",
       "      <td>4.00</td>\n",
       "      <td>0.247253</td>\n",
       "      <td>0.00</td>\n",
       "      <td>0.879080</td>\n",
       "      <td>float64</td>\n",
       "    </tr>\n",
       "    <tr>\n",
       "      <th>98</th>\n",
       "      <td>Lysinibacillus spp_None</td>\n",
       "      <td>182</td>\n",
       "      <td>0.55</td>\n",
       "      <td>3.00</td>\n",
       "      <td>0.016484</td>\n",
       "      <td>0.00</td>\n",
       "      <td>0.222375</td>\n",
       "      <td>float64</td>\n",
       "    </tr>\n",
       "    <tr>\n",
       "      <th>113</th>\n",
       "      <td>Pantoea spp_None</td>\n",
       "      <td>182</td>\n",
       "      <td>0.55</td>\n",
       "      <td>2.00</td>\n",
       "      <td>0.010989</td>\n",
       "      <td>0.00</td>\n",
       "      <td>0.148250</td>\n",
       "      <td>float64</td>\n",
       "    </tr>\n",
       "    <tr>\n",
       "      <th>94</th>\n",
       "      <td>Lactococcus lactis_None</td>\n",
       "      <td>182</td>\n",
       "      <td>0.55</td>\n",
       "      <td>3.00</td>\n",
       "      <td>0.043956</td>\n",
       "      <td>0.00</td>\n",
       "      <td>0.329476</td>\n",
       "      <td>float64</td>\n",
       "    </tr>\n",
       "    <tr>\n",
       "      <th>93</th>\n",
       "      <td>Lactobacillus spp_None</td>\n",
       "      <td>182</td>\n",
       "      <td>0.55</td>\n",
       "      <td>4.00</td>\n",
       "      <td>2.126374</td>\n",
       "      <td>0.00</td>\n",
       "      <td>1.287624</td>\n",
       "      <td>float64</td>\n",
       "    </tr>\n",
       "    <tr>\n",
       "      <th>1</th>\n",
       "      <td>% SCFA Acetate</td>\n",
       "      <td>184</td>\n",
       "      <td>0.55</td>\n",
       "      <td>77.00</td>\n",
       "      <td>62.304348</td>\n",
       "      <td>40.00</td>\n",
       "      <td>5.918830</td>\n",
       "      <td>float64</td>\n",
       "    </tr>\n",
       "    <tr>\n",
       "      <th>90</th>\n",
       "      <td>Kocuria spp, salsicia, rhizophila, kristinae_None</td>\n",
       "      <td>182</td>\n",
       "      <td>0.55</td>\n",
       "      <td>2.00</td>\n",
       "      <td>0.054945</td>\n",
       "      <td>0.00</td>\n",
       "      <td>0.251521</td>\n",
       "      <td>float64</td>\n",
       "    </tr>\n",
       "    <tr>\n",
       "      <th>89</th>\n",
       "      <td>Klebsiella pneumonia_None</td>\n",
       "      <td>182</td>\n",
       "      <td>0.55</td>\n",
       "      <td>4.00</td>\n",
       "      <td>0.609890</td>\n",
       "      <td>0.00</td>\n",
       "      <td>1.277303</td>\n",
       "      <td>float64</td>\n",
       "    </tr>\n",
       "    <tr>\n",
       "      <th>88</th>\n",
       "      <td>Klebsiella oxytoca_None</td>\n",
       "      <td>182</td>\n",
       "      <td>0.55</td>\n",
       "      <td>4.00</td>\n",
       "      <td>0.131868</td>\n",
       "      <td>0.00</td>\n",
       "      <td>0.651539</td>\n",
       "      <td>float64</td>\n",
       "    </tr>\n",
       "    <tr>\n",
       "      <th>117</th>\n",
       "      <td>Providencia stuartii_None</td>\n",
       "      <td>182</td>\n",
       "      <td>0.55</td>\n",
       "      <td>4.00</td>\n",
       "      <td>0.868132</td>\n",
       "      <td>0.00</td>\n",
       "      <td>1.476960</td>\n",
       "      <td>object</td>\n",
       "    </tr>\n",
       "    <tr>\n",
       "      <th>128</th>\n",
       "      <td>Saccharomyces cerevisiae/boulardi_None</td>\n",
       "      <td>182</td>\n",
       "      <td>0.55</td>\n",
       "      <td>3.00</td>\n",
       "      <td>0.076923</td>\n",
       "      <td>0.00</td>\n",
       "      <td>0.339996</td>\n",
       "      <td>float64</td>\n",
       "    </tr>\n",
       "    <tr>\n",
       "      <th>118</th>\n",
       "      <td>Pseudomonas aeruginosa_None</td>\n",
       "      <td>182</td>\n",
       "      <td>0.55</td>\n",
       "      <td>4.00</td>\n",
       "      <td>0.659341</td>\n",
       "      <td>0.00</td>\n",
       "      <td>1.021534</td>\n",
       "      <td>float64</td>\n",
       "    </tr>\n",
       "    <tr>\n",
       "      <th>119</th>\n",
       "      <td>Pseudomonas chlororaphis group_None</td>\n",
       "      <td>182</td>\n",
       "      <td>0.55</td>\n",
       "      <td>4.00</td>\n",
       "      <td>0.060440</td>\n",
       "      <td>0.00</td>\n",
       "      <td>0.448048</td>\n",
       "      <td>float64</td>\n",
       "    </tr>\n",
       "    <tr>\n",
       "      <th>120</th>\n",
       "      <td>Pseudomonas citronellolis_None</td>\n",
       "      <td>182</td>\n",
       "      <td>0.55</td>\n",
       "      <td>2.00</td>\n",
       "      <td>0.010989</td>\n",
       "      <td>0.00</td>\n",
       "      <td>0.148250</td>\n",
       "      <td>float64</td>\n",
       "    </tr>\n",
       "    <tr>\n",
       "      <th>121</th>\n",
       "      <td>Pseudomonas stutzeri_None</td>\n",
       "      <td>182</td>\n",
       "      <td>0.55</td>\n",
       "      <td>2.00</td>\n",
       "      <td>0.016484</td>\n",
       "      <td>0.00</td>\n",
       "      <td>0.165382</td>\n",
       "      <td>float64</td>\n",
       "    </tr>\n",
       "    <tr>\n",
       "      <th>78</th>\n",
       "      <td>Hemolytic Escherichia coli_None</td>\n",
       "      <td>182</td>\n",
       "      <td>0.55</td>\n",
       "      <td>4.00</td>\n",
       "      <td>1.098901</td>\n",
       "      <td>0.00</td>\n",
       "      <td>1.649074</td>\n",
       "      <td>float64</td>\n",
       "    </tr>\n",
       "    <tr>\n",
       "      <th>126</th>\n",
       "      <td>Rhodotorula glutinis/mucilaginosa_None</td>\n",
       "      <td>182</td>\n",
       "      <td>0.55</td>\n",
       "      <td>4.00</td>\n",
       "      <td>0.164835</td>\n",
       "      <td>0.00</td>\n",
       "      <td>0.452464</td>\n",
       "      <td>float64</td>\n",
       "    </tr>\n",
       "    <tr>\n",
       "      <th>76</th>\n",
       "      <td>Hafnia alvei_None</td>\n",
       "      <td>182</td>\n",
       "      <td>0.55</td>\n",
       "      <td>4.00</td>\n",
       "      <td>0.153846</td>\n",
       "      <td>0.00</td>\n",
       "      <td>0.696052</td>\n",
       "      <td>float64</td>\n",
       "    </tr>\n",
       "    <tr>\n",
       "      <th>127</th>\n",
       "      <td>Rothia dentocariosa/mucliaginosa_None</td>\n",
       "      <td>181</td>\n",
       "      <td>0.55</td>\n",
       "      <td>2.00</td>\n",
       "      <td>0.027624</td>\n",
       "      <td>0.00</td>\n",
       "      <td>0.195247</td>\n",
       "      <td>float64</td>\n",
       "    </tr>\n",
       "    <tr>\n",
       "      <th>143</th>\n",
       "      <td>Streptococcus australis_None</td>\n",
       "      <td>181</td>\n",
       "      <td>0.55</td>\n",
       "      <td>3.00</td>\n",
       "      <td>0.016575</td>\n",
       "      <td>0.00</td>\n",
       "      <td>0.222988</td>\n",
       "      <td>float64</td>\n",
       "    </tr>\n",
       "    <tr>\n",
       "      <th>107</th>\n",
       "      <td>Mucoid Escherichia coli_None</td>\n",
       "      <td>182</td>\n",
       "      <td>0.55</td>\n",
       "      <td>4.00</td>\n",
       "      <td>0.087912</td>\n",
       "      <td>0.00</td>\n",
       "      <td>0.559170</td>\n",
       "      <td>float64</td>\n",
       "    </tr>\n",
       "    <tr>\n",
       "      <th>144</th>\n",
       "      <td>Streptococcus mitis/oralis/cristatus_None</td>\n",
       "      <td>182</td>\n",
       "      <td>0.55</td>\n",
       "      <td>2.00</td>\n",
       "      <td>0.087912</td>\n",
       "      <td>0.00</td>\n",
       "      <td>0.368612</td>\n",
       "      <td>float64</td>\n",
       "    </tr>\n",
       "    <tr>\n",
       "      <th>19</th>\n",
       "      <td>Arcobacter butzieri_None</td>\n",
       "      <td>181</td>\n",
       "      <td>0.55</td>\n",
       "      <td>2.00</td>\n",
       "      <td>0.011050</td>\n",
       "      <td>0.00</td>\n",
       "      <td>0.148659</td>\n",
       "      <td>float64</td>\n",
       "    </tr>\n",
       "    <tr>\n",
       "      <th>17</th>\n",
       "      <td>Alpha hemolytic strep_None</td>\n",
       "      <td>182</td>\n",
       "      <td>0.55</td>\n",
       "      <td>4.00</td>\n",
       "      <td>1.593407</td>\n",
       "      <td>0.00</td>\n",
       "      <td>1.362302</td>\n",
       "      <td>float64</td>\n",
       "    </tr>\n",
       "    <tr>\n",
       "      <th>161</th>\n",
       "      <td>Trichosporon asahii_None</td>\n",
       "      <td>182</td>\n",
       "      <td>0.55</td>\n",
       "      <td>1.00</td>\n",
       "      <td>0.005495</td>\n",
       "      <td>0.00</td>\n",
       "      <td>0.074125</td>\n",
       "      <td>float64</td>\n",
       "    </tr>\n",
       "    <tr>\n",
       "      <th>22</th>\n",
       "      <td>Bacillus cereus_None</td>\n",
       "      <td>182</td>\n",
       "      <td>0.55</td>\n",
       "      <td>4.00</td>\n",
       "      <td>0.043956</td>\n",
       "      <td>0.00</td>\n",
       "      <td>0.376435</td>\n",
       "      <td>float64</td>\n",
       "    </tr>\n",
       "    <tr>\n",
       "      <th>23</th>\n",
       "      <td>Bacillus licheniformis_None</td>\n",
       "      <td>181</td>\n",
       "      <td>0.55</td>\n",
       "      <td>1.00</td>\n",
       "      <td>0.005525</td>\n",
       "      <td>0.00</td>\n",
       "      <td>0.074329</td>\n",
       "      <td>float64</td>\n",
       "    </tr>\n",
       "    <tr>\n",
       "      <th>24</th>\n",
       "      <td>Bacillus spp, pumilus_None</td>\n",
       "      <td>182</td>\n",
       "      <td>0.55</td>\n",
       "      <td>4.00</td>\n",
       "      <td>0.115385</td>\n",
       "      <td>0.00</td>\n",
       "      <td>0.507278</td>\n",
       "      <td>float64</td>\n",
       "    </tr>\n",
       "    <tr>\n",
       "      <th>13</th>\n",
       "      <td>Actinomyces turicensis_None</td>\n",
       "      <td>182</td>\n",
       "      <td>0.55</td>\n",
       "      <td>3.00</td>\n",
       "      <td>0.021978</td>\n",
       "      <td>0.00</td>\n",
       "      <td>0.234015</td>\n",
       "      <td>float64</td>\n",
       "    </tr>\n",
       "    <tr>\n",
       "      <th>12</th>\n",
       "      <td>Actinomyces neuii_None</td>\n",
       "      <td>182</td>\n",
       "      <td>0.55</td>\n",
       "      <td>1.00</td>\n",
       "      <td>0.005495</td>\n",
       "      <td>0.00</td>\n",
       "      <td>0.074125</td>\n",
       "      <td>float64</td>\n",
       "    </tr>\n",
       "    <tr>\n",
       "      <th>148</th>\n",
       "      <td>Streptomyces_None</td>\n",
       "      <td>181</td>\n",
       "      <td>0.55</td>\n",
       "      <td>1.00</td>\n",
       "      <td>0.005525</td>\n",
       "      <td>0.00</td>\n",
       "      <td>0.074329</td>\n",
       "      <td>float64</td>\n",
       "    </tr>\n",
       "    <tr>\n",
       "      <th>162</th>\n",
       "      <td>Trichosporon montevideense_None</td>\n",
       "      <td>182</td>\n",
       "      <td>0.55</td>\n",
       "      <td>1.00</td>\n",
       "      <td>0.005495</td>\n",
       "      <td>0.00</td>\n",
       "      <td>0.074125</td>\n",
       "      <td>float64</td>\n",
       "    </tr>\n",
       "    <tr>\n",
       "      <th>28</th>\n",
       "      <td>Beta strep, group B, strep. Agalactiae_None</td>\n",
       "      <td>182</td>\n",
       "      <td>0.55</td>\n",
       "      <td>4.00</td>\n",
       "      <td>0.335165</td>\n",
       "      <td>0.00</td>\n",
       "      <td>0.752730</td>\n",
       "      <td>float64</td>\n",
       "    </tr>\n",
       "    <tr>\n",
       "      <th>147</th>\n",
       "      <td>Streptococcus salivarius_None</td>\n",
       "      <td>182</td>\n",
       "      <td>0.55</td>\n",
       "      <td>3.00</td>\n",
       "      <td>0.038462</td>\n",
       "      <td>0.00</td>\n",
       "      <td>0.285281</td>\n",
       "      <td>float64</td>\n",
       "    </tr>\n",
       "    <tr>\n",
       "      <th>163</th>\n",
       "      <td>Trichosporon ovoides_None</td>\n",
       "      <td>182</td>\n",
       "      <td>0.55</td>\n",
       "      <td>1.00</td>\n",
       "      <td>0.005495</td>\n",
       "      <td>0.00</td>\n",
       "      <td>0.074125</td>\n",
       "      <td>float64</td>\n",
       "    </tr>\n",
       "    <tr>\n",
       "      <th>30</th>\n",
       "      <td>Bifidobacerium family_None</td>\n",
       "      <td>182</td>\n",
       "      <td>0.55</td>\n",
       "      <td>4.00</td>\n",
       "      <td>2.565934</td>\n",
       "      <td>0.00</td>\n",
       "      <td>1.262963</td>\n",
       "      <td>float64</td>\n",
       "    </tr>\n",
       "    <tr>\n",
       "      <th>4</th>\n",
       "      <td>% SCFA Valerate</td>\n",
       "      <td>184</td>\n",
       "      <td>0.55</td>\n",
       "      <td>7.20</td>\n",
       "      <td>3.886957</td>\n",
       "      <td>1.00</td>\n",
       "      <td>0.888262</td>\n",
       "      <td>float64</td>\n",
       "    </tr>\n",
       "    <tr>\n",
       "      <th>32</th>\n",
       "      <td>Butyrate_mg/mL</td>\n",
       "      <td>184</td>\n",
       "      <td>0.55</td>\n",
       "      <td>4.30</td>\n",
       "      <td>1.289185</td>\n",
       "      <td>0.27</td>\n",
       "      <td>0.720945</td>\n",
       "      <td>float64</td>\n",
       "    </tr>\n",
       "    <tr>\n",
       "      <th>146</th>\n",
       "      <td>Streptococcus parasanguinis_None</td>\n",
       "      <td>182</td>\n",
       "      <td>0.55</td>\n",
       "      <td>3.00</td>\n",
       "      <td>0.060440</td>\n",
       "      <td>0.00</td>\n",
       "      <td>0.381442</td>\n",
       "      <td>float64</td>\n",
       "    </tr>\n",
       "    <tr>\n",
       "      <th>145</th>\n",
       "      <td>Streptococcus mutans_None</td>\n",
       "      <td>181</td>\n",
       "      <td>0.55</td>\n",
       "      <td>3.00</td>\n",
       "      <td>0.055249</td>\n",
       "      <td>0.00</td>\n",
       "      <td>0.360921</td>\n",
       "      <td>float64</td>\n",
       "    </tr>\n",
       "    <tr>\n",
       "      <th>3</th>\n",
       "      <td>% SCFA Propionate</td>\n",
       "      <td>184</td>\n",
       "      <td>0.55</td>\n",
       "      <td>41.00</td>\n",
       "      <td>17.404348</td>\n",
       "      <td>9.40</td>\n",
       "      <td>3.999779</td>\n",
       "      <td>float64</td>\n",
       "    </tr>\n",
       "    <tr>\n",
       "      <th>36</th>\n",
       "      <td>Candida krusei/inconspicua/lambica_None</td>\n",
       "      <td>182</td>\n",
       "      <td>0.55</td>\n",
       "      <td>1.00</td>\n",
       "      <td>0.054945</td>\n",
       "      <td>0.00</td>\n",
       "      <td>0.228502</td>\n",
       "      <td>float64</td>\n",
       "    </tr>\n",
       "    <tr>\n",
       "      <th>37</th>\n",
       "      <td>Candida lusitaniae_None</td>\n",
       "      <td>182</td>\n",
       "      <td>0.55</td>\n",
       "      <td>1.00</td>\n",
       "      <td>0.010989</td>\n",
       "      <td>0.00</td>\n",
       "      <td>0.104539</td>\n",
       "      <td>float64</td>\n",
       "    </tr>\n",
       "    <tr>\n",
       "      <th>38</th>\n",
       "      <td>Candida orthopsilosis_None</td>\n",
       "      <td>182</td>\n",
       "      <td>0.55</td>\n",
       "      <td>1.00</td>\n",
       "      <td>0.005495</td>\n",
       "      <td>0.00</td>\n",
       "      <td>0.074125</td>\n",
       "      <td>float64</td>\n",
       "    </tr>\n",
       "    <tr>\n",
       "      <th>39</th>\n",
       "      <td>Candida parapsilosis_None</td>\n",
       "      <td>181</td>\n",
       "      <td>0.55</td>\n",
       "      <td>4.00</td>\n",
       "      <td>0.160221</td>\n",
       "      <td>0.00</td>\n",
       "      <td>0.461601</td>\n",
       "      <td>float64</td>\n",
       "    </tr>\n",
       "    <tr>\n",
       "      <th>40</th>\n",
       "      <td>Candida pararugosa_None</td>\n",
       "      <td>182</td>\n",
       "      <td>0.55</td>\n",
       "      <td>1.00</td>\n",
       "      <td>0.010989</td>\n",
       "      <td>0.00</td>\n",
       "      <td>0.104539</td>\n",
       "      <td>float64</td>\n",
       "    </tr>\n",
       "    <tr>\n",
       "      <th>41</th>\n",
       "      <td>Candida zeylanoides_None</td>\n",
       "      <td>182</td>\n",
       "      <td>0.55</td>\n",
       "      <td>2.00</td>\n",
       "      <td>0.010989</td>\n",
       "      <td>0.00</td>\n",
       "      <td>0.148250</td>\n",
       "      <td>float64</td>\n",
       "    </tr>\n",
       "    <tr>\n",
       "      <th>42</th>\n",
       "      <td>Cellulosimicrobium cellulans/funkeil/marinum_None</td>\n",
       "      <td>182</td>\n",
       "      <td>0.55</td>\n",
       "      <td>3.00</td>\n",
       "      <td>0.038462</td>\n",
       "      <td>0.00</td>\n",
       "      <td>0.285281</td>\n",
       "      <td>float64</td>\n",
       "    </tr>\n",
       "    <tr>\n",
       "      <th>2</th>\n",
       "      <td>% SCFA Butyrate</td>\n",
       "      <td>184</td>\n",
       "      <td>0.55</td>\n",
       "      <td>32.00</td>\n",
       "      <td>16.569565</td>\n",
       "      <td>7.00</td>\n",
       "      <td>4.264653</td>\n",
       "      <td>float64</td>\n",
       "    </tr>\n",
       "    <tr>\n",
       "      <th>158</th>\n",
       "      <td>Total SCFA_mg/mL</td>\n",
       "      <td>184</td>\n",
       "      <td>0.55</td>\n",
       "      <td>17.00</td>\n",
       "      <td>7.485870</td>\n",
       "      <td>2.50</td>\n",
       "      <td>2.837169</td>\n",
       "      <td>float64</td>\n",
       "    </tr>\n",
       "    <tr>\n",
       "      <th>26</th>\n",
       "      <td>Bacteroides fraglis group_None</td>\n",
       "      <td>178</td>\n",
       "      <td>0.54</td>\n",
       "      <td>4.00</td>\n",
       "      <td>2.977528</td>\n",
       "      <td>0.00</td>\n",
       "      <td>1.365247</td>\n",
       "      <td>object</td>\n",
       "    </tr>\n",
       "    <tr>\n",
       "      <th>46</th>\n",
       "      <td>Clostridium spp_None</td>\n",
       "      <td>178</td>\n",
       "      <td>0.54</td>\n",
       "      <td>4.00</td>\n",
       "      <td>2.910112</td>\n",
       "      <td>1.00</td>\n",
       "      <td>0.981645</td>\n",
       "      <td>object</td>\n",
       "    </tr>\n",
       "    <tr>\n",
       "      <th>51</th>\n",
       "      <td>Creatinine_mg/dL</td>\n",
       "      <td>174</td>\n",
       "      <td>0.52</td>\n",
       "      <td>1.20</td>\n",
       "      <td>0.821552</td>\n",
       "      <td>0.66</td>\n",
       "      <td>0.084794</td>\n",
       "      <td>float64</td>\n",
       "    </tr>\n",
       "    <tr>\n",
       "      <th>31</th>\n",
       "      <td>Blood Urea Nitrogen (BUN)_mg/dL</td>\n",
       "      <td>172</td>\n",
       "      <td>0.52</td>\n",
       "      <td>28.00</td>\n",
       "      <td>17.784884</td>\n",
       "      <td>7.00</td>\n",
       "      <td>3.649113</td>\n",
       "      <td>float64</td>\n",
       "    </tr>\n",
       "    <tr>\n",
       "      <th>35</th>\n",
       "      <td>Calcium_mg/dL</td>\n",
       "      <td>168</td>\n",
       "      <td>0.51</td>\n",
       "      <td>10.10</td>\n",
       "      <td>9.311905</td>\n",
       "      <td>8.00</td>\n",
       "      <td>0.322009</td>\n",
       "      <td>float64</td>\n",
       "    </tr>\n",
       "    <tr>\n",
       "      <th>132</th>\n",
       "      <td>Sodium_mmol/L</td>\n",
       "      <td>168</td>\n",
       "      <td>0.51</td>\n",
       "      <td>142.00</td>\n",
       "      <td>139.095238</td>\n",
       "      <td>134.00</td>\n",
       "      <td>1.598046</td>\n",
       "      <td>float64</td>\n",
       "    </tr>\n",
       "    <tr>\n",
       "      <th>79</th>\n",
       "      <td>High Sensitivity CRP (mg/L)_mg/L</td>\n",
       "      <td>167</td>\n",
       "      <td>0.50</td>\n",
       "      <td>60.60</td>\n",
       "      <td>4.720958</td>\n",
       "      <td>0.30</td>\n",
       "      <td>7.332333</td>\n",
       "      <td>float64</td>\n",
       "    </tr>\n",
       "    <tr>\n",
       "      <th>115</th>\n",
       "      <td>Potassium_mmol/L</td>\n",
       "      <td>167</td>\n",
       "      <td>0.50</td>\n",
       "      <td>5.40</td>\n",
       "      <td>4.361677</td>\n",
       "      <td>3.70</td>\n",
       "      <td>0.271039</td>\n",
       "      <td>float64</td>\n",
       "    </tr>\n",
       "    <tr>\n",
       "      <th>21</th>\n",
       "      <td>BUN/Creatinine Ratio_None</td>\n",
       "      <td>166</td>\n",
       "      <td>0.50</td>\n",
       "      <td>37.30</td>\n",
       "      <td>21.793916</td>\n",
       "      <td>8.00</td>\n",
       "      <td>4.500873</td>\n",
       "      <td>float64</td>\n",
       "    </tr>\n",
       "    <tr>\n",
       "      <th>64</th>\n",
       "      <td>Fasting Glucose_mg/dL</td>\n",
       "      <td>165</td>\n",
       "      <td>0.50</td>\n",
       "      <td>120.00</td>\n",
       "      <td>98.496970</td>\n",
       "      <td>73.00</td>\n",
       "      <td>8.723828</td>\n",
       "      <td>float64</td>\n",
       "    </tr>\n",
       "    <tr>\n",
       "      <th>11</th>\n",
       "      <td>AST_U/L</td>\n",
       "      <td>165</td>\n",
       "      <td>0.50</td>\n",
       "      <td>63.00</td>\n",
       "      <td>28.000000</td>\n",
       "      <td>19.00</td>\n",
       "      <td>6.096780</td>\n",
       "      <td>float64</td>\n",
       "    </tr>\n",
       "    <tr>\n",
       "      <th>43</th>\n",
       "      <td>Chloride_mmol/L</td>\n",
       "      <td>164</td>\n",
       "      <td>0.49</td>\n",
       "      <td>108.00</td>\n",
       "      <td>101.170732</td>\n",
       "      <td>94.00</td>\n",
       "      <td>2.680559</td>\n",
       "      <td>float64</td>\n",
       "    </tr>\n",
       "    <tr>\n",
       "      <th>157</th>\n",
       "      <td>Total Protein_g/dL</td>\n",
       "      <td>162</td>\n",
       "      <td>0.49</td>\n",
       "      <td>8.00</td>\n",
       "      <td>7.159877</td>\n",
       "      <td>5.10</td>\n",
       "      <td>0.405162</td>\n",
       "      <td>float64</td>\n",
       "    </tr>\n",
       "    <tr>\n",
       "      <th>14</th>\n",
       "      <td>Albumin_g/dL</td>\n",
       "      <td>162</td>\n",
       "      <td>0.49</td>\n",
       "      <td>5.00</td>\n",
       "      <td>4.419753</td>\n",
       "      <td>3.40</td>\n",
       "      <td>0.321263</td>\n",
       "      <td>float64</td>\n",
       "    </tr>\n",
       "    <tr>\n",
       "      <th>15</th>\n",
       "      <td>Alkaline phosphatase_U/L</td>\n",
       "      <td>164</td>\n",
       "      <td>0.49</td>\n",
       "      <td>92.00</td>\n",
       "      <td>54.067073</td>\n",
       "      <td>37.00</td>\n",
       "      <td>7.161700</td>\n",
       "      <td>float64</td>\n",
       "    </tr>\n",
       "    <tr>\n",
       "      <th>10</th>\n",
       "      <td>AST/ALT ratio_None</td>\n",
       "      <td>159</td>\n",
       "      <td>0.48</td>\n",
       "      <td>2.00</td>\n",
       "      <td>1.298176</td>\n",
       "      <td>0.59</td>\n",
       "      <td>0.265346</td>\n",
       "      <td>float64</td>\n",
       "    </tr>\n",
       "    <tr>\n",
       "      <th>7</th>\n",
       "      <td>ALT_U/L</td>\n",
       "      <td>161</td>\n",
       "      <td>0.48</td>\n",
       "      <td>57.00</td>\n",
       "      <td>22.763975</td>\n",
       "      <td>12.00</td>\n",
       "      <td>8.266284</td>\n",
       "      <td>float64</td>\n",
       "    </tr>\n",
       "    <tr>\n",
       "      <th>156</th>\n",
       "      <td>Total Bilirubin_mg/dL</td>\n",
       "      <td>161</td>\n",
       "      <td>0.48</td>\n",
       "      <td>1.25</td>\n",
       "      <td>0.662919</td>\n",
       "      <td>0.30</td>\n",
       "      <td>0.181244</td>\n",
       "      <td>float64</td>\n",
       "    </tr>\n",
       "    <tr>\n",
       "      <th>99</th>\n",
       "      <td>MCHC-_g/dL</td>\n",
       "      <td>148</td>\n",
       "      <td>0.45</td>\n",
       "      <td>34.90</td>\n",
       "      <td>33.162838</td>\n",
       "      <td>30.20</td>\n",
       "      <td>0.745534</td>\n",
       "      <td>float64</td>\n",
       "    </tr>\n",
       "    <tr>\n",
       "      <th>100</th>\n",
       "      <td>MCH_pg/cell</td>\n",
       "      <td>148</td>\n",
       "      <td>0.45</td>\n",
       "      <td>32.40</td>\n",
       "      <td>30.637162</td>\n",
       "      <td>29.30</td>\n",
       "      <td>0.645474</td>\n",
       "      <td>float64</td>\n",
       "    </tr>\n",
       "    <tr>\n",
       "      <th>101</th>\n",
       "      <td>MCV-_fL</td>\n",
       "      <td>148</td>\n",
       "      <td>0.45</td>\n",
       "      <td>99.80</td>\n",
       "      <td>92.426351</td>\n",
       "      <td>87.90</td>\n",
       "      <td>2.465693</td>\n",
       "      <td>float64</td>\n",
       "    </tr>\n",
       "    <tr>\n",
       "      <th>74</th>\n",
       "      <td>HGB-_g/dL</td>\n",
       "      <td>149</td>\n",
       "      <td>0.45</td>\n",
       "      <td>17.10</td>\n",
       "      <td>14.740940</td>\n",
       "      <td>9.70</td>\n",
       "      <td>1.215442</td>\n",
       "      <td>float64</td>\n",
       "    </tr>\n",
       "    <tr>\n",
       "      <th>180</th>\n",
       "      <td>WBC-_10**3/mL</td>\n",
       "      <td>150</td>\n",
       "      <td>0.45</td>\n",
       "      <td>11.20</td>\n",
       "      <td>4.866600</td>\n",
       "      <td>3.20</td>\n",
       "      <td>1.108693</td>\n",
       "      <td>float64</td>\n",
       "    </tr>\n",
       "    <tr>\n",
       "      <th>72</th>\n",
       "      <td>HCT_%</td>\n",
       "      <td>151</td>\n",
       "      <td>0.45</td>\n",
       "      <td>51.40</td>\n",
       "      <td>44.515232</td>\n",
       "      <td>29.30</td>\n",
       "      <td>3.578859</td>\n",
       "      <td>float64</td>\n",
       "    </tr>\n",
       "    <tr>\n",
       "      <th>122</th>\n",
       "      <td>RBC-_10**6/mL</td>\n",
       "      <td>149</td>\n",
       "      <td>0.45</td>\n",
       "      <td>5.61</td>\n",
       "      <td>4.817383</td>\n",
       "      <td>3.12</td>\n",
       "      <td>0.413739</td>\n",
       "      <td>float64</td>\n",
       "    </tr>\n",
       "    <tr>\n",
       "      <th>123</th>\n",
       "      <td>RDW_%</td>\n",
       "      <td>148</td>\n",
       "      <td>0.45</td>\n",
       "      <td>18.80</td>\n",
       "      <td>15.277027</td>\n",
       "      <td>13.20</td>\n",
       "      <td>0.730399</td>\n",
       "      <td>float64</td>\n",
       "    </tr>\n",
       "    <tr>\n",
       "      <th>111</th>\n",
       "      <td>PLT-_10**3/mL</td>\n",
       "      <td>146</td>\n",
       "      <td>0.44</td>\n",
       "      <td>287.00</td>\n",
       "      <td>198.910959</td>\n",
       "      <td>3.00</td>\n",
       "      <td>29.270421</td>\n",
       "      <td>float64</td>\n",
       "    </tr>\n",
       "    <tr>\n",
       "      <th>138</th>\n",
       "      <td>Stool Calprotectin YFH_None</td>\n",
       "      <td>144</td>\n",
       "      <td>0.43</td>\n",
       "      <td>1347.00</td>\n",
       "      <td>62.833333</td>\n",
       "      <td>5.00</td>\n",
       "      <td>162.916642</td>\n",
       "      <td>float64</td>\n",
       "    </tr>\n",
       "    <tr>\n",
       "      <th>108</th>\n",
       "      <td>NEU %</td>\n",
       "      <td>140</td>\n",
       "      <td>0.42</td>\n",
       "      <td>87.00</td>\n",
       "      <td>60.083571</td>\n",
       "      <td>48.00</td>\n",
       "      <td>5.959523</td>\n",
       "      <td>float64</td>\n",
       "    </tr>\n",
       "    <tr>\n",
       "      <th>92</th>\n",
       "      <td>LYM %</td>\n",
       "      <td>140</td>\n",
       "      <td>0.42</td>\n",
       "      <td>33.00</td>\n",
       "      <td>21.410000</td>\n",
       "      <td>2.00</td>\n",
       "      <td>3.987197</td>\n",
       "      <td>float64</td>\n",
       "    </tr>\n",
       "    <tr>\n",
       "      <th>102</th>\n",
       "      <td>MONO %</td>\n",
       "      <td>140</td>\n",
       "      <td>0.42</td>\n",
       "      <td>15.00</td>\n",
       "      <td>7.950000</td>\n",
       "      <td>0.30</td>\n",
       "      <td>1.719691</td>\n",
       "      <td>float64</td>\n",
       "    </tr>\n",
       "    <tr>\n",
       "      <th>57</th>\n",
       "      <td>EOS %</td>\n",
       "      <td>141</td>\n",
       "      <td>0.42</td>\n",
       "      <td>26.00</td>\n",
       "      <td>9.371631</td>\n",
       "      <td>0.00</td>\n",
       "      <td>3.373962</td>\n",
       "      <td>float64</td>\n",
       "    </tr>\n",
       "    <tr>\n",
       "      <th>6</th>\n",
       "      <td>A/G ratio_None</td>\n",
       "      <td>135</td>\n",
       "      <td>0.41</td>\n",
       "      <td>2.30</td>\n",
       "      <td>1.610370</td>\n",
       "      <td>1.00</td>\n",
       "      <td>0.262955</td>\n",
       "      <td>float64</td>\n",
       "    </tr>\n",
       "    <tr>\n",
       "      <th>71</th>\n",
       "      <td>Globulin_None</td>\n",
       "      <td>136</td>\n",
       "      <td>0.41</td>\n",
       "      <td>3.50</td>\n",
       "      <td>2.796324</td>\n",
       "      <td>2.00</td>\n",
       "      <td>0.329401</td>\n",
       "      <td>float64</td>\n",
       "    </tr>\n",
       "    <tr>\n",
       "      <th>29</th>\n",
       "      <td>Bicarbonate_mmol/L</td>\n",
       "      <td>133</td>\n",
       "      <td>0.40</td>\n",
       "      <td>30.00</td>\n",
       "      <td>26.097744</td>\n",
       "      <td>17.00</td>\n",
       "      <td>2.055535</td>\n",
       "      <td>float64</td>\n",
       "    </tr>\n",
       "    <tr>\n",
       "      <th>103</th>\n",
       "      <td>MPV_fL</td>\n",
       "      <td>131</td>\n",
       "      <td>0.39</td>\n",
       "      <td>11.50</td>\n",
       "      <td>10.596565</td>\n",
       "      <td>9.70</td>\n",
       "      <td>0.347751</td>\n",
       "      <td>float64</td>\n",
       "    </tr>\n",
       "    <tr>\n",
       "      <th>97</th>\n",
       "      <td>Lymphocyte Count_10**3/mL</td>\n",
       "      <td>131</td>\n",
       "      <td>0.39</td>\n",
       "      <td>1.60</td>\n",
       "      <td>1.019847</td>\n",
       "      <td>0.60</td>\n",
       "      <td>0.164747</td>\n",
       "      <td>float64</td>\n",
       "    </tr>\n",
       "    <tr>\n",
       "      <th>109</th>\n",
       "      <td>Neutrophil Count_10**3/mL</td>\n",
       "      <td>131</td>\n",
       "      <td>0.39</td>\n",
       "      <td>9.70</td>\n",
       "      <td>2.911450</td>\n",
       "      <td>1.60</td>\n",
       "      <td>0.995964</td>\n",
       "      <td>float64</td>\n",
       "    </tr>\n",
       "    <tr>\n",
       "      <th>105</th>\n",
       "      <td>Monocyte Count_10**3/mL</td>\n",
       "      <td>130</td>\n",
       "      <td>0.39</td>\n",
       "      <td>0.80</td>\n",
       "      <td>0.396154</td>\n",
       "      <td>0.20</td>\n",
       "      <td>0.080120</td>\n",
       "      <td>float64</td>\n",
       "    </tr>\n",
       "    <tr>\n",
       "      <th>61</th>\n",
       "      <td>Esoinophil Count_10**3/mL</td>\n",
       "      <td>130</td>\n",
       "      <td>0.39</td>\n",
       "      <td>0.70</td>\n",
       "      <td>0.435385</td>\n",
       "      <td>0.00</td>\n",
       "      <td>0.118034</td>\n",
       "      <td>float64</td>\n",
       "    </tr>\n",
       "    <tr>\n",
       "      <th>20</th>\n",
       "      <td>BASO %</td>\n",
       "      <td>126</td>\n",
       "      <td>0.38</td>\n",
       "      <td>2.00</td>\n",
       "      <td>0.955952</td>\n",
       "      <td>0.00</td>\n",
       "      <td>0.370708</td>\n",
       "      <td>float64</td>\n",
       "    </tr>\n",
       "    <tr>\n",
       "      <th>149</th>\n",
       "      <td>Sum Total Cholesterol_mg/dL</td>\n",
       "      <td>121</td>\n",
       "      <td>0.36</td>\n",
       "      <td>214.00</td>\n",
       "      <td>141.404959</td>\n",
       "      <td>95.00</td>\n",
       "      <td>25.094680</td>\n",
       "      <td>float64</td>\n",
       "    </tr>\n",
       "    <tr>\n",
       "      <th>164</th>\n",
       "      <td>Triglycerides_mg/dL</td>\n",
       "      <td>118</td>\n",
       "      <td>0.36</td>\n",
       "      <td>108.00</td>\n",
       "      <td>40.957627</td>\n",
       "      <td>23.00</td>\n",
       "      <td>11.722864</td>\n",
       "      <td>float64</td>\n",
       "    </tr>\n",
       "    <tr>\n",
       "      <th>44</th>\n",
       "      <td>Chol/HDL_None</td>\n",
       "      <td>108</td>\n",
       "      <td>0.33</td>\n",
       "      <td>3.40</td>\n",
       "      <td>2.224167</td>\n",
       "      <td>1.60</td>\n",
       "      <td>0.436107</td>\n",
       "      <td>float64</td>\n",
       "    </tr>\n",
       "    <tr>\n",
       "      <th>150</th>\n",
       "      <td>TG/HDL_None</td>\n",
       "      <td>108</td>\n",
       "      <td>0.33</td>\n",
       "      <td>1.50</td>\n",
       "      <td>0.633333</td>\n",
       "      <td>0.30</td>\n",
       "      <td>0.183425</td>\n",
       "      <td>float64</td>\n",
       "    </tr>\n",
       "    <tr>\n",
       "      <th>73</th>\n",
       "      <td>HDL (High Density Lipoprotein) \"good\"_mg/dL</td>\n",
       "      <td>111</td>\n",
       "      <td>0.33</td>\n",
       "      <td>77.00</td>\n",
       "      <td>63.675676</td>\n",
       "      <td>44.00</td>\n",
       "      <td>6.988513</td>\n",
       "      <td>float64</td>\n",
       "    </tr>\n",
       "    <tr>\n",
       "      <th>177</th>\n",
       "      <td>Vitamin D, 25-Hydroxy_ng/mL</td>\n",
       "      <td>109</td>\n",
       "      <td>0.33</td>\n",
       "      <td>90.00</td>\n",
       "      <td>56.871560</td>\n",
       "      <td>32.00</td>\n",
       "      <td>16.296319</td>\n",
       "      <td>float64</td>\n",
       "    </tr>\n",
       "    <tr>\n",
       "      <th>5</th>\n",
       "      <td>237_mg/dL</td>\n",
       "      <td>111</td>\n",
       "      <td>0.33</td>\n",
       "      <td>130.00</td>\n",
       "      <td>67.360360</td>\n",
       "      <td>32.00</td>\n",
       "      <td>23.804810</td>\n",
       "      <td>float64</td>\n",
       "    </tr>\n",
       "    <tr>\n",
       "      <th>18</th>\n",
       "      <td>Anion Gap_mmol/L</td>\n",
       "      <td>102</td>\n",
       "      <td>0.31</td>\n",
       "      <td>24.00</td>\n",
       "      <td>12.441176</td>\n",
       "      <td>7.00</td>\n",
       "      <td>3.259635</td>\n",
       "      <td>float64</td>\n",
       "    </tr>\n",
       "    <tr>\n",
       "      <th>176</th>\n",
       "      <td>Vitamin B12_pg/mL</td>\n",
       "      <td>84</td>\n",
       "      <td>0.25</td>\n",
       "      <td>2000.00</td>\n",
       "      <td>996.678571</td>\n",
       "      <td>552.00</td>\n",
       "      <td>278.046636</td>\n",
       "      <td>float64</td>\n",
       "    </tr>\n",
       "    <tr>\n",
       "      <th>137</th>\n",
       "      <td>Stool Calprotectin UCSD_µg/g</td>\n",
       "      <td>79</td>\n",
       "      <td>0.24</td>\n",
       "      <td>2500.00</td>\n",
       "      <td>161.139241</td>\n",
       "      <td>5.00</td>\n",
       "      <td>320.443672</td>\n",
       "      <td>float64</td>\n",
       "    </tr>\n",
       "    <tr>\n",
       "      <th>77</th>\n",
       "      <td>Hemoglobin A1C_%</td>\n",
       "      <td>72</td>\n",
       "      <td>0.22</td>\n",
       "      <td>6.30</td>\n",
       "      <td>5.583333</td>\n",
       "      <td>5.20</td>\n",
       "      <td>0.183088</td>\n",
       "      <td>float64</td>\n",
       "    </tr>\n",
       "    <tr>\n",
       "      <th>34</th>\n",
       "      <td>CEA_ng/mL</td>\n",
       "      <td>73</td>\n",
       "      <td>0.22</td>\n",
       "      <td>8.20</td>\n",
       "      <td>6.153425</td>\n",
       "      <td>3.30</td>\n",
       "      <td>0.973265</td>\n",
       "      <td>float64</td>\n",
       "    </tr>\n",
       "    <tr>\n",
       "      <th>85</th>\n",
       "      <td>Insulin_µIU/mL</td>\n",
       "      <td>72</td>\n",
       "      <td>0.22</td>\n",
       "      <td>12.40</td>\n",
       "      <td>6.637500</td>\n",
       "      <td>2.00</td>\n",
       "      <td>2.141833</td>\n",
       "      <td>float64</td>\n",
       "    </tr>\n",
       "    <tr>\n",
       "      <th>87</th>\n",
       "      <td>Iron_µg/dL</td>\n",
       "      <td>67</td>\n",
       "      <td>0.20</td>\n",
       "      <td>124.00</td>\n",
       "      <td>79.701493</td>\n",
       "      <td>35.00</td>\n",
       "      <td>18.961696</td>\n",
       "      <td>float64</td>\n",
       "    </tr>\n",
       "    <tr>\n",
       "      <th>27</th>\n",
       "      <td>Basophil Count_10**3/mL</td>\n",
       "      <td>63</td>\n",
       "      <td>0.19</td>\n",
       "      <td>0.10</td>\n",
       "      <td>0.044444</td>\n",
       "      <td>0.00</td>\n",
       "      <td>0.050090</td>\n",
       "      <td>float64</td>\n",
       "    </tr>\n",
       "    <tr>\n",
       "      <th>165</th>\n",
       "      <td>UCSD HDL Particle #_μmol/L</td>\n",
       "      <td>59</td>\n",
       "      <td>0.18</td>\n",
       "      <td>55.00</td>\n",
       "      <td>29.367797</td>\n",
       "      <td>22.00</td>\n",
       "      <td>5.128065</td>\n",
       "      <td>float64</td>\n",
       "    </tr>\n",
       "    <tr>\n",
       "      <th>167</th>\n",
       "      <td>UCSD LDL Particle # by NMR_nmol/L</td>\n",
       "      <td>59</td>\n",
       "      <td>0.18</td>\n",
       "      <td>1192.00</td>\n",
       "      <td>539.847458</td>\n",
       "      <td>70.00</td>\n",
       "      <td>266.147601</td>\n",
       "      <td>float64</td>\n",
       "    </tr>\n",
       "    <tr>\n",
       "      <th>75</th>\n",
       "      <td>HOMA-IR (insulin resistance)_None</td>\n",
       "      <td>59</td>\n",
       "      <td>0.18</td>\n",
       "      <td>3.06</td>\n",
       "      <td>1.627288</td>\n",
       "      <td>0.45</td>\n",
       "      <td>0.538545</td>\n",
       "      <td>float64</td>\n",
       "    </tr>\n",
       "    <tr>\n",
       "      <th>80</th>\n",
       "      <td>Homocysteine_µmol/L</td>\n",
       "      <td>60</td>\n",
       "      <td>0.18</td>\n",
       "      <td>17.00</td>\n",
       "      <td>12.640667</td>\n",
       "      <td>7.00</td>\n",
       "      <td>1.806759</td>\n",
       "      <td>float64</td>\n",
       "    </tr>\n",
       "    <tr>\n",
       "      <th>166</th>\n",
       "      <td>UCSD HDL Particle Size_nm</td>\n",
       "      <td>58</td>\n",
       "      <td>0.17</td>\n",
       "      <td>10.10</td>\n",
       "      <td>9.824138</td>\n",
       "      <td>9.30</td>\n",
       "      <td>0.217086</td>\n",
       "      <td>float64</td>\n",
       "    </tr>\n",
       "    <tr>\n",
       "      <th>168</th>\n",
       "      <td>UCSD LDL Particle Size_nm</td>\n",
       "      <td>58</td>\n",
       "      <td>0.17</td>\n",
       "      <td>21.60</td>\n",
       "      <td>20.989655</td>\n",
       "      <td>20.00</td>\n",
       "      <td>0.277008</td>\n",
       "      <td>float64</td>\n",
       "    </tr>\n",
       "    <tr>\n",
       "      <th>172</th>\n",
       "      <td>UCSD VLDL Particle Size_nm</td>\n",
       "      <td>57</td>\n",
       "      <td>0.17</td>\n",
       "      <td>58.50</td>\n",
       "      <td>47.021053</td>\n",
       "      <td>0.80</td>\n",
       "      <td>9.236626</td>\n",
       "      <td>float64</td>\n",
       "    </tr>\n",
       "    <tr>\n",
       "      <th>171</th>\n",
       "      <td>UCSD Small LDL Particle #_nmol/L</td>\n",
       "      <td>58</td>\n",
       "      <td>0.17</td>\n",
       "      <td>682.00</td>\n",
       "      <td>216.620690</td>\n",
       "      <td>101.00</td>\n",
       "      <td>97.348502</td>\n",
       "      <td>float64</td>\n",
       "    </tr>\n",
       "    <tr>\n",
       "      <th>169</th>\n",
       "      <td>UCSD Large HDL Particle #_μmol/L</td>\n",
       "      <td>58</td>\n",
       "      <td>0.17</td>\n",
       "      <td>31.50</td>\n",
       "      <td>10.679310</td>\n",
       "      <td>4.70</td>\n",
       "      <td>3.341014</td>\n",
       "      <td>float64</td>\n",
       "    </tr>\n",
       "    <tr>\n",
       "      <th>170</th>\n",
       "      <td>UCSD Large VLDL Particle #_nmol/L</td>\n",
       "      <td>52</td>\n",
       "      <td>0.16</td>\n",
       "      <td>2.20</td>\n",
       "      <td>1.476923</td>\n",
       "      <td>0.80</td>\n",
       "      <td>0.188508</td>\n",
       "      <td>object</td>\n",
       "    </tr>\n",
       "    <tr>\n",
       "      <th>65</th>\n",
       "      <td>Ferritin_ng/mL</td>\n",
       "      <td>50</td>\n",
       "      <td>0.15</td>\n",
       "      <td>156.00</td>\n",
       "      <td>69.740000</td>\n",
       "      <td>21.00</td>\n",
       "      <td>30.905260</td>\n",
       "      <td>float64</td>\n",
       "    </tr>\n",
       "    <tr>\n",
       "      <th>95</th>\n",
       "      <td>Lp(a) Chloresterol_None</td>\n",
       "      <td>45</td>\n",
       "      <td>0.14</td>\n",
       "      <td>14.00</td>\n",
       "      <td>7.911111</td>\n",
       "      <td>4.00</td>\n",
       "      <td>2.609617</td>\n",
       "      <td>float64</td>\n",
       "    </tr>\n",
       "    <tr>\n",
       "      <th>9</th>\n",
       "      <td>APOLIPOPROTEIN-(B100)_mg/dL</td>\n",
       "      <td>47</td>\n",
       "      <td>0.14</td>\n",
       "      <td>87.00</td>\n",
       "      <td>59.340426</td>\n",
       "      <td>37.00</td>\n",
       "      <td>13.845854</td>\n",
       "      <td>float64</td>\n",
       "    </tr>\n",
       "    <tr>\n",
       "      <th>175</th>\n",
       "      <td>VLDL Cholesterol_mg/dL</td>\n",
       "      <td>42</td>\n",
       "      <td>0.13</td>\n",
       "      <td>14.00</td>\n",
       "      <td>11.261905</td>\n",
       "      <td>6.00</td>\n",
       "      <td>1.638850</td>\n",
       "      <td>float64</td>\n",
       "    </tr>\n",
       "    <tr>\n",
       "      <th>179</th>\n",
       "      <td>Vitamin E Gamma-Tocopherol_mg/L</td>\n",
       "      <td>39</td>\n",
       "      <td>0.12</td>\n",
       "      <td>10.50</td>\n",
       "      <td>0.851282</td>\n",
       "      <td>0.20</td>\n",
       "      <td>1.623166</td>\n",
       "      <td>object</td>\n",
       "    </tr>\n",
       "    <tr>\n",
       "      <th>178</th>\n",
       "      <td>Vitamin E Alpha-Tocopherol_mg/L</td>\n",
       "      <td>39</td>\n",
       "      <td>0.12</td>\n",
       "      <td>17.10</td>\n",
       "      <td>11.310256</td>\n",
       "      <td>7.40</td>\n",
       "      <td>2.157337</td>\n",
       "      <td>float64</td>\n",
       "    </tr>\n",
       "    <tr>\n",
       "      <th>112</th>\n",
       "      <td>PSA Screen_None</td>\n",
       "      <td>41</td>\n",
       "      <td>0.12</td>\n",
       "      <td>31.30</td>\n",
       "      <td>3.581220</td>\n",
       "      <td>0.82</td>\n",
       "      <td>4.764834</td>\n",
       "      <td>float64</td>\n",
       "    </tr>\n",
       "    <tr>\n",
       "      <th>81</th>\n",
       "      <td>IDL Chloresterol_None</td>\n",
       "      <td>36</td>\n",
       "      <td>0.11</td>\n",
       "      <td>8.00</td>\n",
       "      <td>4.083333</td>\n",
       "      <td>2.00</td>\n",
       "      <td>1.645340</td>\n",
       "      <td>float64</td>\n",
       "    </tr>\n",
       "    <tr>\n",
       "      <th>151</th>\n",
       "      <td>TIBC_µg/dL</td>\n",
       "      <td>36</td>\n",
       "      <td>0.11</td>\n",
       "      <td>392.00</td>\n",
       "      <td>338.527778</td>\n",
       "      <td>302.00</td>\n",
       "      <td>23.500135</td>\n",
       "      <td>float64</td>\n",
       "    </tr>\n",
       "    <tr>\n",
       "      <th>173</th>\n",
       "      <td>UIBC_µg/dL</td>\n",
       "      <td>37</td>\n",
       "      <td>0.11</td>\n",
       "      <td>326.00</td>\n",
       "      <td>257.216216</td>\n",
       "      <td>204.00</td>\n",
       "      <td>22.697449</td>\n",
       "      <td>float64</td>\n",
       "    </tr>\n",
       "    <tr>\n",
       "      <th>68</th>\n",
       "      <td>GGTP_U/L</td>\n",
       "      <td>38</td>\n",
       "      <td>0.11</td>\n",
       "      <td>48.00</td>\n",
       "      <td>18.947368</td>\n",
       "      <td>12.00</td>\n",
       "      <td>6.311497</td>\n",
       "      <td>float64</td>\n",
       "    </tr>\n",
       "    <tr>\n",
       "      <th>86</th>\n",
       "      <td>Iron saturation_%</td>\n",
       "      <td>36</td>\n",
       "      <td>0.11</td>\n",
       "      <td>35.00</td>\n",
       "      <td>24.000000</td>\n",
       "      <td>10.00</td>\n",
       "      <td>5.002856</td>\n",
       "      <td>float64</td>\n",
       "    </tr>\n",
       "    <tr>\n",
       "      <th>8</th>\n",
       "      <td>APO A1_mg/dL</td>\n",
       "      <td>32</td>\n",
       "      <td>0.10</td>\n",
       "      <td>181.00</td>\n",
       "      <td>154.843750</td>\n",
       "      <td>129.00</td>\n",
       "      <td>14.060031</td>\n",
       "      <td>float64</td>\n",
       "    </tr>\n",
       "    <tr>\n",
       "      <th>104</th>\n",
       "      <td>Magnesium_mg/dL</td>\n",
       "      <td>33</td>\n",
       "      <td>0.10</td>\n",
       "      <td>2.50</td>\n",
       "      <td>2.236364</td>\n",
       "      <td>2.00</td>\n",
       "      <td>0.122010</td>\n",
       "      <td>float64</td>\n",
       "    </tr>\n",
       "    <tr>\n",
       "      <th>152</th>\n",
       "      <td>TSH_µIU/mL</td>\n",
       "      <td>34</td>\n",
       "      <td>0.10</td>\n",
       "      <td>3.96</td>\n",
       "      <td>2.388971</td>\n",
       "      <td>1.40</td>\n",
       "      <td>0.512483</td>\n",
       "      <td>float64</td>\n",
       "    </tr>\n",
       "    <tr>\n",
       "      <th>124</th>\n",
       "      <td>Ratio APO B100/AI_None</td>\n",
       "      <td>32</td>\n",
       "      <td>0.10</td>\n",
       "      <td>0.60</td>\n",
       "      <td>0.370747</td>\n",
       "      <td>0.20</td>\n",
       "      <td>0.096599</td>\n",
       "      <td>float64</td>\n",
       "    </tr>\n",
       "    <tr>\n",
       "      <th>67</th>\n",
       "      <td>Free Testosterone_pg/mL</td>\n",
       "      <td>29</td>\n",
       "      <td>0.09</td>\n",
       "      <td>105.00</td>\n",
       "      <td>74.689655</td>\n",
       "      <td>56.00</td>\n",
       "      <td>11.304561</td>\n",
       "      <td>float64</td>\n",
       "    </tr>\n",
       "    <tr>\n",
       "      <th>160</th>\n",
       "      <td>Total Testosterone_ng/mL</td>\n",
       "      <td>30</td>\n",
       "      <td>0.09</td>\n",
       "      <td>6.25</td>\n",
       "      <td>4.763667</td>\n",
       "      <td>3.11</td>\n",
       "      <td>0.677981</td>\n",
       "      <td>float64</td>\n",
       "    </tr>\n",
       "    <tr>\n",
       "      <th>174</th>\n",
       "      <td>Uric Acid_None</td>\n",
       "      <td>29</td>\n",
       "      <td>0.09</td>\n",
       "      <td>6.60</td>\n",
       "      <td>5.903448</td>\n",
       "      <td>4.80</td>\n",
       "      <td>0.438734</td>\n",
       "      <td>float64</td>\n",
       "    </tr>\n",
       "    <tr>\n",
       "      <th>153</th>\n",
       "      <td>Testosterone % Free</td>\n",
       "      <td>26</td>\n",
       "      <td>0.08</td>\n",
       "      <td>1.70</td>\n",
       "      <td>1.511538</td>\n",
       "      <td>1.40</td>\n",
       "      <td>0.071144</td>\n",
       "      <td>float64</td>\n",
       "    </tr>\n",
       "    <tr>\n",
       "      <th>131</th>\n",
       "      <td>Sex Hormone Binding Globulin (SHBG)_nmol/L</td>\n",
       "      <td>26</td>\n",
       "      <td>0.08</td>\n",
       "      <td>52.00</td>\n",
       "      <td>47.923077</td>\n",
       "      <td>41.00</td>\n",
       "      <td>2.910987</td>\n",
       "      <td>float64</td>\n",
       "    </tr>\n",
       "    <tr>\n",
       "      <th>114</th>\n",
       "      <td>Phosporus_mg/dL</td>\n",
       "      <td>19</td>\n",
       "      <td>0.06</td>\n",
       "      <td>3.50</td>\n",
       "      <td>3.078947</td>\n",
       "      <td>1.90</td>\n",
       "      <td>0.364507</td>\n",
       "      <td>float64</td>\n",
       "    </tr>\n",
       "    <tr>\n",
       "      <th>91</th>\n",
       "      <td>LDH_U/L</td>\n",
       "      <td>19</td>\n",
       "      <td>0.06</td>\n",
       "      <td>187.00</td>\n",
       "      <td>151.894737</td>\n",
       "      <td>126.00</td>\n",
       "      <td>15.613010</td>\n",
       "      <td>float64</td>\n",
       "    </tr>\n",
       "    <tr>\n",
       "      <th>55</th>\n",
       "      <td>Direct Bilirubin_None</td>\n",
       "      <td>18</td>\n",
       "      <td>0.05</td>\n",
       "      <td>0.25</td>\n",
       "      <td>0.163889</td>\n",
       "      <td>0.09</td>\n",
       "      <td>0.052708</td>\n",
       "      <td>float64</td>\n",
       "    </tr>\n",
       "    <tr>\n",
       "      <th>182</th>\n",
       "      <td>Zinc_µg/dL</td>\n",
       "      <td>17</td>\n",
       "      <td>0.05</td>\n",
       "      <td>100.00</td>\n",
       "      <td>85.758824</td>\n",
       "      <td>67.00</td>\n",
       "      <td>10.746282</td>\n",
       "      <td>float64</td>\n",
       "    </tr>\n",
       "    <tr>\n",
       "      <th>155</th>\n",
       "      <td>Tot CO2_None</td>\n",
       "      <td>15</td>\n",
       "      <td>0.05</td>\n",
       "      <td>28.00</td>\n",
       "      <td>25.733333</td>\n",
       "      <td>22.00</td>\n",
       "      <td>1.579632</td>\n",
       "      <td>float64</td>\n",
       "    </tr>\n",
       "    <tr>\n",
       "      <th>154</th>\n",
       "      <td>Thyroxine (T4)_µg/dL</td>\n",
       "      <td>16</td>\n",
       "      <td>0.05</td>\n",
       "      <td>7.70</td>\n",
       "      <td>6.362500</td>\n",
       "      <td>5.40</td>\n",
       "      <td>0.748220</td>\n",
       "      <td>float64</td>\n",
       "    </tr>\n",
       "    <tr>\n",
       "      <th>25</th>\n",
       "      <td>Bacteroides family_None</td>\n",
       "      <td>18</td>\n",
       "      <td>0.05</td>\n",
       "      <td>4.00</td>\n",
       "      <td>3.555556</td>\n",
       "      <td>3.00</td>\n",
       "      <td>0.511310</td>\n",
       "      <td>float64</td>\n",
       "    </tr>\n",
       "    <tr>\n",
       "      <th>159</th>\n",
       "      <td>Total T3_ng/mL</td>\n",
       "      <td>12</td>\n",
       "      <td>0.04</td>\n",
       "      <td>1.00</td>\n",
       "      <td>0.866667</td>\n",
       "      <td>0.80</td>\n",
       "      <td>0.077850</td>\n",
       "      <td>float64</td>\n",
       "    </tr>\n",
       "    <tr>\n",
       "      <th>54</th>\n",
       "      <td>DHEA-blood_µg/dL</td>\n",
       "      <td>14</td>\n",
       "      <td>0.04</td>\n",
       "      <td>77.00</td>\n",
       "      <td>46.357143</td>\n",
       "      <td>30.00</td>\n",
       "      <td>11.014725</td>\n",
       "      <td>float64</td>\n",
       "    </tr>\n",
       "    <tr>\n",
       "      <th>96</th>\n",
       "      <td>Lp-PLA2_None</td>\n",
       "      <td>13</td>\n",
       "      <td>0.04</td>\n",
       "      <td>232.00</td>\n",
       "      <td>202.000000</td>\n",
       "      <td>180.00</td>\n",
       "      <td>18.717194</td>\n",
       "      <td>float64</td>\n",
       "    </tr>\n",
       "    <tr>\n",
       "      <th>62</th>\n",
       "      <td>Estradiol_pg/mL</td>\n",
       "      <td>10</td>\n",
       "      <td>0.03</td>\n",
       "      <td>36.00</td>\n",
       "      <td>29.100000</td>\n",
       "      <td>18.00</td>\n",
       "      <td>4.817791</td>\n",
       "      <td>object</td>\n",
       "    </tr>\n",
       "    <tr>\n",
       "      <th>110</th>\n",
       "      <td>Niacin (Vit B3)_None</td>\n",
       "      <td>9</td>\n",
       "      <td>0.03</td>\n",
       "      <td>4.91</td>\n",
       "      <td>3.196667</td>\n",
       "      <td>2.04</td>\n",
       "      <td>0.827768</td>\n",
       "      <td>float64</td>\n",
       "    </tr>\n",
       "    <tr>\n",
       "      <th>82</th>\n",
       "      <td>IgA_None</td>\n",
       "      <td>9</td>\n",
       "      <td>0.03</td>\n",
       "      <td>601.00</td>\n",
       "      <td>520.000000</td>\n",
       "      <td>479.00</td>\n",
       "      <td>42.399882</td>\n",
       "      <td>float64</td>\n",
       "    </tr>\n",
       "    <tr>\n",
       "      <th>47</th>\n",
       "      <td>CoQ10_None</td>\n",
       "      <td>10</td>\n",
       "      <td>0.03</td>\n",
       "      <td>2.20</td>\n",
       "      <td>1.491000</td>\n",
       "      <td>0.80</td>\n",
       "      <td>0.399540</td>\n",
       "      <td>float64</td>\n",
       "    </tr>\n",
       "    <tr>\n",
       "      <th>49</th>\n",
       "      <td>Cortisol Random_None</td>\n",
       "      <td>10</td>\n",
       "      <td>0.03</td>\n",
       "      <td>12.70</td>\n",
       "      <td>9.730000</td>\n",
       "      <td>6.40</td>\n",
       "      <td>2.093402</td>\n",
       "      <td>float64</td>\n",
       "    </tr>\n",
       "    <tr>\n",
       "      <th>83</th>\n",
       "      <td>IgG_None</td>\n",
       "      <td>6</td>\n",
       "      <td>0.02</td>\n",
       "      <td>966.00</td>\n",
       "      <td>868.000000</td>\n",
       "      <td>812.00</td>\n",
       "      <td>62.408333</td>\n",
       "      <td>float64</td>\n",
       "    </tr>\n",
       "    <tr>\n",
       "      <th>84</th>\n",
       "      <td>IgM_None</td>\n",
       "      <td>6</td>\n",
       "      <td>0.02</td>\n",
       "      <td>75.00</td>\n",
       "      <td>56.333333</td>\n",
       "      <td>46.00</td>\n",
       "      <td>11.741664</td>\n",
       "      <td>float64</td>\n",
       "    </tr>\n",
       "    <tr>\n",
       "      <th>129</th>\n",
       "      <td>Selenium_None</td>\n",
       "      <td>6</td>\n",
       "      <td>0.02</td>\n",
       "      <td>197.80</td>\n",
       "      <td>132.333333</td>\n",
       "      <td>36.00</td>\n",
       "      <td>55.210929</td>\n",
       "      <td>float64</td>\n",
       "    </tr>\n",
       "    <tr>\n",
       "      <th>33</th>\n",
       "      <td>CA-19-9 (Pancreatic Cancer)_U/mL</td>\n",
       "      <td>4</td>\n",
       "      <td>0.01</td>\n",
       "      <td>2.00</td>\n",
       "      <td>1.250000</td>\n",
       "      <td>1.00</td>\n",
       "      <td>0.500000</td>\n",
       "      <td>object</td>\n",
       "    </tr>\n",
       "    <tr>\n",
       "      <th>16</th>\n",
       "      <td>Alpha Lipoic Acid_None</td>\n",
       "      <td>2</td>\n",
       "      <td>0.01</td>\n",
       "      <td>29.00</td>\n",
       "      <td>14.750000</td>\n",
       "      <td>0.50</td>\n",
       "      <td>20.152543</td>\n",
       "      <td>float64</td>\n",
       "    </tr>\n",
       "    <tr>\n",
       "      <th>66</th>\n",
       "      <td>Fibrinogen_None</td>\n",
       "      <td>1</td>\n",
       "      <td>0.00</td>\n",
       "      <td>404.00</td>\n",
       "      <td>404.000000</td>\n",
       "      <td>404.00</td>\n",
       "      <td>NaN</td>\n",
       "      <td>float64</td>\n",
       "    </tr>\n",
       "    <tr>\n",
       "      <th>125</th>\n",
       "      <td>Real-LDL Size Pattern_None</td>\n",
       "      <td>0</td>\n",
       "      <td>0.00</td>\n",
       "      <td>NaN</td>\n",
       "      <td>NaN</td>\n",
       "      <td>NaN</td>\n",
       "      <td>NaN</td>\n",
       "      <td>object</td>\n",
       "    </tr>\n",
       "    <tr>\n",
       "      <th>0</th>\n",
       "      <td>Date</td>\n",
       "      <td>0</td>\n",
       "      <td>0.00</td>\n",
       "      <td>NaN</td>\n",
       "      <td>NaN</td>\n",
       "      <td>NaN</td>\n",
       "      <td>NaN</td>\n",
       "      <td>object</td>\n",
       "    </tr>\n",
       "  </tbody>\n",
       "</table>\n",
       "</div>"
      ],
      "text/plain": [
       "                                                Column  # Values  Completion  \\\n",
       "181                                         Weight_lbs       322        0.97   \n",
       "183                                            pH_None       183        0.55   \n",
       "139                             Stool Lactoferrin_None       184        0.55   \n",
       "133                         Staphylococcus aureus_None       182        0.55   \n",
       "134                    Staphylococcus epidermidis_None       182        0.55   \n",
       "135                   Staphylococcus haemolyticus_None       181        0.55   \n",
       "63                         Exophiala dermatitidis_None       182        0.55   \n",
       "136                    Staphylococcus lugdunensis_None       182        0.55   \n",
       "60                              Enterococcus spp._None       182        0.55   \n",
       "59                           Enterobacter cloacae_None       182        0.55   \n",
       "58                          Enterobacter asburiae_None       182        0.55   \n",
       "56                                   E. coli spp._None       182        0.55   \n",
       "70                                Geotrichum spp._None       182        0.55   \n",
       "140                                Stool Lysozyme_None       184        0.55   \n",
       "141                                    Stool SIgA_None       184        0.55   \n",
       "53               Cryptococcus spp, not neoformans_None       182        0.55   \n",
       "52                          Cryptococcus diffuens_None       182        0.55   \n",
       "106                          Morganellla morganii_None       182        0.55   \n",
       "50                       Corynebacterium falsenii_None       181        0.55   \n",
       "142                       Streptococcus anginosus_None       181        0.55   \n",
       "48                         Comamonas testosteroni_None       182        0.55   \n",
       "69                  Gamma Hemolytic Streptococcus_None       182        0.55   \n",
       "130                           Serratia marcescens_None       181        0.55   \n",
       "45                   Citrobacter freundii complex_None       182        0.55   \n",
       "116                          Providencia rettgeri_None       182        0.55   \n",
       "98                             Lysinibacillus spp_None       182        0.55   \n",
       "113                                   Pantoea spp_None       182        0.55   \n",
       "94                             Lactococcus lactis_None       182        0.55   \n",
       "93                              Lactobacillus spp_None       182        0.55   \n",
       "1                                       % SCFA Acetate       184        0.55   \n",
       "90   Kocuria spp, salsicia, rhizophila, kristinae_None       182        0.55   \n",
       "89                           Klebsiella pneumonia_None       182        0.55   \n",
       "88                             Klebsiella oxytoca_None       182        0.55   \n",
       "117                          Providencia stuartii_None       182        0.55   \n",
       "128             Saccharomyces cerevisiae/boulardi_None       182        0.55   \n",
       "118                        Pseudomonas aeruginosa_None       182        0.55   \n",
       "119                Pseudomonas chlororaphis group_None       182        0.55   \n",
       "120                     Pseudomonas citronellolis_None       182        0.55   \n",
       "121                          Pseudomonas stutzeri_None       182        0.55   \n",
       "78                     Hemolytic Escherichia coli_None       182        0.55   \n",
       "126             Rhodotorula glutinis/mucilaginosa_None       182        0.55   \n",
       "76                                   Hafnia alvei_None       182        0.55   \n",
       "127              Rothia dentocariosa/mucliaginosa_None       181        0.55   \n",
       "143                       Streptococcus australis_None       181        0.55   \n",
       "107                       Mucoid Escherichia coli_None       182        0.55   \n",
       "144          Streptococcus mitis/oralis/cristatus_None       182        0.55   \n",
       "19                            Arcobacter butzieri_None       181        0.55   \n",
       "17                          Alpha hemolytic strep_None       182        0.55   \n",
       "161                           Trichosporon asahii_None       182        0.55   \n",
       "22                                Bacillus cereus_None       182        0.55   \n",
       "23                         Bacillus licheniformis_None       181        0.55   \n",
       "24                          Bacillus spp, pumilus_None       182        0.55   \n",
       "13                         Actinomyces turicensis_None       182        0.55   \n",
       "12                              Actinomyces neuii_None       182        0.55   \n",
       "148                                  Streptomyces_None       181        0.55   \n",
       "162                    Trichosporon montevideense_None       182        0.55   \n",
       "28         Beta strep, group B, strep. Agalactiae_None       182        0.55   \n",
       "147                      Streptococcus salivarius_None       182        0.55   \n",
       "163                          Trichosporon ovoides_None       182        0.55   \n",
       "30                          Bifidobacerium family_None       182        0.55   \n",
       "4                                      % SCFA Valerate       184        0.55   \n",
       "32                                      Butyrate_mg/mL       184        0.55   \n",
       "146                   Streptococcus parasanguinis_None       182        0.55   \n",
       "145                          Streptococcus mutans_None       181        0.55   \n",
       "3                                    % SCFA Propionate       184        0.55   \n",
       "36             Candida krusei/inconspicua/lambica_None       182        0.55   \n",
       "37                             Candida lusitaniae_None       182        0.55   \n",
       "38                          Candida orthopsilosis_None       182        0.55   \n",
       "39                           Candida parapsilosis_None       181        0.55   \n",
       "40                             Candida pararugosa_None       182        0.55   \n",
       "41                            Candida zeylanoides_None       182        0.55   \n",
       "42   Cellulosimicrobium cellulans/funkeil/marinum_None       182        0.55   \n",
       "2                                      % SCFA Butyrate       184        0.55   \n",
       "158                                   Total SCFA_mg/mL       184        0.55   \n",
       "26                      Bacteroides fraglis group_None       178        0.54   \n",
       "46                                Clostridium spp_None       178        0.54   \n",
       "51                                    Creatinine_mg/dL       174        0.52   \n",
       "31                     Blood Urea Nitrogen (BUN)_mg/dL       172        0.52   \n",
       "35                                       Calcium_mg/dL       168        0.51   \n",
       "132                                      Sodium_mmol/L       168        0.51   \n",
       "79                    High Sensitivity CRP (mg/L)_mg/L       167        0.50   \n",
       "115                                   Potassium_mmol/L       167        0.50   \n",
       "21                           BUN/Creatinine Ratio_None       166        0.50   \n",
       "64                               Fasting Glucose_mg/dL       165        0.50   \n",
       "11                                             AST_U/L       165        0.50   \n",
       "43                                     Chloride_mmol/L       164        0.49   \n",
       "157                                 Total Protein_g/dL       162        0.49   \n",
       "14                                        Albumin_g/dL       162        0.49   \n",
       "15                            Alkaline phosphatase_U/L       164        0.49   \n",
       "10                                  AST/ALT ratio_None       159        0.48   \n",
       "7                                              ALT_U/L       161        0.48   \n",
       "156                              Total Bilirubin_mg/dL       161        0.48   \n",
       "99                                          MCHC-_g/dL       148        0.45   \n",
       "100                                        MCH_pg/cell       148        0.45   \n",
       "101                                            MCV-_fL       148        0.45   \n",
       "74                                           HGB-_g/dL       149        0.45   \n",
       "180                                      WBC-_10**3/mL       150        0.45   \n",
       "72                                               HCT_%       151        0.45   \n",
       "122                                      RBC-_10**6/mL       149        0.45   \n",
       "123                                              RDW_%       148        0.45   \n",
       "111                                      PLT-_10**3/mL       146        0.44   \n",
       "138                        Stool Calprotectin YFH_None       144        0.43   \n",
       "108                                              NEU %       140        0.42   \n",
       "92                                               LYM %       140        0.42   \n",
       "102                                             MONO %       140        0.42   \n",
       "57                                               EOS %       141        0.42   \n",
       "6                                       A/G ratio_None       135        0.41   \n",
       "71                                       Globulin_None       136        0.41   \n",
       "29                                  Bicarbonate_mmol/L       133        0.40   \n",
       "103                                             MPV_fL       131        0.39   \n",
       "97                           Lymphocyte Count_10**3/mL       131        0.39   \n",
       "109                          Neutrophil Count_10**3/mL       131        0.39   \n",
       "105                            Monocyte Count_10**3/mL       130        0.39   \n",
       "61                           Esoinophil Count_10**3/mL       130        0.39   \n",
       "20                                              BASO %       126        0.38   \n",
       "149                        Sum Total Cholesterol_mg/dL       121        0.36   \n",
       "164                                Triglycerides_mg/dL       118        0.36   \n",
       "44                                       Chol/HDL_None       108        0.33   \n",
       "150                                        TG/HDL_None       108        0.33   \n",
       "73         HDL (High Density Lipoprotein) \"good\"_mg/dL       111        0.33   \n",
       "177                        Vitamin D, 25-Hydroxy_ng/mL       109        0.33   \n",
       "5                                            237_mg/dL       111        0.33   \n",
       "18                                    Anion Gap_mmol/L       102        0.31   \n",
       "176                                  Vitamin B12_pg/mL        84        0.25   \n",
       "137                       Stool Calprotectin UCSD_µg/g        79        0.24   \n",
       "77                                    Hemoglobin A1C_%        72        0.22   \n",
       "34                                           CEA_ng/mL        73        0.22   \n",
       "85                                      Insulin_µIU/mL        72        0.22   \n",
       "87                                          Iron_µg/dL        67        0.20   \n",
       "27                             Basophil Count_10**3/mL        63        0.19   \n",
       "165                         UCSD HDL Particle #_μmol/L        59        0.18   \n",
       "167                  UCSD LDL Particle # by NMR_nmol/L        59        0.18   \n",
       "75                   HOMA-IR (insulin resistance)_None        59        0.18   \n",
       "80                                 Homocysteine_µmol/L        60        0.18   \n",
       "166                          UCSD HDL Particle Size_nm        58        0.17   \n",
       "168                          UCSD LDL Particle Size_nm        58        0.17   \n",
       "172                         UCSD VLDL Particle Size_nm        57        0.17   \n",
       "171                   UCSD Small LDL Particle #_nmol/L        58        0.17   \n",
       "169                   UCSD Large HDL Particle #_μmol/L        58        0.17   \n",
       "170                  UCSD Large VLDL Particle #_nmol/L        52        0.16   \n",
       "65                                      Ferritin_ng/mL        50        0.15   \n",
       "95                             Lp(a) Chloresterol_None        45        0.14   \n",
       "9                          APOLIPOPROTEIN-(B100)_mg/dL        47        0.14   \n",
       "175                             VLDL Cholesterol_mg/dL        42        0.13   \n",
       "179                    Vitamin E Gamma-Tocopherol_mg/L        39        0.12   \n",
       "178                    Vitamin E Alpha-Tocopherol_mg/L        39        0.12   \n",
       "112                                    PSA Screen_None        41        0.12   \n",
       "81                               IDL Chloresterol_None        36        0.11   \n",
       "151                                         TIBC_µg/dL        36        0.11   \n",
       "173                                         UIBC_µg/dL        37        0.11   \n",
       "68                                            GGTP_U/L        38        0.11   \n",
       "86                                   Iron saturation_%        36        0.11   \n",
       "8                                         APO A1_mg/dL        32        0.10   \n",
       "104                                    Magnesium_mg/dL        33        0.10   \n",
       "152                                         TSH_µIU/mL        34        0.10   \n",
       "124                             Ratio APO B100/AI_None        32        0.10   \n",
       "67                             Free Testosterone_pg/mL        29        0.09   \n",
       "160                           Total Testosterone_ng/mL        30        0.09   \n",
       "174                                     Uric Acid_None        29        0.09   \n",
       "153                                Testosterone % Free        26        0.08   \n",
       "131         Sex Hormone Binding Globulin (SHBG)_nmol/L        26        0.08   \n",
       "114                                    Phosporus_mg/dL        19        0.06   \n",
       "91                                             LDH_U/L        19        0.06   \n",
       "55                               Direct Bilirubin_None        18        0.05   \n",
       "182                                         Zinc_µg/dL        17        0.05   \n",
       "155                                       Tot CO2_None        15        0.05   \n",
       "154                               Thyroxine (T4)_µg/dL        16        0.05   \n",
       "25                             Bacteroides family_None        18        0.05   \n",
       "159                                     Total T3_ng/mL        12        0.04   \n",
       "54                                    DHEA-blood_µg/dL        14        0.04   \n",
       "96                                        Lp-PLA2_None        13        0.04   \n",
       "62                                     Estradiol_pg/mL        10        0.03   \n",
       "110                               Niacin (Vit B3)_None         9        0.03   \n",
       "82                                            IgA_None         9        0.03   \n",
       "47                                          CoQ10_None        10        0.03   \n",
       "49                                Cortisol Random_None        10        0.03   \n",
       "83                                            IgG_None         6        0.02   \n",
       "84                                            IgM_None         6        0.02   \n",
       "129                                      Selenium_None         6        0.02   \n",
       "33                    CA-19-9 (Pancreatic Cancer)_U/mL         4        0.01   \n",
       "16                              Alpha Lipoic Acid_None         2        0.01   \n",
       "66                                     Fibrinogen_None         1        0.00   \n",
       "125                         Real-LDL Size Pattern_None         0        0.00   \n",
       "0                                                 Date         0        0.00   \n",
       "\n",
       "         Max     Average     Min         Std Data Type  \n",
       "181   202.00  185.604348  166.10    7.409410   float64  \n",
       "183     7.60    6.537158    5.10    0.312622   float64  \n",
       "139   899.00   43.888043    0.50  101.947156   float64  \n",
       "133     3.00    0.098901    0.00    0.394855   float64  \n",
       "134     1.00    0.032967    0.00    0.179043   float64  \n",
       "135     2.00    0.011050    0.00    0.148659   float64  \n",
       "63      2.00    0.021978    0.00    0.180730   float64  \n",
       "136     1.00    0.027473    0.00    0.163907   float64  \n",
       "60      4.00    1.747253    0.00    1.326262   float64  \n",
       "59      4.00    0.148352    0.00    0.635047   float64  \n",
       "58      2.00    0.010989    0.00    0.148250   float64  \n",
       "56      4.00    3.252747    0.00    1.275294   float64  \n",
       "70      3.00    0.148352    0.00    0.426954   float64  \n",
       "140  3940.00  442.548913   35.00  487.580979   float64  \n",
       "141  1500.00  185.683696    7.40  268.701065   float64  \n",
       "53      1.00    0.005495    0.00    0.074125   float64  \n",
       "52      1.00    0.005495    0.00    0.074125   float64  \n",
       "106     4.00    1.472527    0.00    1.680835   float64  \n",
       "50      1.00    0.005525    0.00    0.074329   float64  \n",
       "142     4.00    0.071823    0.00    0.435037   float64  \n",
       "48      4.00    0.082418    0.00    0.513700   float64  \n",
       "69      4.00    1.038462    0.00    1.318652   float64  \n",
       "130     2.00    0.016575    0.00    0.165836   float64  \n",
       "45      4.00    0.186813    0.00    0.711579   float64  \n",
       "116     4.00    0.247253    0.00    0.879080   float64  \n",
       "98      3.00    0.016484    0.00    0.222375   float64  \n",
       "113     2.00    0.010989    0.00    0.148250   float64  \n",
       "94      3.00    0.043956    0.00    0.329476   float64  \n",
       "93      4.00    2.126374    0.00    1.287624   float64  \n",
       "1      77.00   62.304348   40.00    5.918830   float64  \n",
       "90      2.00    0.054945    0.00    0.251521   float64  \n",
       "89      4.00    0.609890    0.00    1.277303   float64  \n",
       "88      4.00    0.131868    0.00    0.651539   float64  \n",
       "117     4.00    0.868132    0.00    1.476960    object  \n",
       "128     3.00    0.076923    0.00    0.339996   float64  \n",
       "118     4.00    0.659341    0.00    1.021534   float64  \n",
       "119     4.00    0.060440    0.00    0.448048   float64  \n",
       "120     2.00    0.010989    0.00    0.148250   float64  \n",
       "121     2.00    0.016484    0.00    0.165382   float64  \n",
       "78      4.00    1.098901    0.00    1.649074   float64  \n",
       "126     4.00    0.164835    0.00    0.452464   float64  \n",
       "76      4.00    0.153846    0.00    0.696052   float64  \n",
       "127     2.00    0.027624    0.00    0.195247   float64  \n",
       "143     3.00    0.016575    0.00    0.222988   float64  \n",
       "107     4.00    0.087912    0.00    0.559170   float64  \n",
       "144     2.00    0.087912    0.00    0.368612   float64  \n",
       "19      2.00    0.011050    0.00    0.148659   float64  \n",
       "17      4.00    1.593407    0.00    1.362302   float64  \n",
       "161     1.00    0.005495    0.00    0.074125   float64  \n",
       "22      4.00    0.043956    0.00    0.376435   float64  \n",
       "23      1.00    0.005525    0.00    0.074329   float64  \n",
       "24      4.00    0.115385    0.00    0.507278   float64  \n",
       "13      3.00    0.021978    0.00    0.234015   float64  \n",
       "12      1.00    0.005495    0.00    0.074125   float64  \n",
       "148     1.00    0.005525    0.00    0.074329   float64  \n",
       "162     1.00    0.005495    0.00    0.074125   float64  \n",
       "28      4.00    0.335165    0.00    0.752730   float64  \n",
       "147     3.00    0.038462    0.00    0.285281   float64  \n",
       "163     1.00    0.005495    0.00    0.074125   float64  \n",
       "30      4.00    2.565934    0.00    1.262963   float64  \n",
       "4       7.20    3.886957    1.00    0.888262   float64  \n",
       "32      4.30    1.289185    0.27    0.720945   float64  \n",
       "146     3.00    0.060440    0.00    0.381442   float64  \n",
       "145     3.00    0.055249    0.00    0.360921   float64  \n",
       "3      41.00   17.404348    9.40    3.999779   float64  \n",
       "36      1.00    0.054945    0.00    0.228502   float64  \n",
       "37      1.00    0.010989    0.00    0.104539   float64  \n",
       "38      1.00    0.005495    0.00    0.074125   float64  \n",
       "39      4.00    0.160221    0.00    0.461601   float64  \n",
       "40      1.00    0.010989    0.00    0.104539   float64  \n",
       "41      2.00    0.010989    0.00    0.148250   float64  \n",
       "42      3.00    0.038462    0.00    0.285281   float64  \n",
       "2      32.00   16.569565    7.00    4.264653   float64  \n",
       "158    17.00    7.485870    2.50    2.837169   float64  \n",
       "26      4.00    2.977528    0.00    1.365247    object  \n",
       "46      4.00    2.910112    1.00    0.981645    object  \n",
       "51      1.20    0.821552    0.66    0.084794   float64  \n",
       "31     28.00   17.784884    7.00    3.649113   float64  \n",
       "35     10.10    9.311905    8.00    0.322009   float64  \n",
       "132   142.00  139.095238  134.00    1.598046   float64  \n",
       "79     60.60    4.720958    0.30    7.332333   float64  \n",
       "115     5.40    4.361677    3.70    0.271039   float64  \n",
       "21     37.30   21.793916    8.00    4.500873   float64  \n",
       "64    120.00   98.496970   73.00    8.723828   float64  \n",
       "11     63.00   28.000000   19.00    6.096780   float64  \n",
       "43    108.00  101.170732   94.00    2.680559   float64  \n",
       "157     8.00    7.159877    5.10    0.405162   float64  \n",
       "14      5.00    4.419753    3.40    0.321263   float64  \n",
       "15     92.00   54.067073   37.00    7.161700   float64  \n",
       "10      2.00    1.298176    0.59    0.265346   float64  \n",
       "7      57.00   22.763975   12.00    8.266284   float64  \n",
       "156     1.25    0.662919    0.30    0.181244   float64  \n",
       "99     34.90   33.162838   30.20    0.745534   float64  \n",
       "100    32.40   30.637162   29.30    0.645474   float64  \n",
       "101    99.80   92.426351   87.90    2.465693   float64  \n",
       "74     17.10   14.740940    9.70    1.215442   float64  \n",
       "180    11.20    4.866600    3.20    1.108693   float64  \n",
       "72     51.40   44.515232   29.30    3.578859   float64  \n",
       "122     5.61    4.817383    3.12    0.413739   float64  \n",
       "123    18.80   15.277027   13.20    0.730399   float64  \n",
       "111   287.00  198.910959    3.00   29.270421   float64  \n",
       "138  1347.00   62.833333    5.00  162.916642   float64  \n",
       "108    87.00   60.083571   48.00    5.959523   float64  \n",
       "92     33.00   21.410000    2.00    3.987197   float64  \n",
       "102    15.00    7.950000    0.30    1.719691   float64  \n",
       "57     26.00    9.371631    0.00    3.373962   float64  \n",
       "6       2.30    1.610370    1.00    0.262955   float64  \n",
       "71      3.50    2.796324    2.00    0.329401   float64  \n",
       "29     30.00   26.097744   17.00    2.055535   float64  \n",
       "103    11.50   10.596565    9.70    0.347751   float64  \n",
       "97      1.60    1.019847    0.60    0.164747   float64  \n",
       "109     9.70    2.911450    1.60    0.995964   float64  \n",
       "105     0.80    0.396154    0.20    0.080120   float64  \n",
       "61      0.70    0.435385    0.00    0.118034   float64  \n",
       "20      2.00    0.955952    0.00    0.370708   float64  \n",
       "149   214.00  141.404959   95.00   25.094680   float64  \n",
       "164   108.00   40.957627   23.00   11.722864   float64  \n",
       "44      3.40    2.224167    1.60    0.436107   float64  \n",
       "150     1.50    0.633333    0.30    0.183425   float64  \n",
       "73     77.00   63.675676   44.00    6.988513   float64  \n",
       "177    90.00   56.871560   32.00   16.296319   float64  \n",
       "5     130.00   67.360360   32.00   23.804810   float64  \n",
       "18     24.00   12.441176    7.00    3.259635   float64  \n",
       "176  2000.00  996.678571  552.00  278.046636   float64  \n",
       "137  2500.00  161.139241    5.00  320.443672   float64  \n",
       "77      6.30    5.583333    5.20    0.183088   float64  \n",
       "34      8.20    6.153425    3.30    0.973265   float64  \n",
       "85     12.40    6.637500    2.00    2.141833   float64  \n",
       "87    124.00   79.701493   35.00   18.961696   float64  \n",
       "27      0.10    0.044444    0.00    0.050090   float64  \n",
       "165    55.00   29.367797   22.00    5.128065   float64  \n",
       "167  1192.00  539.847458   70.00  266.147601   float64  \n",
       "75      3.06    1.627288    0.45    0.538545   float64  \n",
       "80     17.00   12.640667    7.00    1.806759   float64  \n",
       "166    10.10    9.824138    9.30    0.217086   float64  \n",
       "168    21.60   20.989655   20.00    0.277008   float64  \n",
       "172    58.50   47.021053    0.80    9.236626   float64  \n",
       "171   682.00  216.620690  101.00   97.348502   float64  \n",
       "169    31.50   10.679310    4.70    3.341014   float64  \n",
       "170     2.20    1.476923    0.80    0.188508    object  \n",
       "65    156.00   69.740000   21.00   30.905260   float64  \n",
       "95     14.00    7.911111    4.00    2.609617   float64  \n",
       "9      87.00   59.340426   37.00   13.845854   float64  \n",
       "175    14.00   11.261905    6.00    1.638850   float64  \n",
       "179    10.50    0.851282    0.20    1.623166    object  \n",
       "178    17.10   11.310256    7.40    2.157337   float64  \n",
       "112    31.30    3.581220    0.82    4.764834   float64  \n",
       "81      8.00    4.083333    2.00    1.645340   float64  \n",
       "151   392.00  338.527778  302.00   23.500135   float64  \n",
       "173   326.00  257.216216  204.00   22.697449   float64  \n",
       "68     48.00   18.947368   12.00    6.311497   float64  \n",
       "86     35.00   24.000000   10.00    5.002856   float64  \n",
       "8     181.00  154.843750  129.00   14.060031   float64  \n",
       "104     2.50    2.236364    2.00    0.122010   float64  \n",
       "152     3.96    2.388971    1.40    0.512483   float64  \n",
       "124     0.60    0.370747    0.20    0.096599   float64  \n",
       "67    105.00   74.689655   56.00   11.304561   float64  \n",
       "160     6.25    4.763667    3.11    0.677981   float64  \n",
       "174     6.60    5.903448    4.80    0.438734   float64  \n",
       "153     1.70    1.511538    1.40    0.071144   float64  \n",
       "131    52.00   47.923077   41.00    2.910987   float64  \n",
       "114     3.50    3.078947    1.90    0.364507   float64  \n",
       "91    187.00  151.894737  126.00   15.613010   float64  \n",
       "55      0.25    0.163889    0.09    0.052708   float64  \n",
       "182   100.00   85.758824   67.00   10.746282   float64  \n",
       "155    28.00   25.733333   22.00    1.579632   float64  \n",
       "154     7.70    6.362500    5.40    0.748220   float64  \n",
       "25      4.00    3.555556    3.00    0.511310   float64  \n",
       "159     1.00    0.866667    0.80    0.077850   float64  \n",
       "54     77.00   46.357143   30.00   11.014725   float64  \n",
       "96    232.00  202.000000  180.00   18.717194   float64  \n",
       "62     36.00   29.100000   18.00    4.817791    object  \n",
       "110     4.91    3.196667    2.04    0.827768   float64  \n",
       "82    601.00  520.000000  479.00   42.399882   float64  \n",
       "47      2.20    1.491000    0.80    0.399540   float64  \n",
       "49     12.70    9.730000    6.40    2.093402   float64  \n",
       "83    966.00  868.000000  812.00   62.408333   float64  \n",
       "84     75.00   56.333333   46.00   11.741664   float64  \n",
       "129   197.80  132.333333   36.00   55.210929   float64  \n",
       "33      2.00    1.250000    1.00    0.500000    object  \n",
       "16     29.00   14.750000    0.50   20.152543   float64  \n",
       "66    404.00  404.000000  404.00         NaN   float64  \n",
       "125      NaN         NaN     NaN         NaN    object  \n",
       "0        NaN         NaN     NaN         NaN    object  "
      ]
     },
     "metadata": {},
     "output_type": "display_data"
    }
   ],
   "source": [
    "# numeric-only view for stats (strings -> NaN; datetimes left alone)\n",
    "num = df_wideBioDairyLS.copy()\n",
    "for c in num.columns:\n",
    "    if not np.issubdtype(num[c].dtype, np.number) and not np.issubdtype(num[c].dtype, np.datetime64):\n",
    "        num[c] = pd.to_numeric(num[c], errors=\"coerce\")\n",
    "\n",
    "df_colSummary = pd.DataFrame({\n",
    "    \"Column\": df_wideBioDairyLS.columns,\n",
    "    \"# Values\": num.notna().sum().values,                                  # count of numeric/non-NaN\n",
    "    \"Completion\": (num.notna().sum().values / len(num)).round(2),\n",
    "    \"Max\": num.max().values,\n",
    "    \"Average\": num.mean().values,\n",
    "    \"Min\": num.min().values,\n",
    "    \"Std\": num.std().values,\n",
    "    \"Data Type\": df_wideBioDairyLS.dtypes.values                           # original dtypes for reference\n",
    "})\n",
    "\n",
    "# (Optional) view most-complete first\n",
    "with pd.option_context(\"display.max_rows\", None):\n",
    "    display(df_colSummary.sort_values(\"Completion\", ascending=False))"
   ]
  },
  {
   "cell_type": "code",
   "execution_count": null,
   "id": "950d0f85",
   "metadata": {},
   "outputs": [],
   "source": [
    "# Put all 5"
   ]
  },
  {
   "cell_type": "code",
   "execution_count": 47,
   "id": "a63a0ec2",
   "metadata": {},
   "outputs": [
    {
     "data": {
      "application/vnd.plotly.v1+json": {
       "config": {
        "plotlyServerURL": "https://plot.ly"
       },
       "data": [
        {
         "line": {
          "color": "black",
          "width": 3
         },
         "mode": "lines+markers",
         "name": "Weight (yearly interval mean)",
         "type": "scatter",
         "x": [
          "2008-09-30T00:00:00",
          "2009-09-30T00:00:00",
          "2010-09-30T00:00:00",
          "2011-09-30T00:00:00",
          "2012-09-30T00:00:00",
          "2013-09-30T00:00:00",
          "2014-09-30T00:00:00",
          "2015-09-30T00:00:00",
          "2016-09-30T00:00:00",
          "2017-09-30T00:00:00",
          "2018-09-30T00:00:00",
          "2019-09-30T00:00:00",
          "2020-09-30T00:00:00",
          "2021-09-30T00:00:00",
          "2022-09-30T00:00:00",
          "2023-09-30T00:00:00",
          "2024-09-30T00:00:00",
          "2025-09-30T00:00:00"
         ],
         "y": [
          183,
          183.63333333333333,
          180.5,
          182.5,
          185.77777777777777,
          183.70000000000002,
          188.32222222222222,
          191.7888888888889,
          192.55454545454543,
          194.24642857142857,
          189.89473684210526,
          184.3181818181818,
          185.04999999999998,
          172.99,
          170.9125,
          176.0666666666667,
          176.16,
          178.075
         ]
        },
        {
         "line": {
          "color": "blue",
          "width": 2
         },
         "mode": "lines+markers",
         "name": "Total SCFA (yearly interval mean)",
         "type": "scatter",
         "x": [
          "2008-09-30T00:00:00",
          "2009-09-30T00:00:00",
          "2010-09-30T00:00:00",
          "2011-09-30T00:00:00",
          "2012-09-30T00:00:00",
          "2013-09-30T00:00:00",
          "2014-09-30T00:00:00",
          "2015-09-30T00:00:00",
          "2016-09-30T00:00:00",
          "2017-09-30T00:00:00",
          "2018-09-30T00:00:00",
          "2019-09-30T00:00:00",
          "2020-09-30T00:00:00",
          "2021-09-30T00:00:00",
          "2022-09-30T00:00:00",
          "2023-09-30T00:00:00",
          "2024-09-30T00:00:00",
          "2025-09-30T00:00:00"
         ],
         "y": [
          3.5,
          7.266666666666667,
          13,
          9.35,
          7.1,
          7.071428571428571,
          9.822222222222223,
          9.266666666666667,
          8.6,
          7.4071428571428575,
          7.921052631578948,
          8.018181818181818,
          6.091666666666666,
          5.720000000000001,
          5.6875,
          4.7,
          4.7700000000000005,
          6.85
         ]
        }
       ],
       "layout": {
        "legend": {
         "bordercolor": "lightgray",
         "borderwidth": 1,
         "x": 0.01,
         "y": 0.99
        },
        "template": {
         "data": {
          "bar": [
           {
            "error_x": {
             "color": "#2a3f5f"
            },
            "error_y": {
             "color": "#2a3f5f"
            },
            "marker": {
             "line": {
              "color": "white",
              "width": 0.5
             },
             "pattern": {
              "fillmode": "overlay",
              "size": 10,
              "solidity": 0.2
             }
            },
            "type": "bar"
           }
          ],
          "barpolar": [
           {
            "marker": {
             "line": {
              "color": "white",
              "width": 0.5
             },
             "pattern": {
              "fillmode": "overlay",
              "size": 10,
              "solidity": 0.2
             }
            },
            "type": "barpolar"
           }
          ],
          "carpet": [
           {
            "aaxis": {
             "endlinecolor": "#2a3f5f",
             "gridcolor": "#C8D4E3",
             "linecolor": "#C8D4E3",
             "minorgridcolor": "#C8D4E3",
             "startlinecolor": "#2a3f5f"
            },
            "baxis": {
             "endlinecolor": "#2a3f5f",
             "gridcolor": "#C8D4E3",
             "linecolor": "#C8D4E3",
             "minorgridcolor": "#C8D4E3",
             "startlinecolor": "#2a3f5f"
            },
            "type": "carpet"
           }
          ],
          "choropleth": [
           {
            "colorbar": {
             "outlinewidth": 0,
             "ticks": ""
            },
            "type": "choropleth"
           }
          ],
          "contour": [
           {
            "colorbar": {
             "outlinewidth": 0,
             "ticks": ""
            },
            "colorscale": [
             [
              0,
              "#0d0887"
             ],
             [
              0.1111111111111111,
              "#46039f"
             ],
             [
              0.2222222222222222,
              "#7201a8"
             ],
             [
              0.3333333333333333,
              "#9c179e"
             ],
             [
              0.4444444444444444,
              "#bd3786"
             ],
             [
              0.5555555555555556,
              "#d8576b"
             ],
             [
              0.6666666666666666,
              "#ed7953"
             ],
             [
              0.7777777777777778,
              "#fb9f3a"
             ],
             [
              0.8888888888888888,
              "#fdca26"
             ],
             [
              1,
              "#f0f921"
             ]
            ],
            "type": "contour"
           }
          ],
          "contourcarpet": [
           {
            "colorbar": {
             "outlinewidth": 0,
             "ticks": ""
            },
            "type": "contourcarpet"
           }
          ],
          "heatmap": [
           {
            "colorbar": {
             "outlinewidth": 0,
             "ticks": ""
            },
            "colorscale": [
             [
              0,
              "#0d0887"
             ],
             [
              0.1111111111111111,
              "#46039f"
             ],
             [
              0.2222222222222222,
              "#7201a8"
             ],
             [
              0.3333333333333333,
              "#9c179e"
             ],
             [
              0.4444444444444444,
              "#bd3786"
             ],
             [
              0.5555555555555556,
              "#d8576b"
             ],
             [
              0.6666666666666666,
              "#ed7953"
             ],
             [
              0.7777777777777778,
              "#fb9f3a"
             ],
             [
              0.8888888888888888,
              "#fdca26"
             ],
             [
              1,
              "#f0f921"
             ]
            ],
            "type": "heatmap"
           }
          ],
          "heatmapgl": [
           {
            "colorbar": {
             "outlinewidth": 0,
             "ticks": ""
            },
            "colorscale": [
             [
              0,
              "#0d0887"
             ],
             [
              0.1111111111111111,
              "#46039f"
             ],
             [
              0.2222222222222222,
              "#7201a8"
             ],
             [
              0.3333333333333333,
              "#9c179e"
             ],
             [
              0.4444444444444444,
              "#bd3786"
             ],
             [
              0.5555555555555556,
              "#d8576b"
             ],
             [
              0.6666666666666666,
              "#ed7953"
             ],
             [
              0.7777777777777778,
              "#fb9f3a"
             ],
             [
              0.8888888888888888,
              "#fdca26"
             ],
             [
              1,
              "#f0f921"
             ]
            ],
            "type": "heatmapgl"
           }
          ],
          "histogram": [
           {
            "marker": {
             "pattern": {
              "fillmode": "overlay",
              "size": 10,
              "solidity": 0.2
             }
            },
            "type": "histogram"
           }
          ],
          "histogram2d": [
           {
            "colorbar": {
             "outlinewidth": 0,
             "ticks": ""
            },
            "colorscale": [
             [
              0,
              "#0d0887"
             ],
             [
              0.1111111111111111,
              "#46039f"
             ],
             [
              0.2222222222222222,
              "#7201a8"
             ],
             [
              0.3333333333333333,
              "#9c179e"
             ],
             [
              0.4444444444444444,
              "#bd3786"
             ],
             [
              0.5555555555555556,
              "#d8576b"
             ],
             [
              0.6666666666666666,
              "#ed7953"
             ],
             [
              0.7777777777777778,
              "#fb9f3a"
             ],
             [
              0.8888888888888888,
              "#fdca26"
             ],
             [
              1,
              "#f0f921"
             ]
            ],
            "type": "histogram2d"
           }
          ],
          "histogram2dcontour": [
           {
            "colorbar": {
             "outlinewidth": 0,
             "ticks": ""
            },
            "colorscale": [
             [
              0,
              "#0d0887"
             ],
             [
              0.1111111111111111,
              "#46039f"
             ],
             [
              0.2222222222222222,
              "#7201a8"
             ],
             [
              0.3333333333333333,
              "#9c179e"
             ],
             [
              0.4444444444444444,
              "#bd3786"
             ],
             [
              0.5555555555555556,
              "#d8576b"
             ],
             [
              0.6666666666666666,
              "#ed7953"
             ],
             [
              0.7777777777777778,
              "#fb9f3a"
             ],
             [
              0.8888888888888888,
              "#fdca26"
             ],
             [
              1,
              "#f0f921"
             ]
            ],
            "type": "histogram2dcontour"
           }
          ],
          "mesh3d": [
           {
            "colorbar": {
             "outlinewidth": 0,
             "ticks": ""
            },
            "type": "mesh3d"
           }
          ],
          "parcoords": [
           {
            "line": {
             "colorbar": {
              "outlinewidth": 0,
              "ticks": ""
             }
            },
            "type": "parcoords"
           }
          ],
          "pie": [
           {
            "automargin": true,
            "type": "pie"
           }
          ],
          "scatter": [
           {
            "fillpattern": {
             "fillmode": "overlay",
             "size": 10,
             "solidity": 0.2
            },
            "type": "scatter"
           }
          ],
          "scatter3d": [
           {
            "line": {
             "colorbar": {
              "outlinewidth": 0,
              "ticks": ""
             }
            },
            "marker": {
             "colorbar": {
              "outlinewidth": 0,
              "ticks": ""
             }
            },
            "type": "scatter3d"
           }
          ],
          "scattercarpet": [
           {
            "marker": {
             "colorbar": {
              "outlinewidth": 0,
              "ticks": ""
             }
            },
            "type": "scattercarpet"
           }
          ],
          "scattergeo": [
           {
            "marker": {
             "colorbar": {
              "outlinewidth": 0,
              "ticks": ""
             }
            },
            "type": "scattergeo"
           }
          ],
          "scattergl": [
           {
            "marker": {
             "colorbar": {
              "outlinewidth": 0,
              "ticks": ""
             }
            },
            "type": "scattergl"
           }
          ],
          "scattermapbox": [
           {
            "marker": {
             "colorbar": {
              "outlinewidth": 0,
              "ticks": ""
             }
            },
            "type": "scattermapbox"
           }
          ],
          "scatterpolar": [
           {
            "marker": {
             "colorbar": {
              "outlinewidth": 0,
              "ticks": ""
             }
            },
            "type": "scatterpolar"
           }
          ],
          "scatterpolargl": [
           {
            "marker": {
             "colorbar": {
              "outlinewidth": 0,
              "ticks": ""
             }
            },
            "type": "scatterpolargl"
           }
          ],
          "scatterternary": [
           {
            "marker": {
             "colorbar": {
              "outlinewidth": 0,
              "ticks": ""
             }
            },
            "type": "scatterternary"
           }
          ],
          "surface": [
           {
            "colorbar": {
             "outlinewidth": 0,
             "ticks": ""
            },
            "colorscale": [
             [
              0,
              "#0d0887"
             ],
             [
              0.1111111111111111,
              "#46039f"
             ],
             [
              0.2222222222222222,
              "#7201a8"
             ],
             [
              0.3333333333333333,
              "#9c179e"
             ],
             [
              0.4444444444444444,
              "#bd3786"
             ],
             [
              0.5555555555555556,
              "#d8576b"
             ],
             [
              0.6666666666666666,
              "#ed7953"
             ],
             [
              0.7777777777777778,
              "#fb9f3a"
             ],
             [
              0.8888888888888888,
              "#fdca26"
             ],
             [
              1,
              "#f0f921"
             ]
            ],
            "type": "surface"
           }
          ],
          "table": [
           {
            "cells": {
             "fill": {
              "color": "#EBF0F8"
             },
             "line": {
              "color": "white"
             }
            },
            "header": {
             "fill": {
              "color": "#C8D4E3"
             },
             "line": {
              "color": "white"
             }
            },
            "type": "table"
           }
          ]
         },
         "layout": {
          "annotationdefaults": {
           "arrowcolor": "#2a3f5f",
           "arrowhead": 0,
           "arrowwidth": 1
          },
          "autotypenumbers": "strict",
          "coloraxis": {
           "colorbar": {
            "outlinewidth": 0,
            "ticks": ""
           }
          },
          "colorscale": {
           "diverging": [
            [
             0,
             "#8e0152"
            ],
            [
             0.1,
             "#c51b7d"
            ],
            [
             0.2,
             "#de77ae"
            ],
            [
             0.3,
             "#f1b6da"
            ],
            [
             0.4,
             "#fde0ef"
            ],
            [
             0.5,
             "#f7f7f7"
            ],
            [
             0.6,
             "#e6f5d0"
            ],
            [
             0.7,
             "#b8e186"
            ],
            [
             0.8,
             "#7fbc41"
            ],
            [
             0.9,
             "#4d9221"
            ],
            [
             1,
             "#276419"
            ]
           ],
           "sequential": [
            [
             0,
             "#0d0887"
            ],
            [
             0.1111111111111111,
             "#46039f"
            ],
            [
             0.2222222222222222,
             "#7201a8"
            ],
            [
             0.3333333333333333,
             "#9c179e"
            ],
            [
             0.4444444444444444,
             "#bd3786"
            ],
            [
             0.5555555555555556,
             "#d8576b"
            ],
            [
             0.6666666666666666,
             "#ed7953"
            ],
            [
             0.7777777777777778,
             "#fb9f3a"
            ],
            [
             0.8888888888888888,
             "#fdca26"
            ],
            [
             1,
             "#f0f921"
            ]
           ],
           "sequentialminus": [
            [
             0,
             "#0d0887"
            ],
            [
             0.1111111111111111,
             "#46039f"
            ],
            [
             0.2222222222222222,
             "#7201a8"
            ],
            [
             0.3333333333333333,
             "#9c179e"
            ],
            [
             0.4444444444444444,
             "#bd3786"
            ],
            [
             0.5555555555555556,
             "#d8576b"
            ],
            [
             0.6666666666666666,
             "#ed7953"
            ],
            [
             0.7777777777777778,
             "#fb9f3a"
            ],
            [
             0.8888888888888888,
             "#fdca26"
            ],
            [
             1,
             "#f0f921"
            ]
           ]
          },
          "colorway": [
           "#636efa",
           "#EF553B",
           "#00cc96",
           "#ab63fa",
           "#FFA15A",
           "#19d3f3",
           "#FF6692",
           "#B6E880",
           "#FF97FF",
           "#FECB52"
          ],
          "font": {
           "color": "#2a3f5f"
          },
          "geo": {
           "bgcolor": "white",
           "lakecolor": "white",
           "landcolor": "white",
           "showlakes": true,
           "showland": true,
           "subunitcolor": "#C8D4E3"
          },
          "hoverlabel": {
           "align": "left"
          },
          "hovermode": "closest",
          "mapbox": {
           "style": "light"
          },
          "paper_bgcolor": "white",
          "plot_bgcolor": "white",
          "polar": {
           "angularaxis": {
            "gridcolor": "#EBF0F8",
            "linecolor": "#EBF0F8",
            "ticks": ""
           },
           "bgcolor": "white",
           "radialaxis": {
            "gridcolor": "#EBF0F8",
            "linecolor": "#EBF0F8",
            "ticks": ""
           }
          },
          "scene": {
           "xaxis": {
            "backgroundcolor": "white",
            "gridcolor": "#DFE8F3",
            "gridwidth": 2,
            "linecolor": "#EBF0F8",
            "showbackground": true,
            "ticks": "",
            "zerolinecolor": "#EBF0F8"
           },
           "yaxis": {
            "backgroundcolor": "white",
            "gridcolor": "#DFE8F3",
            "gridwidth": 2,
            "linecolor": "#EBF0F8",
            "showbackground": true,
            "ticks": "",
            "zerolinecolor": "#EBF0F8"
           },
           "zaxis": {
            "backgroundcolor": "white",
            "gridcolor": "#DFE8F3",
            "gridwidth": 2,
            "linecolor": "#EBF0F8",
            "showbackground": true,
            "ticks": "",
            "zerolinecolor": "#EBF0F8"
           }
          },
          "shapedefaults": {
           "line": {
            "color": "#2a3f5f"
           }
          },
          "ternary": {
           "aaxis": {
            "gridcolor": "#DFE8F3",
            "linecolor": "#A2B1C6",
            "ticks": ""
           },
           "baxis": {
            "gridcolor": "#DFE8F3",
            "linecolor": "#A2B1C6",
            "ticks": ""
           },
           "bgcolor": "white",
           "caxis": {
            "gridcolor": "#DFE8F3",
            "linecolor": "#A2B1C6",
            "ticks": ""
           }
          },
          "title": {
           "x": 0.05
          },
          "xaxis": {
           "automargin": true,
           "gridcolor": "#EBF0F8",
           "linecolor": "#EBF0F8",
           "ticks": "",
           "title": {
            "standoff": 15
           },
           "zerolinecolor": "#EBF0F8",
           "zerolinewidth": 2
          },
          "yaxis": {
           "automargin": true,
           "gridcolor": "#EBF0F8",
           "linecolor": "#EBF0F8",
           "ticks": "",
           "title": {
            "standoff": 15
           },
           "zerolinecolor": "#EBF0F8",
           "zerolinewidth": 2
          }
         }
        },
        "title": {
         "text": "Weight vs Total SCFA (Yearly Interval Means)"
        },
        "xaxis": {
         "title": {
          "text": "Date"
         }
        },
        "yaxis": {
         "side": "left",
         "title": {
          "text": "Weight (lbs)"
         }
        },
        "yaxis2": {
         "overlaying": "y",
         "side": "right",
         "title": {
          "text": "Total SCFA (mg/mL)"
         }
        }
       }
      }
     },
     "metadata": {},
     "output_type": "display_data"
    }
   ],
   "source": [
    "# Prepare data\n",
    "df_plot = df_wideBioDairyLS.dropna(subset=[\"Total SCFA_mg/mL\"]).copy()\n",
    "df_plot[\"Date\"] = pd.to_datetime(df_plot[\"Date\"])\n",
    "df_plot = df_plot.set_index(\"Date\").sort_index()\n",
    "\n",
    "# --- YEARLY INTERVAL WINDOWS ---\n",
    "# resample into 12-month bins, take mean within each bin\n",
    "df_1y = df_plot[[\"Weight_lbs\", \"Total SCFA_mg/mL\"]].resample(\"12M\").mean().reset_index()\n",
    "\n",
    "# --- variables ---\n",
    "x_time_1y   = df_1y[\"Date\"]\n",
    "y_weight_1y = df_1y[\"Weight_lbs\"]\n",
    "y_scfa_1y   = df_1y[\"Total SCFA_mg/mL\"]\n",
    "\n",
    "# --- plot ---\n",
    "fig = go.Figure()\n",
    "\n",
    "# Weight (yearly interval mean)\n",
    "fig.add_trace(go.Scatter(\n",
    "    x=x_time_1y,\n",
    "    y=y_weight_1y,\n",
    "    mode=\"lines+markers\",\n",
    "    name=\"Weight (yearly interval mean)\",\n",
    "    line=dict(width=3, color=\"black\"),\n",
    "))\n",
    "\n",
    "# Total SCFA (yearly interval mean)\n",
    "fig.add_trace(go.Scatter(\n",
    "    x=x_time_1y,\n",
    "    y=y_scfa_1y,\n",
    "    mode=\"lines+markers\",\n",
    "    name=\"Total SCFA (yearly interval mean)\",\n",
    "    line=dict(width=2, color=\"blue\"),\n",
    "))\n",
    "\n",
    "# layout\n",
    "fig.update_layout(\n",
    "    title=\"Weight vs Total SCFA (Yearly Interval Means)\",\n",
    "    xaxis_title=\"Date\",\n",
    "    yaxis=dict(title=\"Weight (lbs)\", side=\"left\"),\n",
    "    yaxis2=dict(title=\"Total SCFA (mg/mL)\", overlaying=\"y\", side=\"right\"),\n",
    "    legend=dict(x=0.01, y=0.99, bordercolor=\"lightgray\", borderwidth=1),\n",
    "    template=\"plotly_white\"\n",
    ")\n",
    "\n",
    "fig.show()"
   ]
  },
  {
   "cell_type": "code",
   "execution_count": 48,
   "id": "d473b849",
   "metadata": {},
   "outputs": [
    {
     "name": "stdout",
     "output_type": "stream",
     "text": [
      "3M  |  Pearson r=0.464 (p=0.000165)  |  Spearman r=0.501 (p=3.91e-05)\n"
     ]
    },
    {
     "data": {
      "application/vnd.plotly.v1+json": {
       "config": {
        "plotlyServerURL": "https://plot.ly"
       },
       "data": [
        {
         "line": {
          "color": "black",
          "width": 3
         },
         "mode": "lines+markers",
         "name": "Weight (lbs)",
         "type": "scatter",
         "x": [
          "2008-09-30T00:00:00",
          "2009-03-31T00:00:00",
          "2009-06-30T00:00:00",
          "2009-09-30T00:00:00",
          "2010-09-30T00:00:00",
          "2010-12-31T00:00:00",
          "2011-03-31T00:00:00",
          "2011-06-30T00:00:00",
          "2011-09-30T00:00:00",
          "2011-12-31T00:00:00",
          "2012-03-31T00:00:00",
          "2012-06-30T00:00:00",
          "2012-09-30T00:00:00",
          "2012-12-31T00:00:00",
          "2013-03-31T00:00:00",
          "2013-06-30T00:00:00",
          "2013-09-30T00:00:00",
          "2013-12-31T00:00:00",
          "2014-03-31T00:00:00",
          "2014-06-30T00:00:00",
          "2014-09-30T00:00:00",
          "2014-12-31T00:00:00",
          "2015-03-31T00:00:00",
          "2015-06-30T00:00:00",
          "2015-09-30T00:00:00",
          "2015-12-31T00:00:00",
          "2016-03-31T00:00:00",
          "2016-06-30T00:00:00",
          "2016-09-30T00:00:00",
          "2016-12-31T00:00:00",
          "2017-03-31T00:00:00",
          "2017-06-30T00:00:00",
          "2017-09-30T00:00:00",
          "2017-12-31T00:00:00",
          "2018-03-31T00:00:00",
          "2018-06-30T00:00:00",
          "2018-09-30T00:00:00",
          "2018-12-31T00:00:00",
          "2019-03-31T00:00:00",
          "2019-06-30T00:00:00",
          "2019-09-30T00:00:00",
          "2019-12-31T00:00:00",
          "2020-03-31T00:00:00",
          "2020-06-30T00:00:00",
          "2020-09-30T00:00:00",
          "2020-12-31T00:00:00",
          "2021-03-31T00:00:00",
          "2021-06-30T00:00:00",
          "2021-09-30T00:00:00",
          "2021-12-31T00:00:00",
          "2022-03-31T00:00:00",
          "2022-06-30T00:00:00",
          "2022-09-30T00:00:00",
          "2022-12-31T00:00:00",
          "2023-03-31T00:00:00",
          "2023-09-30T00:00:00",
          "2023-12-31T00:00:00",
          "2024-03-31T00:00:00",
          "2024-06-30T00:00:00",
          "2024-12-31T00:00:00",
          "2025-03-31T00:00:00"
         ],
         "y": [
          183,
          183.5,
          185,
          182.4,
          180.5,
          181,
          183.2,
          182.3,
          183.1,
          187.5,
          182,
          186.1,
          187.35,
          184.45,
          182.1,
          183.60000000000002,
          183.85,
          184.4,
          186.10000000000002,
          189.8,
          191.4333333333333,
          193.95,
          192.3166666666667,
          190.28333333333333,
          192.175,
          190.8,
          192.63333333333333,
          192.68,
          193.83333333333334,
          193.225,
          195.0142857142857,
          193.61666666666667,
          197.79999999999998,
          191.76,
          189.33333333333334,
          190.325,
          187.975,
          184.96666666666667,
          185.85,
          182.9,
          184.0666666666667,
          186.3,
          188.29999999999998,
          184.79999999999998,
          182.175,
          176,
          169.46666666666667,
          173.66666666666666,
          172.5,
          169.26666666666668,
          172.14999999999998,
          174.6,
          170.3,
          175,
          176,
          177.2,
          174.8166666666667,
          177.4,
          178.4333333333333,
          180,
          177.4333333333333
         ]
        },
        {
         "line": {
          "color": "blue",
          "width": 2
         },
         "mode": "lines+markers",
         "name": "Total SCFA (mg/mL)",
         "type": "scatter",
         "x": [
          "2008-09-30T00:00:00",
          "2009-03-31T00:00:00",
          "2009-06-30T00:00:00",
          "2009-09-30T00:00:00",
          "2010-09-30T00:00:00",
          "2010-12-31T00:00:00",
          "2011-03-31T00:00:00",
          "2011-06-30T00:00:00",
          "2011-09-30T00:00:00",
          "2011-12-31T00:00:00",
          "2012-03-31T00:00:00",
          "2012-06-30T00:00:00",
          "2012-09-30T00:00:00",
          "2012-12-31T00:00:00",
          "2013-03-31T00:00:00",
          "2013-06-30T00:00:00",
          "2013-09-30T00:00:00",
          "2013-12-31T00:00:00",
          "2014-03-31T00:00:00",
          "2014-06-30T00:00:00",
          "2014-09-30T00:00:00",
          "2014-12-31T00:00:00",
          "2015-03-31T00:00:00",
          "2015-06-30T00:00:00",
          "2015-09-30T00:00:00",
          "2015-12-31T00:00:00",
          "2016-03-31T00:00:00",
          "2016-06-30T00:00:00",
          "2016-09-30T00:00:00",
          "2016-12-31T00:00:00",
          "2017-03-31T00:00:00",
          "2017-06-30T00:00:00",
          "2017-09-30T00:00:00",
          "2017-12-31T00:00:00",
          "2018-03-31T00:00:00",
          "2018-06-30T00:00:00",
          "2018-09-30T00:00:00",
          "2018-12-31T00:00:00",
          "2019-03-31T00:00:00",
          "2019-06-30T00:00:00",
          "2019-09-30T00:00:00",
          "2019-12-31T00:00:00",
          "2020-03-31T00:00:00",
          "2020-06-30T00:00:00",
          "2020-09-30T00:00:00",
          "2020-12-31T00:00:00",
          "2021-03-31T00:00:00",
          "2021-06-30T00:00:00",
          "2021-09-30T00:00:00",
          "2021-12-31T00:00:00",
          "2022-03-31T00:00:00",
          "2022-06-30T00:00:00",
          "2022-09-30T00:00:00",
          "2022-12-31T00:00:00",
          "2023-03-31T00:00:00",
          "2023-09-30T00:00:00",
          "2023-12-31T00:00:00",
          "2024-03-31T00:00:00",
          "2024-06-30T00:00:00",
          "2024-12-31T00:00:00",
          "2025-03-31T00:00:00"
         ],
         "y": [
          3.5,
          4.2,
          6.6,
          11,
          13,
          6.6,
          5.9,
          9.8,
          12,
          6.6,
          5.75,
          7.8999999999999995,
          7.75,
          5.55,
          5,
          9.8,
          6.9,
          8.75,
          5.5,
          13.5,
          10.966666666666667,
          14.5,
          7.55,
          8.016666666666667,
          11.1,
          8.18,
          8.033333333333333,
          9.059999999999999,
          9.133333333333333,
          6.808333333333334,
          6.028571428571429,
          8.433333333333334,
          10.966666666666667,
          7.720000000000001,
          6.633333333333333,
          8.025,
          10,
          9.366666666666667,
          5.7,
          9.166666666666666,
          7.066666666666666,
          8.95,
          5.866666666666667,
          4.7,
          5.875,
          4.366666666666666,
          5.633333333333333,
          6.033333333333334,
          9.1,
          6.366666666666667,
          4.5,
          4.5,
          6.449999999999999,
          4.9,
          4.05,
          5.15,
          4.7,
          6.6,
          4.3,
          6,
          7.133333333333333
         ],
         "yaxis": "y2"
        }
       ],
       "layout": {
        "legend": {
         "bordercolor": "lightgray",
         "borderwidth": 1,
         "x": 0.01,
         "y": 0.99
        },
        "template": {
         "data": {
          "bar": [
           {
            "error_x": {
             "color": "#2a3f5f"
            },
            "error_y": {
             "color": "#2a3f5f"
            },
            "marker": {
             "line": {
              "color": "white",
              "width": 0.5
             },
             "pattern": {
              "fillmode": "overlay",
              "size": 10,
              "solidity": 0.2
             }
            },
            "type": "bar"
           }
          ],
          "barpolar": [
           {
            "marker": {
             "line": {
              "color": "white",
              "width": 0.5
             },
             "pattern": {
              "fillmode": "overlay",
              "size": 10,
              "solidity": 0.2
             }
            },
            "type": "barpolar"
           }
          ],
          "carpet": [
           {
            "aaxis": {
             "endlinecolor": "#2a3f5f",
             "gridcolor": "#C8D4E3",
             "linecolor": "#C8D4E3",
             "minorgridcolor": "#C8D4E3",
             "startlinecolor": "#2a3f5f"
            },
            "baxis": {
             "endlinecolor": "#2a3f5f",
             "gridcolor": "#C8D4E3",
             "linecolor": "#C8D4E3",
             "minorgridcolor": "#C8D4E3",
             "startlinecolor": "#2a3f5f"
            },
            "type": "carpet"
           }
          ],
          "choropleth": [
           {
            "colorbar": {
             "outlinewidth": 0,
             "ticks": ""
            },
            "type": "choropleth"
           }
          ],
          "contour": [
           {
            "colorbar": {
             "outlinewidth": 0,
             "ticks": ""
            },
            "colorscale": [
             [
              0,
              "#0d0887"
             ],
             [
              0.1111111111111111,
              "#46039f"
             ],
             [
              0.2222222222222222,
              "#7201a8"
             ],
             [
              0.3333333333333333,
              "#9c179e"
             ],
             [
              0.4444444444444444,
              "#bd3786"
             ],
             [
              0.5555555555555556,
              "#d8576b"
             ],
             [
              0.6666666666666666,
              "#ed7953"
             ],
             [
              0.7777777777777778,
              "#fb9f3a"
             ],
             [
              0.8888888888888888,
              "#fdca26"
             ],
             [
              1,
              "#f0f921"
             ]
            ],
            "type": "contour"
           }
          ],
          "contourcarpet": [
           {
            "colorbar": {
             "outlinewidth": 0,
             "ticks": ""
            },
            "type": "contourcarpet"
           }
          ],
          "heatmap": [
           {
            "colorbar": {
             "outlinewidth": 0,
             "ticks": ""
            },
            "colorscale": [
             [
              0,
              "#0d0887"
             ],
             [
              0.1111111111111111,
              "#46039f"
             ],
             [
              0.2222222222222222,
              "#7201a8"
             ],
             [
              0.3333333333333333,
              "#9c179e"
             ],
             [
              0.4444444444444444,
              "#bd3786"
             ],
             [
              0.5555555555555556,
              "#d8576b"
             ],
             [
              0.6666666666666666,
              "#ed7953"
             ],
             [
              0.7777777777777778,
              "#fb9f3a"
             ],
             [
              0.8888888888888888,
              "#fdca26"
             ],
             [
              1,
              "#f0f921"
             ]
            ],
            "type": "heatmap"
           }
          ],
          "heatmapgl": [
           {
            "colorbar": {
             "outlinewidth": 0,
             "ticks": ""
            },
            "colorscale": [
             [
              0,
              "#0d0887"
             ],
             [
              0.1111111111111111,
              "#46039f"
             ],
             [
              0.2222222222222222,
              "#7201a8"
             ],
             [
              0.3333333333333333,
              "#9c179e"
             ],
             [
              0.4444444444444444,
              "#bd3786"
             ],
             [
              0.5555555555555556,
              "#d8576b"
             ],
             [
              0.6666666666666666,
              "#ed7953"
             ],
             [
              0.7777777777777778,
              "#fb9f3a"
             ],
             [
              0.8888888888888888,
              "#fdca26"
             ],
             [
              1,
              "#f0f921"
             ]
            ],
            "type": "heatmapgl"
           }
          ],
          "histogram": [
           {
            "marker": {
             "pattern": {
              "fillmode": "overlay",
              "size": 10,
              "solidity": 0.2
             }
            },
            "type": "histogram"
           }
          ],
          "histogram2d": [
           {
            "colorbar": {
             "outlinewidth": 0,
             "ticks": ""
            },
            "colorscale": [
             [
              0,
              "#0d0887"
             ],
             [
              0.1111111111111111,
              "#46039f"
             ],
             [
              0.2222222222222222,
              "#7201a8"
             ],
             [
              0.3333333333333333,
              "#9c179e"
             ],
             [
              0.4444444444444444,
              "#bd3786"
             ],
             [
              0.5555555555555556,
              "#d8576b"
             ],
             [
              0.6666666666666666,
              "#ed7953"
             ],
             [
              0.7777777777777778,
              "#fb9f3a"
             ],
             [
              0.8888888888888888,
              "#fdca26"
             ],
             [
              1,
              "#f0f921"
             ]
            ],
            "type": "histogram2d"
           }
          ],
          "histogram2dcontour": [
           {
            "colorbar": {
             "outlinewidth": 0,
             "ticks": ""
            },
            "colorscale": [
             [
              0,
              "#0d0887"
             ],
             [
              0.1111111111111111,
              "#46039f"
             ],
             [
              0.2222222222222222,
              "#7201a8"
             ],
             [
              0.3333333333333333,
              "#9c179e"
             ],
             [
              0.4444444444444444,
              "#bd3786"
             ],
             [
              0.5555555555555556,
              "#d8576b"
             ],
             [
              0.6666666666666666,
              "#ed7953"
             ],
             [
              0.7777777777777778,
              "#fb9f3a"
             ],
             [
              0.8888888888888888,
              "#fdca26"
             ],
             [
              1,
              "#f0f921"
             ]
            ],
            "type": "histogram2dcontour"
           }
          ],
          "mesh3d": [
           {
            "colorbar": {
             "outlinewidth": 0,
             "ticks": ""
            },
            "type": "mesh3d"
           }
          ],
          "parcoords": [
           {
            "line": {
             "colorbar": {
              "outlinewidth": 0,
              "ticks": ""
             }
            },
            "type": "parcoords"
           }
          ],
          "pie": [
           {
            "automargin": true,
            "type": "pie"
           }
          ],
          "scatter": [
           {
            "fillpattern": {
             "fillmode": "overlay",
             "size": 10,
             "solidity": 0.2
            },
            "type": "scatter"
           }
          ],
          "scatter3d": [
           {
            "line": {
             "colorbar": {
              "outlinewidth": 0,
              "ticks": ""
             }
            },
            "marker": {
             "colorbar": {
              "outlinewidth": 0,
              "ticks": ""
             }
            },
            "type": "scatter3d"
           }
          ],
          "scattercarpet": [
           {
            "marker": {
             "colorbar": {
              "outlinewidth": 0,
              "ticks": ""
             }
            },
            "type": "scattercarpet"
           }
          ],
          "scattergeo": [
           {
            "marker": {
             "colorbar": {
              "outlinewidth": 0,
              "ticks": ""
             }
            },
            "type": "scattergeo"
           }
          ],
          "scattergl": [
           {
            "marker": {
             "colorbar": {
              "outlinewidth": 0,
              "ticks": ""
             }
            },
            "type": "scattergl"
           }
          ],
          "scattermapbox": [
           {
            "marker": {
             "colorbar": {
              "outlinewidth": 0,
              "ticks": ""
             }
            },
            "type": "scattermapbox"
           }
          ],
          "scatterpolar": [
           {
            "marker": {
             "colorbar": {
              "outlinewidth": 0,
              "ticks": ""
             }
            },
            "type": "scatterpolar"
           }
          ],
          "scatterpolargl": [
           {
            "marker": {
             "colorbar": {
              "outlinewidth": 0,
              "ticks": ""
             }
            },
            "type": "scatterpolargl"
           }
          ],
          "scatterternary": [
           {
            "marker": {
             "colorbar": {
              "outlinewidth": 0,
              "ticks": ""
             }
            },
            "type": "scatterternary"
           }
          ],
          "surface": [
           {
            "colorbar": {
             "outlinewidth": 0,
             "ticks": ""
            },
            "colorscale": [
             [
              0,
              "#0d0887"
             ],
             [
              0.1111111111111111,
              "#46039f"
             ],
             [
              0.2222222222222222,
              "#7201a8"
             ],
             [
              0.3333333333333333,
              "#9c179e"
             ],
             [
              0.4444444444444444,
              "#bd3786"
             ],
             [
              0.5555555555555556,
              "#d8576b"
             ],
             [
              0.6666666666666666,
              "#ed7953"
             ],
             [
              0.7777777777777778,
              "#fb9f3a"
             ],
             [
              0.8888888888888888,
              "#fdca26"
             ],
             [
              1,
              "#f0f921"
             ]
            ],
            "type": "surface"
           }
          ],
          "table": [
           {
            "cells": {
             "fill": {
              "color": "#EBF0F8"
             },
             "line": {
              "color": "white"
             }
            },
            "header": {
             "fill": {
              "color": "#C8D4E3"
             },
             "line": {
              "color": "white"
             }
            },
            "type": "table"
           }
          ]
         },
         "layout": {
          "annotationdefaults": {
           "arrowcolor": "#2a3f5f",
           "arrowhead": 0,
           "arrowwidth": 1
          },
          "autotypenumbers": "strict",
          "coloraxis": {
           "colorbar": {
            "outlinewidth": 0,
            "ticks": ""
           }
          },
          "colorscale": {
           "diverging": [
            [
             0,
             "#8e0152"
            ],
            [
             0.1,
             "#c51b7d"
            ],
            [
             0.2,
             "#de77ae"
            ],
            [
             0.3,
             "#f1b6da"
            ],
            [
             0.4,
             "#fde0ef"
            ],
            [
             0.5,
             "#f7f7f7"
            ],
            [
             0.6,
             "#e6f5d0"
            ],
            [
             0.7,
             "#b8e186"
            ],
            [
             0.8,
             "#7fbc41"
            ],
            [
             0.9,
             "#4d9221"
            ],
            [
             1,
             "#276419"
            ]
           ],
           "sequential": [
            [
             0,
             "#0d0887"
            ],
            [
             0.1111111111111111,
             "#46039f"
            ],
            [
             0.2222222222222222,
             "#7201a8"
            ],
            [
             0.3333333333333333,
             "#9c179e"
            ],
            [
             0.4444444444444444,
             "#bd3786"
            ],
            [
             0.5555555555555556,
             "#d8576b"
            ],
            [
             0.6666666666666666,
             "#ed7953"
            ],
            [
             0.7777777777777778,
             "#fb9f3a"
            ],
            [
             0.8888888888888888,
             "#fdca26"
            ],
            [
             1,
             "#f0f921"
            ]
           ],
           "sequentialminus": [
            [
             0,
             "#0d0887"
            ],
            [
             0.1111111111111111,
             "#46039f"
            ],
            [
             0.2222222222222222,
             "#7201a8"
            ],
            [
             0.3333333333333333,
             "#9c179e"
            ],
            [
             0.4444444444444444,
             "#bd3786"
            ],
            [
             0.5555555555555556,
             "#d8576b"
            ],
            [
             0.6666666666666666,
             "#ed7953"
            ],
            [
             0.7777777777777778,
             "#fb9f3a"
            ],
            [
             0.8888888888888888,
             "#fdca26"
            ],
            [
             1,
             "#f0f921"
            ]
           ]
          },
          "colorway": [
           "#636efa",
           "#EF553B",
           "#00cc96",
           "#ab63fa",
           "#FFA15A",
           "#19d3f3",
           "#FF6692",
           "#B6E880",
           "#FF97FF",
           "#FECB52"
          ],
          "font": {
           "color": "#2a3f5f"
          },
          "geo": {
           "bgcolor": "white",
           "lakecolor": "white",
           "landcolor": "white",
           "showlakes": true,
           "showland": true,
           "subunitcolor": "#C8D4E3"
          },
          "hoverlabel": {
           "align": "left"
          },
          "hovermode": "closest",
          "mapbox": {
           "style": "light"
          },
          "paper_bgcolor": "white",
          "plot_bgcolor": "white",
          "polar": {
           "angularaxis": {
            "gridcolor": "#EBF0F8",
            "linecolor": "#EBF0F8",
            "ticks": ""
           },
           "bgcolor": "white",
           "radialaxis": {
            "gridcolor": "#EBF0F8",
            "linecolor": "#EBF0F8",
            "ticks": ""
           }
          },
          "scene": {
           "xaxis": {
            "backgroundcolor": "white",
            "gridcolor": "#DFE8F3",
            "gridwidth": 2,
            "linecolor": "#EBF0F8",
            "showbackground": true,
            "ticks": "",
            "zerolinecolor": "#EBF0F8"
           },
           "yaxis": {
            "backgroundcolor": "white",
            "gridcolor": "#DFE8F3",
            "gridwidth": 2,
            "linecolor": "#EBF0F8",
            "showbackground": true,
            "ticks": "",
            "zerolinecolor": "#EBF0F8"
           },
           "zaxis": {
            "backgroundcolor": "white",
            "gridcolor": "#DFE8F3",
            "gridwidth": 2,
            "linecolor": "#EBF0F8",
            "showbackground": true,
            "ticks": "",
            "zerolinecolor": "#EBF0F8"
           }
          },
          "shapedefaults": {
           "line": {
            "color": "#2a3f5f"
           }
          },
          "ternary": {
           "aaxis": {
            "gridcolor": "#DFE8F3",
            "linecolor": "#A2B1C6",
            "ticks": ""
           },
           "baxis": {
            "gridcolor": "#DFE8F3",
            "linecolor": "#A2B1C6",
            "ticks": ""
           },
           "bgcolor": "white",
           "caxis": {
            "gridcolor": "#DFE8F3",
            "linecolor": "#A2B1C6",
            "ticks": ""
           }
          },
          "title": {
           "x": 0.05
          },
          "xaxis": {
           "automargin": true,
           "gridcolor": "#EBF0F8",
           "linecolor": "#EBF0F8",
           "ticks": "",
           "title": {
            "standoff": 15
           },
           "zerolinecolor": "#EBF0F8",
           "zerolinewidth": 2
          },
          "yaxis": {
           "automargin": true,
           "gridcolor": "#EBF0F8",
           "linecolor": "#EBF0F8",
           "ticks": "",
           "title": {
            "standoff": 15
           },
           "zerolinecolor": "#EBF0F8",
           "zerolinewidth": 2
          }
         }
        },
        "title": {
         "text": "Weight vs Total SCFA Over Time (3M)"
        },
        "xaxis": {
         "dtick": "M3",
         "tickformat": "%b %Y",
         "title": {
          "text": "Date"
         }
        },
        "yaxis": {
         "side": "left",
         "title": {
          "text": "Weight (lbs)"
         }
        },
        "yaxis2": {
         "overlaying": "y",
         "side": "right",
         "title": {
          "text": "Total SCFA (mg/mL)"
         }
        }
       }
      }
     },
     "metadata": {},
     "output_type": "display_data"
    }
   ],
   "source": [
    "# --- prep ---\n",
    "df_plot = df_wideBioDairyLS.dropna(subset=[\"Total SCFA_mg/mL\"]).copy()\n",
    "df_plot[\"Date\"] = pd.to_datetime(df_plot[\"Date\"], errors=\"coerce\")\n",
    "df_plot = df_plot.sort_values(\"Date\").set_index(\"Date\")\n",
    "\n",
    "# choose interval: None (raw), \"1M\", \"3M\", \"6M\", \"12M\"\n",
    "rule = \"3M\"  # <- change to None / \"1M\" / \"3M\" / \"6M\" / \"12M\"\n",
    "\n",
    "if rule is None:\n",
    "    df_bin = df_plot[[\"Weight_lbs\", \"Total SCFA_mg/mL\"]].dropna().reset_index()\n",
    "else:\n",
    "    df_bin = df_plot[[\"Weight_lbs\", \"Total SCFA_mg/mL\"]].resample(rule).mean().dropna().reset_index()\n",
    "\n",
    "x_time   = df_bin[\"Date\"]\n",
    "y_weight = df_bin[\"Weight_lbs\"]\n",
    "y_scfa   = df_bin[\"Total SCFA_mg/mL\"]\n",
    "\n",
    "# --- quick stats (optional) ---\n",
    "if len(df_bin) >= 3:\n",
    "    pr, pp = pearsonr(y_weight, y_scfa)\n",
    "    sr, sp = spearmanr(y_weight, y_scfa)\n",
    "    print(f\"{rule or 'RAW'}  |  Pearson r={pr:.3f} (p={pp:.3g})  |  Spearman r={sr:.3f} (p={sp:.3g})\")\n",
    "\n",
    "# --- plot ---\n",
    "fig = go.Figure()\n",
    "\n",
    "# Weight (left axis)\n",
    "fig.add_trace(go.Scatter(\n",
    "    x=x_time, y=y_weight,\n",
    "    mode=\"lines+markers\",\n",
    "    name=\"Weight (lbs)\",\n",
    "    line=dict(width=3, color=\"black\"),\n",
    "))\n",
    "\n",
    "# SCFA (right axis)  -> attach to y2\n",
    "fig.add_trace(go.Scatter(\n",
    "    x=x_time, y=y_scfa,\n",
    "    mode=\"lines+markers\",\n",
    "    name=\"Total SCFA (mg/mL)\",\n",
    "    line=dict(width=2, color=\"blue\"),\n",
    "    yaxis=\"y2\"\n",
    "))\n",
    "\n",
    "fig.update_layout(\n",
    "    title=f\"Weight vs Total SCFA Over Time ({rule or 'Raw'})\",\n",
    "    xaxis=dict(title=\"Date\", dtick=\"M3\", tickformat=\"%b %Y\"),\n",
    "    yaxis=dict(title=\"Weight (lbs)\", side=\"left\"),\n",
    "    yaxis2=dict(title=\"Total SCFA (mg/mL)\", overlaying=\"y\", side=\"right\"),\n",
    "    legend=dict(x=0.01, y=0.99, bordercolor=\"lightgray\", borderwidth=1),\n",
    "    template=\"plotly_white\"\n",
    ")\n",
    "\n",
    "fig.show()"
   ]
  },
  {
   "cell_type": "code",
   "execution_count": 49,
   "id": "b023997a",
   "metadata": {},
   "outputs": [
    {
     "data": {
      "application/vnd.plotly.v1+json": {
       "config": {
        "plotlyServerURL": "https://plot.ly"
       },
       "data": [
        {
         "line": {
          "color": "black",
          "width": 3
         },
         "mode": "lines+markers",
         "name": "Weight (lbs)",
         "type": "scatter",
         "x": [
          "2008-09-30T00:00:00",
          "2009-01-31T00:00:00",
          "2009-05-31T00:00:00",
          "2009-08-31T00:00:00",
          "2010-08-31T00:00:00",
          "2010-12-31T00:00:00",
          "2011-03-31T00:00:00",
          "2011-05-31T00:00:00",
          "2011-06-30T00:00:00",
          "2011-07-31T00:00:00",
          "2011-09-30T00:00:00",
          "2011-11-30T00:00:00",
          "2011-12-31T00:00:00",
          "2012-01-31T00:00:00",
          "2012-02-29T00:00:00",
          "2012-04-30T00:00:00",
          "2012-05-31T00:00:00",
          "2012-06-30T00:00:00",
          "2012-08-31T00:00:00",
          "2012-09-30T00:00:00",
          "2012-11-30T00:00:00",
          "2012-12-31T00:00:00",
          "2013-02-28T00:00:00",
          "2013-05-31T00:00:00",
          "2013-06-30T00:00:00",
          "2013-07-31T00:00:00",
          "2013-09-30T00:00:00",
          "2013-11-30T00:00:00",
          "2013-12-31T00:00:00",
          "2014-02-28T00:00:00",
          "2014-03-31T00:00:00",
          "2014-05-31T00:00:00",
          "2014-06-30T00:00:00",
          "2014-07-31T00:00:00",
          "2014-08-31T00:00:00",
          "2014-09-30T00:00:00",
          "2014-11-30T00:00:00",
          "2014-12-31T00:00:00",
          "2015-01-31T00:00:00",
          "2015-02-28T00:00:00",
          "2015-03-31T00:00:00",
          "2015-04-30T00:00:00",
          "2015-05-31T00:00:00",
          "2015-06-30T00:00:00",
          "2015-07-31T00:00:00",
          "2015-08-31T00:00:00",
          "2015-09-30T00:00:00",
          "2015-10-31T00:00:00",
          "2015-11-30T00:00:00",
          "2015-12-31T00:00:00",
          "2016-01-31T00:00:00",
          "2016-02-29T00:00:00",
          "2016-03-31T00:00:00",
          "2016-04-30T00:00:00",
          "2016-05-31T00:00:00",
          "2016-06-30T00:00:00",
          "2016-07-31T00:00:00",
          "2016-08-31T00:00:00",
          "2016-09-30T00:00:00",
          "2016-10-31T00:00:00",
          "2016-11-30T00:00:00",
          "2016-12-31T00:00:00",
          "2017-01-31T00:00:00",
          "2017-02-28T00:00:00",
          "2017-03-31T00:00:00",
          "2017-04-30T00:00:00",
          "2017-05-31T00:00:00",
          "2017-06-30T00:00:00",
          "2017-07-31T00:00:00",
          "2017-08-31T00:00:00",
          "2017-09-30T00:00:00",
          "2017-10-31T00:00:00",
          "2017-11-30T00:00:00",
          "2017-12-31T00:00:00",
          "2018-01-31T00:00:00",
          "2018-02-28T00:00:00",
          "2018-03-31T00:00:00",
          "2018-04-30T00:00:00",
          "2018-05-31T00:00:00",
          "2018-06-30T00:00:00",
          "2018-07-31T00:00:00",
          "2018-08-31T00:00:00",
          "2018-09-30T00:00:00",
          "2018-10-31T00:00:00",
          "2018-12-31T00:00:00",
          "2019-02-28T00:00:00",
          "2019-03-31T00:00:00",
          "2019-04-30T00:00:00",
          "2019-05-31T00:00:00",
          "2019-06-30T00:00:00",
          "2019-07-31T00:00:00",
          "2019-08-31T00:00:00",
          "2019-09-30T00:00:00",
          "2019-10-31T00:00:00",
          "2019-12-31T00:00:00",
          "2020-01-31T00:00:00",
          "2020-02-29T00:00:00",
          "2020-03-31T00:00:00",
          "2020-04-30T00:00:00",
          "2020-05-31T00:00:00",
          "2020-06-30T00:00:00",
          "2020-07-31T00:00:00",
          "2020-08-31T00:00:00",
          "2020-10-31T00:00:00",
          "2020-11-30T00:00:00",
          "2020-12-31T00:00:00",
          "2021-01-31T00:00:00",
          "2021-02-28T00:00:00",
          "2021-03-31T00:00:00",
          "2021-04-30T00:00:00",
          "2021-05-31T00:00:00",
          "2021-06-30T00:00:00",
          "2021-07-31T00:00:00",
          "2021-10-31T00:00:00",
          "2021-11-30T00:00:00",
          "2022-01-31T00:00:00",
          "2022-03-31T00:00:00",
          "2022-05-31T00:00:00",
          "2022-09-30T00:00:00",
          "2022-10-31T00:00:00",
          "2022-12-31T00:00:00",
          "2023-02-28T00:00:00",
          "2023-03-31T00:00:00",
          "2023-07-31T00:00:00",
          "2023-09-30T00:00:00",
          "2023-10-31T00:00:00",
          "2023-11-30T00:00:00",
          "2024-02-29T00:00:00",
          "2024-05-31T00:00:00",
          "2024-06-30T00:00:00",
          "2024-12-31T00:00:00",
          "2025-01-31T00:00:00",
          "2025-02-28T00:00:00"
         ],
         "y": [
          183,
          183.5,
          185,
          182.4,
          180.5,
          181,
          183.2,
          181.8,
          182.8,
          182.2,
          184,
          187,
          188,
          185,
          179,
          183,
          188.1,
          187.2,
          187.2,
          187.5,
          184.3,
          184.6,
          182.1,
          183.8,
          183.4,
          184.2,
          183.5,
          183.5,
          185.3,
          184.8,
          187.4,
          188,
          191.6,
          191.8,
          190.4,
          192.1,
          194.7,
          193.2,
          191.55,
          192.5,
          192.9,
          189.95,
          190.75,
          190.15,
          190.95,
          194,
          192.8,
          189.8,
          190.9,
          191.2,
          191.35,
          193.6,
          192.95,
          190.7,
          191.2,
          195.15,
          194.76666666666665,
          191.7,
          193.5,
          195.6,
          194.6,
          190.7,
          193.46666666666667,
          195.65,
          196.7,
          194.6,
          192.6,
          194.65,
          197.8,
          197.1,
          198.5,
          195.5,
          188.7,
          189.55,
          188.3,
          188.64999999999998,
          191.05,
          189.6,
          190.85,
          190,
          190.15,
          187.1,
          184.5,
          185,
          184.9,
          184.6,
          187.1,
          185.1,
          183,
          180.6,
          182.5,
          184.5,
          185.2,
          186,
          186.6,
          187.1,
          190.7,
          187.1,
          186.3,
          184.9,
          183.2,
          183.35000000000002,
          181,
          179.7,
          177.6,
          170.7,
          169.3,
          170,
          169.1,
          173.6,
          175,
          172.4,
          172.5,
          170.85000000000002,
          166.1,
          170.1,
          174.2,
          174.6,
          170.3,
          173.5,
          176.5,
          175.4,
          176.6,
          179.2,
          175.2,
          173.325,
          177.8,
          177.4,
          178.9,
          177.5,
          180,
          178.5,
          176.9
         ]
        },
        {
         "line": {
          "color": "blue",
          "width": 2
         },
         "mode": "lines+markers",
         "name": "Total SCFA (mg/mL)",
         "type": "scatter",
         "x": [
          "2008-09-30T00:00:00",
          "2009-01-31T00:00:00",
          "2009-05-31T00:00:00",
          "2009-08-31T00:00:00",
          "2010-08-31T00:00:00",
          "2010-12-31T00:00:00",
          "2011-03-31T00:00:00",
          "2011-05-31T00:00:00",
          "2011-06-30T00:00:00",
          "2011-07-31T00:00:00",
          "2011-09-30T00:00:00",
          "2011-11-30T00:00:00",
          "2011-12-31T00:00:00",
          "2012-01-31T00:00:00",
          "2012-02-29T00:00:00",
          "2012-04-30T00:00:00",
          "2012-05-31T00:00:00",
          "2012-06-30T00:00:00",
          "2012-08-31T00:00:00",
          "2012-09-30T00:00:00",
          "2012-11-30T00:00:00",
          "2012-12-31T00:00:00",
          "2013-02-28T00:00:00",
          "2013-05-31T00:00:00",
          "2013-06-30T00:00:00",
          "2013-07-31T00:00:00",
          "2013-09-30T00:00:00",
          "2013-11-30T00:00:00",
          "2013-12-31T00:00:00",
          "2014-02-28T00:00:00",
          "2014-03-31T00:00:00",
          "2014-05-31T00:00:00",
          "2014-06-30T00:00:00",
          "2014-07-31T00:00:00",
          "2014-08-31T00:00:00",
          "2014-09-30T00:00:00",
          "2014-11-30T00:00:00",
          "2014-12-31T00:00:00",
          "2015-01-31T00:00:00",
          "2015-02-28T00:00:00",
          "2015-03-31T00:00:00",
          "2015-04-30T00:00:00",
          "2015-05-31T00:00:00",
          "2015-06-30T00:00:00",
          "2015-07-31T00:00:00",
          "2015-08-31T00:00:00",
          "2015-09-30T00:00:00",
          "2015-10-31T00:00:00",
          "2015-11-30T00:00:00",
          "2015-12-31T00:00:00",
          "2016-01-31T00:00:00",
          "2016-02-29T00:00:00",
          "2016-03-31T00:00:00",
          "2016-04-30T00:00:00",
          "2016-05-31T00:00:00",
          "2016-06-30T00:00:00",
          "2016-07-31T00:00:00",
          "2016-08-31T00:00:00",
          "2016-09-30T00:00:00",
          "2016-10-31T00:00:00",
          "2016-11-30T00:00:00",
          "2016-12-31T00:00:00",
          "2017-01-31T00:00:00",
          "2017-02-28T00:00:00",
          "2017-03-31T00:00:00",
          "2017-04-30T00:00:00",
          "2017-05-31T00:00:00",
          "2017-06-30T00:00:00",
          "2017-07-31T00:00:00",
          "2017-08-31T00:00:00",
          "2017-09-30T00:00:00",
          "2017-10-31T00:00:00",
          "2017-11-30T00:00:00",
          "2017-12-31T00:00:00",
          "2018-01-31T00:00:00",
          "2018-02-28T00:00:00",
          "2018-03-31T00:00:00",
          "2018-04-30T00:00:00",
          "2018-05-31T00:00:00",
          "2018-06-30T00:00:00",
          "2018-07-31T00:00:00",
          "2018-08-31T00:00:00",
          "2018-09-30T00:00:00",
          "2018-10-31T00:00:00",
          "2018-12-31T00:00:00",
          "2019-02-28T00:00:00",
          "2019-03-31T00:00:00",
          "2019-04-30T00:00:00",
          "2019-05-31T00:00:00",
          "2019-06-30T00:00:00",
          "2019-07-31T00:00:00",
          "2019-08-31T00:00:00",
          "2019-09-30T00:00:00",
          "2019-10-31T00:00:00",
          "2019-12-31T00:00:00",
          "2020-01-31T00:00:00",
          "2020-02-29T00:00:00",
          "2020-03-31T00:00:00",
          "2020-04-30T00:00:00",
          "2020-05-31T00:00:00",
          "2020-06-30T00:00:00",
          "2020-07-31T00:00:00",
          "2020-08-31T00:00:00",
          "2020-10-31T00:00:00",
          "2020-11-30T00:00:00",
          "2020-12-31T00:00:00",
          "2021-01-31T00:00:00",
          "2021-02-28T00:00:00",
          "2021-03-31T00:00:00",
          "2021-04-30T00:00:00",
          "2021-05-31T00:00:00",
          "2021-06-30T00:00:00",
          "2021-07-31T00:00:00",
          "2021-10-31T00:00:00",
          "2021-11-30T00:00:00",
          "2022-01-31T00:00:00",
          "2022-03-31T00:00:00",
          "2022-05-31T00:00:00",
          "2022-09-30T00:00:00",
          "2022-10-31T00:00:00",
          "2022-12-31T00:00:00",
          "2023-02-28T00:00:00",
          "2023-03-31T00:00:00",
          "2023-07-31T00:00:00",
          "2023-09-30T00:00:00",
          "2023-10-31T00:00:00",
          "2023-11-30T00:00:00",
          "2024-02-29T00:00:00",
          "2024-05-31T00:00:00",
          "2024-06-30T00:00:00",
          "2024-12-31T00:00:00",
          "2025-01-31T00:00:00",
          "2025-02-28T00:00:00"
         ],
         "y": [
          3.5,
          4.2,
          6.6,
          11,
          13,
          6.6,
          5.9,
          12,
          7.6,
          13,
          11,
          6.9,
          6.3,
          7.8,
          3.7,
          8.2,
          7.6,
          7.9,
          6.9,
          8.6,
          7.1,
          4,
          5,
          9.8,
          9.8,
          9.6,
          4.2,
          6.5,
          11,
          4.6,
          6.4,
          14,
          13,
          9.3,
          9.6,
          14,
          16,
          13,
          10,
          6.75,
          5.9,
          7.7,
          6.65,
          9.7,
          9.6,
          8.2,
          17,
          13,
          8.65,
          5.3,
          7.35,
          8.25,
          8.5,
          9.1,
          7.65,
          10.45,
          11.666666666666666,
          5.7,
          7.05,
          10.233333333333333,
          6.625,
          4.9,
          5.233333333333333,
          6.699999999999999,
          6.55,
          8.8,
          9.700000000000001,
          6.35,
          15,
          6.9,
          11,
          8.3,
          8.2,
          6.9,
          7.35,
          6.75,
          5.800000000000001,
          8.5,
          6.9,
          9.8,
          8.850000000000001,
          7.3,
          15,
          11.6,
          4.9,
          4.9,
          6.5,
          6.2,
          9.3,
          12,
          8.4,
          5.7,
          7.1,
          7.9,
          10,
          6.3,
          6,
          5.3,
          3.2,
          4.8,
          6.1,
          5.9,
          5.85,
          3.9,
          3.7,
          5.5,
          5.9,
          5.8,
          5.2,
          7.6,
          6.1,
          4.4,
          9.1,
          6,
          7.1,
          3.2,
          5.8,
          4.5,
          6.449999999999999,
          3.7,
          6.1,
          4.5,
          3.6,
          3.8,
          6.5,
          4.699999999999999,
          4.7,
          6.6,
          4.2,
          4.5,
          6,
          4,
          8.7
         ],
         "yaxis": "y2"
        }
       ],
       "layout": {
        "legend": {
         "bordercolor": "lightgray",
         "borderwidth": 1,
         "x": 0.01,
         "y": 0.99
        },
        "template": {
         "data": {
          "bar": [
           {
            "error_x": {
             "color": "#2a3f5f"
            },
            "error_y": {
             "color": "#2a3f5f"
            },
            "marker": {
             "line": {
              "color": "white",
              "width": 0.5
             },
             "pattern": {
              "fillmode": "overlay",
              "size": 10,
              "solidity": 0.2
             }
            },
            "type": "bar"
           }
          ],
          "barpolar": [
           {
            "marker": {
             "line": {
              "color": "white",
              "width": 0.5
             },
             "pattern": {
              "fillmode": "overlay",
              "size": 10,
              "solidity": 0.2
             }
            },
            "type": "barpolar"
           }
          ],
          "carpet": [
           {
            "aaxis": {
             "endlinecolor": "#2a3f5f",
             "gridcolor": "#C8D4E3",
             "linecolor": "#C8D4E3",
             "minorgridcolor": "#C8D4E3",
             "startlinecolor": "#2a3f5f"
            },
            "baxis": {
             "endlinecolor": "#2a3f5f",
             "gridcolor": "#C8D4E3",
             "linecolor": "#C8D4E3",
             "minorgridcolor": "#C8D4E3",
             "startlinecolor": "#2a3f5f"
            },
            "type": "carpet"
           }
          ],
          "choropleth": [
           {
            "colorbar": {
             "outlinewidth": 0,
             "ticks": ""
            },
            "type": "choropleth"
           }
          ],
          "contour": [
           {
            "colorbar": {
             "outlinewidth": 0,
             "ticks": ""
            },
            "colorscale": [
             [
              0,
              "#0d0887"
             ],
             [
              0.1111111111111111,
              "#46039f"
             ],
             [
              0.2222222222222222,
              "#7201a8"
             ],
             [
              0.3333333333333333,
              "#9c179e"
             ],
             [
              0.4444444444444444,
              "#bd3786"
             ],
             [
              0.5555555555555556,
              "#d8576b"
             ],
             [
              0.6666666666666666,
              "#ed7953"
             ],
             [
              0.7777777777777778,
              "#fb9f3a"
             ],
             [
              0.8888888888888888,
              "#fdca26"
             ],
             [
              1,
              "#f0f921"
             ]
            ],
            "type": "contour"
           }
          ],
          "contourcarpet": [
           {
            "colorbar": {
             "outlinewidth": 0,
             "ticks": ""
            },
            "type": "contourcarpet"
           }
          ],
          "heatmap": [
           {
            "colorbar": {
             "outlinewidth": 0,
             "ticks": ""
            },
            "colorscale": [
             [
              0,
              "#0d0887"
             ],
             [
              0.1111111111111111,
              "#46039f"
             ],
             [
              0.2222222222222222,
              "#7201a8"
             ],
             [
              0.3333333333333333,
              "#9c179e"
             ],
             [
              0.4444444444444444,
              "#bd3786"
             ],
             [
              0.5555555555555556,
              "#d8576b"
             ],
             [
              0.6666666666666666,
              "#ed7953"
             ],
             [
              0.7777777777777778,
              "#fb9f3a"
             ],
             [
              0.8888888888888888,
              "#fdca26"
             ],
             [
              1,
              "#f0f921"
             ]
            ],
            "type": "heatmap"
           }
          ],
          "heatmapgl": [
           {
            "colorbar": {
             "outlinewidth": 0,
             "ticks": ""
            },
            "colorscale": [
             [
              0,
              "#0d0887"
             ],
             [
              0.1111111111111111,
              "#46039f"
             ],
             [
              0.2222222222222222,
              "#7201a8"
             ],
             [
              0.3333333333333333,
              "#9c179e"
             ],
             [
              0.4444444444444444,
              "#bd3786"
             ],
             [
              0.5555555555555556,
              "#d8576b"
             ],
             [
              0.6666666666666666,
              "#ed7953"
             ],
             [
              0.7777777777777778,
              "#fb9f3a"
             ],
             [
              0.8888888888888888,
              "#fdca26"
             ],
             [
              1,
              "#f0f921"
             ]
            ],
            "type": "heatmapgl"
           }
          ],
          "histogram": [
           {
            "marker": {
             "pattern": {
              "fillmode": "overlay",
              "size": 10,
              "solidity": 0.2
             }
            },
            "type": "histogram"
           }
          ],
          "histogram2d": [
           {
            "colorbar": {
             "outlinewidth": 0,
             "ticks": ""
            },
            "colorscale": [
             [
              0,
              "#0d0887"
             ],
             [
              0.1111111111111111,
              "#46039f"
             ],
             [
              0.2222222222222222,
              "#7201a8"
             ],
             [
              0.3333333333333333,
              "#9c179e"
             ],
             [
              0.4444444444444444,
              "#bd3786"
             ],
             [
              0.5555555555555556,
              "#d8576b"
             ],
             [
              0.6666666666666666,
              "#ed7953"
             ],
             [
              0.7777777777777778,
              "#fb9f3a"
             ],
             [
              0.8888888888888888,
              "#fdca26"
             ],
             [
              1,
              "#f0f921"
             ]
            ],
            "type": "histogram2d"
           }
          ],
          "histogram2dcontour": [
           {
            "colorbar": {
             "outlinewidth": 0,
             "ticks": ""
            },
            "colorscale": [
             [
              0,
              "#0d0887"
             ],
             [
              0.1111111111111111,
              "#46039f"
             ],
             [
              0.2222222222222222,
              "#7201a8"
             ],
             [
              0.3333333333333333,
              "#9c179e"
             ],
             [
              0.4444444444444444,
              "#bd3786"
             ],
             [
              0.5555555555555556,
              "#d8576b"
             ],
             [
              0.6666666666666666,
              "#ed7953"
             ],
             [
              0.7777777777777778,
              "#fb9f3a"
             ],
             [
              0.8888888888888888,
              "#fdca26"
             ],
             [
              1,
              "#f0f921"
             ]
            ],
            "type": "histogram2dcontour"
           }
          ],
          "mesh3d": [
           {
            "colorbar": {
             "outlinewidth": 0,
             "ticks": ""
            },
            "type": "mesh3d"
           }
          ],
          "parcoords": [
           {
            "line": {
             "colorbar": {
              "outlinewidth": 0,
              "ticks": ""
             }
            },
            "type": "parcoords"
           }
          ],
          "pie": [
           {
            "automargin": true,
            "type": "pie"
           }
          ],
          "scatter": [
           {
            "fillpattern": {
             "fillmode": "overlay",
             "size": 10,
             "solidity": 0.2
            },
            "type": "scatter"
           }
          ],
          "scatter3d": [
           {
            "line": {
             "colorbar": {
              "outlinewidth": 0,
              "ticks": ""
             }
            },
            "marker": {
             "colorbar": {
              "outlinewidth": 0,
              "ticks": ""
             }
            },
            "type": "scatter3d"
           }
          ],
          "scattercarpet": [
           {
            "marker": {
             "colorbar": {
              "outlinewidth": 0,
              "ticks": ""
             }
            },
            "type": "scattercarpet"
           }
          ],
          "scattergeo": [
           {
            "marker": {
             "colorbar": {
              "outlinewidth": 0,
              "ticks": ""
             }
            },
            "type": "scattergeo"
           }
          ],
          "scattergl": [
           {
            "marker": {
             "colorbar": {
              "outlinewidth": 0,
              "ticks": ""
             }
            },
            "type": "scattergl"
           }
          ],
          "scattermapbox": [
           {
            "marker": {
             "colorbar": {
              "outlinewidth": 0,
              "ticks": ""
             }
            },
            "type": "scattermapbox"
           }
          ],
          "scatterpolar": [
           {
            "marker": {
             "colorbar": {
              "outlinewidth": 0,
              "ticks": ""
             }
            },
            "type": "scatterpolar"
           }
          ],
          "scatterpolargl": [
           {
            "marker": {
             "colorbar": {
              "outlinewidth": 0,
              "ticks": ""
             }
            },
            "type": "scatterpolargl"
           }
          ],
          "scatterternary": [
           {
            "marker": {
             "colorbar": {
              "outlinewidth": 0,
              "ticks": ""
             }
            },
            "type": "scatterternary"
           }
          ],
          "surface": [
           {
            "colorbar": {
             "outlinewidth": 0,
             "ticks": ""
            },
            "colorscale": [
             [
              0,
              "#0d0887"
             ],
             [
              0.1111111111111111,
              "#46039f"
             ],
             [
              0.2222222222222222,
              "#7201a8"
             ],
             [
              0.3333333333333333,
              "#9c179e"
             ],
             [
              0.4444444444444444,
              "#bd3786"
             ],
             [
              0.5555555555555556,
              "#d8576b"
             ],
             [
              0.6666666666666666,
              "#ed7953"
             ],
             [
              0.7777777777777778,
              "#fb9f3a"
             ],
             [
              0.8888888888888888,
              "#fdca26"
             ],
             [
              1,
              "#f0f921"
             ]
            ],
            "type": "surface"
           }
          ],
          "table": [
           {
            "cells": {
             "fill": {
              "color": "#EBF0F8"
             },
             "line": {
              "color": "white"
             }
            },
            "header": {
             "fill": {
              "color": "#C8D4E3"
             },
             "line": {
              "color": "white"
             }
            },
            "type": "table"
           }
          ]
         },
         "layout": {
          "annotationdefaults": {
           "arrowcolor": "#2a3f5f",
           "arrowhead": 0,
           "arrowwidth": 1
          },
          "autotypenumbers": "strict",
          "coloraxis": {
           "colorbar": {
            "outlinewidth": 0,
            "ticks": ""
           }
          },
          "colorscale": {
           "diverging": [
            [
             0,
             "#8e0152"
            ],
            [
             0.1,
             "#c51b7d"
            ],
            [
             0.2,
             "#de77ae"
            ],
            [
             0.3,
             "#f1b6da"
            ],
            [
             0.4,
             "#fde0ef"
            ],
            [
             0.5,
             "#f7f7f7"
            ],
            [
             0.6,
             "#e6f5d0"
            ],
            [
             0.7,
             "#b8e186"
            ],
            [
             0.8,
             "#7fbc41"
            ],
            [
             0.9,
             "#4d9221"
            ],
            [
             1,
             "#276419"
            ]
           ],
           "sequential": [
            [
             0,
             "#0d0887"
            ],
            [
             0.1111111111111111,
             "#46039f"
            ],
            [
             0.2222222222222222,
             "#7201a8"
            ],
            [
             0.3333333333333333,
             "#9c179e"
            ],
            [
             0.4444444444444444,
             "#bd3786"
            ],
            [
             0.5555555555555556,
             "#d8576b"
            ],
            [
             0.6666666666666666,
             "#ed7953"
            ],
            [
             0.7777777777777778,
             "#fb9f3a"
            ],
            [
             0.8888888888888888,
             "#fdca26"
            ],
            [
             1,
             "#f0f921"
            ]
           ],
           "sequentialminus": [
            [
             0,
             "#0d0887"
            ],
            [
             0.1111111111111111,
             "#46039f"
            ],
            [
             0.2222222222222222,
             "#7201a8"
            ],
            [
             0.3333333333333333,
             "#9c179e"
            ],
            [
             0.4444444444444444,
             "#bd3786"
            ],
            [
             0.5555555555555556,
             "#d8576b"
            ],
            [
             0.6666666666666666,
             "#ed7953"
            ],
            [
             0.7777777777777778,
             "#fb9f3a"
            ],
            [
             0.8888888888888888,
             "#fdca26"
            ],
            [
             1,
             "#f0f921"
            ]
           ]
          },
          "colorway": [
           "#636efa",
           "#EF553B",
           "#00cc96",
           "#ab63fa",
           "#FFA15A",
           "#19d3f3",
           "#FF6692",
           "#B6E880",
           "#FF97FF",
           "#FECB52"
          ],
          "font": {
           "color": "#2a3f5f"
          },
          "geo": {
           "bgcolor": "white",
           "lakecolor": "white",
           "landcolor": "white",
           "showlakes": true,
           "showland": true,
           "subunitcolor": "#C8D4E3"
          },
          "hoverlabel": {
           "align": "left"
          },
          "hovermode": "closest",
          "mapbox": {
           "style": "light"
          },
          "paper_bgcolor": "white",
          "plot_bgcolor": "white",
          "polar": {
           "angularaxis": {
            "gridcolor": "#EBF0F8",
            "linecolor": "#EBF0F8",
            "ticks": ""
           },
           "bgcolor": "white",
           "radialaxis": {
            "gridcolor": "#EBF0F8",
            "linecolor": "#EBF0F8",
            "ticks": ""
           }
          },
          "scene": {
           "xaxis": {
            "backgroundcolor": "white",
            "gridcolor": "#DFE8F3",
            "gridwidth": 2,
            "linecolor": "#EBF0F8",
            "showbackground": true,
            "ticks": "",
            "zerolinecolor": "#EBF0F8"
           },
           "yaxis": {
            "backgroundcolor": "white",
            "gridcolor": "#DFE8F3",
            "gridwidth": 2,
            "linecolor": "#EBF0F8",
            "showbackground": true,
            "ticks": "",
            "zerolinecolor": "#EBF0F8"
           },
           "zaxis": {
            "backgroundcolor": "white",
            "gridcolor": "#DFE8F3",
            "gridwidth": 2,
            "linecolor": "#EBF0F8",
            "showbackground": true,
            "ticks": "",
            "zerolinecolor": "#EBF0F8"
           }
          },
          "shapedefaults": {
           "line": {
            "color": "#2a3f5f"
           }
          },
          "ternary": {
           "aaxis": {
            "gridcolor": "#DFE8F3",
            "linecolor": "#A2B1C6",
            "ticks": ""
           },
           "baxis": {
            "gridcolor": "#DFE8F3",
            "linecolor": "#A2B1C6",
            "ticks": ""
           },
           "bgcolor": "white",
           "caxis": {
            "gridcolor": "#DFE8F3",
            "linecolor": "#A2B1C6",
            "ticks": ""
           }
          },
          "title": {
           "x": 0.05
          },
          "xaxis": {
           "automargin": true,
           "gridcolor": "#EBF0F8",
           "linecolor": "#EBF0F8",
           "ticks": "",
           "title": {
            "standoff": 15
           },
           "zerolinecolor": "#EBF0F8",
           "zerolinewidth": 2
          },
          "yaxis": {
           "automargin": true,
           "gridcolor": "#EBF0F8",
           "linecolor": "#EBF0F8",
           "ticks": "",
           "title": {
            "standoff": 15
           },
           "zerolinecolor": "#EBF0F8",
           "zerolinewidth": 2
          }
         }
        },
        "title": {
         "text": "Weight vs Total SCFA Over Time (1-Month Interval Means)"
        },
        "xaxis": {
         "dtick": "M3",
         "tickformat": "%b %Y",
         "title": {
          "text": "Date"
         }
        },
        "yaxis": {
         "side": "left",
         "title": {
          "text": "Weight (lbs)"
         }
        },
        "yaxis2": {
         "overlaying": "y",
         "side": "right",
         "title": {
          "text": "Total SCFA (mg/mL)"
         }
        }
       }
      }
     },
     "metadata": {},
     "output_type": "display_data"
    },
    {
     "data": {
      "application/vnd.plotly.v1+json": {
       "config": {
        "plotlyServerURL": "https://plot.ly"
       },
       "data": [
        {
         "line": {
          "color": "black",
          "width": 3
         },
         "mode": "lines+markers",
         "name": "Weight (lbs)",
         "type": "scatter",
         "x": [
          "2008-09-30T00:00:00",
          "2009-03-31T00:00:00",
          "2009-06-30T00:00:00",
          "2009-09-30T00:00:00",
          "2010-09-30T00:00:00",
          "2010-12-31T00:00:00",
          "2011-03-31T00:00:00",
          "2011-06-30T00:00:00",
          "2011-09-30T00:00:00",
          "2011-12-31T00:00:00",
          "2012-03-31T00:00:00",
          "2012-06-30T00:00:00",
          "2012-09-30T00:00:00",
          "2012-12-31T00:00:00",
          "2013-03-31T00:00:00",
          "2013-06-30T00:00:00",
          "2013-09-30T00:00:00",
          "2013-12-31T00:00:00",
          "2014-03-31T00:00:00",
          "2014-06-30T00:00:00",
          "2014-09-30T00:00:00",
          "2014-12-31T00:00:00",
          "2015-03-31T00:00:00",
          "2015-06-30T00:00:00",
          "2015-09-30T00:00:00",
          "2015-12-31T00:00:00",
          "2016-03-31T00:00:00",
          "2016-06-30T00:00:00",
          "2016-09-30T00:00:00",
          "2016-12-31T00:00:00",
          "2017-03-31T00:00:00",
          "2017-06-30T00:00:00",
          "2017-09-30T00:00:00",
          "2017-12-31T00:00:00",
          "2018-03-31T00:00:00",
          "2018-06-30T00:00:00",
          "2018-09-30T00:00:00",
          "2018-12-31T00:00:00",
          "2019-03-31T00:00:00",
          "2019-06-30T00:00:00",
          "2019-09-30T00:00:00",
          "2019-12-31T00:00:00",
          "2020-03-31T00:00:00",
          "2020-06-30T00:00:00",
          "2020-09-30T00:00:00",
          "2020-12-31T00:00:00",
          "2021-03-31T00:00:00",
          "2021-06-30T00:00:00",
          "2021-09-30T00:00:00",
          "2021-12-31T00:00:00",
          "2022-03-31T00:00:00",
          "2022-06-30T00:00:00",
          "2022-09-30T00:00:00",
          "2022-12-31T00:00:00",
          "2023-03-31T00:00:00",
          "2023-09-30T00:00:00",
          "2023-12-31T00:00:00",
          "2024-03-31T00:00:00",
          "2024-06-30T00:00:00",
          "2024-12-31T00:00:00",
          "2025-03-31T00:00:00"
         ],
         "y": [
          183,
          183.5,
          185,
          182.4,
          180.5,
          181,
          183.2,
          182.3,
          183.1,
          187.5,
          182,
          186.1,
          187.35,
          184.45,
          182.1,
          183.60000000000002,
          183.85,
          184.4,
          186.10000000000002,
          189.8,
          191.4333333333333,
          193.95,
          192.3166666666667,
          190.28333333333333,
          192.175,
          190.8,
          192.63333333333333,
          192.68,
          193.83333333333334,
          193.225,
          195.0142857142857,
          193.61666666666667,
          197.79999999999998,
          191.76,
          189.33333333333334,
          190.325,
          187.975,
          184.96666666666667,
          185.85,
          182.9,
          184.0666666666667,
          186.3,
          188.29999999999998,
          184.79999999999998,
          182.175,
          176,
          169.46666666666667,
          173.66666666666666,
          172.5,
          169.26666666666668,
          172.14999999999998,
          174.6,
          170.3,
          175,
          176,
          177.2,
          174.8166666666667,
          177.4,
          178.4333333333333,
          180,
          177.4333333333333
         ]
        },
        {
         "line": {
          "color": "blue",
          "width": 2
         },
         "mode": "lines+markers",
         "name": "Total SCFA (mg/mL)",
         "type": "scatter",
         "x": [
          "2008-09-30T00:00:00",
          "2009-03-31T00:00:00",
          "2009-06-30T00:00:00",
          "2009-09-30T00:00:00",
          "2010-09-30T00:00:00",
          "2010-12-31T00:00:00",
          "2011-03-31T00:00:00",
          "2011-06-30T00:00:00",
          "2011-09-30T00:00:00",
          "2011-12-31T00:00:00",
          "2012-03-31T00:00:00",
          "2012-06-30T00:00:00",
          "2012-09-30T00:00:00",
          "2012-12-31T00:00:00",
          "2013-03-31T00:00:00",
          "2013-06-30T00:00:00",
          "2013-09-30T00:00:00",
          "2013-12-31T00:00:00",
          "2014-03-31T00:00:00",
          "2014-06-30T00:00:00",
          "2014-09-30T00:00:00",
          "2014-12-31T00:00:00",
          "2015-03-31T00:00:00",
          "2015-06-30T00:00:00",
          "2015-09-30T00:00:00",
          "2015-12-31T00:00:00",
          "2016-03-31T00:00:00",
          "2016-06-30T00:00:00",
          "2016-09-30T00:00:00",
          "2016-12-31T00:00:00",
          "2017-03-31T00:00:00",
          "2017-06-30T00:00:00",
          "2017-09-30T00:00:00",
          "2017-12-31T00:00:00",
          "2018-03-31T00:00:00",
          "2018-06-30T00:00:00",
          "2018-09-30T00:00:00",
          "2018-12-31T00:00:00",
          "2019-03-31T00:00:00",
          "2019-06-30T00:00:00",
          "2019-09-30T00:00:00",
          "2019-12-31T00:00:00",
          "2020-03-31T00:00:00",
          "2020-06-30T00:00:00",
          "2020-09-30T00:00:00",
          "2020-12-31T00:00:00",
          "2021-03-31T00:00:00",
          "2021-06-30T00:00:00",
          "2021-09-30T00:00:00",
          "2021-12-31T00:00:00",
          "2022-03-31T00:00:00",
          "2022-06-30T00:00:00",
          "2022-09-30T00:00:00",
          "2022-12-31T00:00:00",
          "2023-03-31T00:00:00",
          "2023-09-30T00:00:00",
          "2023-12-31T00:00:00",
          "2024-03-31T00:00:00",
          "2024-06-30T00:00:00",
          "2024-12-31T00:00:00",
          "2025-03-31T00:00:00"
         ],
         "y": [
          3.5,
          4.2,
          6.6,
          11,
          13,
          6.6,
          5.9,
          9.8,
          12,
          6.6,
          5.75,
          7.8999999999999995,
          7.75,
          5.55,
          5,
          9.8,
          6.9,
          8.75,
          5.5,
          13.5,
          10.966666666666667,
          14.5,
          7.55,
          8.016666666666667,
          11.1,
          8.18,
          8.033333333333333,
          9.059999999999999,
          9.133333333333333,
          6.808333333333334,
          6.028571428571429,
          8.433333333333334,
          10.966666666666667,
          7.720000000000001,
          6.633333333333333,
          8.025,
          10,
          9.366666666666667,
          5.7,
          9.166666666666666,
          7.066666666666666,
          8.95,
          5.866666666666667,
          4.7,
          5.875,
          4.366666666666666,
          5.633333333333333,
          6.033333333333334,
          9.1,
          6.366666666666667,
          4.5,
          4.5,
          6.449999999999999,
          4.9,
          4.05,
          5.15,
          4.7,
          6.6,
          4.3,
          6,
          7.133333333333333
         ],
         "yaxis": "y2"
        }
       ],
       "layout": {
        "legend": {
         "bordercolor": "lightgray",
         "borderwidth": 1,
         "x": 0.01,
         "y": 0.99
        },
        "template": {
         "data": {
          "bar": [
           {
            "error_x": {
             "color": "#2a3f5f"
            },
            "error_y": {
             "color": "#2a3f5f"
            },
            "marker": {
             "line": {
              "color": "white",
              "width": 0.5
             },
             "pattern": {
              "fillmode": "overlay",
              "size": 10,
              "solidity": 0.2
             }
            },
            "type": "bar"
           }
          ],
          "barpolar": [
           {
            "marker": {
             "line": {
              "color": "white",
              "width": 0.5
             },
             "pattern": {
              "fillmode": "overlay",
              "size": 10,
              "solidity": 0.2
             }
            },
            "type": "barpolar"
           }
          ],
          "carpet": [
           {
            "aaxis": {
             "endlinecolor": "#2a3f5f",
             "gridcolor": "#C8D4E3",
             "linecolor": "#C8D4E3",
             "minorgridcolor": "#C8D4E3",
             "startlinecolor": "#2a3f5f"
            },
            "baxis": {
             "endlinecolor": "#2a3f5f",
             "gridcolor": "#C8D4E3",
             "linecolor": "#C8D4E3",
             "minorgridcolor": "#C8D4E3",
             "startlinecolor": "#2a3f5f"
            },
            "type": "carpet"
           }
          ],
          "choropleth": [
           {
            "colorbar": {
             "outlinewidth": 0,
             "ticks": ""
            },
            "type": "choropleth"
           }
          ],
          "contour": [
           {
            "colorbar": {
             "outlinewidth": 0,
             "ticks": ""
            },
            "colorscale": [
             [
              0,
              "#0d0887"
             ],
             [
              0.1111111111111111,
              "#46039f"
             ],
             [
              0.2222222222222222,
              "#7201a8"
             ],
             [
              0.3333333333333333,
              "#9c179e"
             ],
             [
              0.4444444444444444,
              "#bd3786"
             ],
             [
              0.5555555555555556,
              "#d8576b"
             ],
             [
              0.6666666666666666,
              "#ed7953"
             ],
             [
              0.7777777777777778,
              "#fb9f3a"
             ],
             [
              0.8888888888888888,
              "#fdca26"
             ],
             [
              1,
              "#f0f921"
             ]
            ],
            "type": "contour"
           }
          ],
          "contourcarpet": [
           {
            "colorbar": {
             "outlinewidth": 0,
             "ticks": ""
            },
            "type": "contourcarpet"
           }
          ],
          "heatmap": [
           {
            "colorbar": {
             "outlinewidth": 0,
             "ticks": ""
            },
            "colorscale": [
             [
              0,
              "#0d0887"
             ],
             [
              0.1111111111111111,
              "#46039f"
             ],
             [
              0.2222222222222222,
              "#7201a8"
             ],
             [
              0.3333333333333333,
              "#9c179e"
             ],
             [
              0.4444444444444444,
              "#bd3786"
             ],
             [
              0.5555555555555556,
              "#d8576b"
             ],
             [
              0.6666666666666666,
              "#ed7953"
             ],
             [
              0.7777777777777778,
              "#fb9f3a"
             ],
             [
              0.8888888888888888,
              "#fdca26"
             ],
             [
              1,
              "#f0f921"
             ]
            ],
            "type": "heatmap"
           }
          ],
          "heatmapgl": [
           {
            "colorbar": {
             "outlinewidth": 0,
             "ticks": ""
            },
            "colorscale": [
             [
              0,
              "#0d0887"
             ],
             [
              0.1111111111111111,
              "#46039f"
             ],
             [
              0.2222222222222222,
              "#7201a8"
             ],
             [
              0.3333333333333333,
              "#9c179e"
             ],
             [
              0.4444444444444444,
              "#bd3786"
             ],
             [
              0.5555555555555556,
              "#d8576b"
             ],
             [
              0.6666666666666666,
              "#ed7953"
             ],
             [
              0.7777777777777778,
              "#fb9f3a"
             ],
             [
              0.8888888888888888,
              "#fdca26"
             ],
             [
              1,
              "#f0f921"
             ]
            ],
            "type": "heatmapgl"
           }
          ],
          "histogram": [
           {
            "marker": {
             "pattern": {
              "fillmode": "overlay",
              "size": 10,
              "solidity": 0.2
             }
            },
            "type": "histogram"
           }
          ],
          "histogram2d": [
           {
            "colorbar": {
             "outlinewidth": 0,
             "ticks": ""
            },
            "colorscale": [
             [
              0,
              "#0d0887"
             ],
             [
              0.1111111111111111,
              "#46039f"
             ],
             [
              0.2222222222222222,
              "#7201a8"
             ],
             [
              0.3333333333333333,
              "#9c179e"
             ],
             [
              0.4444444444444444,
              "#bd3786"
             ],
             [
              0.5555555555555556,
              "#d8576b"
             ],
             [
              0.6666666666666666,
              "#ed7953"
             ],
             [
              0.7777777777777778,
              "#fb9f3a"
             ],
             [
              0.8888888888888888,
              "#fdca26"
             ],
             [
              1,
              "#f0f921"
             ]
            ],
            "type": "histogram2d"
           }
          ],
          "histogram2dcontour": [
           {
            "colorbar": {
             "outlinewidth": 0,
             "ticks": ""
            },
            "colorscale": [
             [
              0,
              "#0d0887"
             ],
             [
              0.1111111111111111,
              "#46039f"
             ],
             [
              0.2222222222222222,
              "#7201a8"
             ],
             [
              0.3333333333333333,
              "#9c179e"
             ],
             [
              0.4444444444444444,
              "#bd3786"
             ],
             [
              0.5555555555555556,
              "#d8576b"
             ],
             [
              0.6666666666666666,
              "#ed7953"
             ],
             [
              0.7777777777777778,
              "#fb9f3a"
             ],
             [
              0.8888888888888888,
              "#fdca26"
             ],
             [
              1,
              "#f0f921"
             ]
            ],
            "type": "histogram2dcontour"
           }
          ],
          "mesh3d": [
           {
            "colorbar": {
             "outlinewidth": 0,
             "ticks": ""
            },
            "type": "mesh3d"
           }
          ],
          "parcoords": [
           {
            "line": {
             "colorbar": {
              "outlinewidth": 0,
              "ticks": ""
             }
            },
            "type": "parcoords"
           }
          ],
          "pie": [
           {
            "automargin": true,
            "type": "pie"
           }
          ],
          "scatter": [
           {
            "fillpattern": {
             "fillmode": "overlay",
             "size": 10,
             "solidity": 0.2
            },
            "type": "scatter"
           }
          ],
          "scatter3d": [
           {
            "line": {
             "colorbar": {
              "outlinewidth": 0,
              "ticks": ""
             }
            },
            "marker": {
             "colorbar": {
              "outlinewidth": 0,
              "ticks": ""
             }
            },
            "type": "scatter3d"
           }
          ],
          "scattercarpet": [
           {
            "marker": {
             "colorbar": {
              "outlinewidth": 0,
              "ticks": ""
             }
            },
            "type": "scattercarpet"
           }
          ],
          "scattergeo": [
           {
            "marker": {
             "colorbar": {
              "outlinewidth": 0,
              "ticks": ""
             }
            },
            "type": "scattergeo"
           }
          ],
          "scattergl": [
           {
            "marker": {
             "colorbar": {
              "outlinewidth": 0,
              "ticks": ""
             }
            },
            "type": "scattergl"
           }
          ],
          "scattermapbox": [
           {
            "marker": {
             "colorbar": {
              "outlinewidth": 0,
              "ticks": ""
             }
            },
            "type": "scattermapbox"
           }
          ],
          "scatterpolar": [
           {
            "marker": {
             "colorbar": {
              "outlinewidth": 0,
              "ticks": ""
             }
            },
            "type": "scatterpolar"
           }
          ],
          "scatterpolargl": [
           {
            "marker": {
             "colorbar": {
              "outlinewidth": 0,
              "ticks": ""
             }
            },
            "type": "scatterpolargl"
           }
          ],
          "scatterternary": [
           {
            "marker": {
             "colorbar": {
              "outlinewidth": 0,
              "ticks": ""
             }
            },
            "type": "scatterternary"
           }
          ],
          "surface": [
           {
            "colorbar": {
             "outlinewidth": 0,
             "ticks": ""
            },
            "colorscale": [
             [
              0,
              "#0d0887"
             ],
             [
              0.1111111111111111,
              "#46039f"
             ],
             [
              0.2222222222222222,
              "#7201a8"
             ],
             [
              0.3333333333333333,
              "#9c179e"
             ],
             [
              0.4444444444444444,
              "#bd3786"
             ],
             [
              0.5555555555555556,
              "#d8576b"
             ],
             [
              0.6666666666666666,
              "#ed7953"
             ],
             [
              0.7777777777777778,
              "#fb9f3a"
             ],
             [
              0.8888888888888888,
              "#fdca26"
             ],
             [
              1,
              "#f0f921"
             ]
            ],
            "type": "surface"
           }
          ],
          "table": [
           {
            "cells": {
             "fill": {
              "color": "#EBF0F8"
             },
             "line": {
              "color": "white"
             }
            },
            "header": {
             "fill": {
              "color": "#C8D4E3"
             },
             "line": {
              "color": "white"
             }
            },
            "type": "table"
           }
          ]
         },
         "layout": {
          "annotationdefaults": {
           "arrowcolor": "#2a3f5f",
           "arrowhead": 0,
           "arrowwidth": 1
          },
          "autotypenumbers": "strict",
          "coloraxis": {
           "colorbar": {
            "outlinewidth": 0,
            "ticks": ""
           }
          },
          "colorscale": {
           "diverging": [
            [
             0,
             "#8e0152"
            ],
            [
             0.1,
             "#c51b7d"
            ],
            [
             0.2,
             "#de77ae"
            ],
            [
             0.3,
             "#f1b6da"
            ],
            [
             0.4,
             "#fde0ef"
            ],
            [
             0.5,
             "#f7f7f7"
            ],
            [
             0.6,
             "#e6f5d0"
            ],
            [
             0.7,
             "#b8e186"
            ],
            [
             0.8,
             "#7fbc41"
            ],
            [
             0.9,
             "#4d9221"
            ],
            [
             1,
             "#276419"
            ]
           ],
           "sequential": [
            [
             0,
             "#0d0887"
            ],
            [
             0.1111111111111111,
             "#46039f"
            ],
            [
             0.2222222222222222,
             "#7201a8"
            ],
            [
             0.3333333333333333,
             "#9c179e"
            ],
            [
             0.4444444444444444,
             "#bd3786"
            ],
            [
             0.5555555555555556,
             "#d8576b"
            ],
            [
             0.6666666666666666,
             "#ed7953"
            ],
            [
             0.7777777777777778,
             "#fb9f3a"
            ],
            [
             0.8888888888888888,
             "#fdca26"
            ],
            [
             1,
             "#f0f921"
            ]
           ],
           "sequentialminus": [
            [
             0,
             "#0d0887"
            ],
            [
             0.1111111111111111,
             "#46039f"
            ],
            [
             0.2222222222222222,
             "#7201a8"
            ],
            [
             0.3333333333333333,
             "#9c179e"
            ],
            [
             0.4444444444444444,
             "#bd3786"
            ],
            [
             0.5555555555555556,
             "#d8576b"
            ],
            [
             0.6666666666666666,
             "#ed7953"
            ],
            [
             0.7777777777777778,
             "#fb9f3a"
            ],
            [
             0.8888888888888888,
             "#fdca26"
            ],
            [
             1,
             "#f0f921"
            ]
           ]
          },
          "colorway": [
           "#636efa",
           "#EF553B",
           "#00cc96",
           "#ab63fa",
           "#FFA15A",
           "#19d3f3",
           "#FF6692",
           "#B6E880",
           "#FF97FF",
           "#FECB52"
          ],
          "font": {
           "color": "#2a3f5f"
          },
          "geo": {
           "bgcolor": "white",
           "lakecolor": "white",
           "landcolor": "white",
           "showlakes": true,
           "showland": true,
           "subunitcolor": "#C8D4E3"
          },
          "hoverlabel": {
           "align": "left"
          },
          "hovermode": "closest",
          "mapbox": {
           "style": "light"
          },
          "paper_bgcolor": "white",
          "plot_bgcolor": "white",
          "polar": {
           "angularaxis": {
            "gridcolor": "#EBF0F8",
            "linecolor": "#EBF0F8",
            "ticks": ""
           },
           "bgcolor": "white",
           "radialaxis": {
            "gridcolor": "#EBF0F8",
            "linecolor": "#EBF0F8",
            "ticks": ""
           }
          },
          "scene": {
           "xaxis": {
            "backgroundcolor": "white",
            "gridcolor": "#DFE8F3",
            "gridwidth": 2,
            "linecolor": "#EBF0F8",
            "showbackground": true,
            "ticks": "",
            "zerolinecolor": "#EBF0F8"
           },
           "yaxis": {
            "backgroundcolor": "white",
            "gridcolor": "#DFE8F3",
            "gridwidth": 2,
            "linecolor": "#EBF0F8",
            "showbackground": true,
            "ticks": "",
            "zerolinecolor": "#EBF0F8"
           },
           "zaxis": {
            "backgroundcolor": "white",
            "gridcolor": "#DFE8F3",
            "gridwidth": 2,
            "linecolor": "#EBF0F8",
            "showbackground": true,
            "ticks": "",
            "zerolinecolor": "#EBF0F8"
           }
          },
          "shapedefaults": {
           "line": {
            "color": "#2a3f5f"
           }
          },
          "ternary": {
           "aaxis": {
            "gridcolor": "#DFE8F3",
            "linecolor": "#A2B1C6",
            "ticks": ""
           },
           "baxis": {
            "gridcolor": "#DFE8F3",
            "linecolor": "#A2B1C6",
            "ticks": ""
           },
           "bgcolor": "white",
           "caxis": {
            "gridcolor": "#DFE8F3",
            "linecolor": "#A2B1C6",
            "ticks": ""
           }
          },
          "title": {
           "x": 0.05
          },
          "xaxis": {
           "automargin": true,
           "gridcolor": "#EBF0F8",
           "linecolor": "#EBF0F8",
           "ticks": "",
           "title": {
            "standoff": 15
           },
           "zerolinecolor": "#EBF0F8",
           "zerolinewidth": 2
          },
          "yaxis": {
           "automargin": true,
           "gridcolor": "#EBF0F8",
           "linecolor": "#EBF0F8",
           "ticks": "",
           "title": {
            "standoff": 15
           },
           "zerolinecolor": "#EBF0F8",
           "zerolinewidth": 2
          }
         }
        },
        "title": {
         "text": "Weight vs Total SCFA Over Time (3-Month Interval Means)"
        },
        "xaxis": {
         "dtick": "M3",
         "tickformat": "%b %Y",
         "title": {
          "text": "Date"
         }
        },
        "yaxis": {
         "side": "left",
         "title": {
          "text": "Weight (lbs)"
         }
        },
        "yaxis2": {
         "overlaying": "y",
         "side": "right",
         "title": {
          "text": "Total SCFA (mg/mL)"
         }
        }
       }
      }
     },
     "metadata": {},
     "output_type": "display_data"
    },
    {
     "data": {
      "application/vnd.plotly.v1+json": {
       "config": {
        "plotlyServerURL": "https://plot.ly"
       },
       "data": [
        {
         "line": {
          "color": "black",
          "width": 3
         },
         "mode": "lines+markers",
         "name": "Weight (lbs)",
         "type": "scatter",
         "x": [
          "2008-09-30T00:00:00",
          "2009-03-31T00:00:00",
          "2009-09-30T00:00:00",
          "2010-09-30T00:00:00",
          "2011-03-31T00:00:00",
          "2011-09-30T00:00:00",
          "2012-03-31T00:00:00",
          "2012-09-30T00:00:00",
          "2013-03-31T00:00:00",
          "2013-09-30T00:00:00",
          "2014-03-31T00:00:00",
          "2014-09-30T00:00:00",
          "2015-03-31T00:00:00",
          "2015-09-30T00:00:00",
          "2016-03-31T00:00:00",
          "2016-09-30T00:00:00",
          "2017-03-31T00:00:00",
          "2017-09-30T00:00:00",
          "2018-03-31T00:00:00",
          "2018-09-30T00:00:00",
          "2019-03-31T00:00:00",
          "2019-09-30T00:00:00",
          "2020-03-31T00:00:00",
          "2020-09-30T00:00:00",
          "2021-03-31T00:00:00",
          "2021-09-30T00:00:00",
          "2022-03-31T00:00:00",
          "2022-09-30T00:00:00",
          "2023-03-31T00:00:00",
          "2023-09-30T00:00:00",
          "2024-03-31T00:00:00",
          "2024-09-30T00:00:00",
          "2025-03-31T00:00:00"
         ],
         "y": [
          183,
          183.5,
          183.7,
          180.5,
          182.1,
          182.7,
          184.75,
          186.6,
          183.66666666666666,
          183.725,
          185.25,
          190.78,
          192.725,
          191.04000000000002,
          191.8,
          193.3090909090909,
          193.8842105263158,
          195.0111111111111,
          190.43636363636367,
          189.15,
          185.32,
          183.48333333333335,
          187.5,
          183.29999999999998,
          172.73333333333335,
          173.375,
          170.42000000000002,
          171.73333333333335,
          175.5,
          177.2,
          175.18571428571428,
          178.4333333333333,
          178.075
         ]
        },
        {
         "line": {
          "color": "blue",
          "width": 2
         },
         "mode": "lines+markers",
         "name": "Total SCFA (mg/mL)",
         "type": "scatter",
         "x": [
          "2008-09-30T00:00:00",
          "2009-03-31T00:00:00",
          "2009-09-30T00:00:00",
          "2010-09-30T00:00:00",
          "2011-03-31T00:00:00",
          "2011-09-30T00:00:00",
          "2012-03-31T00:00:00",
          "2012-09-30T00:00:00",
          "2013-03-31T00:00:00",
          "2013-09-30T00:00:00",
          "2014-03-31T00:00:00",
          "2014-09-30T00:00:00",
          "2015-03-31T00:00:00",
          "2015-09-30T00:00:00",
          "2016-03-31T00:00:00",
          "2016-09-30T00:00:00",
          "2017-03-31T00:00:00",
          "2017-09-30T00:00:00",
          "2018-03-31T00:00:00",
          "2018-09-30T00:00:00",
          "2019-03-31T00:00:00",
          "2019-09-30T00:00:00",
          "2020-03-31T00:00:00",
          "2020-09-30T00:00:00",
          "2021-03-31T00:00:00",
          "2021-09-30T00:00:00",
          "2022-03-31T00:00:00",
          "2022-09-30T00:00:00",
          "2023-03-31T00:00:00",
          "2023-09-30T00:00:00",
          "2024-03-31T00:00:00",
          "2024-09-30T00:00:00",
          "2025-03-31T00:00:00"
         ],
         "y": [
          3.5,
          4.2,
          8.8,
          13,
          6.25,
          10.9,
          6.175,
          7.840000000000001,
          5.366666666666667,
          8.35,
          7.125,
          11.98,
          9.2875,
          9.25,
          8.100000000000001,
          9.1,
          6.521052631578947,
          9.277777777777779,
          7.127272727272726,
          9.0125,
          7.9,
          8.116666666666667,
          7.1,
          5.371428571428572,
          5,
          6.8,
          5.62,
          5.8,
          4.475,
          5.15,
          4.971428571428571,
          4.3,
          6.85
         ],
         "yaxis": "y2"
        }
       ],
       "layout": {
        "legend": {
         "bordercolor": "lightgray",
         "borderwidth": 1,
         "x": 0.01,
         "y": 0.99
        },
        "template": {
         "data": {
          "bar": [
           {
            "error_x": {
             "color": "#2a3f5f"
            },
            "error_y": {
             "color": "#2a3f5f"
            },
            "marker": {
             "line": {
              "color": "white",
              "width": 0.5
             },
             "pattern": {
              "fillmode": "overlay",
              "size": 10,
              "solidity": 0.2
             }
            },
            "type": "bar"
           }
          ],
          "barpolar": [
           {
            "marker": {
             "line": {
              "color": "white",
              "width": 0.5
             },
             "pattern": {
              "fillmode": "overlay",
              "size": 10,
              "solidity": 0.2
             }
            },
            "type": "barpolar"
           }
          ],
          "carpet": [
           {
            "aaxis": {
             "endlinecolor": "#2a3f5f",
             "gridcolor": "#C8D4E3",
             "linecolor": "#C8D4E3",
             "minorgridcolor": "#C8D4E3",
             "startlinecolor": "#2a3f5f"
            },
            "baxis": {
             "endlinecolor": "#2a3f5f",
             "gridcolor": "#C8D4E3",
             "linecolor": "#C8D4E3",
             "minorgridcolor": "#C8D4E3",
             "startlinecolor": "#2a3f5f"
            },
            "type": "carpet"
           }
          ],
          "choropleth": [
           {
            "colorbar": {
             "outlinewidth": 0,
             "ticks": ""
            },
            "type": "choropleth"
           }
          ],
          "contour": [
           {
            "colorbar": {
             "outlinewidth": 0,
             "ticks": ""
            },
            "colorscale": [
             [
              0,
              "#0d0887"
             ],
             [
              0.1111111111111111,
              "#46039f"
             ],
             [
              0.2222222222222222,
              "#7201a8"
             ],
             [
              0.3333333333333333,
              "#9c179e"
             ],
             [
              0.4444444444444444,
              "#bd3786"
             ],
             [
              0.5555555555555556,
              "#d8576b"
             ],
             [
              0.6666666666666666,
              "#ed7953"
             ],
             [
              0.7777777777777778,
              "#fb9f3a"
             ],
             [
              0.8888888888888888,
              "#fdca26"
             ],
             [
              1,
              "#f0f921"
             ]
            ],
            "type": "contour"
           }
          ],
          "contourcarpet": [
           {
            "colorbar": {
             "outlinewidth": 0,
             "ticks": ""
            },
            "type": "contourcarpet"
           }
          ],
          "heatmap": [
           {
            "colorbar": {
             "outlinewidth": 0,
             "ticks": ""
            },
            "colorscale": [
             [
              0,
              "#0d0887"
             ],
             [
              0.1111111111111111,
              "#46039f"
             ],
             [
              0.2222222222222222,
              "#7201a8"
             ],
             [
              0.3333333333333333,
              "#9c179e"
             ],
             [
              0.4444444444444444,
              "#bd3786"
             ],
             [
              0.5555555555555556,
              "#d8576b"
             ],
             [
              0.6666666666666666,
              "#ed7953"
             ],
             [
              0.7777777777777778,
              "#fb9f3a"
             ],
             [
              0.8888888888888888,
              "#fdca26"
             ],
             [
              1,
              "#f0f921"
             ]
            ],
            "type": "heatmap"
           }
          ],
          "heatmapgl": [
           {
            "colorbar": {
             "outlinewidth": 0,
             "ticks": ""
            },
            "colorscale": [
             [
              0,
              "#0d0887"
             ],
             [
              0.1111111111111111,
              "#46039f"
             ],
             [
              0.2222222222222222,
              "#7201a8"
             ],
             [
              0.3333333333333333,
              "#9c179e"
             ],
             [
              0.4444444444444444,
              "#bd3786"
             ],
             [
              0.5555555555555556,
              "#d8576b"
             ],
             [
              0.6666666666666666,
              "#ed7953"
             ],
             [
              0.7777777777777778,
              "#fb9f3a"
             ],
             [
              0.8888888888888888,
              "#fdca26"
             ],
             [
              1,
              "#f0f921"
             ]
            ],
            "type": "heatmapgl"
           }
          ],
          "histogram": [
           {
            "marker": {
             "pattern": {
              "fillmode": "overlay",
              "size": 10,
              "solidity": 0.2
             }
            },
            "type": "histogram"
           }
          ],
          "histogram2d": [
           {
            "colorbar": {
             "outlinewidth": 0,
             "ticks": ""
            },
            "colorscale": [
             [
              0,
              "#0d0887"
             ],
             [
              0.1111111111111111,
              "#46039f"
             ],
             [
              0.2222222222222222,
              "#7201a8"
             ],
             [
              0.3333333333333333,
              "#9c179e"
             ],
             [
              0.4444444444444444,
              "#bd3786"
             ],
             [
              0.5555555555555556,
              "#d8576b"
             ],
             [
              0.6666666666666666,
              "#ed7953"
             ],
             [
              0.7777777777777778,
              "#fb9f3a"
             ],
             [
              0.8888888888888888,
              "#fdca26"
             ],
             [
              1,
              "#f0f921"
             ]
            ],
            "type": "histogram2d"
           }
          ],
          "histogram2dcontour": [
           {
            "colorbar": {
             "outlinewidth": 0,
             "ticks": ""
            },
            "colorscale": [
             [
              0,
              "#0d0887"
             ],
             [
              0.1111111111111111,
              "#46039f"
             ],
             [
              0.2222222222222222,
              "#7201a8"
             ],
             [
              0.3333333333333333,
              "#9c179e"
             ],
             [
              0.4444444444444444,
              "#bd3786"
             ],
             [
              0.5555555555555556,
              "#d8576b"
             ],
             [
              0.6666666666666666,
              "#ed7953"
             ],
             [
              0.7777777777777778,
              "#fb9f3a"
             ],
             [
              0.8888888888888888,
              "#fdca26"
             ],
             [
              1,
              "#f0f921"
             ]
            ],
            "type": "histogram2dcontour"
           }
          ],
          "mesh3d": [
           {
            "colorbar": {
             "outlinewidth": 0,
             "ticks": ""
            },
            "type": "mesh3d"
           }
          ],
          "parcoords": [
           {
            "line": {
             "colorbar": {
              "outlinewidth": 0,
              "ticks": ""
             }
            },
            "type": "parcoords"
           }
          ],
          "pie": [
           {
            "automargin": true,
            "type": "pie"
           }
          ],
          "scatter": [
           {
            "fillpattern": {
             "fillmode": "overlay",
             "size": 10,
             "solidity": 0.2
            },
            "type": "scatter"
           }
          ],
          "scatter3d": [
           {
            "line": {
             "colorbar": {
              "outlinewidth": 0,
              "ticks": ""
             }
            },
            "marker": {
             "colorbar": {
              "outlinewidth": 0,
              "ticks": ""
             }
            },
            "type": "scatter3d"
           }
          ],
          "scattercarpet": [
           {
            "marker": {
             "colorbar": {
              "outlinewidth": 0,
              "ticks": ""
             }
            },
            "type": "scattercarpet"
           }
          ],
          "scattergeo": [
           {
            "marker": {
             "colorbar": {
              "outlinewidth": 0,
              "ticks": ""
             }
            },
            "type": "scattergeo"
           }
          ],
          "scattergl": [
           {
            "marker": {
             "colorbar": {
              "outlinewidth": 0,
              "ticks": ""
             }
            },
            "type": "scattergl"
           }
          ],
          "scattermapbox": [
           {
            "marker": {
             "colorbar": {
              "outlinewidth": 0,
              "ticks": ""
             }
            },
            "type": "scattermapbox"
           }
          ],
          "scatterpolar": [
           {
            "marker": {
             "colorbar": {
              "outlinewidth": 0,
              "ticks": ""
             }
            },
            "type": "scatterpolar"
           }
          ],
          "scatterpolargl": [
           {
            "marker": {
             "colorbar": {
              "outlinewidth": 0,
              "ticks": ""
             }
            },
            "type": "scatterpolargl"
           }
          ],
          "scatterternary": [
           {
            "marker": {
             "colorbar": {
              "outlinewidth": 0,
              "ticks": ""
             }
            },
            "type": "scatterternary"
           }
          ],
          "surface": [
           {
            "colorbar": {
             "outlinewidth": 0,
             "ticks": ""
            },
            "colorscale": [
             [
              0,
              "#0d0887"
             ],
             [
              0.1111111111111111,
              "#46039f"
             ],
             [
              0.2222222222222222,
              "#7201a8"
             ],
             [
              0.3333333333333333,
              "#9c179e"
             ],
             [
              0.4444444444444444,
              "#bd3786"
             ],
             [
              0.5555555555555556,
              "#d8576b"
             ],
             [
              0.6666666666666666,
              "#ed7953"
             ],
             [
              0.7777777777777778,
              "#fb9f3a"
             ],
             [
              0.8888888888888888,
              "#fdca26"
             ],
             [
              1,
              "#f0f921"
             ]
            ],
            "type": "surface"
           }
          ],
          "table": [
           {
            "cells": {
             "fill": {
              "color": "#EBF0F8"
             },
             "line": {
              "color": "white"
             }
            },
            "header": {
             "fill": {
              "color": "#C8D4E3"
             },
             "line": {
              "color": "white"
             }
            },
            "type": "table"
           }
          ]
         },
         "layout": {
          "annotationdefaults": {
           "arrowcolor": "#2a3f5f",
           "arrowhead": 0,
           "arrowwidth": 1
          },
          "autotypenumbers": "strict",
          "coloraxis": {
           "colorbar": {
            "outlinewidth": 0,
            "ticks": ""
           }
          },
          "colorscale": {
           "diverging": [
            [
             0,
             "#8e0152"
            ],
            [
             0.1,
             "#c51b7d"
            ],
            [
             0.2,
             "#de77ae"
            ],
            [
             0.3,
             "#f1b6da"
            ],
            [
             0.4,
             "#fde0ef"
            ],
            [
             0.5,
             "#f7f7f7"
            ],
            [
             0.6,
             "#e6f5d0"
            ],
            [
             0.7,
             "#b8e186"
            ],
            [
             0.8,
             "#7fbc41"
            ],
            [
             0.9,
             "#4d9221"
            ],
            [
             1,
             "#276419"
            ]
           ],
           "sequential": [
            [
             0,
             "#0d0887"
            ],
            [
             0.1111111111111111,
             "#46039f"
            ],
            [
             0.2222222222222222,
             "#7201a8"
            ],
            [
             0.3333333333333333,
             "#9c179e"
            ],
            [
             0.4444444444444444,
             "#bd3786"
            ],
            [
             0.5555555555555556,
             "#d8576b"
            ],
            [
             0.6666666666666666,
             "#ed7953"
            ],
            [
             0.7777777777777778,
             "#fb9f3a"
            ],
            [
             0.8888888888888888,
             "#fdca26"
            ],
            [
             1,
             "#f0f921"
            ]
           ],
           "sequentialminus": [
            [
             0,
             "#0d0887"
            ],
            [
             0.1111111111111111,
             "#46039f"
            ],
            [
             0.2222222222222222,
             "#7201a8"
            ],
            [
             0.3333333333333333,
             "#9c179e"
            ],
            [
             0.4444444444444444,
             "#bd3786"
            ],
            [
             0.5555555555555556,
             "#d8576b"
            ],
            [
             0.6666666666666666,
             "#ed7953"
            ],
            [
             0.7777777777777778,
             "#fb9f3a"
            ],
            [
             0.8888888888888888,
             "#fdca26"
            ],
            [
             1,
             "#f0f921"
            ]
           ]
          },
          "colorway": [
           "#636efa",
           "#EF553B",
           "#00cc96",
           "#ab63fa",
           "#FFA15A",
           "#19d3f3",
           "#FF6692",
           "#B6E880",
           "#FF97FF",
           "#FECB52"
          ],
          "font": {
           "color": "#2a3f5f"
          },
          "geo": {
           "bgcolor": "white",
           "lakecolor": "white",
           "landcolor": "white",
           "showlakes": true,
           "showland": true,
           "subunitcolor": "#C8D4E3"
          },
          "hoverlabel": {
           "align": "left"
          },
          "hovermode": "closest",
          "mapbox": {
           "style": "light"
          },
          "paper_bgcolor": "white",
          "plot_bgcolor": "white",
          "polar": {
           "angularaxis": {
            "gridcolor": "#EBF0F8",
            "linecolor": "#EBF0F8",
            "ticks": ""
           },
           "bgcolor": "white",
           "radialaxis": {
            "gridcolor": "#EBF0F8",
            "linecolor": "#EBF0F8",
            "ticks": ""
           }
          },
          "scene": {
           "xaxis": {
            "backgroundcolor": "white",
            "gridcolor": "#DFE8F3",
            "gridwidth": 2,
            "linecolor": "#EBF0F8",
            "showbackground": true,
            "ticks": "",
            "zerolinecolor": "#EBF0F8"
           },
           "yaxis": {
            "backgroundcolor": "white",
            "gridcolor": "#DFE8F3",
            "gridwidth": 2,
            "linecolor": "#EBF0F8",
            "showbackground": true,
            "ticks": "",
            "zerolinecolor": "#EBF0F8"
           },
           "zaxis": {
            "backgroundcolor": "white",
            "gridcolor": "#DFE8F3",
            "gridwidth": 2,
            "linecolor": "#EBF0F8",
            "showbackground": true,
            "ticks": "",
            "zerolinecolor": "#EBF0F8"
           }
          },
          "shapedefaults": {
           "line": {
            "color": "#2a3f5f"
           }
          },
          "ternary": {
           "aaxis": {
            "gridcolor": "#DFE8F3",
            "linecolor": "#A2B1C6",
            "ticks": ""
           },
           "baxis": {
            "gridcolor": "#DFE8F3",
            "linecolor": "#A2B1C6",
            "ticks": ""
           },
           "bgcolor": "white",
           "caxis": {
            "gridcolor": "#DFE8F3",
            "linecolor": "#A2B1C6",
            "ticks": ""
           }
          },
          "title": {
           "x": 0.05
          },
          "xaxis": {
           "automargin": true,
           "gridcolor": "#EBF0F8",
           "linecolor": "#EBF0F8",
           "ticks": "",
           "title": {
            "standoff": 15
           },
           "zerolinecolor": "#EBF0F8",
           "zerolinewidth": 2
          },
          "yaxis": {
           "automargin": true,
           "gridcolor": "#EBF0F8",
           "linecolor": "#EBF0F8",
           "ticks": "",
           "title": {
            "standoff": 15
           },
           "zerolinecolor": "#EBF0F8",
           "zerolinewidth": 2
          }
         }
        },
        "title": {
         "text": "Weight vs Total SCFA Over Time (6-Month Interval Means)"
        },
        "xaxis": {
         "dtick": "M3",
         "tickformat": "%b %Y",
         "title": {
          "text": "Date"
         }
        },
        "yaxis": {
         "side": "left",
         "title": {
          "text": "Weight (lbs)"
         }
        },
        "yaxis2": {
         "overlaying": "y",
         "side": "right",
         "title": {
          "text": "Total SCFA (mg/mL)"
         }
        }
       }
      }
     },
     "metadata": {},
     "output_type": "display_data"
    },
    {
     "data": {
      "application/vnd.plotly.v1+json": {
       "config": {
        "plotlyServerURL": "https://plot.ly"
       },
       "data": [
        {
         "line": {
          "color": "black",
          "width": 3
         },
         "mode": "lines+markers",
         "name": "Weight (lbs)",
         "type": "scatter",
         "x": [
          "2008-09-30T00:00:00",
          "2009-09-30T00:00:00",
          "2010-09-30T00:00:00",
          "2011-09-30T00:00:00",
          "2012-09-30T00:00:00",
          "2013-09-30T00:00:00",
          "2014-09-30T00:00:00",
          "2015-09-30T00:00:00",
          "2016-09-30T00:00:00",
          "2017-09-30T00:00:00",
          "2018-09-30T00:00:00",
          "2019-09-30T00:00:00",
          "2020-09-30T00:00:00",
          "2021-09-30T00:00:00",
          "2022-09-30T00:00:00",
          "2023-09-30T00:00:00",
          "2024-09-30T00:00:00",
          "2025-09-30T00:00:00"
         ],
         "y": [
          183,
          183.63333333333333,
          180.5,
          182.5,
          185.77777777777777,
          183.70000000000002,
          188.32222222222222,
          191.7888888888889,
          192.55454545454543,
          194.24642857142857,
          189.89473684210526,
          184.3181818181818,
          185.04999999999998,
          172.99,
          170.9125,
          176.0666666666667,
          176.16,
          178.075
         ]
        },
        {
         "line": {
          "color": "blue",
          "width": 2
         },
         "mode": "lines+markers",
         "name": "Total SCFA (mg/mL)",
         "type": "scatter",
         "x": [
          "2008-09-30T00:00:00",
          "2009-09-30T00:00:00",
          "2010-09-30T00:00:00",
          "2011-09-30T00:00:00",
          "2012-09-30T00:00:00",
          "2013-09-30T00:00:00",
          "2014-09-30T00:00:00",
          "2015-09-30T00:00:00",
          "2016-09-30T00:00:00",
          "2017-09-30T00:00:00",
          "2018-09-30T00:00:00",
          "2019-09-30T00:00:00",
          "2020-09-30T00:00:00",
          "2021-09-30T00:00:00",
          "2022-09-30T00:00:00",
          "2023-09-30T00:00:00",
          "2024-09-30T00:00:00",
          "2025-09-30T00:00:00"
         ],
         "y": [
          3.5,
          7.266666666666667,
          13,
          9.35,
          7.1,
          7.071428571428571,
          9.822222222222223,
          9.266666666666667,
          8.6,
          7.4071428571428575,
          7.921052631578948,
          8.018181818181818,
          6.091666666666666,
          5.720000000000001,
          5.6875,
          4.7,
          4.7700000000000005,
          6.85
         ],
         "yaxis": "y2"
        }
       ],
       "layout": {
        "legend": {
         "bordercolor": "lightgray",
         "borderwidth": 1,
         "x": 0.01,
         "y": 0.99
        },
        "template": {
         "data": {
          "bar": [
           {
            "error_x": {
             "color": "#2a3f5f"
            },
            "error_y": {
             "color": "#2a3f5f"
            },
            "marker": {
             "line": {
              "color": "white",
              "width": 0.5
             },
             "pattern": {
              "fillmode": "overlay",
              "size": 10,
              "solidity": 0.2
             }
            },
            "type": "bar"
           }
          ],
          "barpolar": [
           {
            "marker": {
             "line": {
              "color": "white",
              "width": 0.5
             },
             "pattern": {
              "fillmode": "overlay",
              "size": 10,
              "solidity": 0.2
             }
            },
            "type": "barpolar"
           }
          ],
          "carpet": [
           {
            "aaxis": {
             "endlinecolor": "#2a3f5f",
             "gridcolor": "#C8D4E3",
             "linecolor": "#C8D4E3",
             "minorgridcolor": "#C8D4E3",
             "startlinecolor": "#2a3f5f"
            },
            "baxis": {
             "endlinecolor": "#2a3f5f",
             "gridcolor": "#C8D4E3",
             "linecolor": "#C8D4E3",
             "minorgridcolor": "#C8D4E3",
             "startlinecolor": "#2a3f5f"
            },
            "type": "carpet"
           }
          ],
          "choropleth": [
           {
            "colorbar": {
             "outlinewidth": 0,
             "ticks": ""
            },
            "type": "choropleth"
           }
          ],
          "contour": [
           {
            "colorbar": {
             "outlinewidth": 0,
             "ticks": ""
            },
            "colorscale": [
             [
              0,
              "#0d0887"
             ],
             [
              0.1111111111111111,
              "#46039f"
             ],
             [
              0.2222222222222222,
              "#7201a8"
             ],
             [
              0.3333333333333333,
              "#9c179e"
             ],
             [
              0.4444444444444444,
              "#bd3786"
             ],
             [
              0.5555555555555556,
              "#d8576b"
             ],
             [
              0.6666666666666666,
              "#ed7953"
             ],
             [
              0.7777777777777778,
              "#fb9f3a"
             ],
             [
              0.8888888888888888,
              "#fdca26"
             ],
             [
              1,
              "#f0f921"
             ]
            ],
            "type": "contour"
           }
          ],
          "contourcarpet": [
           {
            "colorbar": {
             "outlinewidth": 0,
             "ticks": ""
            },
            "type": "contourcarpet"
           }
          ],
          "heatmap": [
           {
            "colorbar": {
             "outlinewidth": 0,
             "ticks": ""
            },
            "colorscale": [
             [
              0,
              "#0d0887"
             ],
             [
              0.1111111111111111,
              "#46039f"
             ],
             [
              0.2222222222222222,
              "#7201a8"
             ],
             [
              0.3333333333333333,
              "#9c179e"
             ],
             [
              0.4444444444444444,
              "#bd3786"
             ],
             [
              0.5555555555555556,
              "#d8576b"
             ],
             [
              0.6666666666666666,
              "#ed7953"
             ],
             [
              0.7777777777777778,
              "#fb9f3a"
             ],
             [
              0.8888888888888888,
              "#fdca26"
             ],
             [
              1,
              "#f0f921"
             ]
            ],
            "type": "heatmap"
           }
          ],
          "heatmapgl": [
           {
            "colorbar": {
             "outlinewidth": 0,
             "ticks": ""
            },
            "colorscale": [
             [
              0,
              "#0d0887"
             ],
             [
              0.1111111111111111,
              "#46039f"
             ],
             [
              0.2222222222222222,
              "#7201a8"
             ],
             [
              0.3333333333333333,
              "#9c179e"
             ],
             [
              0.4444444444444444,
              "#bd3786"
             ],
             [
              0.5555555555555556,
              "#d8576b"
             ],
             [
              0.6666666666666666,
              "#ed7953"
             ],
             [
              0.7777777777777778,
              "#fb9f3a"
             ],
             [
              0.8888888888888888,
              "#fdca26"
             ],
             [
              1,
              "#f0f921"
             ]
            ],
            "type": "heatmapgl"
           }
          ],
          "histogram": [
           {
            "marker": {
             "pattern": {
              "fillmode": "overlay",
              "size": 10,
              "solidity": 0.2
             }
            },
            "type": "histogram"
           }
          ],
          "histogram2d": [
           {
            "colorbar": {
             "outlinewidth": 0,
             "ticks": ""
            },
            "colorscale": [
             [
              0,
              "#0d0887"
             ],
             [
              0.1111111111111111,
              "#46039f"
             ],
             [
              0.2222222222222222,
              "#7201a8"
             ],
             [
              0.3333333333333333,
              "#9c179e"
             ],
             [
              0.4444444444444444,
              "#bd3786"
             ],
             [
              0.5555555555555556,
              "#d8576b"
             ],
             [
              0.6666666666666666,
              "#ed7953"
             ],
             [
              0.7777777777777778,
              "#fb9f3a"
             ],
             [
              0.8888888888888888,
              "#fdca26"
             ],
             [
              1,
              "#f0f921"
             ]
            ],
            "type": "histogram2d"
           }
          ],
          "histogram2dcontour": [
           {
            "colorbar": {
             "outlinewidth": 0,
             "ticks": ""
            },
            "colorscale": [
             [
              0,
              "#0d0887"
             ],
             [
              0.1111111111111111,
              "#46039f"
             ],
             [
              0.2222222222222222,
              "#7201a8"
             ],
             [
              0.3333333333333333,
              "#9c179e"
             ],
             [
              0.4444444444444444,
              "#bd3786"
             ],
             [
              0.5555555555555556,
              "#d8576b"
             ],
             [
              0.6666666666666666,
              "#ed7953"
             ],
             [
              0.7777777777777778,
              "#fb9f3a"
             ],
             [
              0.8888888888888888,
              "#fdca26"
             ],
             [
              1,
              "#f0f921"
             ]
            ],
            "type": "histogram2dcontour"
           }
          ],
          "mesh3d": [
           {
            "colorbar": {
             "outlinewidth": 0,
             "ticks": ""
            },
            "type": "mesh3d"
           }
          ],
          "parcoords": [
           {
            "line": {
             "colorbar": {
              "outlinewidth": 0,
              "ticks": ""
             }
            },
            "type": "parcoords"
           }
          ],
          "pie": [
           {
            "automargin": true,
            "type": "pie"
           }
          ],
          "scatter": [
           {
            "fillpattern": {
             "fillmode": "overlay",
             "size": 10,
             "solidity": 0.2
            },
            "type": "scatter"
           }
          ],
          "scatter3d": [
           {
            "line": {
             "colorbar": {
              "outlinewidth": 0,
              "ticks": ""
             }
            },
            "marker": {
             "colorbar": {
              "outlinewidth": 0,
              "ticks": ""
             }
            },
            "type": "scatter3d"
           }
          ],
          "scattercarpet": [
           {
            "marker": {
             "colorbar": {
              "outlinewidth": 0,
              "ticks": ""
             }
            },
            "type": "scattercarpet"
           }
          ],
          "scattergeo": [
           {
            "marker": {
             "colorbar": {
              "outlinewidth": 0,
              "ticks": ""
             }
            },
            "type": "scattergeo"
           }
          ],
          "scattergl": [
           {
            "marker": {
             "colorbar": {
              "outlinewidth": 0,
              "ticks": ""
             }
            },
            "type": "scattergl"
           }
          ],
          "scattermapbox": [
           {
            "marker": {
             "colorbar": {
              "outlinewidth": 0,
              "ticks": ""
             }
            },
            "type": "scattermapbox"
           }
          ],
          "scatterpolar": [
           {
            "marker": {
             "colorbar": {
              "outlinewidth": 0,
              "ticks": ""
             }
            },
            "type": "scatterpolar"
           }
          ],
          "scatterpolargl": [
           {
            "marker": {
             "colorbar": {
              "outlinewidth": 0,
              "ticks": ""
             }
            },
            "type": "scatterpolargl"
           }
          ],
          "scatterternary": [
           {
            "marker": {
             "colorbar": {
              "outlinewidth": 0,
              "ticks": ""
             }
            },
            "type": "scatterternary"
           }
          ],
          "surface": [
           {
            "colorbar": {
             "outlinewidth": 0,
             "ticks": ""
            },
            "colorscale": [
             [
              0,
              "#0d0887"
             ],
             [
              0.1111111111111111,
              "#46039f"
             ],
             [
              0.2222222222222222,
              "#7201a8"
             ],
             [
              0.3333333333333333,
              "#9c179e"
             ],
             [
              0.4444444444444444,
              "#bd3786"
             ],
             [
              0.5555555555555556,
              "#d8576b"
             ],
             [
              0.6666666666666666,
              "#ed7953"
             ],
             [
              0.7777777777777778,
              "#fb9f3a"
             ],
             [
              0.8888888888888888,
              "#fdca26"
             ],
             [
              1,
              "#f0f921"
             ]
            ],
            "type": "surface"
           }
          ],
          "table": [
           {
            "cells": {
             "fill": {
              "color": "#EBF0F8"
             },
             "line": {
              "color": "white"
             }
            },
            "header": {
             "fill": {
              "color": "#C8D4E3"
             },
             "line": {
              "color": "white"
             }
            },
            "type": "table"
           }
          ]
         },
         "layout": {
          "annotationdefaults": {
           "arrowcolor": "#2a3f5f",
           "arrowhead": 0,
           "arrowwidth": 1
          },
          "autotypenumbers": "strict",
          "coloraxis": {
           "colorbar": {
            "outlinewidth": 0,
            "ticks": ""
           }
          },
          "colorscale": {
           "diverging": [
            [
             0,
             "#8e0152"
            ],
            [
             0.1,
             "#c51b7d"
            ],
            [
             0.2,
             "#de77ae"
            ],
            [
             0.3,
             "#f1b6da"
            ],
            [
             0.4,
             "#fde0ef"
            ],
            [
             0.5,
             "#f7f7f7"
            ],
            [
             0.6,
             "#e6f5d0"
            ],
            [
             0.7,
             "#b8e186"
            ],
            [
             0.8,
             "#7fbc41"
            ],
            [
             0.9,
             "#4d9221"
            ],
            [
             1,
             "#276419"
            ]
           ],
           "sequential": [
            [
             0,
             "#0d0887"
            ],
            [
             0.1111111111111111,
             "#46039f"
            ],
            [
             0.2222222222222222,
             "#7201a8"
            ],
            [
             0.3333333333333333,
             "#9c179e"
            ],
            [
             0.4444444444444444,
             "#bd3786"
            ],
            [
             0.5555555555555556,
             "#d8576b"
            ],
            [
             0.6666666666666666,
             "#ed7953"
            ],
            [
             0.7777777777777778,
             "#fb9f3a"
            ],
            [
             0.8888888888888888,
             "#fdca26"
            ],
            [
             1,
             "#f0f921"
            ]
           ],
           "sequentialminus": [
            [
             0,
             "#0d0887"
            ],
            [
             0.1111111111111111,
             "#46039f"
            ],
            [
             0.2222222222222222,
             "#7201a8"
            ],
            [
             0.3333333333333333,
             "#9c179e"
            ],
            [
             0.4444444444444444,
             "#bd3786"
            ],
            [
             0.5555555555555556,
             "#d8576b"
            ],
            [
             0.6666666666666666,
             "#ed7953"
            ],
            [
             0.7777777777777778,
             "#fb9f3a"
            ],
            [
             0.8888888888888888,
             "#fdca26"
            ],
            [
             1,
             "#f0f921"
            ]
           ]
          },
          "colorway": [
           "#636efa",
           "#EF553B",
           "#00cc96",
           "#ab63fa",
           "#FFA15A",
           "#19d3f3",
           "#FF6692",
           "#B6E880",
           "#FF97FF",
           "#FECB52"
          ],
          "font": {
           "color": "#2a3f5f"
          },
          "geo": {
           "bgcolor": "white",
           "lakecolor": "white",
           "landcolor": "white",
           "showlakes": true,
           "showland": true,
           "subunitcolor": "#C8D4E3"
          },
          "hoverlabel": {
           "align": "left"
          },
          "hovermode": "closest",
          "mapbox": {
           "style": "light"
          },
          "paper_bgcolor": "white",
          "plot_bgcolor": "white",
          "polar": {
           "angularaxis": {
            "gridcolor": "#EBF0F8",
            "linecolor": "#EBF0F8",
            "ticks": ""
           },
           "bgcolor": "white",
           "radialaxis": {
            "gridcolor": "#EBF0F8",
            "linecolor": "#EBF0F8",
            "ticks": ""
           }
          },
          "scene": {
           "xaxis": {
            "backgroundcolor": "white",
            "gridcolor": "#DFE8F3",
            "gridwidth": 2,
            "linecolor": "#EBF0F8",
            "showbackground": true,
            "ticks": "",
            "zerolinecolor": "#EBF0F8"
           },
           "yaxis": {
            "backgroundcolor": "white",
            "gridcolor": "#DFE8F3",
            "gridwidth": 2,
            "linecolor": "#EBF0F8",
            "showbackground": true,
            "ticks": "",
            "zerolinecolor": "#EBF0F8"
           },
           "zaxis": {
            "backgroundcolor": "white",
            "gridcolor": "#DFE8F3",
            "gridwidth": 2,
            "linecolor": "#EBF0F8",
            "showbackground": true,
            "ticks": "",
            "zerolinecolor": "#EBF0F8"
           }
          },
          "shapedefaults": {
           "line": {
            "color": "#2a3f5f"
           }
          },
          "ternary": {
           "aaxis": {
            "gridcolor": "#DFE8F3",
            "linecolor": "#A2B1C6",
            "ticks": ""
           },
           "baxis": {
            "gridcolor": "#DFE8F3",
            "linecolor": "#A2B1C6",
            "ticks": ""
           },
           "bgcolor": "white",
           "caxis": {
            "gridcolor": "#DFE8F3",
            "linecolor": "#A2B1C6",
            "ticks": ""
           }
          },
          "title": {
           "x": 0.05
          },
          "xaxis": {
           "automargin": true,
           "gridcolor": "#EBF0F8",
           "linecolor": "#EBF0F8",
           "ticks": "",
           "title": {
            "standoff": 15
           },
           "zerolinecolor": "#EBF0F8",
           "zerolinewidth": 2
          },
          "yaxis": {
           "automargin": true,
           "gridcolor": "#EBF0F8",
           "linecolor": "#EBF0F8",
           "ticks": "",
           "title": {
            "standoff": 15
           },
           "zerolinecolor": "#EBF0F8",
           "zerolinewidth": 2
          }
         }
        },
        "title": {
         "text": "Weight vs Total SCFA Over Time (Yearly Interval Means)"
        },
        "xaxis": {
         "dtick": "M3",
         "tickformat": "%b %Y",
         "title": {
          "text": "Date"
         }
        },
        "yaxis": {
         "side": "left",
         "title": {
          "text": "Weight (lbs)"
         }
        },
        "yaxis2": {
         "overlaying": "y",
         "side": "right",
         "title": {
          "text": "Total SCFA (mg/mL)"
         }
        }
       }
      }
     },
     "metadata": {},
     "output_type": "display_data"
    },
    {
     "data": {
      "text/html": [
       "<div>\n",
       "<style scoped>\n",
       "    .dataframe tbody tr th:only-of-type {\n",
       "        vertical-align: middle;\n",
       "    }\n",
       "\n",
       "    .dataframe tbody tr th {\n",
       "        vertical-align: top;\n",
       "    }\n",
       "\n",
       "    .dataframe thead th {\n",
       "        text-align: right;\n",
       "    }\n",
       "</style>\n",
       "<table border=\"1\" class=\"dataframe\">\n",
       "  <thead>\n",
       "    <tr style=\"text-align: right;\">\n",
       "      <th></th>\n",
       "      <th>Interval</th>\n",
       "      <th>N bins</th>\n",
       "      <th>Pearson r</th>\n",
       "      <th>Pearson p</th>\n",
       "      <th>Spearman r</th>\n",
       "      <th>Spearman p</th>\n",
       "    </tr>\n",
       "  </thead>\n",
       "  <tbody>\n",
       "    <tr>\n",
       "      <th>0</th>\n",
       "      <td>1-Month</td>\n",
       "      <td>133</td>\n",
       "      <td>0.412</td>\n",
       "      <td>8.15e-07</td>\n",
       "      <td>0.453</td>\n",
       "      <td>4.45e-08</td>\n",
       "    </tr>\n",
       "    <tr>\n",
       "      <th>1</th>\n",
       "      <td>3-Month</td>\n",
       "      <td>61</td>\n",
       "      <td>0.464</td>\n",
       "      <td>0.000165</td>\n",
       "      <td>0.501</td>\n",
       "      <td>3.91e-05</td>\n",
       "    </tr>\n",
       "    <tr>\n",
       "      <th>2</th>\n",
       "      <td>6-Month</td>\n",
       "      <td>33</td>\n",
       "      <td>0.492</td>\n",
       "      <td>0.00362</td>\n",
       "      <td>0.585</td>\n",
       "      <td>0.000354</td>\n",
       "    </tr>\n",
       "    <tr>\n",
       "      <th>3</th>\n",
       "      <td>Yearly</td>\n",
       "      <td>18</td>\n",
       "      <td>0.412</td>\n",
       "      <td>0.0896</td>\n",
       "      <td>0.550</td>\n",
       "      <td>0.018</td>\n",
       "    </tr>\n",
       "  </tbody>\n",
       "</table>\n",
       "</div>"
      ],
      "text/plain": [
       "  Interval  N bins  Pearson r Pearson p  Spearman r Spearman p\n",
       "0  1-Month     133      0.412  8.15e-07       0.453   4.45e-08\n",
       "1  3-Month      61      0.464  0.000165       0.501   3.91e-05\n",
       "2  6-Month      33      0.492   0.00362       0.585   0.000354\n",
       "3   Yearly      18      0.412    0.0896       0.550      0.018"
      ]
     },
     "execution_count": 49,
     "metadata": {},
     "output_type": "execute_result"
    }
   ],
   "source": [
    "# prep \n",
    "df_plot = df_wideBioDairyLS.dropna(subset=[\"Total SCFA_mg/mL\"]).copy()\n",
    "df_plot[\"Date\"] = pd.to_datetime(df_plot[\"Date\"], errors=\"coerce\")\n",
    "df_plot = df_plot.sort_values(\"Date\").set_index(\"Date\")\n",
    "\n",
    "# interval order: 1M, 3M, 6M, 12M\n",
    "intervals = [\n",
    "                (\"1M\",  \"1-Month\"),\n",
    "                (\"3M\",  \"3-Month\"),\n",
    "                (\"6M\",  \"6-Month\"),\n",
    "                (\"12M\", \"Yearly\"),\n",
    "]\n",
    "\n",
    "results = []\n",
    "\n",
    "for rule, label in intervals:\n",
    "    # resample to interval bins (non-overlapping), take mean within each bin\n",
    "    df_bin = df_plot[[\"Weight_lbs\", \"Total SCFA_mg/mL\"]].resample(rule).mean().dropna().reset_index()\n",
    "\n",
    "    x_time   = df_bin[\"Date\"]\n",
    "    y_weight = df_bin[\"Weight_lbs\"]\n",
    "    y_scfa   = df_bin[\"Total SCFA_mg/mL\"]\n",
    "\n",
    "    # quick stats\n",
    "    if len(df_bin) >= 3:\n",
    "        pr, pp = pearsonr(y_weight, y_scfa)\n",
    "        sr, sp = spearmanr(y_weight, y_scfa)\n",
    "    else:\n",
    "        pr = pp = sr = sp = float(\"nan\")\n",
    "\n",
    "    results.append({\n",
    "                    \"Interval\": label,\n",
    "                    \"N bins\": len(df_bin),\n",
    "                    \"Pearson r\": round(pr, 3) if pd.notna(pr) else pr,\n",
    "                    \"Pearson p\": f\"{pp:.3g}\" if pd.notna(pp) else pp,\n",
    "                    \"Spearman r\": round(sr, 3) if pd.notna(sr) else sr,\n",
    "                    \"Spearman p\": f\"{sp:.3g}\" if pd.notna(sp) else sp,\n",
    "    })\n",
    "\n",
    "    # plot \n",
    "    fig = go.Figure()\n",
    "\n",
    "    # Weight (left axis)\n",
    "    fig.add_trace(go.Scatter(\n",
    "                                x=x_time, \n",
    "                                y=y_weight,\n",
    "                                mode=\"lines+markers\",\n",
    "                                name=\"Weight (lbs)\",\n",
    "                                line=dict(width=3, color=\"black\"),\n",
    "    ))\n",
    "\n",
    "    # SCFA (right axis)\n",
    "    fig.add_trace(go.Scatter(\n",
    "                                x=x_time, \n",
    "                                y=y_scfa,\n",
    "                                mode=\"lines+markers\",\n",
    "                                name=\"Total SCFA (mg/mL)\",\n",
    "                                line=dict(width=2, color=\"blue\"),\n",
    "                                yaxis=\"y2\"\n",
    "    ))\n",
    "\n",
    "    fig.update_layout(\n",
    "                        title=f\"Weight vs Total SCFA Over Time ({label} Interval Means)\",\n",
    "                        xaxis=dict(title=\"Date\", dtick=\"M3\", tickformat=\"%b %Y\"),\n",
    "                        yaxis=dict(title=\"Weight (lbs)\", side=\"left\"),\n",
    "                        yaxis2=dict(title=\"Total SCFA (mg/mL)\", overlaying=\"y\", side=\"right\"),\n",
    "                        legend=dict(x=0.01, y=0.99, bordercolor=\"lightgray\", borderwidth=1),\n",
    "                        template=\"plotly_white\"\n",
    "    )\n",
    "\n",
    "    fig.show()\n",
    "\n",
    "# summary table\n",
    "df_results = pd.DataFrame(results, columns=[\"Interval\",\"N bins\",\"Pearson r\",\"Pearson p\",\"Spearman r\",\"Spearman p\"])\n",
    "df_results"
   ]
  },
  {
   "cell_type": "code",
   "execution_count": null,
   "id": "c4766154",
   "metadata": {},
   "outputs": [],
   "source": [
    "# Sho the long format biomarker data"
   ]
  },
  {
   "cell_type": "markdown",
   "id": "b59daaeb",
   "metadata": {},
   "source": [
    "Now that we have seen the biomarkers data lets take a look at the microbiome data"
   ]
  },
  {
   "cell_type": "code",
   "execution_count": 60,
   "id": "1d9689d3",
   "metadata": {},
   "outputs": [
    {
     "data": {
      "text/html": [
       "<div>\n",
       "<style scoped>\n",
       "    .dataframe tbody tr th:only-of-type {\n",
       "        vertical-align: middle;\n",
       "    }\n",
       "\n",
       "    .dataframe tbody tr th {\n",
       "        vertical-align: top;\n",
       "    }\n",
       "\n",
       "    .dataframe thead th {\n",
       "        text-align: right;\n",
       "    }\n",
       "</style>\n",
       "<table border=\"1\" class=\"dataframe\">\n",
       "  <thead>\n",
       "    <tr style=\"text-align: right;\">\n",
       "      <th></th>\n",
       "      <th>Species</th>\n",
       "      <th>12/28/11</th>\n",
       "      <th>4/3/12</th>\n",
       "      <th>8/7/12</th>\n",
       "      <th>11/6/12</th>\n",
       "      <th>1/26/13</th>\n",
       "      <th>2/8/13</th>\n",
       "      <th>2/5/13</th>\n",
       "      <th>3/24/13</th>\n",
       "      <th>4/7/13</th>\n",
       "      <th>...</th>\n",
       "      <th>4/14/19</th>\n",
       "      <th>4/28/19</th>\n",
       "      <th>5/12/19</th>\n",
       "      <th>5/19/19</th>\n",
       "      <th>6/2/19</th>\n",
       "      <th>6/16/19</th>\n",
       "      <th>6/23/19</th>\n",
       "      <th>7/14/19</th>\n",
       "      <th>7/28/19</th>\n",
       "      <th>8/11/19</th>\n",
       "    </tr>\n",
       "  </thead>\n",
       "  <tbody>\n",
       "    <tr>\n",
       "      <th>0</th>\n",
       "      <td>Adlercreutzia_equolifaciens</td>\n",
       "      <td>0.031</td>\n",
       "      <td>0.035</td>\n",
       "      <td>0.143</td>\n",
       "      <td>0.064</td>\n",
       "      <td>0.041</td>\n",
       "      <td>0.036</td>\n",
       "      <td>NaN</td>\n",
       "      <td>0.008</td>\n",
       "      <td>0.006</td>\n",
       "      <td>...</td>\n",
       "      <td>NaN</td>\n",
       "      <td>NaN</td>\n",
       "      <td>NaN</td>\n",
       "      <td>NaN</td>\n",
       "      <td>NaN</td>\n",
       "      <td>NaN</td>\n",
       "      <td>NaN</td>\n",
       "      <td>NaN</td>\n",
       "      <td>NaN</td>\n",
       "      <td>NaN</td>\n",
       "    </tr>\n",
       "    <tr>\n",
       "      <th>1</th>\n",
       "      <td>Aeromonas_unclassified</td>\n",
       "      <td>0.000</td>\n",
       "      <td>0.000</td>\n",
       "      <td>0.000</td>\n",
       "      <td>0.000</td>\n",
       "      <td>0.000</td>\n",
       "      <td>0.000</td>\n",
       "      <td>NaN</td>\n",
       "      <td>0.000</td>\n",
       "      <td>0.000</td>\n",
       "      <td>...</td>\n",
       "      <td>NaN</td>\n",
       "      <td>NaN</td>\n",
       "      <td>NaN</td>\n",
       "      <td>NaN</td>\n",
       "      <td>NaN</td>\n",
       "      <td>NaN</td>\n",
       "      <td>NaN</td>\n",
       "      <td>NaN</td>\n",
       "      <td>NaN</td>\n",
       "      <td>NaN</td>\n",
       "    </tr>\n",
       "    <tr>\n",
       "      <th>2</th>\n",
       "      <td>Aggregatibacter_segnis</td>\n",
       "      <td>0.000</td>\n",
       "      <td>0.000</td>\n",
       "      <td>0.000</td>\n",
       "      <td>0.000</td>\n",
       "      <td>0.000</td>\n",
       "      <td>0.014</td>\n",
       "      <td>NaN</td>\n",
       "      <td>0.015</td>\n",
       "      <td>0.562</td>\n",
       "      <td>...</td>\n",
       "      <td>NaN</td>\n",
       "      <td>NaN</td>\n",
       "      <td>NaN</td>\n",
       "      <td>NaN</td>\n",
       "      <td>NaN</td>\n",
       "      <td>NaN</td>\n",
       "      <td>NaN</td>\n",
       "      <td>NaN</td>\n",
       "      <td>NaN</td>\n",
       "      <td>NaN</td>\n",
       "    </tr>\n",
       "    <tr>\n",
       "      <th>3</th>\n",
       "      <td>Aggregatibacter_unclassified</td>\n",
       "      <td>0.000</td>\n",
       "      <td>0.000</td>\n",
       "      <td>0.000</td>\n",
       "      <td>0.000</td>\n",
       "      <td>0.000</td>\n",
       "      <td>0.000</td>\n",
       "      <td>NaN</td>\n",
       "      <td>0.000</td>\n",
       "      <td>0.137</td>\n",
       "      <td>...</td>\n",
       "      <td>NaN</td>\n",
       "      <td>NaN</td>\n",
       "      <td>NaN</td>\n",
       "      <td>NaN</td>\n",
       "      <td>NaN</td>\n",
       "      <td>NaN</td>\n",
       "      <td>NaN</td>\n",
       "      <td>NaN</td>\n",
       "      <td>NaN</td>\n",
       "      <td>NaN</td>\n",
       "    </tr>\n",
       "    <tr>\n",
       "      <th>4</th>\n",
       "      <td>Akkermansia_muciniphila</td>\n",
       "      <td>12.328</td>\n",
       "      <td>0.950</td>\n",
       "      <td>3.842</td>\n",
       "      <td>5.579</td>\n",
       "      <td>3.518</td>\n",
       "      <td>3.212</td>\n",
       "      <td>NaN</td>\n",
       "      <td>1.063</td>\n",
       "      <td>0.892</td>\n",
       "      <td>...</td>\n",
       "      <td>NaN</td>\n",
       "      <td>NaN</td>\n",
       "      <td>NaN</td>\n",
       "      <td>NaN</td>\n",
       "      <td>NaN</td>\n",
       "      <td>NaN</td>\n",
       "      <td>NaN</td>\n",
       "      <td>NaN</td>\n",
       "      <td>NaN</td>\n",
       "      <td>NaN</td>\n",
       "    </tr>\n",
       "    <tr>\n",
       "      <th>...</th>\n",
       "      <td>...</td>\n",
       "      <td>...</td>\n",
       "      <td>...</td>\n",
       "      <td>...</td>\n",
       "      <td>...</td>\n",
       "      <td>...</td>\n",
       "      <td>...</td>\n",
       "      <td>...</td>\n",
       "      <td>...</td>\n",
       "      <td>...</td>\n",
       "      <td>...</td>\n",
       "      <td>...</td>\n",
       "      <td>...</td>\n",
       "      <td>...</td>\n",
       "      <td>...</td>\n",
       "      <td>...</td>\n",
       "      <td>...</td>\n",
       "      <td>...</td>\n",
       "      <td>...</td>\n",
       "      <td>...</td>\n",
       "      <td>...</td>\n",
       "    </tr>\n",
       "    <tr>\n",
       "      <th>224</th>\n",
       "      <td>p__Proteobacteria;f__Pasteurellaceae;g__Aggreg...</td>\n",
       "      <td>0.000</td>\n",
       "      <td>0.000</td>\n",
       "      <td>0.000</td>\n",
       "      <td>0.000</td>\n",
       "      <td>0.000</td>\n",
       "      <td>0.040</td>\n",
       "      <td>0.29</td>\n",
       "      <td>0.030</td>\n",
       "      <td>1.030</td>\n",
       "      <td>...</td>\n",
       "      <td>0.00</td>\n",
       "      <td>0.00</td>\n",
       "      <td>0.00</td>\n",
       "      <td>0.00</td>\n",
       "      <td>0.00</td>\n",
       "      <td>0.00</td>\n",
       "      <td>0.00</td>\n",
       "      <td>0.00</td>\n",
       "      <td>0.00</td>\n",
       "      <td>0.00</td>\n",
       "    </tr>\n",
       "    <tr>\n",
       "      <th>225</th>\n",
       "      <td>p__Proteobacteria;f__Pseudomonadaceae;g__Pseud...</td>\n",
       "      <td>0.000</td>\n",
       "      <td>0.010</td>\n",
       "      <td>0.000</td>\n",
       "      <td>0.010</td>\n",
       "      <td>0.010</td>\n",
       "      <td>0.010</td>\n",
       "      <td>0.01</td>\n",
       "      <td>0.010</td>\n",
       "      <td>0.030</td>\n",
       "      <td>...</td>\n",
       "      <td>0.02</td>\n",
       "      <td>0.00</td>\n",
       "      <td>0.10</td>\n",
       "      <td>0.10</td>\n",
       "      <td>0.33</td>\n",
       "      <td>0.09</td>\n",
       "      <td>0.00</td>\n",
       "      <td>0.09</td>\n",
       "      <td>0.08</td>\n",
       "      <td>0.06</td>\n",
       "    </tr>\n",
       "    <tr>\n",
       "      <th>226</th>\n",
       "      <td>p__Synergistetes;f__Synergistaceae;g__Synergistes</td>\n",
       "      <td>0.100</td>\n",
       "      <td>0.000</td>\n",
       "      <td>0.020</td>\n",
       "      <td>0.050</td>\n",
       "      <td>0.110</td>\n",
       "      <td>0.040</td>\n",
       "      <td>0.12</td>\n",
       "      <td>0.010</td>\n",
       "      <td>0.020</td>\n",
       "      <td>...</td>\n",
       "      <td>0.07</td>\n",
       "      <td>0.03</td>\n",
       "      <td>0.06</td>\n",
       "      <td>0.01</td>\n",
       "      <td>0.00</td>\n",
       "      <td>0.00</td>\n",
       "      <td>0.03</td>\n",
       "      <td>0.05</td>\n",
       "      <td>0.11</td>\n",
       "      <td>0.03</td>\n",
       "    </tr>\n",
       "    <tr>\n",
       "      <th>227</th>\n",
       "      <td>p__Tenericutes;f__;g__</td>\n",
       "      <td>0.990</td>\n",
       "      <td>0.000</td>\n",
       "      <td>0.010</td>\n",
       "      <td>0.030</td>\n",
       "      <td>0.160</td>\n",
       "      <td>0.110</td>\n",
       "      <td>0.05</td>\n",
       "      <td>0.350</td>\n",
       "      <td>0.160</td>\n",
       "      <td>...</td>\n",
       "      <td>0.64</td>\n",
       "      <td>0.50</td>\n",
       "      <td>0.22</td>\n",
       "      <td>0.33</td>\n",
       "      <td>0.39</td>\n",
       "      <td>0.39</td>\n",
       "      <td>0.40</td>\n",
       "      <td>0.27</td>\n",
       "      <td>0.16</td>\n",
       "      <td>0.58</td>\n",
       "    </tr>\n",
       "    <tr>\n",
       "      <th>228</th>\n",
       "      <td>p__Verrucomicrobia;f__Verrucomicrobiaceae;g__A...</td>\n",
       "      <td>14.770</td>\n",
       "      <td>0.850</td>\n",
       "      <td>4.130</td>\n",
       "      <td>5.670</td>\n",
       "      <td>3.120</td>\n",
       "      <td>2.460</td>\n",
       "      <td>6.58</td>\n",
       "      <td>0.490</td>\n",
       "      <td>0.490</td>\n",
       "      <td>...</td>\n",
       "      <td>2.88</td>\n",
       "      <td>4.43</td>\n",
       "      <td>1.29</td>\n",
       "      <td>3.73</td>\n",
       "      <td>3.96</td>\n",
       "      <td>1.19</td>\n",
       "      <td>0.97</td>\n",
       "      <td>0.66</td>\n",
       "      <td>5.50</td>\n",
       "      <td>1.60</td>\n",
       "    </tr>\n",
       "  </tbody>\n",
       "</table>\n",
       "<p>229 rows × 160 columns</p>\n",
       "</div>"
      ],
      "text/plain": [
       "                                               Species  12/28/11  4/3/12  \\\n",
       "0                          Adlercreutzia_equolifaciens     0.031   0.035   \n",
       "1                               Aeromonas_unclassified     0.000   0.000   \n",
       "2                               Aggregatibacter_segnis     0.000   0.000   \n",
       "3                         Aggregatibacter_unclassified     0.000   0.000   \n",
       "4                              Akkermansia_muciniphila    12.328   0.950   \n",
       "..                                                 ...       ...     ...   \n",
       "224  p__Proteobacteria;f__Pasteurellaceae;g__Aggreg...     0.000   0.000   \n",
       "225  p__Proteobacteria;f__Pseudomonadaceae;g__Pseud...     0.000   0.010   \n",
       "226  p__Synergistetes;f__Synergistaceae;g__Synergistes     0.100   0.000   \n",
       "227                             p__Tenericutes;f__;g__     0.990   0.000   \n",
       "228  p__Verrucomicrobia;f__Verrucomicrobiaceae;g__A...    14.770   0.850   \n",
       "\n",
       "     8/7/12  11/6/12  1/26/13  2/8/13  2/5/13  3/24/13  4/7/13  ...  4/14/19  \\\n",
       "0     0.143    0.064    0.041   0.036     NaN    0.008   0.006  ...      NaN   \n",
       "1     0.000    0.000    0.000   0.000     NaN    0.000   0.000  ...      NaN   \n",
       "2     0.000    0.000    0.000   0.014     NaN    0.015   0.562  ...      NaN   \n",
       "3     0.000    0.000    0.000   0.000     NaN    0.000   0.137  ...      NaN   \n",
       "4     3.842    5.579    3.518   3.212     NaN    1.063   0.892  ...      NaN   \n",
       "..      ...      ...      ...     ...     ...      ...     ...  ...      ...   \n",
       "224   0.000    0.000    0.000   0.040    0.29    0.030   1.030  ...     0.00   \n",
       "225   0.000    0.010    0.010   0.010    0.01    0.010   0.030  ...     0.02   \n",
       "226   0.020    0.050    0.110   0.040    0.12    0.010   0.020  ...     0.07   \n",
       "227   0.010    0.030    0.160   0.110    0.05    0.350   0.160  ...     0.64   \n",
       "228   4.130    5.670    3.120   2.460    6.58    0.490   0.490  ...     2.88   \n",
       "\n",
       "     4/28/19  5/12/19  5/19/19  6/2/19  6/16/19  6/23/19  7/14/19  7/28/19  \\\n",
       "0        NaN      NaN      NaN     NaN      NaN      NaN      NaN      NaN   \n",
       "1        NaN      NaN      NaN     NaN      NaN      NaN      NaN      NaN   \n",
       "2        NaN      NaN      NaN     NaN      NaN      NaN      NaN      NaN   \n",
       "3        NaN      NaN      NaN     NaN      NaN      NaN      NaN      NaN   \n",
       "4        NaN      NaN      NaN     NaN      NaN      NaN      NaN      NaN   \n",
       "..       ...      ...      ...     ...      ...      ...      ...      ...   \n",
       "224     0.00     0.00     0.00    0.00     0.00     0.00     0.00     0.00   \n",
       "225     0.00     0.10     0.10    0.33     0.09     0.00     0.09     0.08   \n",
       "226     0.03     0.06     0.01    0.00     0.00     0.03     0.05     0.11   \n",
       "227     0.50     0.22     0.33    0.39     0.39     0.40     0.27     0.16   \n",
       "228     4.43     1.29     3.73    3.96     1.19     0.97     0.66     5.50   \n",
       "\n",
       "     8/11/19  \n",
       "0        NaN  \n",
       "1        NaN  \n",
       "2        NaN  \n",
       "3        NaN  \n",
       "4        NaN  \n",
       "..       ...  \n",
       "224     0.00  \n",
       "225     0.06  \n",
       "226     0.03  \n",
       "227     0.58  \n",
       "228     1.60  \n",
       "\n",
       "[229 rows x 160 columns]"
      ]
     },
     "execution_count": 60,
     "metadata": {},
     "output_type": "execute_result"
    }
   ],
   "source": [
    "df_wideMicrobiome = pd.read_csv(fp_microbiomeWide)\n",
    "df_wideMicrobiome"
   ]
  },
  {
   "cell_type": "code",
   "execution_count": null,
   "id": "7e6f711e",
   "metadata": {},
   "outputs": [],
   "source": []
  },
  {
   "cell_type": "code",
   "execution_count": null,
   "id": "f1da7069",
   "metadata": {},
   "outputs": [],
   "source": []
  },
  {
   "cell_type": "code",
   "execution_count": null,
   "id": "eca74023",
   "metadata": {},
   "outputs": [],
   "source": []
  }
 ],
 "metadata": {
  "kernelspec": {
   "display_name": "basic",
   "language": "python",
   "name": "python3"
  },
  "language_info": {
   "codemirror_mode": {
    "name": "ipython",
    "version": 3
   },
   "file_extension": ".py",
   "mimetype": "text/x-python",
   "name": "python",
   "nbconvert_exporter": "python",
   "pygments_lexer": "ipython3",
   "version": "3.11.11"
  }
 },
 "nbformat": 4,
 "nbformat_minor": 5
}
